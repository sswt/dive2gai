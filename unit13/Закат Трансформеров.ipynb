{
 "cells": [
  {
   "cell_type": "markdown",
   "id": "9ffadc24",
   "metadata": {},
   "source": [
    "# Закат Трансформеров\n"
   ]
  },
  {
   "cell_type": "markdown",
   "id": "404fe30f",
   "metadata": {},
   "source": [
    "### Языковое моделирование\n",
    "\n",
    "- Учимся предсказывать следующий токен\n",
    "- Токен, часть слова\n",
    "- $(u_1 , …, u_L)$ — последовательность входов\n",
    "- $(y_1 , …, y_L )$ — последовательность выходов\n",
    "- $(y_1 , …, y_L-1 ) = (u_2 , …, u_L )$\n",
    "- Мера успешности — перплексия\n",
    "- Сравнение перплексий имеет смысл только с одинаковыми разбиениями на токены\n",
    "\n",
    "![](https://raw.githubusercontent.com/sswt/dive2gai/main/unit13/data_z/Modelling.png)"
   ]
  },
  {
   "cell_type": "markdown",
   "id": "cab90dc0",
   "metadata": {},
   "source": [
    "### Long Range Arena\n",
    "- Статья: LRA: A Benchmark for Eﬃcient Transformers\n",
    "- Arxiv: 2011.04006\n",
    "- Организация: Google Research\n",
    "- Основная идея: новый бенчмарк для трансформеров на длинных последовательностях\n",
    "- Репозиторий: google-research/long-range-arena\n",
    "- Особенности:\n",
    "- Никаких предобученных моделей\n",
    "- Ориентированность на вариации трансформеров\n",
    "<div>\n",
    "<img src=\"https://raw.githubusercontent.com/sswt/dive2gai/main/unit13/data_z/Bench.png\" width=\"500\"/>\n",
    "</div>\n",
    "\n",
    "\n"
   ]
  },
  {
   "cell_type": "markdown",
   "id": "5212e32d",
   "metadata": {},
   "source": [
    "### Long Range Arena задачи\n",
    "\n",
    "- **Long ListOps**: парсинг математических выражений\n",
    "    - Вход: [max 4 3 [min 2 3 ] 1 0 [median 1 5 8 9 2]]\n",
    "    - Выход: 5\n",
    "    - Контекст: 2000\n",
    "<div>\n",
    "<img src=\"https://raw.githubusercontent.com/sswt/dive2gai/main/unit13/data_z/Math.png\" width=\"200\"/>\n",
    "</div>   \n",
    " \n",
    "- **Text**: классификация текстов на уровне байтов\n",
    "    - Отзывы с IMDB, анализ тональности\n",
    "    - Контекст: 4000\n",
    "- **Retrieval**: сравнение документов на уровне байтов\n",
    "    - Предсказание цитирования одной научной статьи другой\n",
    "    - Статьи из ACL Anthology Network\n",
    "    - Две “башни”, конкатенация выходов, линейный слой\n",
    "    - Контекст: 4000 для каждой статьи    \n",
    "- **Image**: классификация картинок\n",
    "    - Картинка как последовательность пикселей\n",
    "    - CIFAR-10, 32x32, в каждом пикселе 256 значений\n",
    "    - 10 классов\n",
    "- **Pathﬁnder**: поиск пути на картинке\n",
    "    - Бинарная классификация: есть ли путь?\n",
    "    - Картинки тоже 32x32\n",
    "- **Path-X**: поиск пути на большой картинке\n",
    "    - Картинки 128x128\n",
    "    - Контекст: 16000\n",
    "    \n",
    "\n",
    "\n",
    "<div>\n",
    "<img src=\"https://raw.githubusercontent.com/sswt/dive2gai/main/unit13/data_z/Path.png\" width=\"200\"/>\n",
    "</div>\n"
   ]
  },
  {
   "cell_type": "markdown",
   "id": "6a9020ef",
   "metadata": {},
   "source": [
    "### Трансформеры\n",
    "- Квадратичная сложность по времени и памяти,потому что $QK^T$\n",
    "- Линейная сложность по времени на каждом шаге инференса\n",
    "- Параллельное обучение: один forward для всей последовательности, всегда teacher forcing, маски для будущих токенов\n",
    "\n",
    "![](https://raw.githubusercontent.com/sswt/dive2gai/main/unit13/data_z/Transformers.png)"
   ]
  },
  {
   "cell_type": "markdown",
   "id": "b672d628",
   "metadata": {},
   "source": [
    "![](https://raw.githubusercontent.com/sswt/dive2gai/main/unit13/data_z/Bench1.png)"
   ]
  },
  {
   "cell_type": "markdown",
   "id": "79ee94ed",
   "metadata": {},
   "source": [
    "![](https://raw.githubusercontent.com/sswt/dive2gai/main/unit13/data_z/BenchS4.png)"
   ]
  },
  {
   "cell_type": "markdown",
   "id": "80dbcc0e",
   "metadata": {},
   "source": [
    "![](https://raw.githubusercontent.com/sswt/dive2gai/main/unit13/data_z/S4_1.png)"
   ]
  },
  {
   "cell_type": "markdown",
   "id": "27e861a8",
   "metadata": {},
   "source": [
    "# РНС\n",
    "\n",
    "- Константная сложность по времени на каждом шаге инференса\n",
    "- Последовательное обучение, шаг за шагом\n",
    "\n",
    " $$ x_ {k}  = \\sigma (  Ax_ {k-1}  +  Bu_ {k})$$\n",
    " $$ y_ {k}  = Cx_ {k} $$ \n",
    "\n",
    "![](https://raw.githubusercontent.com/sswt/dive2gai/main/unit13/data_z/RES_1.png)"
   ]
  },
  {
   "cell_type": "markdown",
   "id": "8f158fc7",
   "metadata": {},
   "source": [
    "### Линейные РНС **Которые на самом деле свёрточные сети**\n",
    "- Константная сложность по времени на каждом шаге инференса\n",
    "- Параллельное обучение через свёртки\n",
    "- Свёртки через БПФ работают за **O(L log(L))**\n",
    "- Плохое качество при наивном использовании\n",
    "\n",
    "\n",
    "$$ x_k = \\sum_{j=0}^{k-1} A^{j}Bu_{k-j}$$\n",
    "\n",
    "\n",
    "$$ \\mathcal{K} = (CB, CAB, \\ldots, CA^{L-1}B)$$\n",
    "\n",
    "\n",
    "$$y = \\text{conv1d}(\\mathcal{K}_L \\ldots \\mathcal{K}_1, u_1 \\ldots u_L)$$\n",
    "\n",
    "![](https://raw.githubusercontent.com/sswt/dive2gai/main/unit13/data_z/RNC.png)"
   ]
  },
  {
   "cell_type": "markdown",
   "id": "a266f24b",
   "metadata": {},
   "source": [
    "### Stack more layers!\n",
    "- 6 слоёв в целом аналогичных трансформерным\n",
    "- Нелинейность в MLP\n",
    "- Остаточные связи\n",
    "- Layer/batch normalization\n",
    "\n",
    "![](https://raw.githubusercontent.com/sswt/dive2gai/main/unit13/data_z/RNC_2.png)\n",
    "![](https://raw.githubusercontent.com/sswt/dive2gai/main/unit13/data_z/rnc_3.png)\n",
    "![](https://raw.githubusercontent.com/sswt/dive2gai/main/unit13/data_z/rnc_4.png)"
   ]
  },
  {
   "cell_type": "markdown",
   "id": "10ec3c2e",
   "metadata": {},
   "source": [
    "## Модели на линейных РНС\n",
    "- LRU, Linear Recurrent Units\n",
    "- SSM, модели в пространстве состояний, такие как S4 и H3\n",
    "- RWKV, Receptance Weighted Key Value\n",
    "- RetNet, Retentive Network"
   ]
  },
  {
   "cell_type": "markdown",
   "id": "eb129876",
   "metadata": {},
   "source": [
    "### LRU: Linear Recurrent Units\n",
    "- Статья: Resurrecting Recurrent Neural Networks for Long Sequences\n",
    "- Arxiv: 2303.06349\n",
    "- Организация: DeepMind\n",
    "- Основная идея: объяснение, что нужно сделать с линейными РНС, чтобы они начали нормально работать\n",
    "- Особенности:\n",
    "- Статья вышла гораздо позже S4, но просто объясняет, почему оно работает\n",
    "- Начинаем с тривиальной модели, навешиваем разные трюки\n",
    "- Модель та, которая была описана раньше: линейные РНС, чередующиеся с нелинейными многослойными перцептронами"
   ]
  },
  {
   "cell_type": "markdown",
   "id": "5f178d83",
   "metadata": {},
   "source": [
    "### LRU, трюк 1: диагонализация A\n",
    "- Сложно возводить в степень плотную матрицу A\n",
    "- Гораздо проще для диагональной матрицы!\n",
    "- Стабильность: $|𝜆_i | < 1$ (чтобы градиенты не взрывались)\n",
    "- Эквивалентная инициализация: равномерно на единичном круге в ℂ\n",
    "\n",
    "\n",
    "$$\\textbf{Модель}$$\n",
    "$$x_k = Ax_{k-1} + Bu_k$$\n",
    "$$y_k = Cx_k$$\n",
    "\n",
    "$$\\textbf{Спектральное разложение}$$\n",
    "$$x_k = \\sum_{j=0}^{k-1} A^j Bu_{k-j}$$\n",
    "$$A = P \\Lambda P^{-1}, \\quad P \\in \\mathbb{C}^{N \\times N}$$\n",
    "$$\\Lambda = \\text{diag}(\\lambda_1, \\ldots, \\lambda_N) \\in \\mathbb{C}^{N \\times N}$$\n",
    "$$\\vec{x}_k := P^{-1} x_k, \\quad \\vec{B} := P^{-1}B$$\n",
    "$$\\vec{x}_k = \\sum_{j=0}^{k-1} \\Lambda^j \\vec{B} u_{k-j}$$\n",
    "![](https://raw.githubusercontent.com/sswt/dive2gai/main/unit13/data_z/LRU_1.png)\n",
    "![](https://raw.githubusercontent.com/sswt/dive2gai/main/unit13/data_z/LRU_2.png)"
   ]
  },
  {
   "cell_type": "markdown",
   "id": "ea2c939c",
   "metadata": {},
   "source": [
    "### LRU, трюк 2: полярная система координат\n",
    "- Переходим к полярной системе координат\n",
    "- То есть разделяем амплитуду и фазу\n",
    "- Амплитуда: exp(-𝞶)\n",
    "- Влияет на оптимизацию: Adam’у проще\n",
    "\n",
    "$$\\text{Полярная система координат}$$\n",
    "\n",
    "$$\\Lambda = \\text{diag}(\\alpha + i\\beta), \\quad \\alpha \\in \\mathbb{R}^N, \\beta \\in \\mathbb{R}^N$$\n",
    "\n",
    "$$\\downarrow$$\n",
    "\n",
    "$$\\Lambda = \\text{diag}(e^{-\\nu+i\\theta}), \\quad \\nu \\in \\mathbb{R}^N, \\theta \\in \\mathbb{R}^N$$\n",
    "![](https://raw.githubusercontent.com/sswt/dive2gai/main/unit13/data_z/LRU_4.png)\n",
    "![](https://raw.githubusercontent.com/sswt/dive2gai/main/unit13/data_z/LRU_3.png)"
   ]
  },
  {
   "cell_type": "markdown",
   "id": "411a87d4",
   "metadata": {},
   "source": [
    "## LRU, трюк 3: стабильная параметризация\n",
    "\n",
    "- Как выглядит $|𝜆_i | < 1$ в полярной системе?\n",
    "- $|𝜆_i | < 1$ означает амплитуду < 1, то есть 𝞶 > 0\n",
    "- Добавляем нелинейность, гарантирующую 𝞶 > 0\n",
    "- Ещё одну экспоненту: чтобы было очень много значений около 0\n",
    "\n",
    "$$\\text{Полярная система координат}$$\n",
    "\n",
    "$$\\Lambda = \\text{diag}(e^{-\\nu+i\\theta}), \\quad \\nu \\in \\mathbb{R}^N, \\theta \\in \\mathbb{R}^N$$\n",
    "\n",
    "$$\\downarrow$$\n",
    "\n",
    "$$\\Lambda = \\text{diag}(e^{e^{-\\nu}+i\\theta}), \\quad \\nu \\in \\mathbb{R}^N, \\theta \\in \\mathbb{R}^N$$\n",
    "\n",
    "\n",
    "![](https://raw.githubusercontent.com/sswt/dive2gai/main/unit13/data_z/LRU_5.png)"
   ]
  },
  {
   "cell_type": "markdown",
   "id": "5b2cf0d8",
   "metadata": {},
   "source": [
    "## LRU, трюк 4: инициализация на диске вместо круга\n",
    "\n",
    "- Заводим минимальный и максимальный радиусы\n",
    "- Чем ближе к $r_{max}$ к 1, тем более нестабильна модель\n",
    "- Но чем ближе к $r_{max}$ к 1, тем лучше модель учит длинные последовательности\n",
    "- Поэтому $r_{max}$ = 0.99\n",
    "\n",
    "![](https://raw.githubusercontent.com/sswt/dive2gai/main/unit13/data_z/LRU_6.png)\n",
    "![](https://raw.githubusercontent.com/sswt/dive2gai/main/unit13/data_z/LRU_7.png)"
   ]
  },
  {
   "cell_type": "markdown",
   "id": "96b0ba88",
   "metadata": {},
   "source": [
    "## LRU, трюк 5: нормализация входов\n",
    "\n",
    "- Параметр 𝛾 адаптивно масштабирует входы под собственные вектора\n",
    "    $$x_k = \\Lambda x_{k-1} + e^{\\gamma} \\circ (B u_k), \\gamma \\in \\mathbb{R}^N$$\n",
    "\n",
    "\n",
    "$$\\text{Init: } \\gamma_i \\leftarrow \\log\\sqrt{1 - |\\lambda_i|^2}$$\n",
    "![](https://raw.githubusercontent.com/sswt/dive2gai/main/unit13/data_z/LRU_8.png)"
   ]
  },
  {
   "cell_type": "markdown",
   "id": "2b4c6790",
   "metadata": {},
   "source": [
    "## LRU: итоговая картина\n",
    "\n",
    "![](https://raw.githubusercontent.com/sswt/dive2gai/main/unit13/data_z/LRU_9.png)"
   ]
  },
  {
   "cell_type": "markdown",
   "id": "0c1d132b",
   "metadata": {},
   "source": [
    "### S4\n",
    "- Статья: Eﬃciently Modeling Long Sequences with Structured State Spaces\n",
    "- Arxiv: 2111.00396\n",
    "- Организация: Stanford University\n",
    "- Репозиторий: HazyResearch/state-spaces\n",
    "- Основная идея: демонстрация прорыва на LRA при использовании линейных РНС с особой параметризацией\n",
    "\n",
    "![](https://raw.githubusercontent.com/sswt/dive2gai/main/unit13/data_z/S4_2.png)"
   ]
  },
  {
   "cell_type": "markdown",
   "id": "96a0f2d6",
   "metadata": {},
   "source": [
    "### Пространства состояний\n",
    "Линейная независимая от времени непрерывная система:\n",
    "- u(t) - входной непрерывный сигнал,\n",
    "- x(t) - скрытое состояние системы,\n",
    "- y(t) - выходной непрерывный сигнал\n",
    "\n",
    "\n",
    "$$ \\dot{x}(t) = Ax(t) + Bu(t) \\\\\n",
    "y(t) = Cx(t) + Du(t)$$ \n",
    "Пример из механики: x(t) как конкатенация векторов координат и скоростей (да-да, 6N-мерное пространство)\n",
    "\n",
    "![](https://raw.githubusercontent.com/sswt/dive2gai/main/unit13/data_z/S4_3.png)"
   ]
  },
  {
   "cell_type": "markdown",
   "id": "dd7c1eac",
   "metadata": {},
   "source": [
    "### Пространства состояний: дискретизация\n",
    "\n",
    "- D = 0, убираям прямую связь, у нас для этого есть остаточные связи в сети\n",
    "- Дискретизуем с шагом Δ, обучаемый параметр\n",
    "- Используем билинейное преобразование\n",
    "- Теперь Δ влияет на параметризацию новых A и B\n",
    "- Дискретизация неявно задаёт нормализацию и инициализацию\n",
    "\n",
    "$$\\vec{A} = (I - \\Delta/2 \\cdot A)^{-1}(I + \\Delta/2 \\cdot A)$$\n",
    "\n",
    "$$\\vec{B} = (I - \\Delta/2 \\cdot A)^{-1}\\Delta B$$\n",
    "\n",
    "$$\\vec{C} = C$$\n",
    "\n",
    "$$x_k = \\vec{A}x_{k-1} + \\vec{B}u_k$$\n",
    "\n",
    "$$y_k = \\vec{C}x_k$$\n",
    "\n",
    "![](https://raw.githubusercontent.com/sswt/dive2gai/main/unit13/data_z/S4_4.png)"
   ]
  },
  {
   "cell_type": "markdown",
   "id": "c3116373",
   "metadata": {},
   "source": [
    "### S4, трюк 1: инициализация через HiPPO\n",
    "\n",
    "- Статья: HiPPO: Recurrent Memory with Optimal Polynomial Projections\n",
    "- Arxiv: 2008.07669\n",
    "- Организация: Stanford University\n",
    "- Основные выводы:\n",
    "    - Используем фиксированную матрицу A\n",
    "    - Она заставляет систему аппроксимировать историю входов в скрытом состоянии\n",
    "    - Аппроксимация через коэффициенты многочленов Лежандра\n",
    "\n",
    "\n",
    "$$A_{nk} = \\begin{cases}\n",
    "(2n + 1)^{1/2}(2k + 1)^{1/2} & \\text{if } n > k \\\\\n",
    "n + 1 & \\text{if } n = k \\\\\n",
    "0 & \\text{if } n < k\n",
    "\\end{cases}$$\n",
    "![](https://raw.githubusercontent.com/sswt/dive2gai/main/unit13/data_z/s4_6.png)\n",
    "![](https://raw.githubusercontent.com/sswt/dive2gai/main/unit13/data_z/s4_5.png)\n"
   ]
  },
  {
   "cell_type": "markdown",
   "id": "eeff9c22",
   "metadata": {},
   "source": [
    "### S4, трюк 2: diagonal plus low-rank\n",
    "- Всё та же диагонализация\n",
    "![](https://raw.githubusercontent.com/sswt/dive2gai/main/unit13/data_z/S4_7.png)"
   ]
  },
  {
   "cell_type": "markdown",
   "id": "a4f2e78b",
   "metadata": {},
   "source": [
    "### S4, Результаты\n",
    "![](https://raw.githubusercontent.com/sswt/dive2gai/main/unit13/data_z/S4_R_1.png)\n",
    "![](https://raw.githubusercontent.com/sswt/dive2gai/main/unit13/data_z/S4_R_2.png)"
   ]
  },
  {
   "cell_type": "markdown",
   "id": "824c4543",
   "metadata": {},
   "source": [
    "### RWKV\n",
    "- Статья: RWKV: Reinventing RNNs for the Transformer Era\n",
    "- Arxiv: 2305.13048\n",
    "- Организация: EleutherAI и другие\n",
    "- Репозиторий: BlinkDL/RWKV-LM\n",
    "- Основная идея: наполовину транформер, наполовину РНС с 14 миллиардами параметров и поддержкой в HF Transformers\n",
    "\n",
    "![](https://raw.githubusercontent.com/sswt/dive2gai/main/unit13/data_z/rwkv_1.png)"
   ]
  },
  {
   "cell_type": "markdown",
   "id": "64d77b89",
   "metadata": {},
   "source": [
    "#### RWKV: wkv и time-mixing\n",
    "- Выкидываем матрицу Q\n",
    "- w: не зависящий от текущего токена вектор весов, определяющий затухание\n",
    "- Если $e^{-w}$ близко к 0, концентрируемся на близких токенах, если к 1, учитываем глобальный контекст\n",
    "- Receptance, σ(r): гейт для удаления лишней информации из истории\n",
    "- Интерполяция входов\n",
    "\n",
    "**Обычное внимание**\n",
    "\n",
    "$$\\text{Attn}(Q, K, V) = \\text{softmax}(QK^T)V$$\n",
    "\n",
    "$$\\text{Attn}(Q, K, V)_t = \\frac{\\sum_{i=1}^t e^{\\mathbf{q}_t^\\mathsf{T}\\mathbf{k}_i}\\mathbf{v}_i}{\\sum_{i=1}^t e^{\\mathbf{q}_t^\\mathsf{T}\\mathbf{k}_i}}$$\n",
    "\n",
    "**Псевдо-внимание wkv**\n",
    "$$wkv_t = \\frac{\\sum_{i=1}^{t-1}e^{-(t-i-1)w+\\mathbf{k}_i} \\mathbf{v}_i + e^{\\mathbf{u}+\\mathbf{k}_t}\\mathbf{v}_t}{\\sum_{i=1}^{t-1}e^{-(t-i-1)w+\\mathbf{k}_i} + e^{\\mathbf{u}+\\mathbf{k}_t}}$$\n",
    "\n",
    "$$k_t = W_k (\\mu_k\\mathbf{x}_t + (1 - \\mu_k)\\mathbf{x}_{t-1})$$\n",
    "\n",
    "$$v_t = W_v (\\mu_v\\mathbf{x}_t + (1 - \\mu_v)\\mathbf{x}_{t-1})$$\n",
    "\n",
    "$$r_t = W_r (\\mu_r\\mathbf{x}_t + (1 - \\mu_r)\\mathbf{x}_{t-1})$$\n",
    "\n",
    "$$o_t = W_o \\cdot (\\sigma(r_t) \\odot wkv_t)$$\n",
    "\n",
    "![](https://raw.githubusercontent.com/sswt/dive2gai/main/unit13/data_z/rwkv_3.png)"
   ]
  },
  {
   "cell_type": "markdown",
   "id": "959ea58f",
   "metadata": {},
   "source": [
    "#### RWKV: wkv как рекуррентная сеть\n",
    "- На самом деле это две рекуррентных сети\n",
    "\n",
    "$$wkv_t = \\frac{\\sum\\limits_{i=1}^{t-1} e^{-(t-i-1)w+k_i}v_i + e^{u+k_t}v_t}{\\sum\\limits_{i=1}^{t-1} e^{-(t-i-1)w+k_i} + e^{u+k_t}},$$\n",
    "\n",
    "$$a_0, b_0 = 0,$$\n",
    "\n",
    "$$wkv_t = \\frac{a_{t-1} + e^{u+k_t}v_t}{b_{t-1} + e^{u+k_t}},$$\n",
    "\n",
    "$$a_t = e^{-w}a_{t-1} + e^{k_t}v_t,$$\n",
    "\n",
    "$$b_t = e^{-w}b_{t-1} + e^{k_t}.$$\n",
    "![](https://raw.githubusercontent.com/sswt/dive2gai/main/unit13/data_z/rwkv_2.png)"
   ]
  },
  {
   "cell_type": "markdown",
   "id": "72e08575",
   "metadata": {},
   "source": [
    "### RWKV: полная модель\n",
    "- R: вектора “принятия” информации из прошлого\n",
    "- W: вектора с весами позиционного затухания\n",
    "- K: аналог ключей внимания\n",
    "- V: аналог значений внимания\n",
    "- Вся сеть: слои из комбинаций time-mixing и channel-mixing блоков\n",
    "- Вместо свёрток в обучении — аналог внимания, wkv\n",
    "- wkv работает за линейное время, нет аналога $QK^{T}$\n",
    "\n",
    "![](https://raw.githubusercontent.com/sswt/dive2gai/main/unit13/data_z/rwkv_4.png)"
   ]
  },
  {
   "cell_type": "markdown",
   "id": "1068392f",
   "metadata": {},
   "source": [
    "## Channel Mixing\n",
    "Слой смешивания каналов принимает на вход $x$, соответствующий данному токену, и $x$, соответствующий предыдущему токену, который мы называем $last_x$. $last_x$ был сохранен в состоянии этого слоя RWKV. Остальные входы - это выученные параметры RWKV. Сначала мы линейно интерполируем $x$ и $last_x$, используя выученные веса. Этот интерполированный $x$ мы подаем на вход двухслойной сети с квадратичной активацией $relu$ и, наконец, умножаем на сигмоидную активацию другой сети с прямой передачей (в классических терминах RNN это называется gating). Обратите внимание, что с точки зрения использования памяти матрицы $W_k,W_r,W_v$ содержат почти все параметры (самая маленькая из них 1024x1024 - матрица, а остальные переменные - просто 1024-мерные векторы). А матричные умножения (@ в python) вносят подавляющее большинство необходимых вычислений."
   ]
  },
  {
   "cell_type": "code",
   "execution_count": 5,
   "id": "c05e08fd",
   "metadata": {},
   "outputs": [],
   "source": [
    "import numpy as np\n",
    "from torch import load as torch_load  # Only for loading the model weights\n",
    "from tokenizers import Tokenizer\n",
    "\n",
    "layer_norm = lambda x, w, b : (x - np.mean(x)) / np.std(x) * w + b\n",
    "exp = np.exp\n",
    "sigmoid = lambda x : 1/(1 + exp(-x))"
   ]
  },
  {
   "cell_type": "code",
   "execution_count": null,
   "id": "77d2fd61",
   "metadata": {},
   "outputs": [],
   "source": [
    "def channel_mixing(x, last_x, mix_k, mix_r, Wk, Wr, Wv):\n",
    "    k = Wk @ ( x * mix_k + last_x * (1 - mix_k) )\n",
    "    r = Wr @ ( x * mix_r + last_x * (1 - mix_r) )\n",
    "    vk = Wv @ np.maximum(k, 0)**2\n",
    "    return sigmoid(r) * vk, x"
   ]
  },
  {
   "cell_type": "markdown",
   "id": "d7a18064",
   "metadata": {},
   "source": [
    "# Time Mixing\n",
    "\n",
    "Временное смешение начинается так же, как и смешение каналов, с интерполяции $x$ этого токена с x последнего токена. Затем мы применяем выученные 1024x1024 матрицы, чтобы получить векторы $\"ключ\"$, $\"значение\"$ и $\"рецепция\"$. В следующей части происходит волшебство."
   ]
  },
  {
   "cell_type": "code",
   "execution_count": 4,
   "id": "36b5ac28",
   "metadata": {},
   "outputs": [],
   "source": [
    "def time_mixing(x, last_x, last_num, last_den, decay, bonus, mix_k, mix_v, mix_r, Wk, Wv, Wr, Wout):\n",
    "    k = Wk @ ( x * mix_k + last_x * (1 - mix_k) )\n",
    "    v = Wv @ ( x * mix_v + last_x * (1 - mix_v) )\n",
    "    r = Wr @ ( x * mix_r + last_x * (1 - mix_r) )\n",
    "\n",
    "    wkv = (last_num + exp(bonus + k) * v) /      \\\n",
    "          (last_den + exp(bonus + k))\n",
    "    rwkv = sigmoid(r) * wkv\n",
    "\n",
    "    num = exp(-exp(decay)) * last_num + exp(k) * v\n",
    "    den = exp(-exp(decay)) * last_den + exp(k)\n",
    "\n",
    "    return Wout @ rwkv, (x,num,den)"
   ]
  },
  {
   "cell_type": "markdown",
   "id": "9f0c43b5",
   "metadata": {},
   "source": [
    "# Внимание RWKV\"\n",
    "Прежде чем перейти к сути механизма, сделаем замечание, что, хотя переменные, поступающие в механизм внимания, являются 1024-мерными (мы говорим, что у них 1024 канала), все каналы вычисляются независимо друг от друга. Поэтому мы просто рассмотрим, что происходит с одним каналом, рассматривая переменные как скаляры. \n",
    "\n",
    "Теперь давайте рассмотрим переменную $num$. Чтобы сделать математические обозначения чище, давайте переименуем $num$ и $den$ в $\\alpha$ and $\\beta$. Оба $\\alpha$ and $\\beta$ хранятся в состоянии RWKV. Для каждого нового токена, $\\alpha$ вычисляется как $\\alpha_i = e^{-w} \\alpha_{i-1} +e^{k_i} v_i$, где $i$ - индекс текущего токена. Мы определили $w = exp(decay)$, заметим, что $w$ всегда положительно. \n",
    "\n",
    "По индукции имеем $\\alpha_i = \\sum_{j=1}^i e^{-(i-j)w+k_j} v_j$. Аналогично, $\\beta_i = \\sum_{j=1}^i e^{-(i-j)w+k_j}$ . Обратите внимание, что $\\alpha_i$ выглядит как взвешенная сумма $v_j$, в то время как $\\beta_i$ это просто сумма весов. Таким образом, $\\frac{\\alpha_i}{\\beta_i}$ становится средневзвешенным значением из  $v_j$. Подставляя формулы для $\\alpha_{i-1}$ и $\\beta_{i-1}$в определение $wkv$ и обозначая $bonus$ через $u$, получаем\n",
    "$$\\text{wkv}_i = \\frac{ \\sum_{j=1}^{i-1} e^{-(i-1-j)w+k_j} v_j + e^{u+k_i} v_i }{\\sum_{j=1}^{i-1} e^{-(i-1-j)w+k_j} + e^{u+k_i}}.$$\n",
    "\n",
    "Это $wkv$ средневзвешенное значение $v$ с весами $k$ в соответствии с , но при этом текущий $v_i$ имеет бонусный ($u$) дополнительный вес, а предыдущие $v_j$ имеют геометрически меньшие веса, чем дальше они находятся.\n",
    "\n",
    "Для справки, стандартный трансформер внимания принимает векторы \"запрос\", \"ключ\" и \"значение\" и  $q,k,v$  выдает $$$\\frac{\\sum_{j=1}^i e^{q_i^\\top k_j} v_j}{\\sum_{j=1}^i e^{q_i^\\top k_j}}.$$\n",
    "\n",
    "После вычисления $wkv$, time mixing умножается на \"приемник(receptance)\" $sigmoid(r)$. Перед тем как вернуть результат, он выполняет окончательное линейное преобразование."
   ]
  },
  {
   "cell_type": "markdown",
   "id": "6e552782",
   "metadata": {},
   "source": [
    "### Преобразование в выходные вероятности\n",
    "После прохождения 24 слоев временного смешивания и смешивания каналов нам нужно преобразовать конечный выход в предсказанные вероятности для следующего токена.\n",
    "```\n",
    "x = layer_norm(x, *params('ln_out')) \n",
    "x = params('head')[0] @ x \n",
    "e_x = exp(x-np.max(x)) \n",
    "probs = e_x / e_x.sum() # Softmax of x \n",
    "```\n",
    "Сначала мы делаем нормализацию слоев. Затем мы умножаем на матрицу размерностью 50277x1024 params('head')[0], заданную параметрами RWKV, получая 50277-мерный вектор. Чтобы получить распределение вероятностей по токенам (то есть 50277-мерный неотрицательный вектор, который в сумме равен 1), мы прогоняем наш $x$ через функцию \"softmax\". Softmax для $x$ - это просто $exp(x)/sum(exp(x))$. Однако вычисление $exp(x)$ может привести к численным переполнениям, поэтому мы вычисляем эквивалентную функцию $exp(x-max(x))/sum(exp(x-max(x)))$"
   ]
  },
  {
   "cell_type": "code",
   "execution_count": 7,
   "id": "8c5b5858",
   "metadata": {},
   "outputs": [],
   "source": [
    "def RWKV(model, token, state):\n",
    "    params = lambda prefix : [model[key] for key in model.keys() if key.startswith(prefix)]\n",
    "\n",
    "    x = params('emb')[0][token]\n",
    "    x = layer_norm(x, *params('blocks.0.ln0'))\n",
    "\n",
    "    for i in range(N_LAYER):\n",
    "        x_ = layer_norm(x, *params(f'blocks.{i}.ln1'))\n",
    "        dx, state[i][:3] = time_mixing(x_, *state[i][:3], *params(f'blocks.{i}.att'))\n",
    "        x = x + dx\n",
    "\n",
    "        x_ = layer_norm(x, *params(f'blocks.{i}.ln2'))\n",
    "        dx, state[i][3] = channel_mixing(x_, state[i][3], *params(f'blocks.{i}.ffn'))\n",
    "        x = x + dx\n",
    "\n",
    "    x = layer_norm(x, *params('ln_out'))\n",
    "    x = params('head')[0] @ x\n",
    "\n",
    "    e_x = exp(x-np.max(x))\n",
    "    probs = e_x / e_x.sum() # Softmax of x\n",
    "\n",
    "    return probs, state\n"
   ]
  },
  {
   "cell_type": "code",
   "execution_count": 6,
   "id": "00dd0745",
   "metadata": {},
   "outputs": [
    {
     "name": "stdout",
     "output_type": "stream",
     "text": [
      "\n",
      "Loading ./data_z/RWKV-4-Pile-430M-20220808-8066.pth\n",
      "\n",
      "Preprocessing context\n"
     ]
    }
   ],
   "source": [
    "def sample_probs(probs, temperature=1.0, top_p=0.85):\n",
    "    sorted_probs = np.sort(probs)[::-1]\n",
    "    cumulative_probs = np.cumsum(sorted_probs)\n",
    "    cutoff = sorted_probs[np.argmax(cumulative_probs > top_p)]\n",
    "    probs[probs < cutoff] = 0\n",
    "    probs = probs**(1/temperature)\n",
    "    return np.random.choice(a=len(probs), p=probs/np.sum(probs))\n",
    "\n",
    "# Available at https://huggingface.co/BlinkDL/rwkv-4-pile-430m/resolve/main/RWKV-4-Pile-430M-20220808-8066.pth\n",
    "MODEL_FILE = './data_z/RWKV-4-Pile-430M-20220808-8066.pth'\n",
    "N_LAYER = 24\n",
    "N_EMBD = 1024\n",
    "\n",
    "print(f'\\nLoading {MODEL_FILE}')\n",
    "weights = torch_load(MODEL_FILE, map_location='cpu')\n",
    "for k in weights.keys():\n",
    "    if '.time_' in k: weights[k] = weights[k].squeeze()\n",
    "    weights[k] = weights[k].float().numpy() # convert to f32 type\n",
    "\n",
    "\n",
    "# Available at https://github.com/BlinkDL/ChatRWKV/blob/main/20B_tokenizer.json\n",
    "tokenizer = Tokenizer.from_file(\"./data_z/20B_tokenizer_1.json\")\n",
    "\n",
    "print(f'\\nPreprocessing context')\n",
    "\n",
    "context = \"\\nIn a shocking finding, scientist discovered a herd of dragons living in a remote, previously unexplored valley, in Tibet. Even more surprising to the researchers was the fact that the dragons spoke perfect Chinese.\"\n"
   ]
  },
  {
   "cell_type": "markdown",
   "id": "a6a9de1a",
   "metadata": {},
   "source": [
    "Код использует RWKV для продолжения следующего текста:\n",
    "\n",
    "\"В результате шокирующего открытия ученые обнаружили стадо драконов, живущих в отдаленной, ранее не исследованной долине в Тибете. Еще более удивительным для исследователей оказался тот факт, что драконы прекрасно говорили по-китайски\".\n",
    "\n",
    "Сначала нам нужно преобразовать этот текст в ряд лексем (числа от 0 до 50276, обозначающие слова/символы/лексики в нашем словаре). \n",
    "Делаем это с помощью внешней библиотеки tokenizer.encode(context).ids.\n",
    "\n",
    "Далее нам нужно обработать эту последовательность токенов в состояние RWKV. По сути, RWKV представляет собой функцию, которая принимает токен и состояние и выдает распределение вероятности для следующего токена и нового состояния. Конечно, функция также зависит от параметров модели RWKV, но поскольку мы используем обученную модель (загруженную отсюда), мы рассматриваем эти параметры как фиксированные. Чтобы преобразовать текст в состояние, мы просто инициализируем состояние нулями и пропускаем лексемы через функцию RWKV одну за другой."
   ]
  },
  {
   "cell_type": "code",
   "execution_count": 2,
   "id": "36a85769",
   "metadata": {},
   "outputs": [],
   "source": [
    "state = np.zeros((N_LAYER, 4, N_EMBD), dtype=np.float32)\n",
    "for token in tokenizer.encode(context).ids:\n",
    "    probs, state = RWKV(weights, token, state)"
   ]
  },
  {
   "cell_type": "markdown",
   "id": "4f932057",
   "metadata": {},
   "source": [
    "Теперь переменная state содержит представление состояния нашего входного текста, а переменная \"probs\" - распределение вероятностей, которое модель предсказывает для следующего токена.\n",
    "\n",
    "Теперь мы можем просто сэмплировать распределение вероятностей (на практике мы избегаем низковероятных токенов в sample_probs()) и добавить в текст еще один токен. Затем мы подаем новую лексему в RWKV и повторяем."
   ]
  },
  {
   "cell_type": "code",
   "execution_count": 3,
   "id": "aa05e62c",
   "metadata": {},
   "outputs": [
    {
     "name": "stdout",
     "output_type": "stream",
     "text": [
      "\n",
      "\n",
      "Image: Photo by Frantisek Pavlov.\n",
      "\n",
      "If you want to learn more about dragon cultures in Asia, here are some facts to give you an idea:\n",
      "\n",
      "• The largest, longest-lived cave dragons inhabit the Himalayan region. These predators have been known to strike when there’s snow.\n",
      "\n",
      "• Each dragon has a family of siblings that helps it survive during the winter.\n",
      "\n",
      "• Each dragon is strong enough to hold its own without relying on"
     ]
    }
   ],
   "source": [
    "for i in range(100):\n",
    "    token = sample_probs(probs)\n",
    "    print(tokenizer.decode([token]), end=\"\", flush=True)\n",
    "    probs, state = RWKV(weights, token, state)  "
   ]
  },
  {
   "cell_type": "markdown",
   "id": "d487e228",
   "metadata": {},
   "source": [
    "Типичным, порожденным продолжением является:\n",
    "\n",
    "“They’re just like us. They use Tibetan for communication, and for a different reason – they use a language that they’re afraid to use. To protect their secret, they prefer to speak a different language to the local public.”\n",
    "\n",
    "Конечно, более крупные модели будут работать лучше, чем этот относительно небольшой 430-метровый RWKV."
   ]
  },
  {
   "cell_type": "markdown",
   "id": "c7f5d483",
   "metadata": {},
   "source": [
    "### Числовые проблемы\n",
    "На практике возникают некоторые проблемы, которые я проигнорировал в своем упрощенном коде. Самое главное, что на практике мы очень заботимся о производительности/времени выполнения кода. Это приводит к тому, что мы запускаем RWKV параллельно на GPU, используем специализированный GPU-код, написанный на CUDA, используем 16-битные числа с плавающей запятой и многое другое.\n",
    "\n",
    "Наибольшее число, которое может представлять 16-битное число с плавающей точкой (float16), - 65 504, все, что больше этого, переполняется, что плохо. Большая часть кода не имеет проблем с этим, отчасти потому, что нормализации слоев удерживают значения в разумном диапазоне. Однако внимание RWKV содержит экспоненциально большие числа (exp(bonus + k)). На практике внимание RWKV реализуется таким образом, что мы вычитаем экспоненциальный коэффициент из num и den, чтобы все оставалось в диапазоне float16. Посмотрите, например, функцию time_mixing в RWKV в 150 строках."
   ]
  },
  {
   "cell_type": "markdown",
   "id": "7c113f7a",
   "metadata": {},
   "source": [
    "### GPT-режим\n",
    "\n",
    "Мой упрощенный код обрабатывает токены по одному, что гораздо медленнее, чем параллельная обработка, особенно при работе на GPU. Для генерации это невозможно обойти, поскольку нам нужно сделать выборку лексем, прежде чем использовать ее для вычисления следующей. Однако для обучения весь текст уже доступен. Это позволяет нам распараллелить работу с лексемами. Большую часть кода довольно просто распараллелить подобным образом, поскольку зависимость от времени невелика. Например, все дорогостоящие матричные умножения работают на каждом токене независимо, что приводит к хорошей производительности.\n",
    "\n",
    "Однако внимание RWKV по своей сути является последовательным. К счастью, в нем очень мало вычислений (в 1024 раз меньше, чем в матричных умножениях), поэтому он должен быть быстрым. К сожалению, pytorch не очень хорошо справляется с этой последовательной задачей, поэтому часть внимания становится медленной (даже по сравнению с матричными умножениями). Поэтому я написал оптимизированные ядра CUDA для вычисления внимания RWKV, что и стало моим основным вкладом в проект RWKV.\n",
    "\n",
    "В JAX есть jax.lax.scan и jax.lax.associative_scan, что позволяет чистой реализации JAX работает лучше, чем чистый pytorch. Тем не менее, по моим оценкам, JAX приведет к замедлению обучения примерно на 40 % по сравнению с CUDA (эта оценка может быть устаревшей, так как она была сделана для обучения относительно небольшой модели объемом 1,5B)."
   ]
  },
  {
   "cell_type": "markdown",
   "id": "a4ba9b36",
   "metadata": {},
   "source": [
    "### RWKV: результаты\n",
    "\n",
    "![](https://raw.githubusercontent.com/sswt/dive2gai/main/unit13/data_z/rwkv_5.png)"
   ]
  },
  {
   "cell_type": "markdown",
   "id": "1594d010",
   "metadata": {},
   "source": [
    "### RetNet\n",
    "- Статья: Retentive Network: A Successor to Transformer for Large Language Models\n",
    "- Arxiv: 2307.08621\n",
    "- Организация: Microsoft\n",
    "- Основная идея: наполовину трансформер, наполовину РНС (где-то мы это уже слышали)\n",
    "- Репозиторий: Jamie-Stirling/RetNet\n",
    "- Особенности:\n",
    "- Матрицы B и C из LRU теперь зависят от входных эмбеддингов, из этого выводится xPos, тип позиционных эмбеддингов\n",
    "- В отличие от RWKV, не отказываемся от основной идеи транcформеров\n",
    "- Предупреждение: я использую нотации из LRU из S4, в статье другие буковки"
   ]
  },
  {
   "cell_type": "markdown",
   "id": "f80d982d",
   "metadata": {},
   "source": [
    "### RetNet: от ЛРНС к xPos\n",
    "- $E$ — матрица входных эмбеддингов\n",
    "- $U$ = $V$ в трансформерах = $EW_U$\n",
    "- $u_j$ = $E_jw_u$ : проекция в скаляр\n",
    "- $C$ = $Q$ в трансформерах = $EW_C$\n",
    "- $B$ = $K$ в трансформерах = $EW_B$\n",
    "- $C_k$ , $B_k$ проекции на k-ой позиции\n",
    "- $B$ и $C$ зависят от входных эмбеддингов и собирают контекст\n",
    "- $u_k$ и $y_k$ скаляры, $x_k$ — вектор\n",
    "\n",
    "$$x_k = Ax_{k-1} + B_ku_k$$\n",
    "\n",
    "$$y_k = C_kx_k = \\sum_{j=0}^{k-1} C_kA^jB^T_k u_{k-j} = \\sum_{j=1}^{k} C_kA^{k-j}B^T_k u_j$$\n",
    "\n",
    "$$A = P(\\nu e^{i\\theta})P^{-1}$$\n",
    "\n",
    "$$y_k = \\sum_{j=1}^{k} C_k(\\nu e^{i\\theta})^{k-j}B^T_k u_j$$\n",
    "\n",
    "$$y_k = \\sum_{j=1}^{k} \\nu^{k-j}(C_ke^{ik\\theta})(B_ke^{ij\\theta})^Tu_j$$"
   ]
  },
  {
   "cell_type": "markdown",
   "id": "38c1aa7e",
   "metadata": {},
   "source": [
    "### RetNet: от внимания к удержанию\n",
    "- Теперь в матричной форме\n",
    "- D одновременно определяет причинную маску и экспоненциальное затухание, аналог HiPPO\n",
    "- Очень похоже на внимание\n",
    "- Но без софтмакса и с рекуррентной формой\n",
    "\n",
    "$$\\Theta_k = e^{ik\\theta}$$\n",
    "\n",
    "$$Q = (E W_c) \\circ \\Theta$$\n",
    "\n",
    "$$K = (E W_b) \\circ \\bar{\\Theta} \\quad \\text{Сопряженная матрица}$$\n",
    "\n",
    "$$V = E W_v$$\n",
    "\n",
    "$$D_{kj} = \\begin{cases}\n",
    "  v^{k-j}, & k \\geq j \\\\\n",
    "  0, & k < j \n",
    "\\end{cases} .$$\n",
    "\n",
    "$$Y = (Q K^T \\circ D) V$$\n",
    "\n",
    "![](https://raw.githubusercontent.com/sswt/dive2gai/main/unit13/data_z/retnet_4.png)"
   ]
  },
  {
   "cell_type": "markdown",
   "id": "75667b70",
   "metadata": {},
   "source": [
    "### RetNet: gated multi-scale\n",
    "- 𝛾 = 𝜈\n",
    "- Разные затухания в разных головах\n",
    "- Нормализация для каждой головы в отдельности\n",
    "- Гейт как в RWKV\n",
    "- Глобально архитектура как у трансформеров\n",
    "\n",
    "![](https://raw.githubusercontent.com/sswt/dive2gai/main/unit13/data_z/retnet_1.png)\n",
    "![](https://raw.githubusercontent.com/sswt/dive2gai/main/unit13/data_z/retnet_2.png)"
   ]
  },
  {
   "cell_type": "markdown",
   "id": "dfdca60f",
   "metadata": {},
   "source": [
    "### RetNet: Результаты\n",
    "![](https://raw.githubusercontent.com/sswt/dive2gai/main/unit13/data_z/retnet_3.png)"
   ]
  },
  {
   "cell_type": "markdown",
   "id": "869aa91b",
   "metadata": {},
   "source": [
    "### Недостатки и проблемы\n",
    "- Концептуально мы не можем возвращаться к предыдущим токенам, приходится сжимать всю историю в один вектор\n",
    "- Не было нормальной интеграции в HF Transformers до недавнего времени\n",
    "- Комплексные числа на GPU\n",
    "- БПФ на GPU\n",
    "- Все наработки по квантизации опираются на устройство трансформеров\n",
    "- Все наработки по объяснимости опираются на устройство трансформеров"
   ]
  },
  {
   "cell_type": "code",
   "execution_count": null,
   "id": "dd4eedc9",
   "metadata": {},
   "outputs": [],
   "source": []
  }
 ],
 "metadata": {
  "kernelspec": {
   "display_name": "Python 3 (ipykernel)",
   "language": "python",
   "name": "python3"
  },
  "language_info": {
   "codemirror_mode": {
    "name": "ipython",
    "version": 3
   },
   "file_extension": ".py",
   "mimetype": "text/x-python",
   "name": "python",
   "nbconvert_exporter": "python",
   "pygments_lexer": "ipython3",
   "version": "3.8.10"
  }
 },
 "nbformat": 4,
 "nbformat_minor": 5
}
