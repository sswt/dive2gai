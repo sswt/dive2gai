{
  "nbformat": 4,
  "nbformat_minor": 0,
  "metadata": {
    "colab": {
      "provenance": [],
      "toc_visible": true
    },
    "kernelspec": {
      "name": "python3",
      "display_name": "Python 3"
    },
    "language_info": {
      "name": "python"
    }
  },
  "cells": [
    {
      "cell_type": "markdown",
      "source": [
        "# Табличные GAN\n",
        "\n",
        "Цели:\n",
        "\n",
        "* познакомиться с \"первым поколением\" табличных GAN\n",
        "* рассмотреть способы подготовки табличных данных для генеративных моделей\n",
        "\n",
        "Содержание:\n",
        "\n",
        "* Загрузка данных\n",
        "  * Лёгкий EDA\n",
        "* Особенности табличных GAN\n",
        "  * Постановка задачи\n",
        "  * Нормализация по модам\n",
        "    * Пример нормализации\n",
        "  * Условная генерация\n",
        "    * Условный вектор\n",
        "    * Функция потерь генератора\n",
        "    * Обучение с сэмплированием\n",
        "  * Архитектура сетей CTGAN, TVAE\n",
        "  * Оценка качества\n",
        "* Обучение моделей\n",
        "* Анализ результатов\n",
        "  * Распределения\n",
        "  * Оценка качества TSTR\n",
        "* CTAB-GAN\n",
        "* Заключение\n",
        "* Упражнения\n",
        "\n",
        "Ссылки:\n",
        "\n",
        "* [датасет по MOOC](https://huggingface.co/datasets/sswt/stanford-act-mooc)\n",
        "* [Modeling Tabular data using Conditional GAN](https://arxiv.org/pdf/1907.00503.pdf)\n"
      ],
      "metadata": {
        "id": "7dOjdm73UWgw"
      }
    },
    {
      "cell_type": "code",
      "source": [
        "!pip install -q sdv\n",
        "# !pip install -U -q ctgan"
      ],
      "metadata": {
        "id": "SgjKFfcGWZnw",
        "colab": {
          "base_uri": "https://localhost:8080/"
        },
        "outputId": "85a3f8e5-0252-4d10-ea98-3859089f5e83"
      },
      "execution_count": 1,
      "outputs": [
        {
          "output_type": "stream",
          "name": "stdout",
          "text": [
            "\u001b[2K     \u001b[90m━━━━━━━━━━━━━━━━━━━━━━━━━━━━━━━━━━━━━━━━\u001b[0m \u001b[32m137.1/137.1 kB\u001b[0m \u001b[31m1.3 MB/s\u001b[0m eta \u001b[36m0:00:00\u001b[0m\n",
            "\u001b[2K     \u001b[90m━━━━━━━━━━━━━━━━━━━━━━━━━━━━━━━━━━━━━━━━\u001b[0m \u001b[32m139.3/139.3 kB\u001b[0m \u001b[31m3.3 MB/s\u001b[0m eta \u001b[36m0:00:00\u001b[0m\n",
            "\u001b[2K     \u001b[90m━━━━━━━━━━━━━━━━━━━━━━━━━━━━━━━━━━━━━━━━\u001b[0m \u001b[32m11.9/11.9 MB\u001b[0m \u001b[31m18.9 MB/s\u001b[0m eta \u001b[36m0:00:00\u001b[0m\n",
            "\u001b[2K     \u001b[90m━━━━━━━━━━━━━━━━━━━━━━━━━━━━━━━━━━━━━━━━\u001b[0m \u001b[32m54.6/54.6 kB\u001b[0m \u001b[31m3.7 MB/s\u001b[0m eta \u001b[36m0:00:00\u001b[0m\n",
            "\u001b[2K     \u001b[90m━━━━━━━━━━━━━━━━━━━━━━━━━━━━━━━━━━━━━━━━\u001b[0m \u001b[32m74.9/74.9 kB\u001b[0m \u001b[31m3.4 MB/s\u001b[0m eta \u001b[36m0:00:00\u001b[0m\n",
            "\u001b[2K     \u001b[90m━━━━━━━━━━━━━━━━━━━━━━━━━━━━━━━━━━━━━━━━\u001b[0m \u001b[32m170.7/170.7 kB\u001b[0m \u001b[31m8.7 MB/s\u001b[0m eta \u001b[36m0:00:00\u001b[0m\n",
            "\u001b[2K     \u001b[90m━━━━━━━━━━━━━━━━━━━━━━━━━━━━━━━━━━━━━━━━\u001b[0m \u001b[32m82.1/82.1 kB\u001b[0m \u001b[31m4.8 MB/s\u001b[0m eta \u001b[36m0:00:00\u001b[0m\n",
            "\u001b[2K     \u001b[90m━━━━━━━━━━━━━━━━━━━━━━━━━━━━━━━━━━━━━━━━\u001b[0m \u001b[32m1.7/1.7 MB\u001b[0m \u001b[31m21.4 MB/s\u001b[0m eta \u001b[36m0:00:00\u001b[0m\n",
            "\u001b[?25h"
          ]
        }
      ]
    },
    {
      "cell_type": "code",
      "source": [
        "import pandas as pd\n",
        "import seaborn as sns\n",
        "import matplotlib.pyplot as plt\n",
        "from ctgan import CTGAN, TVAE"
      ],
      "metadata": {
        "id": "IcLOSXXVWHhd"
      },
      "execution_count": 2,
      "outputs": []
    },
    {
      "cell_type": "markdown",
      "source": [
        "## Загрузка данных\n",
        "\n",
        "Данные представляют лог действий пользователей на популярной MOOC-площадке, с  временной меткой, категориальным и числовыми атрибутами. Есть также переменная LABEL, которая представляет собой бинарный флаг - бросил ли пользователь курс после этого действия, то есть было ли это действие последним для пользователя."
      ],
      "metadata": {
        "id": "34stgsoou7wI"
      }
    },
    {
      "cell_type": "code",
      "execution_count": 3,
      "metadata": {
        "id": "nfjQ7em5Rirb"
      },
      "outputs": [],
      "source": [
        "!wget -q https://huggingface.co/datasets/sswt/stanford-act-mooc/resolve/main/act-mooc.csv.gz"
      ]
    },
    {
      "cell_type": "code",
      "source": [
        "df = pd.read_csv('act-mooc.csv.gz')\n",
        "print(df.shape)\n",
        "df.head()"
      ],
      "metadata": {
        "colab": {
          "base_uri": "https://localhost:8080/",
          "height": 224
        },
        "id": "xcpGvQVGWJr3",
        "outputId": "62af96ed-4d91-4661-a8fd-3b6dfa9d090e"
      },
      "execution_count": 4,
      "outputs": [
        {
          "output_type": "stream",
          "name": "stdout",
          "text": [
            "(411749, 9)\n"
          ]
        },
        {
          "output_type": "execute_result",
          "data": {
            "text/plain": [
              "   ACTIONID  USERID  TARGETID  TIMESTAMP  FEATURE0  FEATURE1  FEATURE2  \\\n",
              "0         0       0         0        0.0 -0.319991 -0.435701  0.106784   \n",
              "1         1       0         1        6.0 -0.319991 -0.435701  0.106784   \n",
              "2         2       0         2       41.0 -0.319991 -0.435701  0.106784   \n",
              "3         3       0         1       49.0 -0.319991 -0.435701  0.106784   \n",
              "4         4       0         2       51.0 -0.319991 -0.435701  0.106784   \n",
              "\n",
              "   FEATURE3  LABEL  \n",
              "0 -0.067309      0  \n",
              "1 -0.067309      0  \n",
              "2 -0.067309      0  \n",
              "3 -0.067309      0  \n",
              "4 -0.067309      0  "
            ],
            "text/html": [
              "\n",
              "  <div id=\"df-bf0f799a-cd1e-43d1-8ac3-8f467aef75e5\" class=\"colab-df-container\">\n",
              "    <div>\n",
              "<style scoped>\n",
              "    .dataframe tbody tr th:only-of-type {\n",
              "        vertical-align: middle;\n",
              "    }\n",
              "\n",
              "    .dataframe tbody tr th {\n",
              "        vertical-align: top;\n",
              "    }\n",
              "\n",
              "    .dataframe thead th {\n",
              "        text-align: right;\n",
              "    }\n",
              "</style>\n",
              "<table border=\"1\" class=\"dataframe\">\n",
              "  <thead>\n",
              "    <tr style=\"text-align: right;\">\n",
              "      <th></th>\n",
              "      <th>ACTIONID</th>\n",
              "      <th>USERID</th>\n",
              "      <th>TARGETID</th>\n",
              "      <th>TIMESTAMP</th>\n",
              "      <th>FEATURE0</th>\n",
              "      <th>FEATURE1</th>\n",
              "      <th>FEATURE2</th>\n",
              "      <th>FEATURE3</th>\n",
              "      <th>LABEL</th>\n",
              "    </tr>\n",
              "  </thead>\n",
              "  <tbody>\n",
              "    <tr>\n",
              "      <th>0</th>\n",
              "      <td>0</td>\n",
              "      <td>0</td>\n",
              "      <td>0</td>\n",
              "      <td>0.0</td>\n",
              "      <td>-0.319991</td>\n",
              "      <td>-0.435701</td>\n",
              "      <td>0.106784</td>\n",
              "      <td>-0.067309</td>\n",
              "      <td>0</td>\n",
              "    </tr>\n",
              "    <tr>\n",
              "      <th>1</th>\n",
              "      <td>1</td>\n",
              "      <td>0</td>\n",
              "      <td>1</td>\n",
              "      <td>6.0</td>\n",
              "      <td>-0.319991</td>\n",
              "      <td>-0.435701</td>\n",
              "      <td>0.106784</td>\n",
              "      <td>-0.067309</td>\n",
              "      <td>0</td>\n",
              "    </tr>\n",
              "    <tr>\n",
              "      <th>2</th>\n",
              "      <td>2</td>\n",
              "      <td>0</td>\n",
              "      <td>2</td>\n",
              "      <td>41.0</td>\n",
              "      <td>-0.319991</td>\n",
              "      <td>-0.435701</td>\n",
              "      <td>0.106784</td>\n",
              "      <td>-0.067309</td>\n",
              "      <td>0</td>\n",
              "    </tr>\n",
              "    <tr>\n",
              "      <th>3</th>\n",
              "      <td>3</td>\n",
              "      <td>0</td>\n",
              "      <td>1</td>\n",
              "      <td>49.0</td>\n",
              "      <td>-0.319991</td>\n",
              "      <td>-0.435701</td>\n",
              "      <td>0.106784</td>\n",
              "      <td>-0.067309</td>\n",
              "      <td>0</td>\n",
              "    </tr>\n",
              "    <tr>\n",
              "      <th>4</th>\n",
              "      <td>4</td>\n",
              "      <td>0</td>\n",
              "      <td>2</td>\n",
              "      <td>51.0</td>\n",
              "      <td>-0.319991</td>\n",
              "      <td>-0.435701</td>\n",
              "      <td>0.106784</td>\n",
              "      <td>-0.067309</td>\n",
              "      <td>0</td>\n",
              "    </tr>\n",
              "  </tbody>\n",
              "</table>\n",
              "</div>\n",
              "    <div class=\"colab-df-buttons\">\n",
              "\n",
              "  <div class=\"colab-df-container\">\n",
              "    <button class=\"colab-df-convert\" onclick=\"convertToInteractive('df-bf0f799a-cd1e-43d1-8ac3-8f467aef75e5')\"\n",
              "            title=\"Convert this dataframe to an interactive table.\"\n",
              "            style=\"display:none;\">\n",
              "\n",
              "  <svg xmlns=\"http://www.w3.org/2000/svg\" height=\"24px\" viewBox=\"0 -960 960 960\">\n",
              "    <path d=\"M120-120v-720h720v720H120Zm60-500h600v-160H180v160Zm220 220h160v-160H400v160Zm0 220h160v-160H400v160ZM180-400h160v-160H180v160Zm440 0h160v-160H620v160ZM180-180h160v-160H180v160Zm440 0h160v-160H620v160Z\"/>\n",
              "  </svg>\n",
              "    </button>\n",
              "\n",
              "  <style>\n",
              "    .colab-df-container {\n",
              "      display:flex;\n",
              "      gap: 12px;\n",
              "    }\n",
              "\n",
              "    .colab-df-convert {\n",
              "      background-color: #E8F0FE;\n",
              "      border: none;\n",
              "      border-radius: 50%;\n",
              "      cursor: pointer;\n",
              "      display: none;\n",
              "      fill: #1967D2;\n",
              "      height: 32px;\n",
              "      padding: 0 0 0 0;\n",
              "      width: 32px;\n",
              "    }\n",
              "\n",
              "    .colab-df-convert:hover {\n",
              "      background-color: #E2EBFA;\n",
              "      box-shadow: 0px 1px 2px rgba(60, 64, 67, 0.3), 0px 1px 3px 1px rgba(60, 64, 67, 0.15);\n",
              "      fill: #174EA6;\n",
              "    }\n",
              "\n",
              "    .colab-df-buttons div {\n",
              "      margin-bottom: 4px;\n",
              "    }\n",
              "\n",
              "    [theme=dark] .colab-df-convert {\n",
              "      background-color: #3B4455;\n",
              "      fill: #D2E3FC;\n",
              "    }\n",
              "\n",
              "    [theme=dark] .colab-df-convert:hover {\n",
              "      background-color: #434B5C;\n",
              "      box-shadow: 0px 1px 3px 1px rgba(0, 0, 0, 0.15);\n",
              "      filter: drop-shadow(0px 1px 2px rgba(0, 0, 0, 0.3));\n",
              "      fill: #FFFFFF;\n",
              "    }\n",
              "  </style>\n",
              "\n",
              "    <script>\n",
              "      const buttonEl =\n",
              "        document.querySelector('#df-bf0f799a-cd1e-43d1-8ac3-8f467aef75e5 button.colab-df-convert');\n",
              "      buttonEl.style.display =\n",
              "        google.colab.kernel.accessAllowed ? 'block' : 'none';\n",
              "\n",
              "      async function convertToInteractive(key) {\n",
              "        const element = document.querySelector('#df-bf0f799a-cd1e-43d1-8ac3-8f467aef75e5');\n",
              "        const dataTable =\n",
              "          await google.colab.kernel.invokeFunction('convertToInteractive',\n",
              "                                                    [key], {});\n",
              "        if (!dataTable) return;\n",
              "\n",
              "        const docLinkHtml = 'Like what you see? Visit the ' +\n",
              "          '<a target=\"_blank\" href=https://colab.research.google.com/notebooks/data_table.ipynb>data table notebook</a>'\n",
              "          + ' to learn more about interactive tables.';\n",
              "        element.innerHTML = '';\n",
              "        dataTable['output_type'] = 'display_data';\n",
              "        await google.colab.output.renderOutput(dataTable, element);\n",
              "        const docLink = document.createElement('div');\n",
              "        docLink.innerHTML = docLinkHtml;\n",
              "        element.appendChild(docLink);\n",
              "      }\n",
              "    </script>\n",
              "  </div>\n",
              "\n",
              "\n",
              "<div id=\"df-84d5f275-0eeb-43b3-bc93-88b9a32a1381\">\n",
              "  <button class=\"colab-df-quickchart\" onclick=\"quickchart('df-84d5f275-0eeb-43b3-bc93-88b9a32a1381')\"\n",
              "            title=\"Suggest charts\"\n",
              "            style=\"display:none;\">\n",
              "\n",
              "<svg xmlns=\"http://www.w3.org/2000/svg\" height=\"24px\"viewBox=\"0 0 24 24\"\n",
              "     width=\"24px\">\n",
              "    <g>\n",
              "        <path d=\"M19 3H5c-1.1 0-2 .9-2 2v14c0 1.1.9 2 2 2h14c1.1 0 2-.9 2-2V5c0-1.1-.9-2-2-2zM9 17H7v-7h2v7zm4 0h-2V7h2v10zm4 0h-2v-4h2v4z\"/>\n",
              "    </g>\n",
              "</svg>\n",
              "  </button>\n",
              "\n",
              "<style>\n",
              "  .colab-df-quickchart {\n",
              "      --bg-color: #E8F0FE;\n",
              "      --fill-color: #1967D2;\n",
              "      --hover-bg-color: #E2EBFA;\n",
              "      --hover-fill-color: #174EA6;\n",
              "      --disabled-fill-color: #AAA;\n",
              "      --disabled-bg-color: #DDD;\n",
              "  }\n",
              "\n",
              "  [theme=dark] .colab-df-quickchart {\n",
              "      --bg-color: #3B4455;\n",
              "      --fill-color: #D2E3FC;\n",
              "      --hover-bg-color: #434B5C;\n",
              "      --hover-fill-color: #FFFFFF;\n",
              "      --disabled-bg-color: #3B4455;\n",
              "      --disabled-fill-color: #666;\n",
              "  }\n",
              "\n",
              "  .colab-df-quickchart {\n",
              "    background-color: var(--bg-color);\n",
              "    border: none;\n",
              "    border-radius: 50%;\n",
              "    cursor: pointer;\n",
              "    display: none;\n",
              "    fill: var(--fill-color);\n",
              "    height: 32px;\n",
              "    padding: 0;\n",
              "    width: 32px;\n",
              "  }\n",
              "\n",
              "  .colab-df-quickchart:hover {\n",
              "    background-color: var(--hover-bg-color);\n",
              "    box-shadow: 0 1px 2px rgba(60, 64, 67, 0.3), 0 1px 3px 1px rgba(60, 64, 67, 0.15);\n",
              "    fill: var(--button-hover-fill-color);\n",
              "  }\n",
              "\n",
              "  .colab-df-quickchart-complete:disabled,\n",
              "  .colab-df-quickchart-complete:disabled:hover {\n",
              "    background-color: var(--disabled-bg-color);\n",
              "    fill: var(--disabled-fill-color);\n",
              "    box-shadow: none;\n",
              "  }\n",
              "\n",
              "  .colab-df-spinner {\n",
              "    border: 2px solid var(--fill-color);\n",
              "    border-color: transparent;\n",
              "    border-bottom-color: var(--fill-color);\n",
              "    animation:\n",
              "      spin 1s steps(1) infinite;\n",
              "  }\n",
              "\n",
              "  @keyframes spin {\n",
              "    0% {\n",
              "      border-color: transparent;\n",
              "      border-bottom-color: var(--fill-color);\n",
              "      border-left-color: var(--fill-color);\n",
              "    }\n",
              "    20% {\n",
              "      border-color: transparent;\n",
              "      border-left-color: var(--fill-color);\n",
              "      border-top-color: var(--fill-color);\n",
              "    }\n",
              "    30% {\n",
              "      border-color: transparent;\n",
              "      border-left-color: var(--fill-color);\n",
              "      border-top-color: var(--fill-color);\n",
              "      border-right-color: var(--fill-color);\n",
              "    }\n",
              "    40% {\n",
              "      border-color: transparent;\n",
              "      border-right-color: var(--fill-color);\n",
              "      border-top-color: var(--fill-color);\n",
              "    }\n",
              "    60% {\n",
              "      border-color: transparent;\n",
              "      border-right-color: var(--fill-color);\n",
              "    }\n",
              "    80% {\n",
              "      border-color: transparent;\n",
              "      border-right-color: var(--fill-color);\n",
              "      border-bottom-color: var(--fill-color);\n",
              "    }\n",
              "    90% {\n",
              "      border-color: transparent;\n",
              "      border-bottom-color: var(--fill-color);\n",
              "    }\n",
              "  }\n",
              "</style>\n",
              "\n",
              "  <script>\n",
              "    async function quickchart(key) {\n",
              "      const quickchartButtonEl =\n",
              "        document.querySelector('#' + key + ' button');\n",
              "      quickchartButtonEl.disabled = true;  // To prevent multiple clicks.\n",
              "      quickchartButtonEl.classList.add('colab-df-spinner');\n",
              "      try {\n",
              "        const charts = await google.colab.kernel.invokeFunction(\n",
              "            'suggestCharts', [key], {});\n",
              "      } catch (error) {\n",
              "        console.error('Error during call to suggestCharts:', error);\n",
              "      }\n",
              "      quickchartButtonEl.classList.remove('colab-df-spinner');\n",
              "      quickchartButtonEl.classList.add('colab-df-quickchart-complete');\n",
              "    }\n",
              "    (() => {\n",
              "      let quickchartButtonEl =\n",
              "        document.querySelector('#df-84d5f275-0eeb-43b3-bc93-88b9a32a1381 button');\n",
              "      quickchartButtonEl.style.display =\n",
              "        google.colab.kernel.accessAllowed ? 'block' : 'none';\n",
              "    })();\n",
              "  </script>\n",
              "</div>\n",
              "    </div>\n",
              "  </div>\n"
            ]
          },
          "metadata": {},
          "execution_count": 4
        }
      ]
    },
    {
      "cell_type": "code",
      "source": [
        "df = df.drop_duplicates()\n",
        "df.shape"
      ],
      "metadata": {
        "colab": {
          "base_uri": "https://localhost:8080/"
        },
        "id": "5gSUCJRYrW0v",
        "outputId": "b309a9f8-e312-4474-8b41-b03f6827aa24"
      },
      "execution_count": 5,
      "outputs": [
        {
          "output_type": "execute_result",
          "data": {
            "text/plain": [
              "(396712, 9)"
            ]
          },
          "metadata": {},
          "execution_count": 5
        }
      ]
    },
    {
      "cell_type": "markdown",
      "source": [
        "### Лёгкий EDA\n",
        "\n",
        "Познакомимся с данными чуть поближе, так как мы скорее всего будем их переиспользовать в следующих занятиях."
      ],
      "metadata": {
        "id": "UjNSMXQ4vCVN"
      }
    },
    {
      "cell_type": "code",
      "source": [
        "cat_cols = ['ACTIONID', 'USERID', 'TARGETID', 'LABEL']\n",
        "num_cols = ['TIMESTAMP', 'FEATURE0', 'FEATURE1', 'FEATURE2', 'FEATURE3']"
      ],
      "metadata": {
        "id": "XxENDO9urHpj"
      },
      "execution_count": 6,
      "outputs": []
    },
    {
      "cell_type": "code",
      "source": [
        "df[cat_cols].nunique()"
      ],
      "metadata": {
        "colab": {
          "base_uri": "https://localhost:8080/"
        },
        "id": "lOjqXTbxrR37",
        "outputId": "f88f4284-9bd9-42df-a42b-5d9435c435c4"
      },
      "execution_count": 7,
      "outputs": [
        {
          "output_type": "execute_result",
          "data": {
            "text/plain": [
              "ACTIONID    396633\n",
              "USERID        7047\n",
              "TARGETID        97\n",
              "LABEL            2\n",
              "dtype: int64"
            ]
          },
          "metadata": {},
          "execution_count": 7
        }
      ]
    },
    {
      "cell_type": "code",
      "source": [
        "df['LABEL'].value_counts()"
      ],
      "metadata": {
        "colab": {
          "base_uri": "https://localhost:8080/"
        },
        "id": "9z4nxvqpuLLi",
        "outputId": "922a7943-c788-4648-84de-a8cb0ed9a479"
      },
      "execution_count": 8,
      "outputs": [
        {
          "output_type": "execute_result",
          "data": {
            "text/plain": [
              "0    392646\n",
              "1      4066\n",
              "Name: LABEL, dtype: int64"
            ]
          },
          "metadata": {},
          "execution_count": 8
        }
      ]
    },
    {
      "cell_type": "markdown",
      "source": [
        "Видим, что в данных:\n",
        "\n",
        "* число уникальных ACTIONID практически равно числу строк\n",
        "* 7К пользователей\n",
        "* 97 видов активности\n",
        "* событий с меткой LABEL=1 около 1%\n",
        "\n",
        "Но всё же, некоторые действия встречаются более одного раза, посмотрим на них поближе."
      ],
      "metadata": {
        "id": "HUszfJZo7Nq2"
      }
    },
    {
      "cell_type": "code",
      "source": [
        "df['ACTIONID'].value_counts().value_counts()"
      ],
      "metadata": {
        "colab": {
          "base_uri": "https://localhost:8080/"
        },
        "id": "iZrp_rOrsD9A",
        "outputId": "6c841e98-2f8a-46a3-af33-10822515d2ad"
      },
      "execution_count": 9,
      "outputs": [
        {
          "output_type": "execute_result",
          "data": {
            "text/plain": [
              "1    396554\n",
              "2        79\n",
              "Name: ACTIONID, dtype: int64"
            ]
          },
          "metadata": {},
          "execution_count": 9
        }
      ]
    },
    {
      "cell_type": "code",
      "source": [
        "s = df['ACTIONID'].value_counts()\n",
        "s[s == 2].head(3)"
      ],
      "metadata": {
        "colab": {
          "base_uri": "https://localhost:8080/"
        },
        "id": "_DK37xQTp_RV",
        "outputId": "0bc61c86-5e5d-428c-f146-0c05f8477c36"
      },
      "execution_count": 10,
      "outputs": [
        {
          "output_type": "execute_result",
          "data": {
            "text/plain": [
              "103540    2\n",
              "116776    2\n",
              "27959     2\n",
              "Name: ACTIONID, dtype: int64"
            ]
          },
          "metadata": {},
          "execution_count": 10
        }
      ]
    },
    {
      "cell_type": "code",
      "source": [
        "df[df['ACTIONID'] == 103540]"
      ],
      "metadata": {
        "colab": {
          "base_uri": "https://localhost:8080/",
          "height": 112
        },
        "id": "is0slRZGqaeG",
        "outputId": "4172822d-994a-4441-ffe3-bb4472ead68d"
      },
      "execution_count": 11,
      "outputs": [
        {
          "output_type": "execute_result",
          "data": {
            "text/plain": [
              "        ACTIONID  USERID  TARGETID  TIMESTAMP  FEATURE0  FEATURE1  FEATURE2  \\\n",
              "103539    103540    4451        29   786792.0 -0.319991  2.108722 -0.394237   \n",
              "103540    103540    4451        29   786792.0 -0.319991  2.108722 -0.394237   \n",
              "\n",
              "        FEATURE3  LABEL  \n",
              "103539 -0.067309      0  \n",
              "103540 -0.067309      1  "
            ],
            "text/html": [
              "\n",
              "  <div id=\"df-4712e7ce-798f-450f-8bcd-f783ae7bb6c7\" class=\"colab-df-container\">\n",
              "    <div>\n",
              "<style scoped>\n",
              "    .dataframe tbody tr th:only-of-type {\n",
              "        vertical-align: middle;\n",
              "    }\n",
              "\n",
              "    .dataframe tbody tr th {\n",
              "        vertical-align: top;\n",
              "    }\n",
              "\n",
              "    .dataframe thead th {\n",
              "        text-align: right;\n",
              "    }\n",
              "</style>\n",
              "<table border=\"1\" class=\"dataframe\">\n",
              "  <thead>\n",
              "    <tr style=\"text-align: right;\">\n",
              "      <th></th>\n",
              "      <th>ACTIONID</th>\n",
              "      <th>USERID</th>\n",
              "      <th>TARGETID</th>\n",
              "      <th>TIMESTAMP</th>\n",
              "      <th>FEATURE0</th>\n",
              "      <th>FEATURE1</th>\n",
              "      <th>FEATURE2</th>\n",
              "      <th>FEATURE3</th>\n",
              "      <th>LABEL</th>\n",
              "    </tr>\n",
              "  </thead>\n",
              "  <tbody>\n",
              "    <tr>\n",
              "      <th>103539</th>\n",
              "      <td>103540</td>\n",
              "      <td>4451</td>\n",
              "      <td>29</td>\n",
              "      <td>786792.0</td>\n",
              "      <td>-0.319991</td>\n",
              "      <td>2.108722</td>\n",
              "      <td>-0.394237</td>\n",
              "      <td>-0.067309</td>\n",
              "      <td>0</td>\n",
              "    </tr>\n",
              "    <tr>\n",
              "      <th>103540</th>\n",
              "      <td>103540</td>\n",
              "      <td>4451</td>\n",
              "      <td>29</td>\n",
              "      <td>786792.0</td>\n",
              "      <td>-0.319991</td>\n",
              "      <td>2.108722</td>\n",
              "      <td>-0.394237</td>\n",
              "      <td>-0.067309</td>\n",
              "      <td>1</td>\n",
              "    </tr>\n",
              "  </tbody>\n",
              "</table>\n",
              "</div>\n",
              "    <div class=\"colab-df-buttons\">\n",
              "\n",
              "  <div class=\"colab-df-container\">\n",
              "    <button class=\"colab-df-convert\" onclick=\"convertToInteractive('df-4712e7ce-798f-450f-8bcd-f783ae7bb6c7')\"\n",
              "            title=\"Convert this dataframe to an interactive table.\"\n",
              "            style=\"display:none;\">\n",
              "\n",
              "  <svg xmlns=\"http://www.w3.org/2000/svg\" height=\"24px\" viewBox=\"0 -960 960 960\">\n",
              "    <path d=\"M120-120v-720h720v720H120Zm60-500h600v-160H180v160Zm220 220h160v-160H400v160Zm0 220h160v-160H400v160ZM180-400h160v-160H180v160Zm440 0h160v-160H620v160ZM180-180h160v-160H180v160Zm440 0h160v-160H620v160Z\"/>\n",
              "  </svg>\n",
              "    </button>\n",
              "\n",
              "  <style>\n",
              "    .colab-df-container {\n",
              "      display:flex;\n",
              "      gap: 12px;\n",
              "    }\n",
              "\n",
              "    .colab-df-convert {\n",
              "      background-color: #E8F0FE;\n",
              "      border: none;\n",
              "      border-radius: 50%;\n",
              "      cursor: pointer;\n",
              "      display: none;\n",
              "      fill: #1967D2;\n",
              "      height: 32px;\n",
              "      padding: 0 0 0 0;\n",
              "      width: 32px;\n",
              "    }\n",
              "\n",
              "    .colab-df-convert:hover {\n",
              "      background-color: #E2EBFA;\n",
              "      box-shadow: 0px 1px 2px rgba(60, 64, 67, 0.3), 0px 1px 3px 1px rgba(60, 64, 67, 0.15);\n",
              "      fill: #174EA6;\n",
              "    }\n",
              "\n",
              "    .colab-df-buttons div {\n",
              "      margin-bottom: 4px;\n",
              "    }\n",
              "\n",
              "    [theme=dark] .colab-df-convert {\n",
              "      background-color: #3B4455;\n",
              "      fill: #D2E3FC;\n",
              "    }\n",
              "\n",
              "    [theme=dark] .colab-df-convert:hover {\n",
              "      background-color: #434B5C;\n",
              "      box-shadow: 0px 1px 3px 1px rgba(0, 0, 0, 0.15);\n",
              "      filter: drop-shadow(0px 1px 2px rgba(0, 0, 0, 0.3));\n",
              "      fill: #FFFFFF;\n",
              "    }\n",
              "  </style>\n",
              "\n",
              "    <script>\n",
              "      const buttonEl =\n",
              "        document.querySelector('#df-4712e7ce-798f-450f-8bcd-f783ae7bb6c7 button.colab-df-convert');\n",
              "      buttonEl.style.display =\n",
              "        google.colab.kernel.accessAllowed ? 'block' : 'none';\n",
              "\n",
              "      async function convertToInteractive(key) {\n",
              "        const element = document.querySelector('#df-4712e7ce-798f-450f-8bcd-f783ae7bb6c7');\n",
              "        const dataTable =\n",
              "          await google.colab.kernel.invokeFunction('convertToInteractive',\n",
              "                                                    [key], {});\n",
              "        if (!dataTable) return;\n",
              "\n",
              "        const docLinkHtml = 'Like what you see? Visit the ' +\n",
              "          '<a target=\"_blank\" href=https://colab.research.google.com/notebooks/data_table.ipynb>data table notebook</a>'\n",
              "          + ' to learn more about interactive tables.';\n",
              "        element.innerHTML = '';\n",
              "        dataTable['output_type'] = 'display_data';\n",
              "        await google.colab.output.renderOutput(dataTable, element);\n",
              "        const docLink = document.createElement('div');\n",
              "        docLink.innerHTML = docLinkHtml;\n",
              "        element.appendChild(docLink);\n",
              "      }\n",
              "    </script>\n",
              "  </div>\n",
              "\n",
              "\n",
              "<div id=\"df-675dde19-247c-43c0-ac5b-b74b8b231754\">\n",
              "  <button class=\"colab-df-quickchart\" onclick=\"quickchart('df-675dde19-247c-43c0-ac5b-b74b8b231754')\"\n",
              "            title=\"Suggest charts\"\n",
              "            style=\"display:none;\">\n",
              "\n",
              "<svg xmlns=\"http://www.w3.org/2000/svg\" height=\"24px\"viewBox=\"0 0 24 24\"\n",
              "     width=\"24px\">\n",
              "    <g>\n",
              "        <path d=\"M19 3H5c-1.1 0-2 .9-2 2v14c0 1.1.9 2 2 2h14c1.1 0 2-.9 2-2V5c0-1.1-.9-2-2-2zM9 17H7v-7h2v7zm4 0h-2V7h2v10zm4 0h-2v-4h2v4z\"/>\n",
              "    </g>\n",
              "</svg>\n",
              "  </button>\n",
              "\n",
              "<style>\n",
              "  .colab-df-quickchart {\n",
              "      --bg-color: #E8F0FE;\n",
              "      --fill-color: #1967D2;\n",
              "      --hover-bg-color: #E2EBFA;\n",
              "      --hover-fill-color: #174EA6;\n",
              "      --disabled-fill-color: #AAA;\n",
              "      --disabled-bg-color: #DDD;\n",
              "  }\n",
              "\n",
              "  [theme=dark] .colab-df-quickchart {\n",
              "      --bg-color: #3B4455;\n",
              "      --fill-color: #D2E3FC;\n",
              "      --hover-bg-color: #434B5C;\n",
              "      --hover-fill-color: #FFFFFF;\n",
              "      --disabled-bg-color: #3B4455;\n",
              "      --disabled-fill-color: #666;\n",
              "  }\n",
              "\n",
              "  .colab-df-quickchart {\n",
              "    background-color: var(--bg-color);\n",
              "    border: none;\n",
              "    border-radius: 50%;\n",
              "    cursor: pointer;\n",
              "    display: none;\n",
              "    fill: var(--fill-color);\n",
              "    height: 32px;\n",
              "    padding: 0;\n",
              "    width: 32px;\n",
              "  }\n",
              "\n",
              "  .colab-df-quickchart:hover {\n",
              "    background-color: var(--hover-bg-color);\n",
              "    box-shadow: 0 1px 2px rgba(60, 64, 67, 0.3), 0 1px 3px 1px rgba(60, 64, 67, 0.15);\n",
              "    fill: var(--button-hover-fill-color);\n",
              "  }\n",
              "\n",
              "  .colab-df-quickchart-complete:disabled,\n",
              "  .colab-df-quickchart-complete:disabled:hover {\n",
              "    background-color: var(--disabled-bg-color);\n",
              "    fill: var(--disabled-fill-color);\n",
              "    box-shadow: none;\n",
              "  }\n",
              "\n",
              "  .colab-df-spinner {\n",
              "    border: 2px solid var(--fill-color);\n",
              "    border-color: transparent;\n",
              "    border-bottom-color: var(--fill-color);\n",
              "    animation:\n",
              "      spin 1s steps(1) infinite;\n",
              "  }\n",
              "\n",
              "  @keyframes spin {\n",
              "    0% {\n",
              "      border-color: transparent;\n",
              "      border-bottom-color: var(--fill-color);\n",
              "      border-left-color: var(--fill-color);\n",
              "    }\n",
              "    20% {\n",
              "      border-color: transparent;\n",
              "      border-left-color: var(--fill-color);\n",
              "      border-top-color: var(--fill-color);\n",
              "    }\n",
              "    30% {\n",
              "      border-color: transparent;\n",
              "      border-left-color: var(--fill-color);\n",
              "      border-top-color: var(--fill-color);\n",
              "      border-right-color: var(--fill-color);\n",
              "    }\n",
              "    40% {\n",
              "      border-color: transparent;\n",
              "      border-right-color: var(--fill-color);\n",
              "      border-top-color: var(--fill-color);\n",
              "    }\n",
              "    60% {\n",
              "      border-color: transparent;\n",
              "      border-right-color: var(--fill-color);\n",
              "    }\n",
              "    80% {\n",
              "      border-color: transparent;\n",
              "      border-right-color: var(--fill-color);\n",
              "      border-bottom-color: var(--fill-color);\n",
              "    }\n",
              "    90% {\n",
              "      border-color: transparent;\n",
              "      border-bottom-color: var(--fill-color);\n",
              "    }\n",
              "  }\n",
              "</style>\n",
              "\n",
              "  <script>\n",
              "    async function quickchart(key) {\n",
              "      const quickchartButtonEl =\n",
              "        document.querySelector('#' + key + ' button');\n",
              "      quickchartButtonEl.disabled = true;  // To prevent multiple clicks.\n",
              "      quickchartButtonEl.classList.add('colab-df-spinner');\n",
              "      try {\n",
              "        const charts = await google.colab.kernel.invokeFunction(\n",
              "            'suggestCharts', [key], {});\n",
              "      } catch (error) {\n",
              "        console.error('Error during call to suggestCharts:', error);\n",
              "      }\n",
              "      quickchartButtonEl.classList.remove('colab-df-spinner');\n",
              "      quickchartButtonEl.classList.add('colab-df-quickchart-complete');\n",
              "    }\n",
              "    (() => {\n",
              "      let quickchartButtonEl =\n",
              "        document.querySelector('#df-675dde19-247c-43c0-ac5b-b74b8b231754 button');\n",
              "      quickchartButtonEl.style.display =\n",
              "        google.colab.kernel.accessAllowed ? 'block' : 'none';\n",
              "    })();\n",
              "  </script>\n",
              "</div>\n",
              "    </div>\n",
              "  </div>\n"
            ]
          },
          "metadata": {},
          "execution_count": 11
        }
      ]
    },
    {
      "cell_type": "markdown",
      "source": [
        "Абсолютно одинаковые строки с разной меткой LABEL - модели это должно понравиться."
      ],
      "metadata": {
        "id": "5HJDrnIn7kyl"
      }
    },
    {
      "cell_type": "code",
      "source": [
        "df['USERID'].value_counts().clip(upper=300).hist(bins=30, figsize=(5, 2));"
      ],
      "metadata": {
        "colab": {
          "base_uri": "https://localhost:8080/",
          "height": 214
        },
        "id": "7qJ-FBj6sLpI",
        "outputId": "49c3669a-6429-4604-e3f4-e8ac2d371894"
      },
      "execution_count": 12,
      "outputs": [
        {
          "output_type": "display_data",
          "data": {
            "text/plain": [
              "<Figure size 500x200 with 1 Axes>"
            ],
            "image/png": "[encoded data removed]"
          },
          "metadata": {}
        }
      ]
    },
    {
      "cell_type": "markdown",
      "source": [
        "Число событий на пользователя имеет экспоненциальное распределение с длинным хвостом. Интуитивно, пользователи с большим количеством действий должны меньше оттекать."
      ],
      "metadata": {
        "id": "BRZkcppV7vec"
      }
    },
    {
      "cell_type": "code",
      "source": [
        "df['TARGETID'].value_counts().clip(upper=15000).hist(bins=30, figsize=(5, 2));"
      ],
      "metadata": {
        "colab": {
          "base_uri": "https://localhost:8080/",
          "height": 214
        },
        "id": "GLbAeLF6zDvh",
        "outputId": "a1c1518b-df39-4456-ac65-dc8830e254c9"
      },
      "execution_count": 13,
      "outputs": [
        {
          "output_type": "display_data",
          "data": {
            "text/plain": [
              "<Figure size 500x200 with 1 Axes>"
            ],
            "image/png": "[encoded data removed]"
          },
          "metadata": {}
        }
      ]
    },
    {
      "cell_type": "code",
      "source": [
        "df[num_cols].hist()\n",
        "plt.tight_layout()"
      ],
      "metadata": {
        "colab": {
          "base_uri": "https://localhost:8080/",
          "height": 486
        },
        "id": "NL-OfmvzrEp2",
        "outputId": "3567b0b4-15cb-4bb4-8fad-082087a2eb32"
      },
      "execution_count": 14,
      "outputs": [
        {
          "output_type": "display_data",
          "data": {
            "text/plain": [
              "<Figure size 640x480 with 6 Axes>"
            ],
            "image/png": "[encoded data removed]"
          },
          "metadata": {}
        }
      ]
    },
    {
      "cell_type": "markdown",
      "source": [
        "Временные метки начинаются с нуля и распределены достаточно равномерно, что странно. Числовые признаки имеют очень странное распределение с ярко выраженной модой около нуля.\n",
        "\n",
        "Посмотрим на них поближе."
      ],
      "metadata": {
        "id": "8sKd01Od8Y9x"
      }
    },
    {
      "cell_type": "code",
      "source": [
        "df['FEATURE0'].clip(upper=.1).hist(figsize=(5, 2));"
      ],
      "metadata": {
        "colab": {
          "base_uri": "https://localhost:8080/",
          "height": 214
        },
        "id": "bUWFJyp4R3Kt",
        "outputId": "4ec73816-e1f7-4f10-ea85-51d83f7b5a0f"
      },
      "execution_count": 15,
      "outputs": [
        {
          "output_type": "display_data",
          "data": {
            "text/plain": [
              "<Figure size 500x200 with 1 Axes>"
            ],
            "image/png": "[encoded data removed]"
          },
          "metadata": {}
        }
      ]
    },
    {
      "cell_type": "code",
      "source": [
        "s = df['FEATURE0'].value_counts()\n",
        "s"
      ],
      "metadata": {
        "colab": {
          "base_uri": "https://localhost:8080/"
        },
        "id": "kMeasSxks2Dp",
        "outputId": "b075cccb-425a-4fe6-b263-1e1cf80db5c2"
      },
      "execution_count": 16,
      "outputs": [
        {
          "output_type": "execute_result",
          "data": {
            "text/plain": [
              "-0.319991     342988\n",
              " 1.028091      24507\n",
              " 2.376173      22091\n",
              " 3.724255       3055\n",
              " 5.072338       2509\n",
              " 7.768502        677\n",
              " 6.420420        540\n",
              " 9.116585        144\n",
              " 10.464667       107\n",
              " 13.160832        31\n",
              " 11.812749        29\n",
              " 14.508914        11\n",
              " 17.205078         6\n",
              " 15.856996         5\n",
              " 22.597408         1\n",
              " 23.945490         1\n",
              " 25.293572         1\n",
              " 30.685901         1\n",
              " 29.337819         1\n",
              " 21.249325         1\n",
              " 38.774395         1\n",
              " 42.818642         1\n",
              " 44.166724         1\n",
              " 57.647547         1\n",
              " 27.989737         1\n",
              " 45.514807         1\n",
              "Name: FEATURE0, dtype: int64"
            ]
          },
          "metadata": {},
          "execution_count": 16
        }
      ]
    },
    {
      "cell_type": "code",
      "source": [
        "s.index[1:] - s.index[:-1]"
      ],
      "metadata": {
        "colab": {
          "base_uri": "https://localhost:8080/"
        },
        "id": "SfCAI4S0tpe7",
        "outputId": "33b6c793-f179-4592-f889-58b13de007b4"
      },
      "execution_count": 17,
      "outputs": [
        {
          "output_type": "execute_result",
          "data": {
            "text/plain": [
              "Float64Index([ 1.3480823000241184,  1.3480823000241184,  1.3480823000241182,\n",
              "               1.3480823000241196,  2.6961646000482355, -1.3480823000241173,\n",
              "               2.6961646000482364,  1.3480823000241173,   2.696164600048233,\n",
              "               -1.348082300024112,  2.6961646000482347,  2.6961646000482364,\n",
              "              -1.3480823000241173,   6.740411500120587,  1.3480823000241244,\n",
              "               1.3480823000241244,   5.392329200096469, -1.3480823000241209,\n",
              "               -8.088493800144711,  17.525069900313543,   4.044246900072345,\n",
              "               1.3480823000241315,   13.48082300024118, -29.657810600530606,\n",
              "               17.525069900313536],\n",
              "             dtype='float64')"
            ]
          },
          "metadata": {},
          "execution_count": 17
        }
      ]
    },
    {
      "cell_type": "code",
      "source": [
        "df['FEATURE0'][df['FEATURE0'] > 0].clip(upper=10).hist(figsize=(5, 2));"
      ],
      "metadata": {
        "colab": {
          "base_uri": "https://localhost:8080/",
          "height": 214
        },
        "id": "MnPKu6MXtQGr",
        "outputId": "98fa3e8b-e579-4071-fd03-3f6b2586c150"
      },
      "execution_count": 18,
      "outputs": [
        {
          "output_type": "display_data",
          "data": {
            "text/plain": [
              "<Figure size 500x200 with 1 Axes>"
            ],
            "image/png": "[encoded data removed]"
          },
          "metadata": {}
        }
      ]
    },
    {
      "cell_type": "markdown",
      "source": [
        "Переменная FEATURE0 имеет стабильный шаг 1.348 между значениями, как будто приведена искусственно к числовой форме."
      ],
      "metadata": {
        "id": "ydyTezCZ8u8p"
      }
    },
    {
      "cell_type": "code",
      "source": [
        "df['FEATURE3'].value_counts().sort_index()"
      ],
      "metadata": {
        "colab": {
          "base_uri": "https://localhost:8080/"
        },
        "id": "3E_AwqM4u-Na",
        "outputId": "9ac7cfb7-c734-4e91-f5a3-5ff5784b1e66"
      },
      "execution_count": 19,
      "outputs": [
        {
          "output_type": "execute_result",
          "data": {
            "text/plain": [
              "-0.067309      370043\n",
              " 0.133387        8518\n",
              " 0.334083        4969\n",
              " 0.534779        3552\n",
              " 0.735475        2360\n",
              "                ...  \n",
              " 149.451211         1\n",
              " 151.056779         1\n",
              " 161.894364         1\n",
              " 174.538212         1\n",
              " 183.970924         1\n",
              "Name: FEATURE3, Length: 164, dtype: int64"
            ]
          },
          "metadata": {},
          "execution_count": 19
        }
      ]
    },
    {
      "cell_type": "code",
      "source": [
        "df['FEATURE3'][df['FEATURE3'] > 0].clip(upper=5).hist(figsize=(5, 2));"
      ],
      "metadata": {
        "colab": {
          "base_uri": "https://localhost:8080/",
          "height": 214
        },
        "id": "uyT0edmEvRxe",
        "outputId": "64e40d7e-23d5-461f-c3a7-02ccabed1e5d"
      },
      "execution_count": 20,
      "outputs": [
        {
          "output_type": "display_data",
          "data": {
            "text/plain": [
              "<Figure size 500x200 with 1 Axes>"
            ],
            "image/png": "[encoded data removed]"
          },
          "metadata": {}
        }
      ]
    },
    {
      "cell_type": "markdown",
      "source": [
        "У FEATURE3 шаг уже не такой стабильный, но она не менее странная."
      ],
      "metadata": {
        "id": "kjMZjL-x9EBl"
      }
    },
    {
      "cell_type": "markdown",
      "source": [
        "Проверим, всегда ли у пользователя история действий заканчивается на единице (если она есть)"
      ],
      "metadata": {
        "id": "tg9GWY359MMo"
      }
    },
    {
      "cell_type": "code",
      "source": [
        "df_chk = pd.concat([\n",
        "    df.groupby('USERID')['TIMESTAMP'].max().reset_index()\\\n",
        "      .merge(df)[['USERID', 'LABEL']].set_index('USERID'),\n",
        "    df.groupby('USERID')['LABEL'].max().rename('LABEL2')\n",
        "], axis=1)\n",
        "(df_chk['LABEL'] == df_chk['LABEL2']).value_counts()"
      ],
      "metadata": {
        "colab": {
          "base_uri": "https://localhost:8080/"
        },
        "id": "YO77z8hk-Odr",
        "outputId": "f3f7b92b-fba4-4254-8a12-2056e1c9cb3d"
      },
      "execution_count": 21,
      "outputs": [
        {
          "output_type": "execute_result",
          "data": {
            "text/plain": [
              "True     7047\n",
              "False      79\n",
              "dtype: int64"
            ]
          },
          "metadata": {},
          "execution_count": 21
        }
      ]
    },
    {
      "cell_type": "code",
      "source": [
        "df_chk[df_chk['LABEL'] != df_chk['LABEL2']].head(3)"
      ],
      "metadata": {
        "colab": {
          "base_uri": "https://localhost:8080/",
          "height": 175
        },
        "id": "sDU6vtEU_jJe",
        "outputId": "6351339d-a6d7-4cb0-9321-2e47036c71a4"
      },
      "execution_count": 22,
      "outputs": [
        {
          "output_type": "execute_result",
          "data": {
            "text/plain": [
              "        LABEL  LABEL2\n",
              "USERID               \n",
              "20          0       1\n",
              "47          0       1\n",
              "213         0       1"
            ],
            "text/html": [
              "\n",
              "  <div id=\"df-5a0cfcd8-d862-437b-a407-53237754b3e1\" class=\"colab-df-container\">\n",
              "    <div>\n",
              "<style scoped>\n",
              "    .dataframe tbody tr th:only-of-type {\n",
              "        vertical-align: middle;\n",
              "    }\n",
              "\n",
              "    .dataframe tbody tr th {\n",
              "        vertical-align: top;\n",
              "    }\n",
              "\n",
              "    .dataframe thead th {\n",
              "        text-align: right;\n",
              "    }\n",
              "</style>\n",
              "<table border=\"1\" class=\"dataframe\">\n",
              "  <thead>\n",
              "    <tr style=\"text-align: right;\">\n",
              "      <th></th>\n",
              "      <th>LABEL</th>\n",
              "      <th>LABEL2</th>\n",
              "    </tr>\n",
              "    <tr>\n",
              "      <th>USERID</th>\n",
              "      <th></th>\n",
              "      <th></th>\n",
              "    </tr>\n",
              "  </thead>\n",
              "  <tbody>\n",
              "    <tr>\n",
              "      <th>20</th>\n",
              "      <td>0</td>\n",
              "      <td>1</td>\n",
              "    </tr>\n",
              "    <tr>\n",
              "      <th>47</th>\n",
              "      <td>0</td>\n",
              "      <td>1</td>\n",
              "    </tr>\n",
              "    <tr>\n",
              "      <th>213</th>\n",
              "      <td>0</td>\n",
              "      <td>1</td>\n",
              "    </tr>\n",
              "  </tbody>\n",
              "</table>\n",
              "</div>\n",
              "    <div class=\"colab-df-buttons\">\n",
              "\n",
              "  <div class=\"colab-df-container\">\n",
              "    <button class=\"colab-df-convert\" onclick=\"convertToInteractive('df-5a0cfcd8-d862-437b-a407-53237754b3e1')\"\n",
              "            title=\"Convert this dataframe to an interactive table.\"\n",
              "            style=\"display:none;\">\n",
              "\n",
              "  <svg xmlns=\"http://www.w3.org/2000/svg\" height=\"24px\" viewBox=\"0 -960 960 960\">\n",
              "    <path d=\"M120-120v-720h720v720H120Zm60-500h600v-160H180v160Zm220 220h160v-160H400v160Zm0 220h160v-160H400v160ZM180-400h160v-160H180v160Zm440 0h160v-160H620v160ZM180-180h160v-160H180v160Zm440 0h160v-160H620v160Z\"/>\n",
              "  </svg>\n",
              "    </button>\n",
              "\n",
              "  <style>\n",
              "    .colab-df-container {\n",
              "      display:flex;\n",
              "      gap: 12px;\n",
              "    }\n",
              "\n",
              "    .colab-df-convert {\n",
              "      background-color: #E8F0FE;\n",
              "      border: none;\n",
              "      border-radius: 50%;\n",
              "      cursor: pointer;\n",
              "      display: none;\n",
              "      fill: #1967D2;\n",
              "      height: 32px;\n",
              "      padding: 0 0 0 0;\n",
              "      width: 32px;\n",
              "    }\n",
              "\n",
              "    .colab-df-convert:hover {\n",
              "      background-color: #E2EBFA;\n",
              "      box-shadow: 0px 1px 2px rgba(60, 64, 67, 0.3), 0px 1px 3px 1px rgba(60, 64, 67, 0.15);\n",
              "      fill: #174EA6;\n",
              "    }\n",
              "\n",
              "    .colab-df-buttons div {\n",
              "      margin-bottom: 4px;\n",
              "    }\n",
              "\n",
              "    [theme=dark] .colab-df-convert {\n",
              "      background-color: #3B4455;\n",
              "      fill: #D2E3FC;\n",
              "    }\n",
              "\n",
              "    [theme=dark] .colab-df-convert:hover {\n",
              "      background-color: #434B5C;\n",
              "      box-shadow: 0px 1px 3px 1px rgba(0, 0, 0, 0.15);\n",
              "      filter: drop-shadow(0px 1px 2px rgba(0, 0, 0, 0.3));\n",
              "      fill: #FFFFFF;\n",
              "    }\n",
              "  </style>\n",
              "\n",
              "    <script>\n",
              "      const buttonEl =\n",
              "        document.querySelector('#df-5a0cfcd8-d862-437b-a407-53237754b3e1 button.colab-df-convert');\n",
              "      buttonEl.style.display =\n",
              "        google.colab.kernel.accessAllowed ? 'block' : 'none';\n",
              "\n",
              "      async function convertToInteractive(key) {\n",
              "        const element = document.querySelector('#df-5a0cfcd8-d862-437b-a407-53237754b3e1');\n",
              "        const dataTable =\n",
              "          await google.colab.kernel.invokeFunction('convertToInteractive',\n",
              "                                                    [key], {});\n",
              "        if (!dataTable) return;\n",
              "\n",
              "        const docLinkHtml = 'Like what you see? Visit the ' +\n",
              "          '<a target=\"_blank\" href=https://colab.research.google.com/notebooks/data_table.ipynb>data table notebook</a>'\n",
              "          + ' to learn more about interactive tables.';\n",
              "        element.innerHTML = '';\n",
              "        dataTable['output_type'] = 'display_data';\n",
              "        await google.colab.output.renderOutput(dataTable, element);\n",
              "        const docLink = document.createElement('div');\n",
              "        docLink.innerHTML = docLinkHtml;\n",
              "        element.appendChild(docLink);\n",
              "      }\n",
              "    </script>\n",
              "  </div>\n",
              "\n",
              "\n",
              "<div id=\"df-39d359aa-4c88-46dd-a6c0-5eb5e1ccc508\">\n",
              "  <button class=\"colab-df-quickchart\" onclick=\"quickchart('df-39d359aa-4c88-46dd-a6c0-5eb5e1ccc508')\"\n",
              "            title=\"Suggest charts\"\n",
              "            style=\"display:none;\">\n",
              "\n",
              "<svg xmlns=\"http://www.w3.org/2000/svg\" height=\"24px\"viewBox=\"0 0 24 24\"\n",
              "     width=\"24px\">\n",
              "    <g>\n",
              "        <path d=\"M19 3H5c-1.1 0-2 .9-2 2v14c0 1.1.9 2 2 2h14c1.1 0 2-.9 2-2V5c0-1.1-.9-2-2-2zM9 17H7v-7h2v7zm4 0h-2V7h2v10zm4 0h-2v-4h2v4z\"/>\n",
              "    </g>\n",
              "</svg>\n",
              "  </button>\n",
              "\n",
              "<style>\n",
              "  .colab-df-quickchart {\n",
              "      --bg-color: #E8F0FE;\n",
              "      --fill-color: #1967D2;\n",
              "      --hover-bg-color: #E2EBFA;\n",
              "      --hover-fill-color: #174EA6;\n",
              "      --disabled-fill-color: #AAA;\n",
              "      --disabled-bg-color: #DDD;\n",
              "  }\n",
              "\n",
              "  [theme=dark] .colab-df-quickchart {\n",
              "      --bg-color: #3B4455;\n",
              "      --fill-color: #D2E3FC;\n",
              "      --hover-bg-color: #434B5C;\n",
              "      --hover-fill-color: #FFFFFF;\n",
              "      --disabled-bg-color: #3B4455;\n",
              "      --disabled-fill-color: #666;\n",
              "  }\n",
              "\n",
              "  .colab-df-quickchart {\n",
              "    background-color: var(--bg-color);\n",
              "    border: none;\n",
              "    border-radius: 50%;\n",
              "    cursor: pointer;\n",
              "    display: none;\n",
              "    fill: var(--fill-color);\n",
              "    height: 32px;\n",
              "    padding: 0;\n",
              "    width: 32px;\n",
              "  }\n",
              "\n",
              "  .colab-df-quickchart:hover {\n",
              "    background-color: var(--hover-bg-color);\n",
              "    box-shadow: 0 1px 2px rgba(60, 64, 67, 0.3), 0 1px 3px 1px rgba(60, 64, 67, 0.15);\n",
              "    fill: var(--button-hover-fill-color);\n",
              "  }\n",
              "\n",
              "  .colab-df-quickchart-complete:disabled,\n",
              "  .colab-df-quickchart-complete:disabled:hover {\n",
              "    background-color: var(--disabled-bg-color);\n",
              "    fill: var(--disabled-fill-color);\n",
              "    box-shadow: none;\n",
              "  }\n",
              "\n",
              "  .colab-df-spinner {\n",
              "    border: 2px solid var(--fill-color);\n",
              "    border-color: transparent;\n",
              "    border-bottom-color: var(--fill-color);\n",
              "    animation:\n",
              "      spin 1s steps(1) infinite;\n",
              "  }\n",
              "\n",
              "  @keyframes spin {\n",
              "    0% {\n",
              "      border-color: transparent;\n",
              "      border-bottom-color: var(--fill-color);\n",
              "      border-left-color: var(--fill-color);\n",
              "    }\n",
              "    20% {\n",
              "      border-color: transparent;\n",
              "      border-left-color: var(--fill-color);\n",
              "      border-top-color: var(--fill-color);\n",
              "    }\n",
              "    30% {\n",
              "      border-color: transparent;\n",
              "      border-left-color: var(--fill-color);\n",
              "      border-top-color: var(--fill-color);\n",
              "      border-right-color: var(--fill-color);\n",
              "    }\n",
              "    40% {\n",
              "      border-color: transparent;\n",
              "      border-right-color: var(--fill-color);\n",
              "      border-top-color: var(--fill-color);\n",
              "    }\n",
              "    60% {\n",
              "      border-color: transparent;\n",
              "      border-right-color: var(--fill-color);\n",
              "    }\n",
              "    80% {\n",
              "      border-color: transparent;\n",
              "      border-right-color: var(--fill-color);\n",
              "      border-bottom-color: var(--fill-color);\n",
              "    }\n",
              "    90% {\n",
              "      border-color: transparent;\n",
              "      border-bottom-color: var(--fill-color);\n",
              "    }\n",
              "  }\n",
              "</style>\n",
              "\n",
              "  <script>\n",
              "    async function quickchart(key) {\n",
              "      const quickchartButtonEl =\n",
              "        document.querySelector('#' + key + ' button');\n",
              "      quickchartButtonEl.disabled = true;  // To prevent multiple clicks.\n",
              "      quickchartButtonEl.classList.add('colab-df-spinner');\n",
              "      try {\n",
              "        const charts = await google.colab.kernel.invokeFunction(\n",
              "            'suggestCharts', [key], {});\n",
              "      } catch (error) {\n",
              "        console.error('Error during call to suggestCharts:', error);\n",
              "      }\n",
              "      quickchartButtonEl.classList.remove('colab-df-spinner');\n",
              "      quickchartButtonEl.classList.add('colab-df-quickchart-complete');\n",
              "    }\n",
              "    (() => {\n",
              "      let quickchartButtonEl =\n",
              "        document.querySelector('#df-39d359aa-4c88-46dd-a6c0-5eb5e1ccc508 button');\n",
              "      quickchartButtonEl.style.display =\n",
              "        google.colab.kernel.accessAllowed ? 'block' : 'none';\n",
              "    })();\n",
              "  </script>\n",
              "</div>\n",
              "    </div>\n",
              "  </div>\n"
            ]
          },
          "metadata": {},
          "execution_count": 22
        }
      ]
    },
    {
      "cell_type": "code",
      "source": [
        "df[df['USERID'] == 47]"
      ],
      "metadata": {
        "colab": {
          "base_uri": "https://localhost:8080/",
          "height": 363
        },
        "id": "1_5o0-4Gl1zv",
        "outputId": "ff228023-e13b-4e5c-cb23-374715d4f9c4"
      },
      "execution_count": 23,
      "outputs": [
        {
          "output_type": "execute_result",
          "data": {
            "text/plain": [
              "       ACTIONID  USERID  TARGETID  TIMESTAMP  FEATURE0  FEATURE1  FEATURE2  \\\n",
              "329         329      47         1    63343.0 -0.319991 -0.435701  0.106784   \n",
              "331         331      47         3    63362.0 -0.319991 -0.435701  0.106784   \n",
              "338         338      47         4    63477.0 -0.319991 -0.435701  0.106784   \n",
              "339         339      47        13    63478.0 -0.319991  2.108722 -0.394237   \n",
              "340         340      47         3    63502.0 -0.319991 -0.435701  0.106784   \n",
              "341         341      47         1    63503.0 -0.319991 -0.435701  0.106784   \n",
              "61450     61450      47        10   429304.0 -0.319991 -0.435701  0.106784   \n",
              "61451     61451      47         4   429331.0 -0.319991 -0.435701  0.106784   \n",
              "61511     61512      47        15   429797.0 -0.319991  2.108722 -0.394237   \n",
              "61512     61512      47        15   429797.0 -0.319991  2.108722 -0.394237   \n",
              "\n",
              "       FEATURE3  LABEL  \n",
              "329   -0.067309      0  \n",
              "331   -0.067309      0  \n",
              "338   -0.067309      0  \n",
              "339   -0.067309      0  \n",
              "340   -0.067309      0  \n",
              "341   -0.067309      0  \n",
              "61450 -0.067309      0  \n",
              "61451 -0.067309      0  \n",
              "61511 -0.067309      0  \n",
              "61512 -0.067309      1  "
            ],
            "text/html": [
              "\n",
              "  <div id=\"df-d518e4fc-4027-470e-aed1-10004abdb1ac\" class=\"colab-df-container\">\n",
              "    <div>\n",
              "<style scoped>\n",
              "    .dataframe tbody tr th:only-of-type {\n",
              "        vertical-align: middle;\n",
              "    }\n",
              "\n",
              "    .dataframe tbody tr th {\n",
              "        vertical-align: top;\n",
              "    }\n",
              "\n",
              "    .dataframe thead th {\n",
              "        text-align: right;\n",
              "    }\n",
              "</style>\n",
              "<table border=\"1\" class=\"dataframe\">\n",
              "  <thead>\n",
              "    <tr style=\"text-align: right;\">\n",
              "      <th></th>\n",
              "      <th>ACTIONID</th>\n",
              "      <th>USERID</th>\n",
              "      <th>TARGETID</th>\n",
              "      <th>TIMESTAMP</th>\n",
              "      <th>FEATURE0</th>\n",
              "      <th>FEATURE1</th>\n",
              "      <th>FEATURE2</th>\n",
              "      <th>FEATURE3</th>\n",
              "      <th>LABEL</th>\n",
              "    </tr>\n",
              "  </thead>\n",
              "  <tbody>\n",
              "    <tr>\n",
              "      <th>329</th>\n",
              "      <td>329</td>\n",
              "      <td>47</td>\n",
              "      <td>1</td>\n",
              "      <td>63343.0</td>\n",
              "      <td>-0.319991</td>\n",
              "      <td>-0.435701</td>\n",
              "      <td>0.106784</td>\n",
              "      <td>-0.067309</td>\n",
              "      <td>0</td>\n",
              "    </tr>\n",
              "    <tr>\n",
              "      <th>331</th>\n",
              "      <td>331</td>\n",
              "      <td>47</td>\n",
              "      <td>3</td>\n",
              "      <td>63362.0</td>\n",
              "      <td>-0.319991</td>\n",
              "      <td>-0.435701</td>\n",
              "      <td>0.106784</td>\n",
              "      <td>-0.067309</td>\n",
              "      <td>0</td>\n",
              "    </tr>\n",
              "    <tr>\n",
              "      <th>338</th>\n",
              "      <td>338</td>\n",
              "      <td>47</td>\n",
              "      <td>4</td>\n",
              "      <td>63477.0</td>\n",
              "      <td>-0.319991</td>\n",
              "      <td>-0.435701</td>\n",
              "      <td>0.106784</td>\n",
              "      <td>-0.067309</td>\n",
              "      <td>0</td>\n",
              "    </tr>\n",
              "    <tr>\n",
              "      <th>339</th>\n",
              "      <td>339</td>\n",
              "      <td>47</td>\n",
              "      <td>13</td>\n",
              "      <td>63478.0</td>\n",
              "      <td>-0.319991</td>\n",
              "      <td>2.108722</td>\n",
              "      <td>-0.394237</td>\n",
              "      <td>-0.067309</td>\n",
              "      <td>0</td>\n",
              "    </tr>\n",
              "    <tr>\n",
              "      <th>340</th>\n",
              "      <td>340</td>\n",
              "      <td>47</td>\n",
              "      <td>3</td>\n",
              "      <td>63502.0</td>\n",
              "      <td>-0.319991</td>\n",
              "      <td>-0.435701</td>\n",
              "      <td>0.106784</td>\n",
              "      <td>-0.067309</td>\n",
              "      <td>0</td>\n",
              "    </tr>\n",
              "    <tr>\n",
              "      <th>341</th>\n",
              "      <td>341</td>\n",
              "      <td>47</td>\n",
              "      <td>1</td>\n",
              "      <td>63503.0</td>\n",
              "      <td>-0.319991</td>\n",
              "      <td>-0.435701</td>\n",
              "      <td>0.106784</td>\n",
              "      <td>-0.067309</td>\n",
              "      <td>0</td>\n",
              "    </tr>\n",
              "    <tr>\n",
              "      <th>61450</th>\n",
              "      <td>61450</td>\n",
              "      <td>47</td>\n",
              "      <td>10</td>\n",
              "      <td>429304.0</td>\n",
              "      <td>-0.319991</td>\n",
              "      <td>-0.435701</td>\n",
              "      <td>0.106784</td>\n",
              "      <td>-0.067309</td>\n",
              "      <td>0</td>\n",
              "    </tr>\n",
              "    <tr>\n",
              "      <th>61451</th>\n",
              "      <td>61451</td>\n",
              "      <td>47</td>\n",
              "      <td>4</td>\n",
              "      <td>429331.0</td>\n",
              "      <td>-0.319991</td>\n",
              "      <td>-0.435701</td>\n",
              "      <td>0.106784</td>\n",
              "      <td>-0.067309</td>\n",
              "      <td>0</td>\n",
              "    </tr>\n",
              "    <tr>\n",
              "      <th>61511</th>\n",
              "      <td>61512</td>\n",
              "      <td>47</td>\n",
              "      <td>15</td>\n",
              "      <td>429797.0</td>\n",
              "      <td>-0.319991</td>\n",
              "      <td>2.108722</td>\n",
              "      <td>-0.394237</td>\n",
              "      <td>-0.067309</td>\n",
              "      <td>0</td>\n",
              "    </tr>\n",
              "    <tr>\n",
              "      <th>61512</th>\n",
              "      <td>61512</td>\n",
              "      <td>47</td>\n",
              "      <td>15</td>\n",
              "      <td>429797.0</td>\n",
              "      <td>-0.319991</td>\n",
              "      <td>2.108722</td>\n",
              "      <td>-0.394237</td>\n",
              "      <td>-0.067309</td>\n",
              "      <td>1</td>\n",
              "    </tr>\n",
              "  </tbody>\n",
              "</table>\n",
              "</div>\n",
              "    <div class=\"colab-df-buttons\">\n",
              "\n",
              "  <div class=\"colab-df-container\">\n",
              "    <button class=\"colab-df-convert\" onclick=\"convertToInteractive('df-d518e4fc-4027-470e-aed1-10004abdb1ac')\"\n",
              "            title=\"Convert this dataframe to an interactive table.\"\n",
              "            style=\"display:none;\">\n",
              "\n",
              "  <svg xmlns=\"http://www.w3.org/2000/svg\" height=\"24px\" viewBox=\"0 -960 960 960\">\n",
              "    <path d=\"M120-120v-720h720v720H120Zm60-500h600v-160H180v160Zm220 220h160v-160H400v160Zm0 220h160v-160H400v160ZM180-400h160v-160H180v160Zm440 0h160v-160H620v160ZM180-180h160v-160H180v160Zm440 0h160v-160H620v160Z\"/>\n",
              "  </svg>\n",
              "    </button>\n",
              "\n",
              "  <style>\n",
              "    .colab-df-container {\n",
              "      display:flex;\n",
              "      gap: 12px;\n",
              "    }\n",
              "\n",
              "    .colab-df-convert {\n",
              "      background-color: #E8F0FE;\n",
              "      border: none;\n",
              "      border-radius: 50%;\n",
              "      cursor: pointer;\n",
              "      display: none;\n",
              "      fill: #1967D2;\n",
              "      height: 32px;\n",
              "      padding: 0 0 0 0;\n",
              "      width: 32px;\n",
              "    }\n",
              "\n",
              "    .colab-df-convert:hover {\n",
              "      background-color: #E2EBFA;\n",
              "      box-shadow: 0px 1px 2px rgba(60, 64, 67, 0.3), 0px 1px 3px 1px rgba(60, 64, 67, 0.15);\n",
              "      fill: #174EA6;\n",
              "    }\n",
              "\n",
              "    .colab-df-buttons div {\n",
              "      margin-bottom: 4px;\n",
              "    }\n",
              "\n",
              "    [theme=dark] .colab-df-convert {\n",
              "      background-color: #3B4455;\n",
              "      fill: #D2E3FC;\n",
              "    }\n",
              "\n",
              "    [theme=dark] .colab-df-convert:hover {\n",
              "      background-color: #434B5C;\n",
              "      box-shadow: 0px 1px 3px 1px rgba(0, 0, 0, 0.15);\n",
              "      filter: drop-shadow(0px 1px 2px rgba(0, 0, 0, 0.3));\n",
              "      fill: #FFFFFF;\n",
              "    }\n",
              "  </style>\n",
              "\n",
              "    <script>\n",
              "      const buttonEl =\n",
              "        document.querySelector('#df-d518e4fc-4027-470e-aed1-10004abdb1ac button.colab-df-convert');\n",
              "      buttonEl.style.display =\n",
              "        google.colab.kernel.accessAllowed ? 'block' : 'none';\n",
              "\n",
              "      async function convertToInteractive(key) {\n",
              "        const element = document.querySelector('#df-d518e4fc-4027-470e-aed1-10004abdb1ac');\n",
              "        const dataTable =\n",
              "          await google.colab.kernel.invokeFunction('convertToInteractive',\n",
              "                                                    [key], {});\n",
              "        if (!dataTable) return;\n",
              "\n",
              "        const docLinkHtml = 'Like what you see? Visit the ' +\n",
              "          '<a target=\"_blank\" href=https://colab.research.google.com/notebooks/data_table.ipynb>data table notebook</a>'\n",
              "          + ' to learn more about interactive tables.';\n",
              "        element.innerHTML = '';\n",
              "        dataTable['output_type'] = 'display_data';\n",
              "        await google.colab.output.renderOutput(dataTable, element);\n",
              "        const docLink = document.createElement('div');\n",
              "        docLink.innerHTML = docLinkHtml;\n",
              "        element.appendChild(docLink);\n",
              "      }\n",
              "    </script>\n",
              "  </div>\n",
              "\n",
              "\n",
              "<div id=\"df-c5654af1-97f2-4fd9-b9e7-df13b76a6e4e\">\n",
              "  <button class=\"colab-df-quickchart\" onclick=\"quickchart('df-c5654af1-97f2-4fd9-b9e7-df13b76a6e4e')\"\n",
              "            title=\"Suggest charts\"\n",
              "            style=\"display:none;\">\n",
              "\n",
              "<svg xmlns=\"http://www.w3.org/2000/svg\" height=\"24px\"viewBox=\"0 0 24 24\"\n",
              "     width=\"24px\">\n",
              "    <g>\n",
              "        <path d=\"M19 3H5c-1.1 0-2 .9-2 2v14c0 1.1.9 2 2 2h14c1.1 0 2-.9 2-2V5c0-1.1-.9-2-2-2zM9 17H7v-7h2v7zm4 0h-2V7h2v10zm4 0h-2v-4h2v4z\"/>\n",
              "    </g>\n",
              "</svg>\n",
              "  </button>\n",
              "\n",
              "<style>\n",
              "  .colab-df-quickchart {\n",
              "      --bg-color: #E8F0FE;\n",
              "      --fill-color: #1967D2;\n",
              "      --hover-bg-color: #E2EBFA;\n",
              "      --hover-fill-color: #174EA6;\n",
              "      --disabled-fill-color: #AAA;\n",
              "      --disabled-bg-color: #DDD;\n",
              "  }\n",
              "\n",
              "  [theme=dark] .colab-df-quickchart {\n",
              "      --bg-color: #3B4455;\n",
              "      --fill-color: #D2E3FC;\n",
              "      --hover-bg-color: #434B5C;\n",
              "      --hover-fill-color: #FFFFFF;\n",
              "      --disabled-bg-color: #3B4455;\n",
              "      --disabled-fill-color: #666;\n",
              "  }\n",
              "\n",
              "  .colab-df-quickchart {\n",
              "    background-color: var(--bg-color);\n",
              "    border: none;\n",
              "    border-radius: 50%;\n",
              "    cursor: pointer;\n",
              "    display: none;\n",
              "    fill: var(--fill-color);\n",
              "    height: 32px;\n",
              "    padding: 0;\n",
              "    width: 32px;\n",
              "  }\n",
              "\n",
              "  .colab-df-quickchart:hover {\n",
              "    background-color: var(--hover-bg-color);\n",
              "    box-shadow: 0 1px 2px rgba(60, 64, 67, 0.3), 0 1px 3px 1px rgba(60, 64, 67, 0.15);\n",
              "    fill: var(--button-hover-fill-color);\n",
              "  }\n",
              "\n",
              "  .colab-df-quickchart-complete:disabled,\n",
              "  .colab-df-quickchart-complete:disabled:hover {\n",
              "    background-color: var(--disabled-bg-color);\n",
              "    fill: var(--disabled-fill-color);\n",
              "    box-shadow: none;\n",
              "  }\n",
              "\n",
              "  .colab-df-spinner {\n",
              "    border: 2px solid var(--fill-color);\n",
              "    border-color: transparent;\n",
              "    border-bottom-color: var(--fill-color);\n",
              "    animation:\n",
              "      spin 1s steps(1) infinite;\n",
              "  }\n",
              "\n",
              "  @keyframes spin {\n",
              "    0% {\n",
              "      border-color: transparent;\n",
              "      border-bottom-color: var(--fill-color);\n",
              "      border-left-color: var(--fill-color);\n",
              "    }\n",
              "    20% {\n",
              "      border-color: transparent;\n",
              "      border-left-color: var(--fill-color);\n",
              "      border-top-color: var(--fill-color);\n",
              "    }\n",
              "    30% {\n",
              "      border-color: transparent;\n",
              "      border-left-color: var(--fill-color);\n",
              "      border-top-color: var(--fill-color);\n",
              "      border-right-color: var(--fill-color);\n",
              "    }\n",
              "    40% {\n",
              "      border-color: transparent;\n",
              "      border-right-color: var(--fill-color);\n",
              "      border-top-color: var(--fill-color);\n",
              "    }\n",
              "    60% {\n",
              "      border-color: transparent;\n",
              "      border-right-color: var(--fill-color);\n",
              "    }\n",
              "    80% {\n",
              "      border-color: transparent;\n",
              "      border-right-color: var(--fill-color);\n",
              "      border-bottom-color: var(--fill-color);\n",
              "    }\n",
              "    90% {\n",
              "      border-color: transparent;\n",
              "      border-bottom-color: var(--fill-color);\n",
              "    }\n",
              "  }\n",
              "</style>\n",
              "\n",
              "  <script>\n",
              "    async function quickchart(key) {\n",
              "      const quickchartButtonEl =\n",
              "        document.querySelector('#' + key + ' button');\n",
              "      quickchartButtonEl.disabled = true;  // To prevent multiple clicks.\n",
              "      quickchartButtonEl.classList.add('colab-df-spinner');\n",
              "      try {\n",
              "        const charts = await google.colab.kernel.invokeFunction(\n",
              "            'suggestCharts', [key], {});\n",
              "      } catch (error) {\n",
              "        console.error('Error during call to suggestCharts:', error);\n",
              "      }\n",
              "      quickchartButtonEl.classList.remove('colab-df-spinner');\n",
              "      quickchartButtonEl.classList.add('colab-df-quickchart-complete');\n",
              "    }\n",
              "    (() => {\n",
              "      let quickchartButtonEl =\n",
              "        document.querySelector('#df-c5654af1-97f2-4fd9-b9e7-df13b76a6e4e button');\n",
              "      quickchartButtonEl.style.display =\n",
              "        google.colab.kernel.accessAllowed ? 'block' : 'none';\n",
              "    })();\n",
              "  </script>\n",
              "</div>\n",
              "    </div>\n",
              "  </div>\n"
            ]
          },
          "metadata": {},
          "execution_count": 23
        }
      ]
    },
    {
      "cell_type": "markdown",
      "source": [
        "Практически всегда это так, за исключением тех случаев, когда одинаковый timestamp в конце, это как раз те одинаковые строки, что мы встретили ранее"
      ],
      "metadata": {
        "id": "xPf2lmr19Zc1"
      }
    },
    {
      "cell_type": "markdown",
      "source": [
        "#### Выводы\n",
        "\n",
        "* в датасете ~400К действий, 7К пользователей и окола 100 видов активности\n",
        "* TIMESTAMP начинается с нуля и доходит до 2М\n",
        "* FEATUREX - формально непрерывные столбцы, но дискретизованы с определённым шагом\n",
        "* есть небольшое количество неоднозначных записей с одинаковыми атрибутами, но разными LABEL"
      ],
      "metadata": {
        "id": "uo6rMKz19oWd"
      }
    },
    {
      "cell_type": "markdown",
      "source": [
        "## Особенности табличных GAN\n",
        "\n",
        "Одной из первых была [TableGAN](https://arxiv.org/pdf/1806.03384.pdf) в 2018 году, где применили к таблицам DCGAN (свёрточная сеть 😲). Для этого строки таблицы заполнялись нулями до нужного размера и преобразовывались в квадратную матрицу, а дискретные колонки рассматривались как непрерывные. Ещё одно отличие - добавление дополнительной сети бинарного классификатора для сгенерированных строчек. Для этого бралась какое-то готовое поле с меткой класса, если оно уже содержится в данных, либо такое поле добавлялось искусственно (например, \"Зарплата больше медианной\"). Это в итоге позволяет помочь модели с тем, чтобы не генерировать несовместимые наборы атрибутов.\n",
        "\n",
        "<figure>\n",
        "<img src=\"https://raw.githubusercontent.com/sswt/dive2gai/main/.github/images/w9/TableGAN.png\" alt=\"TableGAN\" width=\"100%\">\n",
        "<figcaption align = \"center\"> Image credit: TableGAN paper</figcaption>\n",
        "</figure>\n",
        "\n",
        "В 2019 появилась [Conditional Tabular GAN (CTGAN)](https://arxiv.org/pdf/1907.00503.pdf), где авторы постарались уже лучше учесть особенности табличных данных. Дальнейшая часть изложения в этом разделе построена на данной статье.\n",
        "\n",
        "Сложности с табличными GAN:\n",
        "\n",
        "* необходимости одновременно моделировать непрерывные и дискретные (в т.ч. категориальные) колонки\n",
        "* мультимодальные распределения в непрерывных колонках\n",
        "* дисбаланс значений в категориальных колонках\n",
        "\n",
        "В CTGAN ввели несколько новых техник:\n",
        "\n",
        "* нормализация вещественных признаков по модам\n",
        "* условная генерация для борьбы с дисбалансом в категориальных признаках\n",
        "* сэмплирование при обучении для категориальных признаков"
      ],
      "metadata": {
        "id": "kzAhU_ohvpPV"
      }
    },
    {
      "cell_type": "markdown",
      "source": [
        "### Постановка задачи\n",
        "\n",
        "Пусть таблица $T$ содержит $N_c$ непрерывных $\\{C_1, . . . , C_{N_c}\\}$ и $N_d$ дискретных $\\{D_1, . . . , D_{N_d}\\}$ столбцов, где каждый столбец рассматривается как случайная величина. Эти СВ распределены в соответствии с некоторым неизвестным совместным распределением $P(C_{1:N_c} , D_{1:N_d})$. Мы хотим сгенерировать таблицу $T_{syn}$, строчки которой будут соответствовать тому же распределению.\n",
        "\n",
        "Строчка таблицы представляет собой одно наблюдение из совместного распределения:\n",
        "$$r_j = \\{c_{1,j}, ..., c_{N_c,j}, d_{1,j}, ..., d_{N_d,j}\\}, j ∈ \\{1, ... , n\\} \\tag 1$$"
      ],
      "metadata": {
        "id": "CbvdGOlIvWcZ"
      }
    },
    {
      "cell_type": "markdown",
      "source": [
        "### Нормализация по модам\n",
        "\n",
        "В картинках пиксели распределены похожим на нормальное распределение, что можно нормализовать в интервал $[-1,1]$ с помощью min-max трансформации. При этом в последнем слое обычно используется tanh, чтобы выдавать значения в этом диапазоне.\n",
        "\n",
        "В то время как в таблицах непрерывные колонки обычно не гауссовские и использование min-max приводит к проблеме исчезающих градиентов.\n",
        "\n",
        "Кроме того в реальных табличных датасетах часто встречаются мультимодальные распределения, а у ванильных GAN с этим проблемы.\n",
        "\n",
        "Для мультимодальных распределений используется специальный тип нормализации (mode-specific), который состоит из трёх шагов:\n",
        "\n",
        "1. Используется вариационная модель смеси гауссовских распределений (VGM) для определения числа мод $m_i$ и подбора параметров гауссовской смеси. Максимальное число компонент смеси задаётся равным 10.\n",
        "  Например, на рисунке ниже VGM определил три моды - $\\eta_1, \\eta_2, \\eta_3$. Подобранная гауссовская смесь\n",
        "  $$P_{C_i}(c_{i,j}) = \\sum_{k=1}^{3} \\mu_k \\mathcal N(c_{i,j}; \\eta_k, \\phi_k),$$где $\\phi_k$ - стандартное отклонение моды, $\\mu_k$ - коэффициент компоненты в смеси с ограничением $\\sum_{k=1}^{K} \\mu_k = 1$\n",
        "2.  Для каждого уникального значения в колонке считается вероятность, что значение получено из конкретной моды. Например, на рисунке ниже вероятности $\\rho_1, \\rho_2, \\rho_3$, которые вычисляются как $\\rho_k = \\mu_k \\mathcal N(c_{i,j}; \\eta_k, \\phi_k)$\n",
        "3. Сэмплируем одну моду из полученного распределения и нормализуем значение с использованием этой моды. Например, на рисунке ниже мы сэмплировали третью моду. Тогда мы представляем $c_{i,j}$ как one-hot вектор $\\beta_{i,j}=[0,0,1]$ и скаляр $\\alpha_{i,j}=\\frac{c_{i,j} - \\eta_3}{4 \\phi_3}$ в качестве значения внутри моды.\n",
        "\n",
        "<figure>\n",
        "<img src=\"https://raw.githubusercontent.com/sswt/dive2gai/main/.github/images/w9/CTGAN_figure1.png\" alt=\"CTGAN_figure1\" width=\"80%\">\n",
        "<figcaption align = \"center\"> Image credit: CTGAN paper</figcaption>\n",
        "</figure>\n",
        "\n",
        "То есть для каждой числовой колонки номер моды кодируется one-hot вектором $β_{i, j}$ (от 1 до 10), а распределение числового признака становится ближе к нормальному. Ниже будет пример на нашем датасете.\n",
        "\n",
        "Категориальные (дискретные) колонки $d_{i,j}$ также кодируются one-hot вектором.\n",
        "\n",
        "Таким образом, строка  теперь представляется как конкатенация значений для непрерывных и дискретных колонок:\n",
        "$$r_j = \\alpha_{1,j} \\oplus \\beta_{1,j} \\oplus \\ldots \\oplus \\alpha_{N_c,j} \\oplus \\beta_{N_c,j} \\oplus d_{1,j} \\oplus \\ldots \\oplus d_{N_d,j}, \\tag 2$$\n",
        "где $\\oplus$ - конкатенация векторов."
      ],
      "metadata": {
        "id": "JMvH_mndUQba"
      }
    },
    {
      "cell_type": "markdown",
      "source": [
        "#### Пример нормализации\n",
        "\n",
        "На нашем датасете, с использованием библиотеки [rdt (Reversible Data Transormations)](https://docs.sdv.dev/rdt/transformers-glossary/numerical/clusterbasednormalizer) от Datacebo (бывшая SDV)"
      ],
      "metadata": {
        "id": "vzdvFUFWX63b"
      }
    },
    {
      "cell_type": "code",
      "source": [
        "from rdt.transformers.numerical import ClusterBasedNormalizer\n",
        "transformer = ClusterBasedNormalizer()"
      ],
      "metadata": {
        "id": "1gsYZigUNorq"
      },
      "execution_count": 24,
      "outputs": []
    },
    {
      "cell_type": "code",
      "source": [
        "df_smp = df.sample(frac=.2)"
      ],
      "metadata": {
        "id": "I4OLfjNdYqdr"
      },
      "execution_count": 25,
      "outputs": []
    },
    {
      "cell_type": "code",
      "source": [
        "col = 'FEATURE3'\n",
        "df_ft = transformer.fit_transform(df_smp, col)"
      ],
      "metadata": {
        "id": "ZxGu2om6Npop"
      },
      "execution_count": 26,
      "outputs": []
    },
    {
      "cell_type": "code",
      "source": [
        "df_ft[f'{col}.component'].value_counts().sort_index()"
      ],
      "metadata": {
        "colab": {
          "base_uri": "https://localhost:8080/"
        },
        "id": "1KmgmZ5bYK8T",
        "outputId": "caa1fe8e-8490-48c9-b758-8f62e40df0a4"
      },
      "execution_count": 27,
      "outputs": [
        {
          "output_type": "execute_result",
          "data": {
            "text/plain": [
              "0.0    74044\n",
              "1.0     1256\n",
              "2.0     1760\n",
              "3.0     1667\n",
              "4.0      615\n",
              "Name: FEATURE3.component, dtype: int64"
            ]
          },
          "metadata": {},
          "execution_count": 27
        }
      ]
    },
    {
      "cell_type": "code",
      "source": [
        "fig, (ax0, ax1) = plt.subplots(1, 2, figsize=(10, 2))\n",
        "df_smp[[col]].clip(upper=1).hist(col, ax=ax0)\n",
        "df_ft.hist(f'{col}.normalized', ax=ax1);"
      ],
      "metadata": {
        "colab": {
          "base_uri": "https://localhost:8080/",
          "height": 237
        },
        "id": "CIFCGUv-YhGb",
        "outputId": "efac291f-4fcd-4f51-a988-646af18bea61"
      },
      "execution_count": 28,
      "outputs": [
        {
          "output_type": "display_data",
          "data": {
            "text/plain": [
              "<Figure size 1000x200 with 2 Axes>"
            ],
            "image/png": "[encoded data removed]"
          },
          "metadata": {}
        }
      ]
    },
    {
      "cell_type": "code",
      "source": [
        "col = 'TIMESTAMP'\n",
        "df_ft = transformer.fit_transform(df_smp, col)"
      ],
      "metadata": {
        "id": "59XTPa-yNz75"
      },
      "execution_count": 29,
      "outputs": []
    },
    {
      "cell_type": "code",
      "source": [
        "df_ft[f'{col}.component'].value_counts().sort_index()"
      ],
      "metadata": {
        "colab": {
          "base_uri": "https://localhost:8080/"
        },
        "id": "S09ug7kdN4Sq",
        "outputId": "1a32d923-e681-4eda-b39d-1ee7b5885b7b"
      },
      "execution_count": 30,
      "outputs": [
        {
          "output_type": "execute_result",
          "data": {
            "text/plain": [
              "0.0     4872\n",
              "1.0    10373\n",
              "2.0     5959\n",
              "3.0     9700\n",
              "4.0     7371\n",
              "5.0     5612\n",
              "6.0     8548\n",
              "7.0    11932\n",
              "8.0     8614\n",
              "9.0     6361\n",
              "Name: TIMESTAMP.component, dtype: int64"
            ]
          },
          "metadata": {},
          "execution_count": 30
        }
      ]
    },
    {
      "cell_type": "code",
      "source": [
        "fig, (ax0, ax1) = plt.subplots(1, 2, figsize=(10, 2))\n",
        "df_smp.hist(col, ax=ax0)\n",
        "df_ft.hist(f'{col}.normalized', ax=ax1)"
      ],
      "metadata": {
        "colab": {
          "base_uri": "https://localhost:8080/",
          "height": 272
        },
        "id": "J53Ntfc1NrsT",
        "outputId": "f80e7ac3-e71c-4af1-b677-2cf1420c6d22"
      },
      "execution_count": 31,
      "outputs": [
        {
          "output_type": "execute_result",
          "data": {
            "text/plain": [
              "array([<Axes: title={'center': 'TIMESTAMP.normalized'}>], dtype=object)"
            ]
          },
          "metadata": {},
          "execution_count": 31
        },
        {
          "output_type": "display_data",
          "data": {
            "text/plain": [
              "<Figure size 1000x200 with 2 Axes>"
            ],
            "image/png": "[encoded data removed]"
          },
          "metadata": {}
        }
      ]
    },
    {
      "cell_type": "markdown",
      "source": [
        "### Условная генерация\n",
        "\n",
        "Также есть проблема с редкими значениями категорий при обучении. В обычном машинном при дисбалансе классов обучении иногда применяют resampling, когда редкую категорию сэмплируют чаще, но здесь это не поможет, так как при этом мы сместим распределение данных. В случае табличных данных ситуация обостряется, так как есть ещё совместное распределение нескольких категориальных колонок.\n",
        "Эффективный в данном случае resampling - добиться того, чтобы все категории из дискретных колонок сэмплировались равновероятно (но необязательно равномерно) в ходе обучения и восстановить реальное распределение в ходе генерации.\n",
        "\n",
        "Пусть $k^*$ - значение из $i^*$-й дискретной колонки $D_{i^*}$, которое должно воспроизводиться с сгенерированных строках $\\hat r$, тогда генератор можно интерпретировать как условное распределение строк при данном значении данной колонки, то есть $\\hat r \\sim P_G(row | D_{i^*} = k^*)$. Исходя из этих соображений, в этой работе он называется условным генератором.\n",
        "\n",
        "Условный генератор должен научиться реальному условному распределению данных, то есть $P_G (r | D_{i^*} = k^*) = P(r | D_{i^*} = k^*)$ для того чтобы мы могли восстановить исходное распределение как\n",
        "\n",
        "$$P(r) = \\sum_{k \\in D_{i^*}} P_G (r | D_{i^*} = k^*)) P(D_{i^*} = k).$$\n",
        "\n",
        "В CTGAN предложили решение, которое состоит из трех ключевых элементов:\n",
        "* условного вектора\n",
        "* функции потерь генератора\n",
        "* обучения сэмплированием"
      ],
      "metadata": {
        "id": "h_KeGqnOkR5_"
      }
    },
    {
      "cell_type": "markdown",
      "source": [
        "#### Условный вектор\n",
        "\n",
        "У нас каждому категориальному столбцу $d_i$ соответствует one-hot вектор и дополнительно вводим маску $m_i$ такой же длины\n",
        "\n",
        "$$\n",
        "  m_i^{(k)}=\\begin{cases}\n",
        "    1, & \\text{if $i=i^*$ and $k=k^*$}.\\\\\n",
        "    0, & \\text{otherwise}.\n",
        "  \\end{cases}\n",
        "$$\n",
        "\n",
        "Условный вектор получается путём конкатенации всех масок  $cond = m_1 \\oplus \\ldots \\oplus m_{N_d}$, где 1 равно **только одно значение**. Ниже на картинке показан пример."
      ],
      "metadata": {
        "id": "tShf7iP6kSfT"
      }
    },
    {
      "cell_type": "markdown",
      "source": [
        "#### Функция потерь генератора\n",
        "\n",
        "В ходе обучения условный генератор никак не ограничивается и он может генерировать как лишние единички, так и 0 на нужной позиции. Для того, чтобы генерировались значения в соответствии с маской, добавляется дополнительный лосс кросс-энтропии между $m_{i^*}$ и $\\hat d_{i^*}$ с усреднением по батчу. Таким образом, в ходе обучения, генератор выучивается делать точную копию маски в $\\hat d_{i^*}$.\n"
      ],
      "metadata": {
        "id": "h30iKa77nXFl"
      }
    },
    {
      "cell_type": "markdown",
      "source": [
        "#### Обучение с сэмплированием\n",
        "\n",
        "Выход условного генератора подаётся на вход критика, который оценивает расстояние между выученным условным распределением $P_G(r|cond)$ и условным распределением на реальных данных  $P(r|cond)$. Нужен правильный механизм сэмплирования условных векторов при обучении, для того, чтобы модели равновероятно встречались все возможные значения в дискретных колонках.\n",
        "\n",
        "1. Случайно выбираем колонку с одинаковой вероятностью.\n",
        "3. Определяем распределение вероятностей по всем значениям в колонке как $log$ частоты встречаемости и сэмплируем конкретное значение в соответствии с этим распределением.\n",
        "5. Маски для всех колонок, инициализируем нулями и проставляем один компонент, соответствующий сэмплированному значению выбранной колонки, равным 1"
      ],
      "metadata": {
        "id": "7sBeLWnOnmZv"
      }
    },
    {
      "cell_type": "markdown",
      "source": [
        "<figure>\n",
        "<img src=\"https://raw.githubusercontent.com/sswt/dive2gai/main/.github/images/w9/CTGAN_figure2.png\" alt=\"CTGAN_figure2\" width=\"80%\">\n",
        "<figcaption align = \"center\"> Image credit: CTGAN paper</figcaption>\n",
        "</figure>\n"
      ],
      "metadata": {
        "id": "G9ZWCxkpMEKX"
      }
    },
    {
      "cell_type": "markdown",
      "source": [
        "### Архитектура сетей\n",
        "\n",
        "#### CTGAN\n",
        "\n",
        "##### Generator\n",
        "\n",
        "В генераторе два полносвязных скрытых слоя с ReLU. После них генерируется уже строка - скалярные значения $α_i$ генерируются с помощью $tanh$-активации, а индикаторы моды $β_i$ и дискретные колонки $d_i$ с помощью Gumbel softmax.\n",
        "\n",
        "<figure>\n",
        "<img src=\"https://raw.githubusercontent.com/sswt/dive2gai/main/.github/images/w9/CTGAN_CTGAN_generator.png\" alt=\"CTGAN generator arch\" width=\"60%\">\n",
        "<figcaption align = \"center\"> Image credit: CTGAN paper</figcaption>\n",
        "</figure>\n",
        "\n",
        "##### Discriminator (Critic)\n",
        "\n",
        "В дискриминаторе тоже два полносвязных скрытых слоя, но с Leaky ReLU. Для того, чтобы избежать коллапса (mode collapse) используется фреймворк PacGAN с 10 образцами в каждом \"пакете\" $C(r_1, . . . , r_{10}, cond_1, . . . , cond_{10})$. Идея PacGAN состоит в том, чтобы \"упаковать\" или сконкатенировать горизонтально $m$ векторов перед подачей в дискриминатор. Эти $m$ векторов сэмплируются независимо из того же распределения, либо реального с одинаковой меткой $y=1$ либо сгенерированного с меткой $y=0$. Так мы получаем произведение из $m$ распределений, что на практике позволяет избежать коллапса.\n",
        "\n",
        "<figure>\n",
        "<img src=\"https://raw.githubusercontent.com/sswt/dive2gai/main/.github/images/w9/CTGAN_CTGAN_critic.png\" alt=\"CTGAN critic\" width=\"50%\">\n",
        "<figcaption align = \"center\"> Image credit: CTGAN paper</figcaption>\n",
        "</figure>\n",
        "\n",
        "В качестве лосса используется WGAN + GP (поэтому критик).\n",
        "\n",
        "P.S. В итоговых тестах WGAN + GP работал даже и без PacGAN.\n",
        "\n",
        "#### TVAE\n",
        "\n",
        "Для адаптации VAE к табличным данным использовали тот же препроцессинг, но модифицировали функцию потерь - назвали эту модель Tabular VAE.\n",
        "\n",
        "TVAE состоит из двух нейросетей - декодера $p_θ (r_j |z_j)$ и энкодера $q_φ(z_j |r_j)$, которые обучаются с помощью ELBO-лосса.\n",
        "\n",
        "##### Декодер\n",
        "\n",
        "Сеть $p_θ (r_j |z_j)$ выдаёт совместное распределение $2N_c + N_d$ переменных, соответствующих $2N_c + N_d$ переменных $r_j$. Предполагается, что $α_{i,j}$ распределены нормально с различными средними и дисперсиями. Все $β_{i,j}$ и $d_{i,j}$ соответствуют категориальной функции распределения.\n",
        "\n",
        "<figure>\n",
        "<img src=\"https://raw.githubusercontent.com/sswt/dive2gai/main/.github/images/w9/CTGAN_TVAE_generator.png\" alt=\"TVAE arch\" width=\"90%\">\n",
        "<figcaption align = \"center\"> Image credit: CTGAN paper</figcaption>\n",
        "</figure>\n",
        "\n",
        "Здесь $\\hat α_{i,j}$, $\\hat β_{i,j}$, $\\hat d_{i,j}$ - случайные величины. И $p_θ(r_j |z_j)$ их совместное распределение.\n",
        "\n",
        "В $p_θ (r_j |z_j )$ матрицы весов и $δ_i$ - обучаемые параметры сети.\n",
        "\n",
        "##### Энкодер\n",
        "\n",
        "Моделирование $q_φ(z_j |r_j )$ похоже на обычный VAE.\n",
        "\n",
        "<figure>\n",
        "<img src=\"https://raw.githubusercontent.com/sswt/dive2gai/main/.github/images/w9/CTGAN_TVAE_critic.png\" alt=\"TVAE arch\" width=\"30%\">\n",
        "<figcaption align = \"center\"> Image credit: CTGAN paper</figcaption>\n",
        "</figure>\n",
        "\n",
        "В статье TVAE на нескольких датасетах превосходил CTGAN, однако по мнению авторов CTGAN как GAN не имел доступа к реальным данным, поэтому он предпочтительнее с точки зрения Differential Privacy."
      ],
      "metadata": {
        "id": "5OrpOIiRnerZ"
      }
    },
    {
      "cell_type": "markdown",
      "source": [
        "### Оценка качества\n",
        "\n",
        "#### Простые метрики\n",
        "\n",
        "* Покрытие значений реальных данных сгенерированными, соответствие диапазонов значений\n",
        "* Схожесть распределений отдельных столбцов\n",
        "    * Соответствие статистик - среднее, дисперсия\n",
        "    * Jensen-Shannon divergence (JSD) - расстояние между распределениями реальных и сгенерированных категориальных атрибутов, от 0 до 1 и симметрично\n",
        "    * Wasserstein distance (WD) - расстояние между распределениями вещественных атрибутов, также называется Earth-Mover distance - какой объём надо перенеси отсюда-сюда, чтобы распределения стали идентичными, также от 0 до 1 для плотностей вероятности\n",
        "* Сохранение взаимосвязей между атрибутами\n",
        "    * Между категориальными, категориальными и непрерывными атрибутами\n",
        "    * Попарная корреляция непрерывных значений\n",
        "\n",
        "#### С помощью ML\n",
        "\n",
        "##### Detection\n",
        "\n",
        "Обучаем модели, смогут ли они отличить реальные данные от сгенерированных. Чем сложнее отличить, тем лучше.\n",
        "\n",
        "##### ML efficacy\n",
        "\n",
        "В самом начале исходная таблица $T$ случайным образом разбивается на $T_{train}$ и $T_{test}$.\n",
        "\n",
        "Используется подход Train-on-Synthetic-Test-on-Real (TSTR):\n",
        "\n",
        "* обучаем генеративную модель на $T_{train}$\n",
        "* генерируем синтетические данные $T_{syn}$\n",
        "* обучаем отдельную модель классификатора (или регрессора) на $T_{syn}$ предсказывать какой-нибудь атрибут таблицы\n",
        "* проверяем точность этой модели на отложенной выборке $T_{test}$\n",
        "\n",
        "Для опорных цифр по качеству сравнивают также с вариантом обучения на реальных данных - Train-on-Real-Test-on-Real (TRTR):\n",
        "* обучаем отдельную модель классификатора (или регрессора) на $T_{train}$ предсказывать какой-нибудь атрибут таблицы\n",
        "* проверяем точность этой модели на отложенной выборке $T_{test}$\n",
        "\n",
        "Есть ещё метрики для оценки степени сохранения приватности данных, здесь они не рассматриваются."
      ],
      "metadata": {
        "id": "pVqoJIslztuS"
      }
    },
    {
      "cell_type": "markdown",
      "source": [
        "## Обучение моделей\n",
        "\n",
        "Некоторые реализации CTGAN:\n",
        "\n",
        "* [От авторов статьи](https://github.com/sdv-dev/CTGAN) - раньше была организация SDV, теперь DataCebo. У этих ребят очень много внимания уделяется оценке качества результатов.\n",
        "* [Улучшенная от gretel](https://docs.gretel.ai/reference/synthetics/models/gretel-actgan) - ещё одна коммерческая реализация, там улучшили скорость, потребление памяти и условную генерацию. Для категориальных столбцов с более чем 150 уникальными значениями реализован BinaryEncodingTransformer.\n",
        "* [В составе пакета SynthCity](https://synthcity.readthedocs.io/en/latest/generated/synthcity.plugins.generic.plugin_ctgan.html) - от исследовательской лаборатории M. Van der Schaar\n",
        "\n",
        "<!--\n",
        "* [SDV TVAE](https://sdv.dev/SDV/user_guides/single_table/tvae.html)\n",
        "* [SynthCity TVAE](https://github.com/vanderschaarlab/synthcity/blob/main/src/synthcity/plugins/core/models/tabular_vae.py)\n",
        "-->"
      ],
      "metadata": {
        "id": "PSWUXrXovLqo"
      }
    },
    {
      "cell_type": "code",
      "source": [
        "import os\n",
        "from google.colab import userdata\n",
        "from pathlib import Path\n",
        "from huggingface_hub import HfApi, hf_hub_download\n",
        "from sklearn.model_selection import GroupShuffleSplit"
      ],
      "metadata": {
        "id": "Mk9U335284PF"
      },
      "execution_count": 32,
      "outputs": []
    },
    {
      "cell_type": "code",
      "source": [
        "gss = GroupShuffleSplit(n_splits=1, train_size=.7, random_state=42)\n",
        "train_ix, test_ix = next(gss.split(df, groups=df['USERID']))\n",
        "df_train = df.iloc[train_ix].copy()\n",
        "df_test = df.iloc[test_ix].copy()\n",
        "df_train.shape, df_test.shape"
      ],
      "metadata": {
        "colab": {
          "base_uri": "https://localhost:8080/"
        },
        "id": "hV4CmSnJ_mk-",
        "outputId": "22df29ff-e164-46b0-ef67-5ea5601d5651"
      },
      "execution_count": 33,
      "outputs": [
        {
          "output_type": "execute_result",
          "data": {
            "text/plain": [
              "((271341, 9), (125371, 9))"
            ]
          },
          "metadata": {},
          "execution_count": 33
        }
      ]
    },
    {
      "cell_type": "code",
      "source": [
        "# NOTE: You should to change repo to your own and set HF_TOKEN secret in Colab to re-train models\n",
        "retrain_models = False\n",
        "hf_repo = 'sswt/learn-tabular-gans'"
      ],
      "metadata": {
        "id": "145w_98rAJis"
      },
      "execution_count": 34,
      "outputs": []
    },
    {
      "cell_type": "code",
      "source": [
        "model_directory = Path('models/')\n",
        "model_directory.mkdir(exist_ok=True)"
      ],
      "metadata": {
        "id": "v0av40JVExf_"
      },
      "execution_count": 35,
      "outputs": []
    },
    {
      "cell_type": "code",
      "source": [
        "if retrain_models:\n",
        "    print('Retrain models from scratch')\n",
        "    model_tvae = TVAE(cuda=True, verbose=True, epochs=100)\n",
        "    model_tvae.fit(df_train, discrete_columns=['TARGETID', 'LABEL'])\n",
        "    model_ctgan = CTGAN(cuda=True, verbose=True, epochs=100)\n",
        "    model_ctgan.fit(df_train, discrete_columns=['TARGETID', 'LABEL'])\n",
        "    model_ctgan.save(model_directory/'sdv_ctgan_100ep_disrete.pkl')\n",
        "    model_tvae.save(model_directory/'sdv_tvae_100ep_discrete.pkl')\n",
        "    api = HfApi()\n",
        "    os.environ['HF_TOKEN'] = userdata.get('HF_TOKEN')\n",
        "    api.upload_folder(folder_path=model_directory, repo_id=hf_repo, repo_type=\"model\")\n",
        "else:\n",
        "    print('Get trained models from HF')\n",
        "    hf_hub_download(hf_repo, 'sdv_ctgan_100ep_disrete.pkl', local_dir=model_directory)\n",
        "    hf_hub_download(hf_repo, 'sdv_tvae_100ep_discrete.pkl', local_dir=model_directory)\n",
        "    model_ctgan = CTGAN.load(model_directory/'sdv_ctgan_100ep_disrete.pkl')\n",
        "    model_tvae = TVAE.load(model_directory/'sdv_tvae_100ep_discrete.pkl')"
      ],
      "metadata": {
        "colab": {
          "base_uri": "https://localhost:8080/"
        },
        "id": "p6kQg6nbkNX6",
        "outputId": "715aadba-0768-43a9-ad54-05ca7f8dfe89"
      },
      "execution_count": 58,
      "outputs": [
        {
          "output_type": "stream",
          "name": "stdout",
          "text": [
            "Get trained models from HF\n"
          ]
        }
      ]
    },
    {
      "cell_type": "code",
      "source": [
        "df_syn_tvae = model_tvae.sample(df_train.shape[0])\n",
        "df_syn_ctgan = model_ctgan.sample(df_train.shape[0])"
      ],
      "metadata": {
        "id": "7IGlQKH0WpKC"
      },
      "execution_count": 61,
      "outputs": []
    },
    {
      "cell_type": "markdown",
      "source": [
        "## Анализ результатов"
      ],
      "metadata": {
        "id": "z2M4ebiSvppC"
      }
    },
    {
      "cell_type": "markdown",
      "source": [
        "### Распределения\n",
        "\n",
        "Посмотрим на распределения чисто визуально"
      ],
      "metadata": {
        "id": "lwuGmu-PKirJ"
      }
    },
    {
      "cell_type": "code",
      "source": [
        "df_train['FEATURE0'].clip(upper=5).hist(figsize=(12, 4), alpha=.7)\n",
        "df_syn_tvae['FEATURE0'].clip(upper=5).hist(alpha=.7)\n",
        "df_syn_ctgan['FEATURE0'].clip(upper=5).hist(alpha=.7)"
      ],
      "metadata": {
        "colab": {
          "base_uri": "https://localhost:8080/",
          "height": 389
        },
        "id": "1gbtBjWXr2-J",
        "outputId": "c72f6ee5-95aa-44e0-9803-7834a9ce91c6"
      },
      "execution_count": 62,
      "outputs": [
        {
          "output_type": "execute_result",
          "data": {
            "text/plain": [
              "<Axes: >"
            ]
          },
          "metadata": {},
          "execution_count": 62
        },
        {
          "output_type": "display_data",
          "data": {
            "text/plain": [
              "<Figure size 1200x400 with 1 Axes>"
            ],
            "image/png": "[encoded data removed]"
          },
          "metadata": {}
        }
      ]
    },
    {
      "cell_type": "code",
      "source": [
        "df_train['TIMESTAMP'].hist(figsize=(12, 4), alpha=.7, bins=30)\n",
        "df_syn_tvae['TIMESTAMP'].hist(alpha=.7, bins=30)\n",
        "df_syn_ctgan['TIMESTAMP'].hist(alpha=.7, bins=30)\n",
        "plt.legend(['gt', 'tvae', 'ctgan'])"
      ],
      "metadata": {
        "colab": {
          "base_uri": "https://localhost:8080/",
          "height": 403
        },
        "id": "droTfwNDr8lT",
        "outputId": "12101cd4-7099-49a5-bb13-ae1e210b6de1"
      },
      "execution_count": 63,
      "outputs": [
        {
          "output_type": "execute_result",
          "data": {
            "text/plain": [
              "<matplotlib.legend.Legend at 0x7c8456886920>"
            ]
          },
          "metadata": {},
          "execution_count": 63
        },
        {
          "output_type": "display_data",
          "data": {
            "text/plain": [
              "<Figure size 1200x400 with 1 Axes>"
            ],
            "image/png": "[encoded data removed]"
          },
          "metadata": {}
        }
      ]
    },
    {
      "cell_type": "code",
      "source": [
        "col = 'LABEL'\n",
        "pd.concat([\n",
        "    df_train[col].value_counts().rename('Real'),\n",
        "    df_syn_tvae[col].value_counts().rename('TVAE'),\n",
        "    df_syn_ctgan[col].value_counts().rename('CTGAN')\n",
        "], axis=1)"
      ],
      "metadata": {
        "colab": {
          "base_uri": "https://localhost:8080/",
          "height": 112
        },
        "id": "gf2YtfXTsDXg",
        "outputId": "842deefc-40a9-44ef-f074-3de3102eebb4"
      },
      "execution_count": 64,
      "outputs": [
        {
          "output_type": "execute_result",
          "data": {
            "text/plain": [
              "     Real      TVAE   CTGAN\n",
              "0  268474  271341.0  196537\n",
              "1    2867       NaN   74804"
            ],
            "text/html": [
              "\n",
              "  <div id=\"df-996f035d-465f-4b84-a7ab-57f8705a9e8c\" class=\"colab-df-container\">\n",
              "    <div>\n",
              "<style scoped>\n",
              "    .dataframe tbody tr th:only-of-type {\n",
              "        vertical-align: middle;\n",
              "    }\n",
              "\n",
              "    .dataframe tbody tr th {\n",
              "        vertical-align: top;\n",
              "    }\n",
              "\n",
              "    .dataframe thead th {\n",
              "        text-align: right;\n",
              "    }\n",
              "</style>\n",
              "<table border=\"1\" class=\"dataframe\">\n",
              "  <thead>\n",
              "    <tr style=\"text-align: right;\">\n",
              "      <th></th>\n",
              "      <th>Real</th>\n",
              "      <th>TVAE</th>\n",
              "      <th>CTGAN</th>\n",
              "    </tr>\n",
              "  </thead>\n",
              "  <tbody>\n",
              "    <tr>\n",
              "      <th>0</th>\n",
              "      <td>268474</td>\n",
              "      <td>271341.0</td>\n",
              "      <td>196537</td>\n",
              "    </tr>\n",
              "    <tr>\n",
              "      <th>1</th>\n",
              "      <td>2867</td>\n",
              "      <td>NaN</td>\n",
              "      <td>74804</td>\n",
              "    </tr>\n",
              "  </tbody>\n",
              "</table>\n",
              "</div>\n",
              "    <div class=\"colab-df-buttons\">\n",
              "\n",
              "  <div class=\"colab-df-container\">\n",
              "    <button class=\"colab-df-convert\" onclick=\"convertToInteractive('df-996f035d-465f-4b84-a7ab-57f8705a9e8c')\"\n",
              "            title=\"Convert this dataframe to an interactive table.\"\n",
              "            style=\"display:none;\">\n",
              "\n",
              "  <svg xmlns=\"http://www.w3.org/2000/svg\" height=\"24px\" viewBox=\"0 -960 960 960\">\n",
              "    <path d=\"M120-120v-720h720v720H120Zm60-500h600v-160H180v160Zm220 220h160v-160H400v160Zm0 220h160v-160H400v160ZM180-400h160v-160H180v160Zm440 0h160v-160H620v160ZM180-180h160v-160H180v160Zm440 0h160v-160H620v160Z\"/>\n",
              "  </svg>\n",
              "    </button>\n",
              "\n",
              "  <style>\n",
              "    .colab-df-container {\n",
              "      display:flex;\n",
              "      gap: 12px;\n",
              "    }\n",
              "\n",
              "    .colab-df-convert {\n",
              "      background-color: #E8F0FE;\n",
              "      border: none;\n",
              "      border-radius: 50%;\n",
              "      cursor: pointer;\n",
              "      display: none;\n",
              "      fill: #1967D2;\n",
              "      height: 32px;\n",
              "      padding: 0 0 0 0;\n",
              "      width: 32px;\n",
              "    }\n",
              "\n",
              "    .colab-df-convert:hover {\n",
              "      background-color: #E2EBFA;\n",
              "      box-shadow: 0px 1px 2px rgba(60, 64, 67, 0.3), 0px 1px 3px 1px rgba(60, 64, 67, 0.15);\n",
              "      fill: #174EA6;\n",
              "    }\n",
              "\n",
              "    .colab-df-buttons div {\n",
              "      margin-bottom: 4px;\n",
              "    }\n",
              "\n",
              "    [theme=dark] .colab-df-convert {\n",
              "      background-color: #3B4455;\n",
              "      fill: #D2E3FC;\n",
              "    }\n",
              "\n",
              "    [theme=dark] .colab-df-convert:hover {\n",
              "      background-color: #434B5C;\n",
              "      box-shadow: 0px 1px 3px 1px rgba(0, 0, 0, 0.15);\n",
              "      filter: drop-shadow(0px 1px 2px rgba(0, 0, 0, 0.3));\n",
              "      fill: #FFFFFF;\n",
              "    }\n",
              "  </style>\n",
              "\n",
              "    <script>\n",
              "      const buttonEl =\n",
              "        document.querySelector('#df-996f035d-465f-4b84-a7ab-57f8705a9e8c button.colab-df-convert');\n",
              "      buttonEl.style.display =\n",
              "        google.colab.kernel.accessAllowed ? 'block' : 'none';\n",
              "\n",
              "      async function convertToInteractive(key) {\n",
              "        const element = document.querySelector('#df-996f035d-465f-4b84-a7ab-57f8705a9e8c');\n",
              "        const dataTable =\n",
              "          await google.colab.kernel.invokeFunction('convertToInteractive',\n",
              "                                                    [key], {});\n",
              "        if (!dataTable) return;\n",
              "\n",
              "        const docLinkHtml = 'Like what you see? Visit the ' +\n",
              "          '<a target=\"_blank\" href=https://colab.research.google.com/notebooks/data_table.ipynb>data table notebook</a>'\n",
              "          + ' to learn more about interactive tables.';\n",
              "        element.innerHTML = '';\n",
              "        dataTable['output_type'] = 'display_data';\n",
              "        await google.colab.output.renderOutput(dataTable, element);\n",
              "        const docLink = document.createElement('div');\n",
              "        docLink.innerHTML = docLinkHtml;\n",
              "        element.appendChild(docLink);\n",
              "      }\n",
              "    </script>\n",
              "  </div>\n",
              "\n",
              "\n",
              "<div id=\"df-9488f366-385e-42d0-9154-97674395abd4\">\n",
              "  <button class=\"colab-df-quickchart\" onclick=\"quickchart('df-9488f366-385e-42d0-9154-97674395abd4')\"\n",
              "            title=\"Suggest charts\"\n",
              "            style=\"display:none;\">\n",
              "\n",
              "<svg xmlns=\"http://www.w3.org/2000/svg\" height=\"24px\"viewBox=\"0 0 24 24\"\n",
              "     width=\"24px\">\n",
              "    <g>\n",
              "        <path d=\"M19 3H5c-1.1 0-2 .9-2 2v14c0 1.1.9 2 2 2h14c1.1 0 2-.9 2-2V5c0-1.1-.9-2-2-2zM9 17H7v-7h2v7zm4 0h-2V7h2v10zm4 0h-2v-4h2v4z\"/>\n",
              "    </g>\n",
              "</svg>\n",
              "  </button>\n",
              "\n",
              "<style>\n",
              "  .colab-df-quickchart {\n",
              "      --bg-color: #E8F0FE;\n",
              "      --fill-color: #1967D2;\n",
              "      --hover-bg-color: #E2EBFA;\n",
              "      --hover-fill-color: #174EA6;\n",
              "      --disabled-fill-color: #AAA;\n",
              "      --disabled-bg-color: #DDD;\n",
              "  }\n",
              "\n",
              "  [theme=dark] .colab-df-quickchart {\n",
              "      --bg-color: #3B4455;\n",
              "      --fill-color: #D2E3FC;\n",
              "      --hover-bg-color: #434B5C;\n",
              "      --hover-fill-color: #FFFFFF;\n",
              "      --disabled-bg-color: #3B4455;\n",
              "      --disabled-fill-color: #666;\n",
              "  }\n",
              "\n",
              "  .colab-df-quickchart {\n",
              "    background-color: var(--bg-color);\n",
              "    border: none;\n",
              "    border-radius: 50%;\n",
              "    cursor: pointer;\n",
              "    display: none;\n",
              "    fill: var(--fill-color);\n",
              "    height: 32px;\n",
              "    padding: 0;\n",
              "    width: 32px;\n",
              "  }\n",
              "\n",
              "  .colab-df-quickchart:hover {\n",
              "    background-color: var(--hover-bg-color);\n",
              "    box-shadow: 0 1px 2px rgba(60, 64, 67, 0.3), 0 1px 3px 1px rgba(60, 64, 67, 0.15);\n",
              "    fill: var(--button-hover-fill-color);\n",
              "  }\n",
              "\n",
              "  .colab-df-quickchart-complete:disabled,\n",
              "  .colab-df-quickchart-complete:disabled:hover {\n",
              "    background-color: var(--disabled-bg-color);\n",
              "    fill: var(--disabled-fill-color);\n",
              "    box-shadow: none;\n",
              "  }\n",
              "\n",
              "  .colab-df-spinner {\n",
              "    border: 2px solid var(--fill-color);\n",
              "    border-color: transparent;\n",
              "    border-bottom-color: var(--fill-color);\n",
              "    animation:\n",
              "      spin 1s steps(1) infinite;\n",
              "  }\n",
              "\n",
              "  @keyframes spin {\n",
              "    0% {\n",
              "      border-color: transparent;\n",
              "      border-bottom-color: var(--fill-color);\n",
              "      border-left-color: var(--fill-color);\n",
              "    }\n",
              "    20% {\n",
              "      border-color: transparent;\n",
              "      border-left-color: var(--fill-color);\n",
              "      border-top-color: var(--fill-color);\n",
              "    }\n",
              "    30% {\n",
              "      border-color: transparent;\n",
              "      border-left-color: var(--fill-color);\n",
              "      border-top-color: var(--fill-color);\n",
              "      border-right-color: var(--fill-color);\n",
              "    }\n",
              "    40% {\n",
              "      border-color: transparent;\n",
              "      border-right-color: var(--fill-color);\n",
              "      border-top-color: var(--fill-color);\n",
              "    }\n",
              "    60% {\n",
              "      border-color: transparent;\n",
              "      border-right-color: var(--fill-color);\n",
              "    }\n",
              "    80% {\n",
              "      border-color: transparent;\n",
              "      border-right-color: var(--fill-color);\n",
              "      border-bottom-color: var(--fill-color);\n",
              "    }\n",
              "    90% {\n",
              "      border-color: transparent;\n",
              "      border-bottom-color: var(--fill-color);\n",
              "    }\n",
              "  }\n",
              "</style>\n",
              "\n",
              "  <script>\n",
              "    async function quickchart(key) {\n",
              "      const quickchartButtonEl =\n",
              "        document.querySelector('#' + key + ' button');\n",
              "      quickchartButtonEl.disabled = true;  // To prevent multiple clicks.\n",
              "      quickchartButtonEl.classList.add('colab-df-spinner');\n",
              "      try {\n",
              "        const charts = await google.colab.kernel.invokeFunction(\n",
              "            'suggestCharts', [key], {});\n",
              "      } catch (error) {\n",
              "        console.error('Error during call to suggestCharts:', error);\n",
              "      }\n",
              "      quickchartButtonEl.classList.remove('colab-df-spinner');\n",
              "      quickchartButtonEl.classList.add('colab-df-quickchart-complete');\n",
              "    }\n",
              "    (() => {\n",
              "      let quickchartButtonEl =\n",
              "        document.querySelector('#df-9488f366-385e-42d0-9154-97674395abd4 button');\n",
              "      quickchartButtonEl.style.display =\n",
              "        google.colab.kernel.accessAllowed ? 'block' : 'none';\n",
              "    })();\n",
              "  </script>\n",
              "</div>\n",
              "    </div>\n",
              "  </div>\n"
            ]
          },
          "metadata": {},
          "execution_count": 64
        }
      ]
    },
    {
      "cell_type": "code",
      "source": [
        "col = 'ACTIONID'\n",
        "print(df_train[col].nunique())\n",
        "print(df_syn_tvae[col].nunique())\n",
        "print(df_syn_ctgan[col].nunique())"
      ],
      "metadata": {
        "colab": {
          "base_uri": "https://localhost:8080/"
        },
        "id": "dWDEuyAlxnBB",
        "outputId": "912a19d8-97e7-458a-8d2b-fc87a1c92d32"
      },
      "execution_count": 65,
      "outputs": [
        {
          "output_type": "stream",
          "name": "stdout",
          "text": [
            "271283\n",
            "191572\n",
            "195888\n"
          ]
        }
      ]
    },
    {
      "cell_type": "code",
      "source": [
        "col = 'USERID'\n",
        "print(df_train[col].nunique())\n",
        "print(df_syn_tvae[col].nunique())\n",
        "print(df_syn_ctgan[col].nunique())"
      ],
      "metadata": {
        "colab": {
          "base_uri": "https://localhost:8080/"
        },
        "id": "y61sdo8Tx2nP",
        "outputId": "34dac309-addf-4380-a4db-d187464430c7"
      },
      "execution_count": 66,
      "outputs": [
        {
          "output_type": "stream",
          "name": "stdout",
          "text": [
            "4932\n",
            "7273\n",
            "7473\n"
          ]
        }
      ]
    },
    {
      "cell_type": "code",
      "source": [
        "col = 'TARGETID'\n",
        "print(df_train[col].nunique())\n",
        "print(df_syn_tvae[col].nunique())\n",
        "print(df_syn_ctgan[col].nunique())"
      ],
      "metadata": {
        "colab": {
          "base_uri": "https://localhost:8080/"
        },
        "id": "9lWJlaTfzn32",
        "outputId": "7962d1c3-45aa-4c93-9ab8-de4a10569e92"
      },
      "execution_count": 67,
      "outputs": [
        {
          "output_type": "stream",
          "name": "stdout",
          "text": [
            "97\n",
            "99\n",
            "97\n"
          ]
        }
      ]
    },
    {
      "cell_type": "markdown",
      "source": [
        "### Оценка качества TSTR\n",
        "\n",
        "У нас данные представляют собой последовательность действий, которые заканчиваются целевым или нет. И правильно было бы их рассматривать как последовательности.\n",
        "\n",
        "Но здесь, для упрощения сагрегируем по пользователю и посчитаем фичи."
      ],
      "metadata": {
        "id": "uj1eYtspK0DS"
      }
    },
    {
      "cell_type": "code",
      "source": [
        "from sklearn.metrics import f1_score\n",
        "from xgboost import XGBClassifier\n",
        "\n",
        "def get_features(df):\n",
        "    agg_dict = {\n",
        "        'LABEL': ('LABEL', 'max'),\n",
        "        'cnt': ('LABEL', 'count'),\n",
        "        'min_ts': ('TIMESTAMP', 'min'),\n",
        "        'max_ts': ('TIMESTAMP', 'max')\n",
        "    }\n",
        "    agg_dict.update({f'mean_{c}': (c, 'mean')\n",
        "                    for c in ['FEATURE0', 'FEATURE1', 'FEATURE2', 'FEATURE3']})\n",
        "    agg_dict.update({f'max_{c}': (c, 'max')\n",
        "                    for c in ['FEATURE0', 'FEATURE1', 'FEATURE2', 'FEATURE3']})\n",
        "    df_agg = df.groupby('USERID').agg(**agg_dict).reset_index()\n",
        "    df_agg['dur'] = df_agg['max_ts'] - df_agg['min_ts']\n",
        "    del df_agg['max_ts'], df_agg['min_ts']\n",
        "    return df_agg"
      ],
      "metadata": {
        "id": "o2BM3x1I6ZJI"
      },
      "execution_count": 68,
      "outputs": []
    },
    {
      "cell_type": "code",
      "source": [
        "df_train_feat = get_features(df_train)\n",
        "df_test_feat = get_features(df_test)\n",
        "df_tvae_feat = get_features(df_syn_tvae)\n",
        "df_ctgan_feat = get_features(df_syn_ctgan)\n",
        "df_train_feat.shape, df_test_feat.shape, df_tvae_feat.shape, df_ctgan_feat.shape"
      ],
      "metadata": {
        "colab": {
          "base_uri": "https://localhost:8080/"
        },
        "id": "p7u8kCAJ6OIp",
        "outputId": "45c08156-dc05-49fd-ddf5-7f2b65d2de49"
      },
      "execution_count": 69,
      "outputs": [
        {
          "output_type": "execute_result",
          "data": {
            "text/plain": [
              "((4932, 12), (2115, 12), (7273, 12), (7473, 12))"
            ]
          },
          "metadata": {},
          "execution_count": 69
        }
      ]
    },
    {
      "cell_type": "code",
      "source": [
        "df_train_feat.head()"
      ],
      "metadata": {
        "colab": {
          "base_uri": "https://localhost:8080/",
          "height": 206
        },
        "id": "440CxMIBq4Bi",
        "outputId": "44fb3115-c50b-412c-e0ba-6697275e4f3a"
      },
      "execution_count": 70,
      "outputs": [
        {
          "output_type": "execute_result",
          "data": {
            "text/plain": [
              "   USERID  LABEL  cnt  mean_FEATURE0  mean_FEATURE1  mean_FEATURE2  \\\n",
              "0       0      0   74      -0.319991      -0.023092       0.072931   \n",
              "1       1      0   25      -0.319991      -0.130371       0.086743   \n",
              "2       2      0  180       0.256688       0.101455      -0.074141   \n",
              "3       3      1    6      -0.319991      -0.011631       0.023280   \n",
              "4       4      1    8      -0.319991       0.518457       0.232039   \n",
              "\n",
              "   mean_FEATURE3  max_FEATURE0  max_FEATURE1  max_FEATURE2  max_FEATURE3  \\\n",
              "0       2.189165     -0.319991      2.108722      1.108826    149.451211   \n",
              "1       0.012969     -0.319991      2.108722      0.607805      0.936171   \n",
              "2      -0.038320      7.768502      2.108722      1.108826      1.337563   \n",
              "3      -0.067309     -0.319991      2.108722      0.106784     -0.067309   \n",
              "4       0.860910     -0.319991      2.108722      1.108826      7.157747   \n",
              "\n",
              "         dur  \n",
              "0  2362371.0  \n",
              "1  1201293.0  \n",
              "2  2243509.0  \n",
              "3   739000.0  \n",
              "4     1913.0  "
            ],
            "text/html": [
              "\n",
              "  <div id=\"df-d0d622c4-ca98-4a0d-baa3-fc2620485147\" class=\"colab-df-container\">\n",
              "    <div>\n",
              "<style scoped>\n",
              "    .dataframe tbody tr th:only-of-type {\n",
              "        vertical-align: middle;\n",
              "    }\n",
              "\n",
              "    .dataframe tbody tr th {\n",
              "        vertical-align: top;\n",
              "    }\n",
              "\n",
              "    .dataframe thead th {\n",
              "        text-align: right;\n",
              "    }\n",
              "</style>\n",
              "<table border=\"1\" class=\"dataframe\">\n",
              "  <thead>\n",
              "    <tr style=\"text-align: right;\">\n",
              "      <th></th>\n",
              "      <th>USERID</th>\n",
              "      <th>LABEL</th>\n",
              "      <th>cnt</th>\n",
              "      <th>mean_FEATURE0</th>\n",
              "      <th>mean_FEATURE1</th>\n",
              "      <th>mean_FEATURE2</th>\n",
              "      <th>mean_FEATURE3</th>\n",
              "      <th>max_FEATURE0</th>\n",
              "      <th>max_FEATURE1</th>\n",
              "      <th>max_FEATURE2</th>\n",
              "      <th>max_FEATURE3</th>\n",
              "      <th>dur</th>\n",
              "    </tr>\n",
              "  </thead>\n",
              "  <tbody>\n",
              "    <tr>\n",
              "      <th>0</th>\n",
              "      <td>0</td>\n",
              "      <td>0</td>\n",
              "      <td>74</td>\n",
              "      <td>-0.319991</td>\n",
              "      <td>-0.023092</td>\n",
              "      <td>0.072931</td>\n",
              "      <td>2.189165</td>\n",
              "      <td>-0.319991</td>\n",
              "      <td>2.108722</td>\n",
              "      <td>1.108826</td>\n",
              "      <td>149.451211</td>\n",
              "      <td>2362371.0</td>\n",
              "    </tr>\n",
              "    <tr>\n",
              "      <th>1</th>\n",
              "      <td>1</td>\n",
              "      <td>0</td>\n",
              "      <td>25</td>\n",
              "      <td>-0.319991</td>\n",
              "      <td>-0.130371</td>\n",
              "      <td>0.086743</td>\n",
              "      <td>0.012969</td>\n",
              "      <td>-0.319991</td>\n",
              "      <td>2.108722</td>\n",
              "      <td>0.607805</td>\n",
              "      <td>0.936171</td>\n",
              "      <td>1201293.0</td>\n",
              "    </tr>\n",
              "    <tr>\n",
              "      <th>2</th>\n",
              "      <td>2</td>\n",
              "      <td>0</td>\n",
              "      <td>180</td>\n",
              "      <td>0.256688</td>\n",
              "      <td>0.101455</td>\n",
              "      <td>-0.074141</td>\n",
              "      <td>-0.038320</td>\n",
              "      <td>7.768502</td>\n",
              "      <td>2.108722</td>\n",
              "      <td>1.108826</td>\n",
              "      <td>1.337563</td>\n",
              "      <td>2243509.0</td>\n",
              "    </tr>\n",
              "    <tr>\n",
              "      <th>3</th>\n",
              "      <td>3</td>\n",
              "      <td>1</td>\n",
              "      <td>6</td>\n",
              "      <td>-0.319991</td>\n",
              "      <td>-0.011631</td>\n",
              "      <td>0.023280</td>\n",
              "      <td>-0.067309</td>\n",
              "      <td>-0.319991</td>\n",
              "      <td>2.108722</td>\n",
              "      <td>0.106784</td>\n",
              "      <td>-0.067309</td>\n",
              "      <td>739000.0</td>\n",
              "    </tr>\n",
              "    <tr>\n",
              "      <th>4</th>\n",
              "      <td>4</td>\n",
              "      <td>1</td>\n",
              "      <td>8</td>\n",
              "      <td>-0.319991</td>\n",
              "      <td>0.518457</td>\n",
              "      <td>0.232039</td>\n",
              "      <td>0.860910</td>\n",
              "      <td>-0.319991</td>\n",
              "      <td>2.108722</td>\n",
              "      <td>1.108826</td>\n",
              "      <td>7.157747</td>\n",
              "      <td>1913.0</td>\n",
              "    </tr>\n",
              "  </tbody>\n",
              "</table>\n",
              "</div>\n",
              "    <div class=\"colab-df-buttons\">\n",
              "\n",
              "  <div class=\"colab-df-container\">\n",
              "    <button class=\"colab-df-convert\" onclick=\"convertToInteractive('df-d0d622c4-ca98-4a0d-baa3-fc2620485147')\"\n",
              "            title=\"Convert this dataframe to an interactive table.\"\n",
              "            style=\"display:none;\">\n",
              "\n",
              "  <svg xmlns=\"http://www.w3.org/2000/svg\" height=\"24px\" viewBox=\"0 -960 960 960\">\n",
              "    <path d=\"M120-120v-720h720v720H120Zm60-500h600v-160H180v160Zm220 220h160v-160H400v160Zm0 220h160v-160H400v160ZM180-400h160v-160H180v160Zm440 0h160v-160H620v160ZM180-180h160v-160H180v160Zm440 0h160v-160H620v160Z\"/>\n",
              "  </svg>\n",
              "    </button>\n",
              "\n",
              "  <style>\n",
              "    .colab-df-container {\n",
              "      display:flex;\n",
              "      gap: 12px;\n",
              "    }\n",
              "\n",
              "    .colab-df-convert {\n",
              "      background-color: #E8F0FE;\n",
              "      border: none;\n",
              "      border-radius: 50%;\n",
              "      cursor: pointer;\n",
              "      display: none;\n",
              "      fill: #1967D2;\n",
              "      height: 32px;\n",
              "      padding: 0 0 0 0;\n",
              "      width: 32px;\n",
              "    }\n",
              "\n",
              "    .colab-df-convert:hover {\n",
              "      background-color: #E2EBFA;\n",
              "      box-shadow: 0px 1px 2px rgba(60, 64, 67, 0.3), 0px 1px 3px 1px rgba(60, 64, 67, 0.15);\n",
              "      fill: #174EA6;\n",
              "    }\n",
              "\n",
              "    .colab-df-buttons div {\n",
              "      margin-bottom: 4px;\n",
              "    }\n",
              "\n",
              "    [theme=dark] .colab-df-convert {\n",
              "      background-color: #3B4455;\n",
              "      fill: #D2E3FC;\n",
              "    }\n",
              "\n",
              "    [theme=dark] .colab-df-convert:hover {\n",
              "      background-color: #434B5C;\n",
              "      box-shadow: 0px 1px 3px 1px rgba(0, 0, 0, 0.15);\n",
              "      filter: drop-shadow(0px 1px 2px rgba(0, 0, 0, 0.3));\n",
              "      fill: #FFFFFF;\n",
              "    }\n",
              "  </style>\n",
              "\n",
              "    <script>\n",
              "      const buttonEl =\n",
              "        document.querySelector('#df-d0d622c4-ca98-4a0d-baa3-fc2620485147 button.colab-df-convert');\n",
              "      buttonEl.style.display =\n",
              "        google.colab.kernel.accessAllowed ? 'block' : 'none';\n",
              "\n",
              "      async function convertToInteractive(key) {\n",
              "        const element = document.querySelector('#df-d0d622c4-ca98-4a0d-baa3-fc2620485147');\n",
              "        const dataTable =\n",
              "          await google.colab.kernel.invokeFunction('convertToInteractive',\n",
              "                                                    [key], {});\n",
              "        if (!dataTable) return;\n",
              "\n",
              "        const docLinkHtml = 'Like what you see? Visit the ' +\n",
              "          '<a target=\"_blank\" href=https://colab.research.google.com/notebooks/data_table.ipynb>data table notebook</a>'\n",
              "          + ' to learn more about interactive tables.';\n",
              "        element.innerHTML = '';\n",
              "        dataTable['output_type'] = 'display_data';\n",
              "        await google.colab.output.renderOutput(dataTable, element);\n",
              "        const docLink = document.createElement('div');\n",
              "        docLink.innerHTML = docLinkHtml;\n",
              "        element.appendChild(docLink);\n",
              "      }\n",
              "    </script>\n",
              "  </div>\n",
              "\n",
              "\n",
              "<div id=\"df-8183a694-b10f-4e89-b92f-bff1b8cc7db4\">\n",
              "  <button class=\"colab-df-quickchart\" onclick=\"quickchart('df-8183a694-b10f-4e89-b92f-bff1b8cc7db4')\"\n",
              "            title=\"Suggest charts\"\n",
              "            style=\"display:none;\">\n",
              "\n",
              "<svg xmlns=\"http://www.w3.org/2000/svg\" height=\"24px\"viewBox=\"0 0 24 24\"\n",
              "     width=\"24px\">\n",
              "    <g>\n",
              "        <path d=\"M19 3H5c-1.1 0-2 .9-2 2v14c0 1.1.9 2 2 2h14c1.1 0 2-.9 2-2V5c0-1.1-.9-2-2-2zM9 17H7v-7h2v7zm4 0h-2V7h2v10zm4 0h-2v-4h2v4z\"/>\n",
              "    </g>\n",
              "</svg>\n",
              "  </button>\n",
              "\n",
              "<style>\n",
              "  .colab-df-quickchart {\n",
              "      --bg-color: #E8F0FE;\n",
              "      --fill-color: #1967D2;\n",
              "      --hover-bg-color: #E2EBFA;\n",
              "      --hover-fill-color: #174EA6;\n",
              "      --disabled-fill-color: #AAA;\n",
              "      --disabled-bg-color: #DDD;\n",
              "  }\n",
              "\n",
              "  [theme=dark] .colab-df-quickchart {\n",
              "      --bg-color: #3B4455;\n",
              "      --fill-color: #D2E3FC;\n",
              "      --hover-bg-color: #434B5C;\n",
              "      --hover-fill-color: #FFFFFF;\n",
              "      --disabled-bg-color: #3B4455;\n",
              "      --disabled-fill-color: #666;\n",
              "  }\n",
              "\n",
              "  .colab-df-quickchart {\n",
              "    background-color: var(--bg-color);\n",
              "    border: none;\n",
              "    border-radius: 50%;\n",
              "    cursor: pointer;\n",
              "    display: none;\n",
              "    fill: var(--fill-color);\n",
              "    height: 32px;\n",
              "    padding: 0;\n",
              "    width: 32px;\n",
              "  }\n",
              "\n",
              "  .colab-df-quickchart:hover {\n",
              "    background-color: var(--hover-bg-color);\n",
              "    box-shadow: 0 1px 2px rgba(60, 64, 67, 0.3), 0 1px 3px 1px rgba(60, 64, 67, 0.15);\n",
              "    fill: var(--button-hover-fill-color);\n",
              "  }\n",
              "\n",
              "  .colab-df-quickchart-complete:disabled,\n",
              "  .colab-df-quickchart-complete:disabled:hover {\n",
              "    background-color: var(--disabled-bg-color);\n",
              "    fill: var(--disabled-fill-color);\n",
              "    box-shadow: none;\n",
              "  }\n",
              "\n",
              "  .colab-df-spinner {\n",
              "    border: 2px solid var(--fill-color);\n",
              "    border-color: transparent;\n",
              "    border-bottom-color: var(--fill-color);\n",
              "    animation:\n",
              "      spin 1s steps(1) infinite;\n",
              "  }\n",
              "\n",
              "  @keyframes spin {\n",
              "    0% {\n",
              "      border-color: transparent;\n",
              "      border-bottom-color: var(--fill-color);\n",
              "      border-left-color: var(--fill-color);\n",
              "    }\n",
              "    20% {\n",
              "      border-color: transparent;\n",
              "      border-left-color: var(--fill-color);\n",
              "      border-top-color: var(--fill-color);\n",
              "    }\n",
              "    30% {\n",
              "      border-color: transparent;\n",
              "      border-left-color: var(--fill-color);\n",
              "      border-top-color: var(--fill-color);\n",
              "      border-right-color: var(--fill-color);\n",
              "    }\n",
              "    40% {\n",
              "      border-color: transparent;\n",
              "      border-right-color: var(--fill-color);\n",
              "      border-top-color: var(--fill-color);\n",
              "    }\n",
              "    60% {\n",
              "      border-color: transparent;\n",
              "      border-right-color: var(--fill-color);\n",
              "    }\n",
              "    80% {\n",
              "      border-color: transparent;\n",
              "      border-right-color: var(--fill-color);\n",
              "      border-bottom-color: var(--fill-color);\n",
              "    }\n",
              "    90% {\n",
              "      border-color: transparent;\n",
              "      border-bottom-color: var(--fill-color);\n",
              "    }\n",
              "  }\n",
              "</style>\n",
              "\n",
              "  <script>\n",
              "    async function quickchart(key) {\n",
              "      const quickchartButtonEl =\n",
              "        document.querySelector('#' + key + ' button');\n",
              "      quickchartButtonEl.disabled = true;  // To prevent multiple clicks.\n",
              "      quickchartButtonEl.classList.add('colab-df-spinner');\n",
              "      try {\n",
              "        const charts = await google.colab.kernel.invokeFunction(\n",
              "            'suggestCharts', [key], {});\n",
              "      } catch (error) {\n",
              "        console.error('Error during call to suggestCharts:', error);\n",
              "      }\n",
              "      quickchartButtonEl.classList.remove('colab-df-spinner');\n",
              "      quickchartButtonEl.classList.add('colab-df-quickchart-complete');\n",
              "    }\n",
              "    (() => {\n",
              "      let quickchartButtonEl =\n",
              "        document.querySelector('#df-8183a694-b10f-4e89-b92f-bff1b8cc7db4 button');\n",
              "      quickchartButtonEl.style.display =\n",
              "        google.colab.kernel.accessAllowed ? 'block' : 'none';\n",
              "    })();\n",
              "  </script>\n",
              "</div>\n",
              "    </div>\n",
              "  </div>\n"
            ]
          },
          "metadata": {},
          "execution_count": 70
        }
      ]
    },
    {
      "cell_type": "code",
      "source": [
        "def eval_model(df_train, df_test, mode):\n",
        "    X_train = df_train.copy()\n",
        "    y_train = X_train.pop('LABEL')\n",
        "    X_test = df_test.copy()\n",
        "    y_test = X_test.pop('LABEL')\n",
        "    xgb = XGBClassifier(n_estimators=30, max_depth=5, learning_rate=.1, objective='binary:logistic', verbosity=1)\n",
        "    xgb.fit(X_train, y_train)\n",
        "    y_pred_train = xgb.predict(X_train)\n",
        "    y_pred_test = xgb.predict(X_test)\n",
        "    metrics = {'mode': mode,\n",
        "               'cnt_rows_train': y_train.shape[0],\n",
        "               'cnt_ones_train': (y_train == 1).sum(),\n",
        "               'F1_train': f1_score(y_train, y_pred_train),\n",
        "               'F1_test': f1_score(y_test, y_pred_test)}\n",
        "    return metrics"
      ],
      "metadata": {
        "id": "J5QGORd4doX1"
      },
      "execution_count": 71,
      "outputs": []
    },
    {
      "cell_type": "code",
      "source": [
        "df_eval = pd.DataFrame([\n",
        "    eval_model(df_ctgan_feat, df_test_feat, 'TSTR CTGAN'),\n",
        "    eval_model(df_tvae_feat, df_test_feat, 'TSTR TVAE'),\n",
        "    eval_model(df_train_feat, df_test_feat, 'TRTR')\n",
        "])\n",
        "df_eval"
      ],
      "metadata": {
        "colab": {
          "base_uri": "https://localhost:8080/",
          "height": 198
        },
        "id": "L0Ye3Y7wgb-C",
        "outputId": "80c62c23-bc5c-4339-e3c6-811302a13602"
      },
      "execution_count": 72,
      "outputs": [
        {
          "output_type": "stream",
          "name": "stderr",
          "text": [
            "/usr/local/lib/python3.10/dist-packages/sklearn/metrics/_classification.py:1609: UndefinedMetricWarning: F-score is ill-defined and being set to 0.0 due to no true nor predicted samples. Use `zero_division` parameter to control this behavior.\n",
            "  _warn_prf(average, \"true nor predicted\", \"F-score is\", len(true_sum))\n"
          ]
        },
        {
          "output_type": "execute_result",
          "data": {
            "text/plain": [
              "         mode  cnt_rows_train  cnt_ones_train  F1_train   F1_test\n",
              "0  TSTR CTGAN            7473            7305  0.998495  0.679411\n",
              "1   TSTR TVAE            7273               0  0.000000  0.000000\n",
              "2        TRTR            4932            2867  0.866609  0.827356"
            ],
            "text/html": [
              "\n",
              "  <div id=\"df-9762c332-3100-4a74-964d-ecb33b32baf2\" class=\"colab-df-container\">\n",
              "    <div>\n",
              "<style scoped>\n",
              "    .dataframe tbody tr th:only-of-type {\n",
              "        vertical-align: middle;\n",
              "    }\n",
              "\n",
              "    .dataframe tbody tr th {\n",
              "        vertical-align: top;\n",
              "    }\n",
              "\n",
              "    .dataframe thead th {\n",
              "        text-align: right;\n",
              "    }\n",
              "</style>\n",
              "<table border=\"1\" class=\"dataframe\">\n",
              "  <thead>\n",
              "    <tr style=\"text-align: right;\">\n",
              "      <th></th>\n",
              "      <th>mode</th>\n",
              "      <th>cnt_rows_train</th>\n",
              "      <th>cnt_ones_train</th>\n",
              "      <th>F1_train</th>\n",
              "      <th>F1_test</th>\n",
              "    </tr>\n",
              "  </thead>\n",
              "  <tbody>\n",
              "    <tr>\n",
              "      <th>0</th>\n",
              "      <td>TSTR CTGAN</td>\n",
              "      <td>7473</td>\n",
              "      <td>7305</td>\n",
              "      <td>0.998495</td>\n",
              "      <td>0.679411</td>\n",
              "    </tr>\n",
              "    <tr>\n",
              "      <th>1</th>\n",
              "      <td>TSTR TVAE</td>\n",
              "      <td>7273</td>\n",
              "      <td>0</td>\n",
              "      <td>0.000000</td>\n",
              "      <td>0.000000</td>\n",
              "    </tr>\n",
              "    <tr>\n",
              "      <th>2</th>\n",
              "      <td>TRTR</td>\n",
              "      <td>4932</td>\n",
              "      <td>2867</td>\n",
              "      <td>0.866609</td>\n",
              "      <td>0.827356</td>\n",
              "    </tr>\n",
              "  </tbody>\n",
              "</table>\n",
              "</div>\n",
              "    <div class=\"colab-df-buttons\">\n",
              "\n",
              "  <div class=\"colab-df-container\">\n",
              "    <button class=\"colab-df-convert\" onclick=\"convertToInteractive('df-9762c332-3100-4a74-964d-ecb33b32baf2')\"\n",
              "            title=\"Convert this dataframe to an interactive table.\"\n",
              "            style=\"display:none;\">\n",
              "\n",
              "  <svg xmlns=\"http://www.w3.org/2000/svg\" height=\"24px\" viewBox=\"0 -960 960 960\">\n",
              "    <path d=\"M120-120v-720h720v720H120Zm60-500h600v-160H180v160Zm220 220h160v-160H400v160Zm0 220h160v-160H400v160ZM180-400h160v-160H180v160Zm440 0h160v-160H620v160ZM180-180h160v-160H180v160Zm440 0h160v-160H620v160Z\"/>\n",
              "  </svg>\n",
              "    </button>\n",
              "\n",
              "  <style>\n",
              "    .colab-df-container {\n",
              "      display:flex;\n",
              "      gap: 12px;\n",
              "    }\n",
              "\n",
              "    .colab-df-convert {\n",
              "      background-color: #E8F0FE;\n",
              "      border: none;\n",
              "      border-radius: 50%;\n",
              "      cursor: pointer;\n",
              "      display: none;\n",
              "      fill: #1967D2;\n",
              "      height: 32px;\n",
              "      padding: 0 0 0 0;\n",
              "      width: 32px;\n",
              "    }\n",
              "\n",
              "    .colab-df-convert:hover {\n",
              "      background-color: #E2EBFA;\n",
              "      box-shadow: 0px 1px 2px rgba(60, 64, 67, 0.3), 0px 1px 3px 1px rgba(60, 64, 67, 0.15);\n",
              "      fill: #174EA6;\n",
              "    }\n",
              "\n",
              "    .colab-df-buttons div {\n",
              "      margin-bottom: 4px;\n",
              "    }\n",
              "\n",
              "    [theme=dark] .colab-df-convert {\n",
              "      background-color: #3B4455;\n",
              "      fill: #D2E3FC;\n",
              "    }\n",
              "\n",
              "    [theme=dark] .colab-df-convert:hover {\n",
              "      background-color: #434B5C;\n",
              "      box-shadow: 0px 1px 3px 1px rgba(0, 0, 0, 0.15);\n",
              "      filter: drop-shadow(0px 1px 2px rgba(0, 0, 0, 0.3));\n",
              "      fill: #FFFFFF;\n",
              "    }\n",
              "  </style>\n",
              "\n",
              "    <script>\n",
              "      const buttonEl =\n",
              "        document.querySelector('#df-9762c332-3100-4a74-964d-ecb33b32baf2 button.colab-df-convert');\n",
              "      buttonEl.style.display =\n",
              "        google.colab.kernel.accessAllowed ? 'block' : 'none';\n",
              "\n",
              "      async function convertToInteractive(key) {\n",
              "        const element = document.querySelector('#df-9762c332-3100-4a74-964d-ecb33b32baf2');\n",
              "        const dataTable =\n",
              "          await google.colab.kernel.invokeFunction('convertToInteractive',\n",
              "                                                    [key], {});\n",
              "        if (!dataTable) return;\n",
              "\n",
              "        const docLinkHtml = 'Like what you see? Visit the ' +\n",
              "          '<a target=\"_blank\" href=https://colab.research.google.com/notebooks/data_table.ipynb>data table notebook</a>'\n",
              "          + ' to learn more about interactive tables.';\n",
              "        element.innerHTML = '';\n",
              "        dataTable['output_type'] = 'display_data';\n",
              "        await google.colab.output.renderOutput(dataTable, element);\n",
              "        const docLink = document.createElement('div');\n",
              "        docLink.innerHTML = docLinkHtml;\n",
              "        element.appendChild(docLink);\n",
              "      }\n",
              "    </script>\n",
              "  </div>\n",
              "\n",
              "\n",
              "<div id=\"df-c469bb73-cb2b-40ff-9e1f-dd0c0ea08344\">\n",
              "  <button class=\"colab-df-quickchart\" onclick=\"quickchart('df-c469bb73-cb2b-40ff-9e1f-dd0c0ea08344')\"\n",
              "            title=\"Suggest charts\"\n",
              "            style=\"display:none;\">\n",
              "\n",
              "<svg xmlns=\"http://www.w3.org/2000/svg\" height=\"24px\"viewBox=\"0 0 24 24\"\n",
              "     width=\"24px\">\n",
              "    <g>\n",
              "        <path d=\"M19 3H5c-1.1 0-2 .9-2 2v14c0 1.1.9 2 2 2h14c1.1 0 2-.9 2-2V5c0-1.1-.9-2-2-2zM9 17H7v-7h2v7zm4 0h-2V7h2v10zm4 0h-2v-4h2v4z\"/>\n",
              "    </g>\n",
              "</svg>\n",
              "  </button>\n",
              "\n",
              "<style>\n",
              "  .colab-df-quickchart {\n",
              "      --bg-color: #E8F0FE;\n",
              "      --fill-color: #1967D2;\n",
              "      --hover-bg-color: #E2EBFA;\n",
              "      --hover-fill-color: #174EA6;\n",
              "      --disabled-fill-color: #AAA;\n",
              "      --disabled-bg-color: #DDD;\n",
              "  }\n",
              "\n",
              "  [theme=dark] .colab-df-quickchart {\n",
              "      --bg-color: #3B4455;\n",
              "      --fill-color: #D2E3FC;\n",
              "      --hover-bg-color: #434B5C;\n",
              "      --hover-fill-color: #FFFFFF;\n",
              "      --disabled-bg-color: #3B4455;\n",
              "      --disabled-fill-color: #666;\n",
              "  }\n",
              "\n",
              "  .colab-df-quickchart {\n",
              "    background-color: var(--bg-color);\n",
              "    border: none;\n",
              "    border-radius: 50%;\n",
              "    cursor: pointer;\n",
              "    display: none;\n",
              "    fill: var(--fill-color);\n",
              "    height: 32px;\n",
              "    padding: 0;\n",
              "    width: 32px;\n",
              "  }\n",
              "\n",
              "  .colab-df-quickchart:hover {\n",
              "    background-color: var(--hover-bg-color);\n",
              "    box-shadow: 0 1px 2px rgba(60, 64, 67, 0.3), 0 1px 3px 1px rgba(60, 64, 67, 0.15);\n",
              "    fill: var(--button-hover-fill-color);\n",
              "  }\n",
              "\n",
              "  .colab-df-quickchart-complete:disabled,\n",
              "  .colab-df-quickchart-complete:disabled:hover {\n",
              "    background-color: var(--disabled-bg-color);\n",
              "    fill: var(--disabled-fill-color);\n",
              "    box-shadow: none;\n",
              "  }\n",
              "\n",
              "  .colab-df-spinner {\n",
              "    border: 2px solid var(--fill-color);\n",
              "    border-color: transparent;\n",
              "    border-bottom-color: var(--fill-color);\n",
              "    animation:\n",
              "      spin 1s steps(1) infinite;\n",
              "  }\n",
              "\n",
              "  @keyframes spin {\n",
              "    0% {\n",
              "      border-color: transparent;\n",
              "      border-bottom-color: var(--fill-color);\n",
              "      border-left-color: var(--fill-color);\n",
              "    }\n",
              "    20% {\n",
              "      border-color: transparent;\n",
              "      border-left-color: var(--fill-color);\n",
              "      border-top-color: var(--fill-color);\n",
              "    }\n",
              "    30% {\n",
              "      border-color: transparent;\n",
              "      border-left-color: var(--fill-color);\n",
              "      border-top-color: var(--fill-color);\n",
              "      border-right-color: var(--fill-color);\n",
              "    }\n",
              "    40% {\n",
              "      border-color: transparent;\n",
              "      border-right-color: var(--fill-color);\n",
              "      border-top-color: var(--fill-color);\n",
              "    }\n",
              "    60% {\n",
              "      border-color: transparent;\n",
              "      border-right-color: var(--fill-color);\n",
              "    }\n",
              "    80% {\n",
              "      border-color: transparent;\n",
              "      border-right-color: var(--fill-color);\n",
              "      border-bottom-color: var(--fill-color);\n",
              "    }\n",
              "    90% {\n",
              "      border-color: transparent;\n",
              "      border-bottom-color: var(--fill-color);\n",
              "    }\n",
              "  }\n",
              "</style>\n",
              "\n",
              "  <script>\n",
              "    async function quickchart(key) {\n",
              "      const quickchartButtonEl =\n",
              "        document.querySelector('#' + key + ' button');\n",
              "      quickchartButtonEl.disabled = true;  // To prevent multiple clicks.\n",
              "      quickchartButtonEl.classList.add('colab-df-spinner');\n",
              "      try {\n",
              "        const charts = await google.colab.kernel.invokeFunction(\n",
              "            'suggestCharts', [key], {});\n",
              "      } catch (error) {\n",
              "        console.error('Error during call to suggestCharts:', error);\n",
              "      }\n",
              "      quickchartButtonEl.classList.remove('colab-df-spinner');\n",
              "      quickchartButtonEl.classList.add('colab-df-quickchart-complete');\n",
              "    }\n",
              "    (() => {\n",
              "      let quickchartButtonEl =\n",
              "        document.querySelector('#df-c469bb73-cb2b-40ff-9e1f-dd0c0ea08344 button');\n",
              "      quickchartButtonEl.style.display =\n",
              "        google.colab.kernel.accessAllowed ? 'block' : 'none';\n",
              "    })();\n",
              "  </script>\n",
              "</div>\n",
              "    </div>\n",
              "  </div>\n"
            ]
          },
          "metadata": {},
          "execution_count": 72
        }
      ]
    },
    {
      "cell_type": "markdown",
      "source": [
        "### Ещё модели\n",
        "\n",
        "#### RTVAE\n",
        "\n",
        "В работе [Robust VAE for Tabular Data with β Divergence](https://arxiv.org/pdf/2006.08204.pdf) предложили заменить KL-дивергенцию на $\\beta$-дивергенцию, что позволяет бороться с выбросами. В обычной KL-дивергенции $log\\ p(x_i | z)$ очень чувствителен к выбросам из-за того, что минус логарифм правдоподобия для образцов с низкой вероятностью может быть произвольно большим. $\\beta$-дивергенция позволяет существенно снизить влияние выбросов по сравнению с ванильным VAE. При этом также учитываются особенности таблиц - непрерывные и категориальные столбцы.\n",
        "\n",
        "#### CTAB-GAN\n",
        "\n",
        "В работе [CTAB-GAN: Effective Table Data Synthesizing](https://arxiv.org/pdf/2102.08369.pdf) собрали успешные приёмы из предыдущих статей:\n",
        "\n",
        "* условная генерация, для учёта редких категорий и training-by-sampling (как в CTGAN)\n",
        "* дополнительные функции потерь (как в TableGAN):\n",
        "\t* информационный лосс - штрафует за отклонение статистик (среднее и СКО) в сгенерированных данных от реальных\n",
        "\t* лосс классификатора - параллельно с дискриминатором добавляется дополнительный классификатор, который для каждой строчки предсказывает берёт какую-то заданную метку, предсказывает её же классификатором и определяет разницу между синтезированным и предсказанным значением, что в итоге позволяет минимизировать количество некорректных значений атрибутов (например, предсказание наличие сугубо мужского диагноза, когда пол - женский)\n",
        "\n",
        "Дополнительно ввели понятие смешанной переменной (mixed variable), когда столбец представляет собой смесь категориального и числового типа, например размер ипотеки имеет яркую моду в нуле для тех, у кого нет ипотеки и вещественное распределение для тех, у кого она есть.\n",
        "\n",
        "<figure>\n",
        "<img src=\"https://raw.githubusercontent.com/sswt/dive2gai/main/.github/images/w9/CTAB-GAN_mixed_type.png\" alt=\"TVAE arch\" width=\"60%\">\n",
        "<figcaption align = \"center\"> Image credit: CTAB-GAN paper</figcaption>\n",
        "</figure>\n",
        "\n",
        "В mixed-type encoder также используется VGM, при этом мода не сэмплируется а просто выбирается с наибольшей вероятностью. Для смешанных атрибутов, к непрерывным модам добавляются дополнительные дискретные и если значение попадает в дискретную моду, то оно просто не нормализуется. При этом под них заводятся позиции в one-hot векторе $\\beta$.\n",
        "\n",
        "И изменили метод кодирования условных векторов - там используются не только категориальные атрибуты, но и моды вещественных/смешанных атрибутов.\n",
        "\n",
        "<figure>\n",
        "<img src=\"https://raw.githubusercontent.com/sswt/dive2gai/main/.github/images/w9/CTAB-GAN_cond_vector.png\" alt=\"TVAE arch\" width=\"60%\">\n",
        "<figcaption align = \"center\"> Image credit: CTAB-GAN paper</figcaption>\n",
        "</figure>\n",
        "\n",
        "Плюс для борьбы с длинными хвостами вещественные переменные логарифмируется после сдвига на положительную часть вещественной прямой.\n",
        "\n",
        "Архитектура генератора и дискриминатора - свёртчные сети, а классификатора - MLP. Классификатор отдельно предобучается на реальных данных, а для подачи туда сгенерированных строк происходит обратное декодирование признаков.\n",
        "\n",
        "В продолжении [CTAB-GAN+: Enhancing Tabular Data Synthesis](https://arxiv.org/pdf/2204.00401.pdf) перешли на WGAN-GP и добавили Differential Privacy (DP) градиентный спуск.\n"
      ],
      "metadata": {
        "id": "YQrj4dN2K51K"
      }
    },
    {
      "cell_type": "markdown",
      "source": [
        "## Заключение\n",
        "\n",
        "У нас в данных есть временная составляющая, поэтому правильно рассматривать их как временной ряд с табличными атрибутами, а просто табличные GAN это не учитывают. В дальнейшем попробуем модели для tabular time-series и сравним, насколько они лучше учитывают последовательность событий во времени.\n",
        "\n",
        "В целом можно сказать, что текущие модели из коробки не очень справились с генерацией выбранного датасета, возможно нужен дополнительный тюнинг параметров сетей. TVAE ранее неплохо показывал себя в других задачах, однако здесь совсем не справился с генерацией целевого атрибута."
      ],
      "metadata": {
        "id": "N5Bp2edVj5Pd"
      }
    },
    {
      "cell_type": "markdown",
      "source": [
        "## Упражнения\n",
        "\n",
        "* явно подать значения LABEL на вход генерации CTGAN, в соответствии с реальным распределением\n",
        "* потюнить параметры сетей\n",
        "* обучить CTAB-GAN и CTAB-GAN+ на данном датасете и посчитать метрики"
      ],
      "metadata": {
        "id": "IWl_z8X2Ji2_"
      }
    },
    {
      "cell_type": "code",
      "source": [],
      "metadata": {
        "id": "6_JsHbaOKKRc"
      },
      "execution_count": null,
      "outputs": []
    }
  ]
}