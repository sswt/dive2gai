{
 "cells": [
  {
   "cell_type": "markdown",
   "id": "2c02fb26-6f22-4129-8d7b-651f937640ca",
   "metadata": {},
   "source": [
    "# Evaluate other models from tabsyn repo\n",
    "\n",
    "* tabddpm\n",
    "* stasy\n",
    "* codi\n",
    "* great\n",
    "\n",
    "Evaluate models trained in RunMany notebook"
   ]
  },
  {
   "cell_type": "code",
   "execution_count": 10,
   "id": "459b5fcb-ae90-4489-b16f-ed0a90d77f8e",
   "metadata": {},
   "outputs": [],
   "source": [
    "from sklearn.metrics import f1_score\n",
    "from xgboost import XGBClassifier\n",
    "\n",
    "def get_features(df):\n",
    "    agg_dict = {\n",
    "        'LABEL': ('LABEL', 'max'),\n",
    "        'cnt': ('LABEL', 'count'),\n",
    "        'min_ts': ('TIMESTAMP', 'min'),\n",
    "        'max_ts': ('TIMESTAMP', 'max')\n",
    "    }\n",
    "    agg_dict.update({f'mean_{c}': (c, 'mean')\n",
    "                    for c in ['FEATURE0', 'FEATURE1', 'FEATURE2', 'FEATURE3']})\n",
    "    agg_dict.update({f'max_{c}': (c, 'max')\n",
    "                    for c in ['FEATURE0', 'FEATURE1', 'FEATURE2', 'FEATURE3']})\n",
    "    df_agg = df.groupby('USERID').agg(**agg_dict).reset_index()\n",
    "    df_agg['dur'] = df_agg['max_ts'] - df_agg['min_ts']\n",
    "    del df_agg['max_ts'], df_agg['min_ts']\n",
    "    return df_agg"
   ]
  },
  {
   "cell_type": "code",
   "execution_count": 11,
   "id": "a7ab320f-f5e6-4f1c-8889-b9c905188b51",
   "metadata": {},
   "outputs": [],
   "source": [
    "def eval_model(df_train, df_test, mode):\n",
    "    X_train = df_train.copy()\n",
    "    y_train = X_train.pop('LABEL')\n",
    "    X_test = df_test.copy()\n",
    "    y_test = X_test.pop('LABEL')\n",
    "    xgb = XGBClassifier(n_estimators=30, max_depth=5, learning_rate=.1, objective='binary:logistic', verbosity=1)\n",
    "    xgb.fit(X_train, y_train)\n",
    "    y_pred_train = xgb.predict(X_train)\n",
    "    y_pred_test = xgb.predict(X_test)\n",
    "    metrics = {'mode': mode,\n",
    "               'cnt_rows_train': y_train.shape[0],\n",
    "               'cnt_ones_train': (y_train == 1).sum(),\n",
    "               'F1_train': f1_score(y_train, y_pred_train),\n",
    "               'F1_test': f1_score(y_test, y_pred_test)}\n",
    "    return metrics"
   ]
  },
  {
   "cell_type": "markdown",
   "id": "65f8ef7d-5653-4bbc-8534-00d2cd00a06f",
   "metadata": {},
   "source": [
    "## TabDDPM"
   ]
  },
  {
   "cell_type": "code",
   "execution_count": 1,
   "id": "4cdb3e4f-f4a6-4c2e-9b1c-21f708409e62",
   "metadata": {},
   "outputs": [
    {
     "data": {
      "text/plain": [
       "(271341, 8)"
      ]
     },
     "execution_count": 1,
     "metadata": {},
     "output_type": "execute_result"
    }
   ],
   "source": [
    "import pandas as pd\n",
    "df_syn = pd.read_csv('synthetic/act-mooc/sampled.csv')\n",
    "df_syn.shape"
   ]
  },
  {
   "cell_type": "code",
   "execution_count": 2,
   "id": "6348ff8f-ed62-4302-ba58-661ba2ca442d",
   "metadata": {},
   "outputs": [],
   "source": [
    "df_train = pd.read_csv('act-mooc-train.csv.gz')\n",
    "df_test = pd.read_csv('act-mooc-test.csv.gz')"
   ]
  },
  {
   "cell_type": "code",
   "execution_count": 3,
   "id": "6ec41ab9-f534-4e9f-bcd5-3057843b1145",
   "metadata": {},
   "outputs": [
    {
     "data": {
      "text/plain": [
       "LABEL\n",
       "0    137048\n",
       "1    134293\n",
       "Name: count, dtype: int64"
      ]
     },
     "execution_count": 3,
     "metadata": {},
     "output_type": "execute_result"
    }
   ],
   "source": [
    "df_syn['LABEL'].value_counts()"
   ]
  },
  {
   "cell_type": "code",
   "execution_count": 4,
   "id": "175185f2-f129-463a-a95e-dd90dbc4c28c",
   "metadata": {},
   "outputs": [
    {
     "data": {
      "image/png": "[encoded data removed]",
      "text/plain": [
       "<Figure size 1200x400 with 1 Axes>"
      ]
     },
     "metadata": {},
     "output_type": "display_data"
    }
   ],
   "source": [
    "df_train['TIMESTAMP'].hist(figsize=(12, 4), alpha=.7, bins=30)\n",
    "df_syn['TIMESTAMP'].hist(alpha=.7, bins=30)\n",
    "legend = ['real', 'syn']"
   ]
  },
  {
   "cell_type": "code",
   "execution_count": 5,
   "id": "55b6cc57-b23d-4b32-b6e6-2023fa740b94",
   "metadata": {},
   "outputs": [
    {
     "data": {
      "text/html": [
       "<div>\n",
       "<style scoped>\n",
       "    .dataframe tbody tr th:only-of-type {\n",
       "        vertical-align: middle;\n",
       "    }\n",
       "\n",
       "    .dataframe tbody tr th {\n",
       "        vertical-align: top;\n",
       "    }\n",
       "\n",
       "    .dataframe thead th {\n",
       "        text-align: right;\n",
       "    }\n",
       "</style>\n",
       "<table border=\"1\" class=\"dataframe\">\n",
       "  <thead>\n",
       "    <tr style=\"text-align: right;\">\n",
       "      <th></th>\n",
       "      <th>USERID</th>\n",
       "      <th>TARGETID</th>\n",
       "      <th>TIMESTAMP</th>\n",
       "      <th>FEATURE0</th>\n",
       "      <th>FEATURE1</th>\n",
       "      <th>FEATURE2</th>\n",
       "      <th>FEATURE3</th>\n",
       "      <th>LABEL</th>\n",
       "    </tr>\n",
       "  </thead>\n",
       "  <tbody>\n",
       "    <tr>\n",
       "      <th>0</th>\n",
       "      <td>4709</td>\n",
       "      <td>38</td>\n",
       "      <td>0.0</td>\n",
       "      <td>-0.319991</td>\n",
       "      <td>98.796790</td>\n",
       "      <td>151.415180</td>\n",
       "      <td>-0.067309</td>\n",
       "      <td>1</td>\n",
       "    </tr>\n",
       "    <tr>\n",
       "      <th>1</th>\n",
       "      <td>3400</td>\n",
       "      <td>38</td>\n",
       "      <td>0.0</td>\n",
       "      <td>25.293571</td>\n",
       "      <td>-0.435701</td>\n",
       "      <td>-0.394237</td>\n",
       "      <td>-0.067309</td>\n",
       "      <td>1</td>\n",
       "    </tr>\n",
       "    <tr>\n",
       "      <th>2</th>\n",
       "      <td>3059</td>\n",
       "      <td>18</td>\n",
       "      <td>2572086.0</td>\n",
       "      <td>25.293571</td>\n",
       "      <td>-0.435701</td>\n",
       "      <td>151.415180</td>\n",
       "      <td>183.970920</td>\n",
       "      <td>1</td>\n",
       "    </tr>\n",
       "    <tr>\n",
       "      <th>3</th>\n",
       "      <td>3627</td>\n",
       "      <td>67</td>\n",
       "      <td>2572086.0</td>\n",
       "      <td>-0.319991</td>\n",
       "      <td>-0.435701</td>\n",
       "      <td>151.415180</td>\n",
       "      <td>183.970920</td>\n",
       "      <td>1</td>\n",
       "    </tr>\n",
       "    <tr>\n",
       "      <th>4</th>\n",
       "      <td>1325</td>\n",
       "      <td>9</td>\n",
       "      <td>0.0</td>\n",
       "      <td>25.293571</td>\n",
       "      <td>98.796790</td>\n",
       "      <td>151.415180</td>\n",
       "      <td>-0.067309</td>\n",
       "      <td>1</td>\n",
       "    </tr>\n",
       "  </tbody>\n",
       "</table>\n",
       "</div>"
      ],
      "text/plain": [
       "   USERID  TARGETID  TIMESTAMP   FEATURE0   FEATURE1    FEATURE2    FEATURE3  \\\n",
       "0    4709        38        0.0  -0.319991  98.796790  151.415180   -0.067309   \n",
       "1    3400        38        0.0  25.293571  -0.435701   -0.394237   -0.067309   \n",
       "2    3059        18  2572086.0  25.293571  -0.435701  151.415180  183.970920   \n",
       "3    3627        67  2572086.0  -0.319991  -0.435701  151.415180  183.970920   \n",
       "4    1325         9        0.0  25.293571  98.796790  151.415180   -0.067309   \n",
       "\n",
       "   LABEL  \n",
       "0      1  \n",
       "1      1  \n",
       "2      1  \n",
       "3      1  \n",
       "4      1  "
      ]
     },
     "execution_count": 5,
     "metadata": {},
     "output_type": "execute_result"
    }
   ],
   "source": [
    "df_syn.head()"
   ]
  },
  {
   "cell_type": "code",
   "execution_count": 6,
   "id": "cf9de094-f004-494a-8115-1744234a8436",
   "metadata": {},
   "outputs": [
    {
     "data": {
      "text/html": [
       "<div>\n",
       "<style scoped>\n",
       "    .dataframe tbody tr th:only-of-type {\n",
       "        vertical-align: middle;\n",
       "    }\n",
       "\n",
       "    .dataframe tbody tr th {\n",
       "        vertical-align: top;\n",
       "    }\n",
       "\n",
       "    .dataframe thead th {\n",
       "        text-align: right;\n",
       "    }\n",
       "</style>\n",
       "<table border=\"1\" class=\"dataframe\">\n",
       "  <thead>\n",
       "    <tr style=\"text-align: right;\">\n",
       "      <th></th>\n",
       "      <th>Real</th>\n",
       "      <th>Syn</th>\n",
       "    </tr>\n",
       "    <tr>\n",
       "      <th>LABEL</th>\n",
       "      <th></th>\n",
       "      <th></th>\n",
       "    </tr>\n",
       "  </thead>\n",
       "  <tbody>\n",
       "    <tr>\n",
       "      <th>0</th>\n",
       "      <td>268474</td>\n",
       "      <td>137048</td>\n",
       "    </tr>\n",
       "    <tr>\n",
       "      <th>1</th>\n",
       "      <td>2867</td>\n",
       "      <td>134293</td>\n",
       "    </tr>\n",
       "  </tbody>\n",
       "</table>\n",
       "</div>"
      ],
      "text/plain": [
       "         Real     Syn\n",
       "LABEL                \n",
       "0      268474  137048\n",
       "1        2867  134293"
      ]
     },
     "execution_count": 6,
     "metadata": {},
     "output_type": "execute_result"
    }
   ],
   "source": [
    "col = 'LABEL'\n",
    "pd.concat([\n",
    "    df_train[col].value_counts().rename('Real'),\n",
    "    df_syn[col].value_counts().rename('Syn'),\n",
    "], axis=1)"
   ]
  },
  {
   "cell_type": "code",
   "execution_count": 7,
   "id": "4f28838d-935e-49b5-b3ec-ad7f15780e0d",
   "metadata": {},
   "outputs": [
    {
     "name": "stdout",
     "output_type": "stream",
     "text": [
      "USERID: real - 4932, 4932\n",
      "TARGETID: real - 97, 97\n"
     ]
    }
   ],
   "source": [
    "for col in ['USERID', 'TARGETID']:\n",
    "    print(f'{col}: real - {df_train[col].nunique()}, {df_syn[col].nunique()}')"
   ]
  },
  {
   "cell_type": "code",
   "execution_count": 10,
   "id": "17fe606e-7717-4251-b127-eafd02a35f53",
   "metadata": {},
   "outputs": [
    {
     "data": {
      "text/plain": [
       "((4932, 12), (2115, 12), (4932, 12))"
      ]
     },
     "execution_count": 10,
     "metadata": {},
     "output_type": "execute_result"
    }
   ],
   "source": [
    "df_train_feat = get_features(df_train)\n",
    "df_test_feat = get_features(df_test)\n",
    "df_syn_feat = get_features(df_syn)\n",
    "df_train_feat.shape, df_test_feat.shape, df_syn_feat.shape"
   ]
  },
  {
   "cell_type": "code",
   "execution_count": 11,
   "id": "1b96ff74-1311-4211-88a4-03c9fbcef4c2",
   "metadata": {},
   "outputs": [],
   "source": [
    "df_syn_feat = df_syn_feat.astype(df_train_feat.dtypes)"
   ]
  },
  {
   "cell_type": "code",
   "execution_count": 12,
   "id": "6ddcac12-e3b8-4fb0-a112-48e743a0b538",
   "metadata": {},
   "outputs": [
    {
     "data": {
      "text/html": [
       "<div>\n",
       "<style scoped>\n",
       "    .dataframe tbody tr th:only-of-type {\n",
       "        vertical-align: middle;\n",
       "    }\n",
       "\n",
       "    .dataframe tbody tr th {\n",
       "        vertical-align: top;\n",
       "    }\n",
       "\n",
       "    .dataframe thead th {\n",
       "        text-align: right;\n",
       "    }\n",
       "</style>\n",
       "<table border=\"1\" class=\"dataframe\">\n",
       "  <thead>\n",
       "    <tr style=\"text-align: right;\">\n",
       "      <th></th>\n",
       "      <th>mode</th>\n",
       "      <th>cnt_rows_train</th>\n",
       "      <th>cnt_ones_train</th>\n",
       "      <th>F1_train</th>\n",
       "      <th>F1_test</th>\n",
       "    </tr>\n",
       "  </thead>\n",
       "  <tbody>\n",
       "    <tr>\n",
       "      <th>0</th>\n",
       "      <td>TSTR</td>\n",
       "      <td>4932</td>\n",
       "      <td>4928</td>\n",
       "      <td>0.999594</td>\n",
       "      <td>0.723597</td>\n",
       "    </tr>\n",
       "    <tr>\n",
       "      <th>1</th>\n",
       "      <td>TRTR</td>\n",
       "      <td>4932</td>\n",
       "      <td>2867</td>\n",
       "      <td>0.866609</td>\n",
       "      <td>0.827356</td>\n",
       "    </tr>\n",
       "  </tbody>\n",
       "</table>\n",
       "</div>"
      ],
      "text/plain": [
       "   mode  cnt_rows_train  cnt_ones_train  F1_train   F1_test\n",
       "0  TSTR            4932            4928  0.999594  0.723597\n",
       "1  TRTR            4932            2867  0.866609  0.827356"
      ]
     },
     "execution_count": 12,
     "metadata": {},
     "output_type": "execute_result"
    }
   ],
   "source": [
    "df_eval = pd.DataFrame([\n",
    "    eval_model(df_syn_feat, df_test_feat, 'TSTR'),\n",
    "    eval_model(df_train_feat, df_test_feat, 'TRTR')\n",
    "])\n",
    "df_eval"
   ]
  },
  {
   "cell_type": "markdown",
   "id": "7637ce62-4075-4a45-98c8-5f1db98beaaa",
   "metadata": {},
   "source": [
    "## GReaT"
   ]
  },
  {
   "cell_type": "code",
   "execution_count": 1,
   "id": "34c0cdd1-d808-4023-8d1c-d215e0ae6b4e",
   "metadata": {},
   "outputs": [
    {
     "data": {
      "text/plain": [
       "(244206, 8)"
      ]
     },
     "execution_count": 1,
     "metadata": {},
     "output_type": "execute_result"
    }
   ],
   "source": [
    "import pandas as pd\n",
    "df_syn = pd.read_csv('synthetic/act-mooc/great.csv')\n",
    "df_syn.shape"
   ]
  },
  {
   "cell_type": "code",
   "execution_count": 2,
   "id": "284a9f01-5ad9-4f78-984e-4a8f802af491",
   "metadata": {},
   "outputs": [],
   "source": [
    "df_train = pd.read_csv('act-mooc-train.csv.gz')\n",
    "df_test = pd.read_csv('act-mooc-test.csv.gz')"
   ]
  },
  {
   "cell_type": "code",
   "execution_count": 3,
   "id": "b84f0ca1-b764-43bd-ad19-fcb5043d1dcb",
   "metadata": {},
   "outputs": [
    {
     "data": {
      "text/plain": [
       "LABEL\n",
       "0.0    241627\n",
       "1.0      2579\n",
       "Name: count, dtype: int64"
      ]
     },
     "execution_count": 3,
     "metadata": {},
     "output_type": "execute_result"
    }
   ],
   "source": [
    "df_syn['LABEL'].value_counts()"
   ]
  },
  {
   "cell_type": "code",
   "execution_count": 4,
   "id": "5fc4cf13-7988-4f7c-913c-f341d72963e5",
   "metadata": {},
   "outputs": [
    {
     "data": {
      "image/png": "[encoded data removed]",
      "text/plain": [
       "<Figure size 1200x400 with 1 Axes>"
      ]
     },
     "metadata": {},
     "output_type": "display_data"
    }
   ],
   "source": [
    "df_train['TIMESTAMP'].hist(figsize=(12, 4), alpha=.7, bins=30)\n",
    "df_syn['TIMESTAMP'].hist(alpha=.7, bins=30)\n",
    "legend = ['real', 'syn']"
   ]
  },
  {
   "cell_type": "code",
   "execution_count": 5,
   "id": "d4255b11-9ec4-4497-8f0e-b5f4bd131daa",
   "metadata": {},
   "outputs": [
    {
     "data": {
      "text/html": [
       "<div>\n",
       "<style scoped>\n",
       "    .dataframe tbody tr th:only-of-type {\n",
       "        vertical-align: middle;\n",
       "    }\n",
       "\n",
       "    .dataframe tbody tr th {\n",
       "        vertical-align: top;\n",
       "    }\n",
       "\n",
       "    .dataframe thead th {\n",
       "        text-align: right;\n",
       "    }\n",
       "</style>\n",
       "<table border=\"1\" class=\"dataframe\">\n",
       "  <thead>\n",
       "    <tr style=\"text-align: right;\">\n",
       "      <th></th>\n",
       "      <th>USERID</th>\n",
       "      <th>TARGETID</th>\n",
       "      <th>TIMESTAMP</th>\n",
       "      <th>FEATURE0</th>\n",
       "      <th>FEATURE1</th>\n",
       "      <th>FEATURE2</th>\n",
       "      <th>FEATURE3</th>\n",
       "      <th>LABEL</th>\n",
       "    </tr>\n",
       "  </thead>\n",
       "  <tbody>\n",
       "    <tr>\n",
       "      <th>0</th>\n",
       "      <td>1654.0</td>\n",
       "      <td>79.0</td>\n",
       "      <td>2017481.0</td>\n",
       "      <td>-0.319991</td>\n",
       "      <td>-0.435701</td>\n",
       "      <td>0.106784</td>\n",
       "      <td>-0.067309</td>\n",
       "      <td>0.0</td>\n",
       "    </tr>\n",
       "    <tr>\n",
       "      <th>1</th>\n",
       "      <td>6354.0</td>\n",
       "      <td>14.0</td>\n",
       "      <td>1750410.0</td>\n",
       "      <td>2.376173</td>\n",
       "      <td>-0.435701</td>\n",
       "      <td>-0.394237</td>\n",
       "      <td>-0.067309</td>\n",
       "      <td>0.0</td>\n",
       "    </tr>\n",
       "    <tr>\n",
       "      <th>2</th>\n",
       "      <td>1001.0</td>\n",
       "      <td>26.0</td>\n",
       "      <td>715251.0</td>\n",
       "      <td>-0.319991</td>\n",
       "      <td>-0.435701</td>\n",
       "      <td>0.106784</td>\n",
       "      <td>-0.067309</td>\n",
       "      <td>0.0</td>\n",
       "    </tr>\n",
       "    <tr>\n",
       "      <th>3</th>\n",
       "      <td>702.0</td>\n",
       "      <td>39.0</td>\n",
       "      <td>2257908.0</td>\n",
       "      <td>-0.319991</td>\n",
       "      <td>-0.435701</td>\n",
       "      <td>0.106784</td>\n",
       "      <td>-0.067309</td>\n",
       "      <td>0.0</td>\n",
       "    </tr>\n",
       "    <tr>\n",
       "      <th>4</th>\n",
       "      <td>1751.0</td>\n",
       "      <td>6.0</td>\n",
       "      <td>717092.0</td>\n",
       "      <td>-0.319991</td>\n",
       "      <td>-0.435701</td>\n",
       "      <td>0.106784</td>\n",
       "      <td>-0.067309</td>\n",
       "      <td>0.0</td>\n",
       "    </tr>\n",
       "  </tbody>\n",
       "</table>\n",
       "</div>"
      ],
      "text/plain": [
       "   USERID  TARGETID  TIMESTAMP  FEATURE0  FEATURE1  FEATURE2  FEATURE3  LABEL\n",
       "0  1654.0      79.0  2017481.0 -0.319991 -0.435701  0.106784 -0.067309    0.0\n",
       "1  6354.0      14.0  1750410.0  2.376173 -0.435701 -0.394237 -0.067309    0.0\n",
       "2  1001.0      26.0   715251.0 -0.319991 -0.435701  0.106784 -0.067309    0.0\n",
       "3   702.0      39.0  2257908.0 -0.319991 -0.435701  0.106784 -0.067309    0.0\n",
       "4  1751.0       6.0   717092.0 -0.319991 -0.435701  0.106784 -0.067309    0.0"
      ]
     },
     "execution_count": 5,
     "metadata": {},
     "output_type": "execute_result"
    }
   ],
   "source": [
    "df_syn.head()"
   ]
  },
  {
   "cell_type": "code",
   "execution_count": 6,
   "id": "895e8796-30db-4221-8afe-a17467c5fc00",
   "metadata": {},
   "outputs": [
    {
     "data": {
      "image/png": "[encoded data removed]",
      "text/plain": [
       "<Figure size 1200x400 with 1 Axes>"
      ]
     },
     "metadata": {},
     "output_type": "display_data"
    }
   ],
   "source": [
    "df_train['TIMESTAMP'].hist(figsize=(12, 4), alpha=.7, bins=30)\n",
    "df_syn['TIMESTAMP'].clip(upper=df_train['TIMESTAMP'].max()).hist(alpha=.7, bins=30)\n",
    "legend = ['real', 'syn']"
   ]
  },
  {
   "cell_type": "code",
   "execution_count": 7,
   "id": "9f5140fe-f4b7-4c08-ae0d-29ef30ab7e8b",
   "metadata": {},
   "outputs": [
    {
     "data": {
      "text/html": [
       "<div>\n",
       "<style scoped>\n",
       "    .dataframe tbody tr th:only-of-type {\n",
       "        vertical-align: middle;\n",
       "    }\n",
       "\n",
       "    .dataframe tbody tr th {\n",
       "        vertical-align: top;\n",
       "    }\n",
       "\n",
       "    .dataframe thead th {\n",
       "        text-align: right;\n",
       "    }\n",
       "</style>\n",
       "<table border=\"1\" class=\"dataframe\">\n",
       "  <thead>\n",
       "    <tr style=\"text-align: right;\">\n",
       "      <th></th>\n",
       "      <th>Real</th>\n",
       "      <th>Syn</th>\n",
       "    </tr>\n",
       "    <tr>\n",
       "      <th>LABEL</th>\n",
       "      <th></th>\n",
       "      <th></th>\n",
       "    </tr>\n",
       "  </thead>\n",
       "  <tbody>\n",
       "    <tr>\n",
       "      <th>0</th>\n",
       "      <td>268474</td>\n",
       "      <td>241627</td>\n",
       "    </tr>\n",
       "    <tr>\n",
       "      <th>1</th>\n",
       "      <td>2867</td>\n",
       "      <td>2579</td>\n",
       "    </tr>\n",
       "  </tbody>\n",
       "</table>\n",
       "</div>"
      ],
      "text/plain": [
       "         Real     Syn\n",
       "LABEL                \n",
       "0      268474  241627\n",
       "1        2867    2579"
      ]
     },
     "execution_count": 7,
     "metadata": {},
     "output_type": "execute_result"
    }
   ],
   "source": [
    "col = 'LABEL'\n",
    "pd.concat([\n",
    "    df_train[col].value_counts().rename('Real'),\n",
    "    df_syn[col].value_counts().rename('Syn'),\n",
    "], axis=1)"
   ]
  },
  {
   "cell_type": "code",
   "execution_count": 8,
   "id": "75189760-fc6e-45d7-a9da-cdb911b38a67",
   "metadata": {},
   "outputs": [
    {
     "name": "stdout",
     "output_type": "stream",
     "text": [
      "USERID: real - 4932, 4587\n",
      "TARGETID: real - 97, 97\n"
     ]
    }
   ],
   "source": [
    "for col in ['USERID', 'TARGETID']:\n",
    "    print(f'{col}: real - {df_train[col].nunique()}, {df_syn[col].nunique()}')"
   ]
  },
  {
   "cell_type": "code",
   "execution_count": 12,
   "id": "36eb3077-c4ca-4447-a829-00aa4d205bcf",
   "metadata": {},
   "outputs": [
    {
     "data": {
      "text/plain": [
       "((4932, 12), (2115, 12), (4587, 12))"
      ]
     },
     "execution_count": 12,
     "metadata": {},
     "output_type": "execute_result"
    }
   ],
   "source": [
    "df_train_feat = get_features(df_train)\n",
    "df_test_feat = get_features(df_test)\n",
    "df_syn_feat = get_features(df_syn)\n",
    "df_train_feat.shape, df_test_feat.shape, df_syn_feat.shape"
   ]
  },
  {
   "cell_type": "code",
   "execution_count": 13,
   "id": "e062b471-cdd2-4629-9d53-c428838e1ee1",
   "metadata": {},
   "outputs": [],
   "source": [
    "df_syn_feat = df_syn_feat.astype(df_train_feat.dtypes)"
   ]
  },
  {
   "cell_type": "code",
   "execution_count": 14,
   "id": "8b207500-47ae-4361-affe-5cf9d0151e71",
   "metadata": {},
   "outputs": [
    {
     "data": {
      "text/html": [
       "<div>\n",
       "<style scoped>\n",
       "    .dataframe tbody tr th:only-of-type {\n",
       "        vertical-align: middle;\n",
       "    }\n",
       "\n",
       "    .dataframe tbody tr th {\n",
       "        vertical-align: top;\n",
       "    }\n",
       "\n",
       "    .dataframe thead th {\n",
       "        text-align: right;\n",
       "    }\n",
       "</style>\n",
       "<table border=\"1\" class=\"dataframe\">\n",
       "  <thead>\n",
       "    <tr style=\"text-align: right;\">\n",
       "      <th></th>\n",
       "      <th>mode</th>\n",
       "      <th>cnt_rows_train</th>\n",
       "      <th>cnt_ones_train</th>\n",
       "      <th>F1_train</th>\n",
       "      <th>F1_test</th>\n",
       "    </tr>\n",
       "  </thead>\n",
       "  <tbody>\n",
       "    <tr>\n",
       "      <th>0</th>\n",
       "      <td>TSTR</td>\n",
       "      <td>4587</td>\n",
       "      <td>1501</td>\n",
       "      <td>0.517709</td>\n",
       "      <td>0.289107</td>\n",
       "    </tr>\n",
       "    <tr>\n",
       "      <th>1</th>\n",
       "      <td>TRTR</td>\n",
       "      <td>4932</td>\n",
       "      <td>2867</td>\n",
       "      <td>0.866609</td>\n",
       "      <td>0.827356</td>\n",
       "    </tr>\n",
       "  </tbody>\n",
       "</table>\n",
       "</div>"
      ],
      "text/plain": [
       "   mode  cnt_rows_train  cnt_ones_train  F1_train   F1_test\n",
       "0  TSTR            4587            1501  0.517709  0.289107\n",
       "1  TRTR            4932            2867  0.866609  0.827356"
      ]
     },
     "execution_count": 14,
     "metadata": {},
     "output_type": "execute_result"
    }
   ],
   "source": [
    "df_eval = pd.DataFrame([\n",
    "    eval_model(df_syn_feat, df_test_feat, 'TSTR'),\n",
    "    eval_model(df_train_feat, df_test_feat, 'TRTR')\n",
    "])\n",
    "df_eval"
   ]
  }
 ],
 "metadata": {
  "kernelspec": {
   "display_name": "Python 3 (ipykernel)",
   "language": "python",
   "name": "python3"
  },
  "language_info": {
   "codemirror_mode": {
    "name": "ipython",
    "version": 3
   },
   "file_extension": ".py",
   "mimetype": "text/x-python",
   "name": "python",
   "nbconvert_exporter": "python",
   "pygments_lexer": "ipython3",
   "version": "3.10.12"
  }
 },
 "nbformat": 4,
 "nbformat_minor": 5
}
