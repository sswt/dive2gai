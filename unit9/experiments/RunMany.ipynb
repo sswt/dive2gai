{
 "cells": [
  {
   "cell_type": "markdown",
   "id": "89dafd53-595f-4b94-ac2b-a130637ed547",
   "metadata": {},
   "source": [
    "# Run other models from tabsyn repo\n",
    "\n",
    "* tabddpm\n",
    "* stasy\n",
    "* codi\n",
    "* great\n",
    "\n",
    "**NOTE:** You have to run RunTabSyn.ipynb up to Prepare-data-for-model section, to make this notebook work"
   ]
  },
  {
   "cell_type": "markdown",
   "id": "762967f9-d6c2-400e-b0d2-d6b27051bb76",
   "metadata": {},
   "source": [
    "## TabDDPM\n",
    "\n",
    "36 min for training with 10000 epochs and 90 min for sampling"
   ]
  },
  {
   "cell_type": "code",
   "execution_count": 1,
   "id": "3edc63ea-7c56-4749-aed5-6fd0d068bbc0",
   "metadata": {},
   "outputs": [],
   "source": [
    "from tabsyn_lib.src.util import load_config, dump_config"
   ]
  },
  {
   "cell_type": "code",
   "execution_count": 7,
   "id": "66d5f0cf-3e0f-40aa-80d2-fc921d7a1209",
   "metadata": {},
   "outputs": [],
   "source": [
    "# it is logging too much, let's turn it down\n",
    "!sed -i 's/self.log_every = 1/self.log_every = 50/' tabsyn_lib/baselines/tabddpm/train.py"
   ]
  },
  {
   "cell_type": "code",
   "execution_count": 10,
   "id": "da03f372-915f-4370-8465-82a374121a62",
   "metadata": {},
   "outputs": [],
   "source": [
    "# fix script bug\n",
    "!sed -i 's/save_path = args.save_path/save_path = sample_save_path + \"\\/sampled.csv\"/' tabsyn_lib/baselines/tabddpm/sample.py"
   ]
  },
  {
   "cell_type": "code",
   "execution_count": 2,
   "id": "2a3a2ab9-3b46-4935-850c-f35f0fcef99c",
   "metadata": {},
   "outputs": [],
   "source": [
    "conf = load_config('tabsyn_lib/baselines/tabddpm/configs/adult.toml')"
   ]
  },
  {
   "cell_type": "code",
   "execution_count": 3,
   "id": "47ad6f5b-b028-410c-8ea3-8fe0cf8df837",
   "metadata": {},
   "outputs": [],
   "source": [
    "conf['parent_dir'] = 'tabsyn_lib/baselines/tabddpm/configs/act-mooc'\n",
    "conf['model_save_path'] = 'tabsyn_lib/baselines/tabddpm/ckpt/act-mooc'\n",
    "conf['sample_save_path'] = 'tabsyn_lib/baselines/tabddpm/sampled/act-mooc'\n",
    "conf['real_data_path'] = 'act-mooc-train.csv.gz'\n",
    "conf['num_numerical_features'] = 5\n",
    "conf['sample']['num_samples'] = 271341\n",
    "conf['train']['main']['steps'] = 100000 // 10"
   ]
  },
  {
   "cell_type": "code",
   "execution_count": 4,
   "id": "ded3ecb7-dddd-4a75-ab3a-d755ee085406",
   "metadata": {},
   "outputs": [],
   "source": [
    "dump_config(conf, 'tabsyn_lib/baselines/tabddpm/configs/act-mooc.toml')"
   ]
  },
  {
   "cell_type": "code",
   "execution_count": 5,
   "id": "4cc8627e-a1ff-44c0-8c6d-f6dffde99de6",
   "metadata": {},
   "outputs": [
    {
     "data": {
      "text/plain": [
       "{'parent_dir': 'tabsyn_lib/baselines/tabddpm/configs/adult',\n",
       " 'model_save_path': 'tabsyn_lib/baselines/tabddpm/ckpt/adult',\n",
       " 'sample_save_path': 'tabsyn_lib/baselines/tabddpm/sampled/adult',\n",
       " 'real_data_path': 'act-mooc-train.csv.gz',\n",
       " 'num_numerical_features': 5,\n",
       " 'model_type': 'mlp',\n",
       " 'task_type': 'binclass',\n",
       " 'model_params': {'num_classes': 2,\n",
       "  'is_y_cond': False,\n",
       "  'rtdl_params': {'d_layers': [1024, 2048, 2048, 1024], 'dropout': 0.0}},\n",
       " 'diffusion_params': {'num_timesteps': 1000, 'gaussian_loss_type': 'mse'},\n",
       " 'train': {'main': {'steps': 10000,\n",
       "   'lr': 0.001809824563637657,\n",
       "   'weight_decay': 0.0005,\n",
       "   'batch_size': 4096},\n",
       "  'T': {'seed': 0,\n",
       "   'normalization': 'quantile',\n",
       "   'num_nan_policy': 'mean',\n",
       "   'cat_nan_policy': None,\n",
       "   'cat_min_frequency': None,\n",
       "   'cat_encoding': None,\n",
       "   'y_policy': 'default'}},\n",
       " 'sample': {'num_samples': 271341, 'batch_size': 10000, 'seed': 0},\n",
       " 'eval': {'type': {'eval_model': 'mlp', 'eval_type': 'synthetic'},\n",
       "  'T': {'seed': 0,\n",
       "   'normalization': 'quantile',\n",
       "   'num_nan_policy': None,\n",
       "   'cat_nan_policy': None,\n",
       "   'cat_min_frequency': None,\n",
       "   'cat_encoding': 'one-hot',\n",
       "   'y_policy': 'default'}}}"
      ]
     },
     "execution_count": 5,
     "metadata": {},
     "output_type": "execute_result"
    }
   ],
   "source": [
    "conf"
   ]
  },
  {
   "cell_type": "code",
   "execution_count": null,
   "id": "8bc35355-974e-4cc4-a980-9d7a983c0a6f",
   "metadata": {
    "scrolled": true
   },
   "outputs": [],
   "source": [
    "%time !python tabsyn_lib/main.py --dataname act-mooc --method tabddpm --mode train"
   ]
  },
  {
   "cell_type": "code",
   "execution_count": null,
   "id": "e5893c3b-e8ba-4630-8b43-4410d12f1135",
   "metadata": {},
   "outputs": [],
   "source": [
    "!python tabsyn_lib/main.py --dataname act-mooc --method tabddpm --mode sample  # --save_path [PATH_TO_SAVE]"
   ]
  },
  {
   "cell_type": "markdown",
   "id": "7d6a0f26-c5e0-49cf-b1dd-6d64896b5430",
   "metadata": {},
   "source": [
    "## STaSy"
   ]
  },
  {
   "cell_type": "code",
   "execution_count": 15,
   "id": "fcb24648-6b77-429f-ad78-eb1d024594ed",
   "metadata": {},
   "outputs": [],
   "source": [
    "# sklearn has changed API in version 1.2\n",
    "!sed -i 's/sparse=False/sparse_output=False/' tabsyn_lib/src/data.py"
   ]
  },
  {
   "cell_type": "code",
   "execution_count": 6,
   "id": "878e6ebb-9742-4e6c-b31c-8df60f83d4fc",
   "metadata": {},
   "outputs": [],
   "source": [
    "# get rid of parallel processing due to errors with shm\n",
    "!sed -i 's/num_workers=4/num_workers=0/' tabsyn_lib/baselines/stasy/main.py"
   ]
  },
  {
   "cell_type": "code",
   "execution_count": null,
   "id": "862ff479-7638-4027-8bef-192de032b2db",
   "metadata": {},
   "outputs": [],
   "source": [
    "# Prevent ERROR: Unexpected bus error encountered in worker. This might be caused by insufficient shared memory (shm).\n",
    "%time !python tabsyn_lib/main.py --dataname act-mooc --method stasy --mode train"
   ]
  },
  {
   "cell_type": "code",
   "execution_count": null,
   "id": "60c0a1a7-5de0-41c9-9e0b-4d3bd840dc85",
   "metadata": {},
   "outputs": [],
   "source": [
    "!python main.py --dataname act-mooc --method stasy --mode sample  # --save_path [PATH_TO_SAVE]"
   ]
  },
  {
   "cell_type": "markdown",
   "id": "7ca7bdac-5d9b-4a73-bbfb-fcffe8b69a1e",
   "metadata": {},
   "source": [
    "## CoDi"
   ]
  },
  {
   "cell_type": "code",
   "execution_count": null,
   "id": "97e095ba-f02d-45c0-bfbf-f1228af6d63b",
   "metadata": {},
   "outputs": [],
   "source": [
    "# 90s / iteration, 60 iterations per epoch\n",
    "%time !python tabsyn_lib/main.py --dataname act-mooc --method codi --mode train --total_epochs_both 20"
   ]
  },
  {
   "cell_type": "code",
   "execution_count": null,
   "id": "8782c7d1-8e2c-4de2-ba28-75c25f6dc1e9",
   "metadata": {},
   "outputs": [],
   "source": [
    "!python main.py --dataname act-mooc --method codi --mode sample  # --save_path [PATH_TO_SAVE]"
   ]
  },
  {
   "cell_type": "markdown",
   "id": "41af2958-495d-4d20-934d-5e66e14df477",
   "metadata": {},
   "source": [
    "## GReaT\n",
    "\n",
    "14 hours for 25 epochs (default 100 in baselines/great/main.py:25)"
   ]
  },
  {
   "cell_type": "code",
   "execution_count": null,
   "id": "0c937bbb-5a3f-4dba-a03a-8dbb4085e02b",
   "metadata": {},
   "outputs": [],
   "source": [
    "%time !python tabsyn_lib/main.py --dataname act-mooc --method great --mode train"
   ]
  },
  {
   "cell_type": "code",
   "execution_count": null,
   "id": "a1700615-e15d-43ef-adf5-d1e9765fbdc3",
   "metadata": {},
   "outputs": [],
   "source": [
    "!python main.py --dataname act-mooc --method great --mode sample  # --save_path [PATH_TO_SAVE]"
   ]
  }
 ],
 "metadata": {
  "kernelspec": {
   "display_name": "Python 3 (ipykernel)",
   "language": "python",
   "name": "python3"
  },
  "language_info": {
   "codemirror_mode": {
    "name": "ipython",
    "version": 3
   },
   "file_extension": ".py",
   "mimetype": "text/x-python",
   "name": "python",
   "nbconvert_exporter": "python",
   "pygments_lexer": "ipython3",
   "version": "3.10.12"
  }
 },
 "nbformat": 4,
 "nbformat_minor": 5
}
