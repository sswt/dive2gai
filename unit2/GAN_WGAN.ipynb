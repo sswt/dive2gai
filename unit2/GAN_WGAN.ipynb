{
  "cells": [
    {
      "cell_type": "code",
      "execution_count": 10,
      "metadata": {
        "id": "qxw4RSmAqz2h"
      },
      "outputs": [],
      "source": [
        "import numpy as np\n",
        "\n",
        "import torchvision.transforms as transforms\n",
        "\n",
        "from torch.utils.data import DataLoader\n",
        "from torchvision import datasets\n",
        "from torch.autograd import Variable\n",
        "\n",
        "import torch.nn as nn\n",
        "import torch.nn.functional as F\n",
        "import torch\n",
        "from torchvision.utils import save_image\n",
        "from torchsummary import summary"
      ]
    },
    {
      "cell_type": "code",
      "execution_count": 2,
      "metadata": {
        "id": "qamto5njtbtk"
      },
      "outputs": [],
      "source": [
        "channels = 1 # suggested default : 1, number of image channels (gray scale)\n",
        "img_size = 28 # suggested default : 28, size of each image dimension\n",
        "img_shape = (channels, img_size, img_size) # (Channels, Image Size(H), Image Size(W))"
      ]
    },
    {
      "cell_type": "code",
      "execution_count": 3,
      "metadata": {
        "id": "Kabmruz_tejf"
      },
      "outputs": [],
      "source": [
        "latent_dim = 100 # suggested default. dimensionality of the latent space\n",
        "lr = 0.00005"
      ]
    },
    {
      "cell_type": "code",
      "execution_count": 4,
      "metadata": {
        "colab": {
          "base_uri": "https://localhost:8080/"
        },
        "id": "riVdw_5ltqVA",
        "outputId": "1f285ff9-5a39-41e8-926e-54d01131caf4"
      },
      "outputs": [
        {
          "output_type": "execute_result",
          "data": {
            "text/plain": [
              "True"
            ]
          },
          "metadata": {},
          "execution_count": 4
        }
      ],
      "source": [
        "cuda = True if torch.cuda.is_available() else False # GPU Setting\n",
        "cuda"
      ]
    },
    {
      "cell_type": "code",
      "execution_count": 5,
      "metadata": {
        "id": "yDnFvuq87gpg"
      },
      "outputs": [],
      "source": [
        "n_classes = 10"
      ]
    },
    {
      "cell_type": "code",
      "execution_count": 20,
      "metadata": {
        "id": "lKgzohZ-tsHm",
        "colab": {
          "base_uri": "https://localhost:8080/"
        },
        "outputId": "e314a1a7-7414-4857-b1f0-499007e5fff8"
      },
      "outputs": [
        {
          "output_type": "stream",
          "name": "stdout",
          "text": [
            "----------------------------------------------------------------\n",
            "        Layer (type)               Output Shape         Param #\n",
            "================================================================\n",
            "            Linear-1                 [-1, 6272]         633,472\n",
            "       BatchNorm2d-2            [-1, 128, 7, 7]             256\n",
            "          Upsample-3          [-1, 128, 14, 14]               0\n",
            "            Conv2d-4          [-1, 128, 14, 14]         147,584\n",
            "       BatchNorm2d-5          [-1, 128, 14, 14]             256\n",
            "         LeakyReLU-6          [-1, 128, 14, 14]               0\n",
            "          Upsample-7          [-1, 128, 28, 28]               0\n",
            "            Conv2d-8           [-1, 64, 28, 28]          73,792\n",
            "       BatchNorm2d-9           [-1, 64, 28, 28]             128\n",
            "        LeakyReLU-10           [-1, 64, 28, 28]               0\n",
            "           Conv2d-11            [-1, 1, 28, 28]             577\n",
            "             Tanh-12            [-1, 1, 28, 28]               0\n",
            "================================================================\n",
            "Total params: 856,065\n",
            "Trainable params: 856,065\n",
            "Non-trainable params: 0\n",
            "----------------------------------------------------------------\n",
            "Input size (MB): 0.00\n",
            "Forward/backward pass size (MB): 2.79\n",
            "Params size (MB): 3.27\n",
            "Estimated Total Size (MB): 6.05\n",
            "----------------------------------------------------------------\n"
          ]
        }
      ],
      "source": [
        "import math\n",
        "class Generator(nn.Module):\n",
        "    def __init__(self):\n",
        "        super(Generator, self).__init__()\n",
        "\n",
        "        self.init_size = img_size // 4\n",
        "        self.l1 = nn.Sequential(nn.Linear(latent_dim, 128 * self.init_size ** 2))\n",
        "\n",
        "        self.conv_blocks = nn.Sequential(\n",
        "            nn.BatchNorm2d(128),\n",
        "            nn.Upsample(scale_factor=2),\n",
        "            nn.Conv2d(128, 128, 3, stride=1, padding=1),\n",
        "            nn.BatchNorm2d(128, 0.8),\n",
        "            nn.LeakyReLU(0.2, inplace=True),\n",
        "            nn.Upsample(scale_factor=2),\n",
        "            nn.Conv2d(128, 64, 3, stride=1, padding=1),\n",
        "            nn.BatchNorm2d(64, 0.8),\n",
        "            nn.LeakyReLU(0.2, inplace=True),\n",
        "            nn.Conv2d(64, channels, 3, stride=1, padding=1),\n",
        "            nn.Tanh(),\n",
        "        )\n",
        "\n",
        "    def forward(self, z):\n",
        "        out = self.l1(z)\n",
        "        out = out.view(out.shape[0], 128, self.init_size, self.init_size)\n",
        "        img = self.conv_blocks(out)\n",
        "        return img\n",
        "\n",
        "summary(Generator().to(\"cuda\"), (100,))"
      ]
    },
    {
      "cell_type": "code",
      "execution_count": 21,
      "metadata": {
        "id": "VFGF5-K5txO2",
        "colab": {
          "base_uri": "https://localhost:8080/"
        },
        "outputId": "16be3771-ad4c-455c-b6ab-b254b4acb1d9"
      },
      "outputs": [
        {
          "output_type": "stream",
          "name": "stdout",
          "text": [
            "----------------------------------------------------------------\n",
            "        Layer (type)               Output Shape         Param #\n",
            "================================================================\n",
            "            Conv2d-1           [-1, 64, 13, 13]           1,088\n",
            "       BatchNorm2d-2           [-1, 64, 13, 13]             128\n",
            "         LeakyReLU-3           [-1, 64, 13, 13]               0\n",
            "            Conv2d-4            [-1, 128, 5, 5]         131,200\n",
            "       BatchNorm2d-5            [-1, 128, 5, 5]             256\n",
            "         LeakyReLU-6            [-1, 128, 5, 5]               0\n",
            "            Conv2d-7              [-1, 1, 1, 1]           2,049\n",
            "================================================================\n",
            "Total params: 134,721\n",
            "Trainable params: 134,721\n",
            "Non-trainable params: 0\n",
            "----------------------------------------------------------------\n",
            "Input size (MB): 0.00\n",
            "Forward/backward pass size (MB): 0.32\n",
            "Params size (MB): 0.51\n",
            "Estimated Total Size (MB): 0.84\n",
            "----------------------------------------------------------------\n"
          ]
        }
      ],
      "source": [
        "class Discriminator(nn.Module):\n",
        "    def __init__(self):\n",
        "        super(Discriminator, self).__init__()\n",
        "\n",
        "        def discriminator_block(in_filters, out_filters):\n",
        "            block = [\n",
        "                nn.Conv2d(in_filters, out_filters, 4, 2, 0),\n",
        "                nn.BatchNorm2d(out_filters),\n",
        "                nn.LeakyReLU(0.2, inplace=True)\n",
        "                ]\n",
        "            return block\n",
        "\n",
        "        self.model = nn.Sequential(\n",
        "            *discriminator_block(channels, 64),\n",
        "            *discriminator_block(64, 128),\n",
        "        )\n",
        "        self.adv_layer = nn.Sequential(\n",
        "                nn.Conv2d(128, 1, 4, 2, 0),\n",
        "            )\n",
        "\n",
        "    def forward(self, img):\n",
        "        out = self.model(img)\n",
        "        validity = self.adv_layer(out)\n",
        "\n",
        "        return validity\n",
        "\n",
        "summary(Discriminator().to(\"cuda\") , (1,28,28))"
      ]
    },
    {
      "cell_type": "code",
      "execution_count": 22,
      "metadata": {
        "id": "OnmPxUa4t4yF"
      },
      "outputs": [],
      "source": [
        "generator = Generator()\n",
        "discriminator = Discriminator()"
      ]
    },
    {
      "cell_type": "code",
      "execution_count": 23,
      "metadata": {
        "colab": {
          "base_uri": "https://localhost:8080/"
        },
        "id": "Hi7HcX7At7JU",
        "outputId": "17231d9b-8091-46a3-ea76-7858858554bc"
      },
      "outputs": [
        {
          "output_type": "execute_result",
          "data": {
            "text/plain": [
              "Generator(\n",
              "  (l1): Sequential(\n",
              "    (0): Linear(in_features=100, out_features=6272, bias=True)\n",
              "  )\n",
              "  (conv_blocks): Sequential(\n",
              "    (0): BatchNorm2d(128, eps=1e-05, momentum=0.1, affine=True, track_running_stats=True)\n",
              "    (1): Upsample(scale_factor=2.0, mode='nearest')\n",
              "    (2): Conv2d(128, 128, kernel_size=(3, 3), stride=(1, 1), padding=(1, 1))\n",
              "    (3): BatchNorm2d(128, eps=0.8, momentum=0.1, affine=True, track_running_stats=True)\n",
              "    (4): LeakyReLU(negative_slope=0.2, inplace=True)\n",
              "    (5): Upsample(scale_factor=2.0, mode='nearest')\n",
              "    (6): Conv2d(128, 64, kernel_size=(3, 3), stride=(1, 1), padding=(1, 1))\n",
              "    (7): BatchNorm2d(64, eps=0.8, momentum=0.1, affine=True, track_running_stats=True)\n",
              "    (8): LeakyReLU(negative_slope=0.2, inplace=True)\n",
              "    (9): Conv2d(64, 1, kernel_size=(3, 3), stride=(1, 1), padding=(1, 1))\n",
              "    (10): Tanh()\n",
              "  )\n",
              ")"
            ]
          },
          "metadata": {},
          "execution_count": 23
        }
      ],
      "source": [
        "generator\n"
      ]
    },
    {
      "cell_type": "code",
      "execution_count": 24,
      "metadata": {
        "colab": {
          "base_uri": "https://localhost:8080/"
        },
        "id": "YNN53FGBt8iR",
        "outputId": "dd9ef984-786d-4e95-ca13-18a0bb53b0f0"
      },
      "outputs": [
        {
          "output_type": "execute_result",
          "data": {
            "text/plain": [
              "Discriminator(\n",
              "  (model): Sequential(\n",
              "    (0): Conv2d(1, 64, kernel_size=(4, 4), stride=(2, 2))\n",
              "    (1): BatchNorm2d(64, eps=1e-05, momentum=0.1, affine=True, track_running_stats=True)\n",
              "    (2): LeakyReLU(negative_slope=0.2, inplace=True)\n",
              "    (3): Conv2d(64, 128, kernel_size=(4, 4), stride=(2, 2))\n",
              "    (4): BatchNorm2d(128, eps=1e-05, momentum=0.1, affine=True, track_running_stats=True)\n",
              "    (5): LeakyReLU(negative_slope=0.2, inplace=True)\n",
              "  )\n",
              "  (adv_layer): Sequential(\n",
              "    (0): Conv2d(128, 1, kernel_size=(4, 4), stride=(2, 2))\n",
              "  )\n",
              ")"
            ]
          },
          "metadata": {},
          "execution_count": 24
        }
      ],
      "source": [
        "discriminator\n"
      ]
    },
    {
      "cell_type": "code",
      "execution_count": 25,
      "metadata": {
        "colab": {
          "base_uri": "https://localhost:8080/"
        },
        "id": "2XIXn3pen8LK",
        "outputId": "ee538764-c57e-4d86-b4f9-cdffa2383458"
      },
      "outputs": [
        {
          "output_type": "stream",
          "name": "stdout",
          "text": [
            "+----------------------+------------+\n",
            "|       Modules        | Parameters |\n",
            "+----------------------+------------+\n",
            "|     l1.0.weight      |   627200   |\n",
            "|      l1.0.bias       |    6272    |\n",
            "| conv_blocks.0.weight |    128     |\n",
            "|  conv_blocks.0.bias  |    128     |\n",
            "| conv_blocks.2.weight |   147456   |\n",
            "|  conv_blocks.2.bias  |    128     |\n",
            "| conv_blocks.3.weight |    128     |\n",
            "|  conv_blocks.3.bias  |    128     |\n",
            "| conv_blocks.6.weight |   73728    |\n",
            "|  conv_blocks.6.bias  |     64     |\n",
            "| conv_blocks.7.weight |     64     |\n",
            "|  conv_blocks.7.bias  |     64     |\n",
            "| conv_blocks.9.weight |    576     |\n",
            "|  conv_blocks.9.bias  |     1      |\n",
            "+----------------------+------------+\n",
            "Total Trainable Params: 856065\n",
            "856065\n",
            "+--------------------+------------+\n",
            "|      Modules       | Parameters |\n",
            "+--------------------+------------+\n",
            "|   model.0.weight   |    1024    |\n",
            "|    model.0.bias    |     64     |\n",
            "|   model.1.weight   |     64     |\n",
            "|    model.1.bias    |     64     |\n",
            "|   model.3.weight   |   131072   |\n",
            "|    model.3.bias    |    128     |\n",
            "|   model.4.weight   |    128     |\n",
            "|    model.4.bias    |    128     |\n",
            "| adv_layer.0.weight |    2048    |\n",
            "|  adv_layer.0.bias  |     1      |\n",
            "+--------------------+------------+\n",
            "Total Trainable Params: 134721\n",
            "134721\n"
          ]
        }
      ],
      "source": [
        "from prettytable import PrettyTable\n",
        "\n",
        "def count_parameters(model):\n",
        "    table = PrettyTable([\"Modules\", \"Parameters\"])\n",
        "    total_params = 0\n",
        "    for name, parameter in model.named_parameters():\n",
        "        if not parameter.requires_grad:\n",
        "            continue\n",
        "        params = parameter.numel()\n",
        "        table.add_row([name, params])\n",
        "        total_params += params\n",
        "    print(table)\n",
        "    print(f\"Total Trainable Params: {total_params}\")\n",
        "    return total_params\n",
        "\n",
        "print(count_parameters(generator))\n",
        "print(count_parameters(discriminator))"
      ]
    },
    {
      "cell_type": "code",
      "execution_count": 26,
      "metadata": {
        "id": "RhrliMmTt9xs"
      },
      "outputs": [],
      "source": [
        "if cuda:\n",
        "    generator.cuda()\n",
        "    discriminator.cuda()"
      ]
    },
    {
      "cell_type": "code",
      "execution_count": 27,
      "metadata": {
        "id": "o2V7jeIauDLJ"
      },
      "outputs": [],
      "source": [
        "import pandas as pd\n",
        "from torch.utils.data import Dataset\n",
        "from torchvision.datasets import MNIST"
      ]
    },
    {
      "cell_type": "code",
      "execution_count": 28,
      "metadata": {
        "id": "ycoPxABuuIIQ",
        "colab": {
          "base_uri": "https://localhost:8080/"
        },
        "outputId": "51a79195-5dc4-4e96-e6a5-9fe6b1f84408"
      },
      "outputs": [
        {
          "output_type": "stream",
          "name": "stdout",
          "text": [
            "Downloading http://yann.lecun.com/exdb/mnist/train-images-idx3-ubyte.gz\n",
            "Downloading http://yann.lecun.com/exdb/mnist/train-images-idx3-ubyte.gz to ./data/MNIST/raw/train-images-idx3-ubyte.gz\n"
          ]
        },
        {
          "output_type": "stream",
          "name": "stderr",
          "text": [
            "100%|██████████| 9912422/9912422 [00:00<00:00, 118804718.51it/s]\n"
          ]
        },
        {
          "output_type": "stream",
          "name": "stdout",
          "text": [
            "Extracting ./data/MNIST/raw/train-images-idx3-ubyte.gz to ./data/MNIST/raw\n",
            "\n",
            "Downloading http://yann.lecun.com/exdb/mnist/train-labels-idx1-ubyte.gz\n",
            "Downloading http://yann.lecun.com/exdb/mnist/train-labels-idx1-ubyte.gz to ./data/MNIST/raw/train-labels-idx1-ubyte.gz\n"
          ]
        },
        {
          "output_type": "stream",
          "name": "stderr",
          "text": [
            "100%|██████████| 28881/28881 [00:00<00:00, 14923702.58it/s]\n"
          ]
        },
        {
          "output_type": "stream",
          "name": "stdout",
          "text": [
            "Extracting ./data/MNIST/raw/train-labels-idx1-ubyte.gz to ./data/MNIST/raw\n",
            "\n",
            "Downloading http://yann.lecun.com/exdb/mnist/t10k-images-idx3-ubyte.gz\n",
            "Downloading http://yann.lecun.com/exdb/mnist/t10k-images-idx3-ubyte.gz to ./data/MNIST/raw/t10k-images-idx3-ubyte.gz\n"
          ]
        },
        {
          "output_type": "stream",
          "name": "stderr",
          "text": [
            "100%|██████████| 1648877/1648877 [00:00<00:00, 30551271.80it/s]\n"
          ]
        },
        {
          "output_type": "stream",
          "name": "stdout",
          "text": [
            "Extracting ./data/MNIST/raw/t10k-images-idx3-ubyte.gz to ./data/MNIST/raw\n",
            "\n",
            "Downloading http://yann.lecun.com/exdb/mnist/t10k-labels-idx1-ubyte.gz\n",
            "Downloading http://yann.lecun.com/exdb/mnist/t10k-labels-idx1-ubyte.gz to ./data/MNIST/raw/t10k-labels-idx1-ubyte.gz\n"
          ]
        },
        {
          "output_type": "stream",
          "name": "stderr",
          "text": [
            "100%|██████████| 4542/4542 [00:00<00:00, 20288103.05it/s]\n"
          ]
        },
        {
          "output_type": "stream",
          "name": "stdout",
          "text": [
            "Extracting ./data/MNIST/raw/t10k-labels-idx1-ubyte.gz to ./data/MNIST/raw\n",
            "\n"
          ]
        }
      ],
      "source": [
        "batch_size = 64\n",
        "\n",
        "img_transform = transforms.Compose([\n",
        "    transforms.ToTensor(),\n",
        "    transforms.Normalize((0.5,), (0.5,))  # to scale images from [0, 1] to [-1, -1]\n",
        "])\n",
        "\n",
        "dataset = MNIST('./data', transform=img_transform, download=True)\n",
        "dataloader = DataLoader(dataset, batch_size=batch_size, shuffle=True)"
      ]
    },
    {
      "cell_type": "code",
      "execution_count": 29,
      "metadata": {
        "id": "lwlsGtCruKyT"
      },
      "outputs": [],
      "source": [
        "# Define data loading step\n",
        "\n",
        "batch_size = 64\n",
        "\n",
        "kwargs = {'num_workers': 1, 'pin_memory': True}\n",
        "train_loader = torch.utils.data.DataLoader(\n",
        "    MNIST('./data', train=True, download=True,\n",
        "                   transform=transforms.ToTensor()),\n",
        "    batch_size=batch_size, shuffle=True, **kwargs)\n",
        "test_loader = torch.utils.data.DataLoader(\n",
        "    MNIST('./data', train=False, transform=transforms.ToTensor()),\n",
        "    batch_size=batch_size, shuffle=True, **kwargs)"
      ]
    },
    {
      "cell_type": "code",
      "execution_count": 30,
      "metadata": {
        "id": "9IXfe-4Du-Xe"
      },
      "outputs": [],
      "source": [
        "# suggested default - learning rate\n",
        "lr = 0.00005\n",
        "clip_value = 0.01\n",
        "n_critic = 5"
      ]
    },
    {
      "cell_type": "code",
      "execution_count": 31,
      "metadata": {
        "id": "pbxamJ764E-5"
      },
      "outputs": [],
      "source": [
        "optimizer_G = torch.optim.RMSprop(generator.parameters(), lr=lr)\n",
        "optimizer_D = torch.optim.RMSprop(discriminator.parameters(), lr=lr)"
      ]
    },
    {
      "cell_type": "code",
      "execution_count": 32,
      "metadata": {
        "id": "NDkNv_wP4H8H"
      },
      "outputs": [],
      "source": [
        "Tensor = torch.cuda.FloatTensor if cuda else torch.FloatTensor"
      ]
    },
    {
      "cell_type": "code",
      "execution_count": 33,
      "metadata": {
        "id": "RypJjFdfAehi"
      },
      "outputs": [],
      "source": [
        "sample_interval = 200"
      ]
    },
    {
      "cell_type": "code",
      "execution_count": 34,
      "metadata": {
        "id": "TmjguwqT4J9M"
      },
      "outputs": [],
      "source": [
        "# Visualize result\n",
        "import matplotlib.pyplot as plt\n",
        "from tqdm.notebook import tqdm\n",
        "\n"
      ]
    },
    {
      "cell_type": "code",
      "execution_count": null,
      "metadata": {
        "colab": {
          "base_uri": "https://localhost:8080/",
          "height": 219,
          "referenced_widgets": [
            "a9d9312412594939a6b45b186375c820",
            "0f0e8e24e7124c6684b18bca9fc88bdb",
            "5a85485357af453088b778d2a21048b3",
            "efb20e33412145178e4dca360242907c",
            "d2674ca54ca24a97a38e97abb457d9c5",
            "27e74e61d1b54a42b32524b8005ba056",
            "c4b63bb6858e46fca1429aaf332f6e5d",
            "3ce4582114d74267b7a0e60902ffbeb2",
            "7da8c853aa27460d96ab46a5894a1a13",
            "a5ef949a69a04ef1a727a06c02c7edb7",
            "6e0e33b71e6c4445a3f336e2cd7df3ea"
          ]
        },
        "id": "pOfFKp93eirS",
        "outputId": "5a7b165d-c51e-4c53-fc85-1c6e5d66c375"
      },
      "outputs": [
        {
          "output_type": "display_data",
          "data": {
            "text/plain": [
              "  0%|          | 0/938 [00:00<?, ?it/s]"
            ],
            "application/vnd.jupyter.widget-view+json": {
              "version_major": 2,
              "version_minor": 0,
              "model_id": "a9d9312412594939a6b45b186375c820"
            }
          },
          "metadata": {}
        },
        {
          "output_type": "display_data",
          "data": {
            "text/plain": [
              "<Figure size 800x200 with 5 Axes>"
            ],
            "image/png": "[encoded data removed]"
          },
          "metadata": {}
        }
      ],
      "source": [
        "n_epochs = 25 # suggested default = 200\n",
        "for epoch in range(n_epochs):\n",
        "    for i, (imgs, _) in enumerate(tqdm(dataloader)): # This code(enumerate) is dealt with once more in the *TEST_CODE below.\n",
        "                                                     # Used 'tqdm' for showing progress\n",
        "\n",
        "        real_imgs = Variable(imgs.type(Tensor))\n",
        "        optimizer_D.zero_grad()\n",
        "        z = Variable(Tensor(np.random.normal(0, 1, (imgs.shape[0], latent_dim))))\n",
        "        fake_imgs = generator(z).detach()\n",
        "        loss_D = -torch.mean(discriminator(real_imgs)) + torch.mean(discriminator(fake_imgs))\n",
        "        loss_D.backward()\n",
        "        optimizer_D.step()\n",
        "        for p in discriminator.parameters():\n",
        "            p.data.clamp_(-clip_value, clip_value)\n",
        "\n",
        "        if i % n_critic == 0:\n",
        "\n",
        "          optimizer_G.zero_grad()\n",
        "          gen_imgs = generator(z)\n",
        "          loss_G = -torch.mean(discriminator(gen_imgs))\n",
        "          loss_G.backward()\n",
        "          optimizer_G.step()\n",
        "\n",
        "        sample_z_in_train = Tensor(np.random.normal(0, 1, (imgs.shape[0],latent_dim)))\n",
        "        # z.shape == torch.Size([64, 100])\n",
        "        sample_gen_imgs_in_train = generator(sample_z_in_train).detach().cpu()\n",
        "        # gen_imgs.shape == torch.Size([64, 1, 28, 28])\n",
        "\n",
        "        if ((i+1) % 200) == 0: # show while batch - 200/657, 400/657, 600/657\n",
        "            nrow=1\n",
        "            ncols=5\n",
        "            fig, axes = plt.subplots(nrows=nrow,ncols=ncols, figsize=(8,2))\n",
        "            plt.suptitle('EPOCH : {} | BATCH(ITERATION) : {}'.format(epoch+1, i+1))\n",
        "            for ncol in range(ncols):\n",
        "                axes[ncol].imshow(sample_gen_imgs_in_train.permute(0,2,3,1)[ncol], cmap='gray')\n",
        "                axes[ncol].axis('off')\n",
        "            plt.show()\n",
        "    print(\n",
        "        \"[Epoch: %d/%d] [Batch: %d/%d] [D loss: %f] [G loss: %f]\"\n",
        "        % (epoch+1, n_epochs, i+1, len(dataloader), loss_D.item(), loss_G.item())\n",
        "    )\n"
      ]
    },
    {
      "cell_type": "code",
      "execution_count": null,
      "metadata": {
        "colab": {
          "base_uri": "https://localhost:8080/"
        },
        "id": "04EhIhcxg6RB",
        "outputId": "36205043-06ee-4959-d61f-fc73b1329364"
      },
      "outputs": [
        {
          "data": {
            "text/plain": [
              "torch.Size([64, 100])"
            ]
          },
          "execution_count": 97,
          "metadata": {},
          "output_type": "execute_result"
        }
      ],
      "source": [
        "# latent vector\n",
        "sample_z = Tensor(np.random.normal(0, 1, (64,100)))\n",
        "gen_labels = Variable(LongTensor(np.random.randint(0, 1, 64)))\n",
        "sample_z.shape\n"
      ]
    },
    {
      "cell_type": "code",
      "execution_count": null,
      "metadata": {
        "colab": {
          "base_uri": "https://localhost:8080/"
        },
        "id": "ZS9J3evqNDWe",
        "outputId": "65adc93b-2df5-4c6e-dcc9-d2475e769270"
      },
      "outputs": [
        {
          "data": {
            "text/plain": [
              "tensor([0, 0, 0, 0, 0, 0, 0, 0, 0, 0, 0, 0, 0, 0, 0, 0, 0, 0, 0, 0, 0, 0, 0, 0,\n",
              "        0, 0, 0, 0, 0, 0, 0, 0, 0, 0, 0, 0, 0, 0, 0, 0, 0, 0, 0, 0, 0, 0, 0, 0,\n",
              "        0, 0, 0, 0, 0, 0, 0, 0, 0, 0, 0, 0, 0, 0, 0, 0])"
            ]
          },
          "execution_count": 98,
          "metadata": {},
          "output_type": "execute_result"
        }
      ],
      "source": [
        "gen_labels"
      ]
    },
    {
      "cell_type": "code",
      "execution_count": null,
      "metadata": {
        "colab": {
          "base_uri": "https://localhost:8080/"
        },
        "id": "9KtOvtVShKCd",
        "outputId": "79a948ce-e8ea-460f-8832-c760e1393296"
      },
      "outputs": [
        {
          "data": {
            "text/plain": [
              "torch.Size([64, 1, 28, 28])"
            ]
          },
          "execution_count": 99,
          "metadata": {},
          "output_type": "execute_result"
        }
      ],
      "source": [
        "# generated images\n",
        "sample_gen_imgs = generator(sample_z, gen_labels).detach().cpu()\n",
        "sample_gen_imgs.shape\n"
      ]
    },
    {
      "cell_type": "code",
      "execution_count": null,
      "metadata": {
        "colab": {
          "base_uri": "https://localhost:8080/"
        },
        "id": "IbksNFvtNNUu",
        "outputId": "86683b90-95ea-459c-97db-b72093df556f"
      },
      "outputs": [
        {
          "data": {
            "text/plain": [
              "tensor([[ 0.6992, -0.8500, -0.0608,  ...,  0.3409, -0.1906, -0.2261],\n",
              "        [-2.1442,  0.7354,  1.7101,  ..., -0.2065, -0.5593,  0.2933],\n",
              "        [-1.0458,  0.5229, -0.3818,  ...,  1.0772, -0.3782,  0.0617],\n",
              "        ...,\n",
              "        [-0.1482, -3.5027,  0.9046,  ..., -0.1874,  0.9147,  0.6183],\n",
              "        [ 1.3290,  1.3970, -0.0315,  ...,  1.0073,  0.1389, -0.3026],\n",
              "        [-1.5164, -0.6712,  0.4882,  ..., -1.2048, -0.0739,  0.3403]])"
            ]
          },
          "execution_count": 79,
          "metadata": {},
          "output_type": "execute_result"
        }
      ],
      "source": [
        "sample_z"
      ]
    },
    {
      "cell_type": "code",
      "execution_count": null,
      "metadata": {
        "colab": {
          "base_uri": "https://localhost:8080/",
          "height": 197
        },
        "id": "XT4eL1hhicZ9",
        "outputId": "739cc00f-2e45-4b61-e495-9348a9292d49"
      },
      "outputs": [
        {
          "data": {
            "image/png": "[encoded data removed]",
            "text/plain": [
              "<Figure size 3200x400 with 16 Axes>"
            ]
          },
          "metadata": {},
          "output_type": "display_data"
        }
      ],
      "source": [
        "nrow=1\n",
        "ncols=16\n",
        "fig, axes = plt.subplots(nrows=nrow,ncols=ncols, figsize=(32,4))\n",
        "plt.suptitle('EPOCH : {} | BATCH(ITERATION) : {}'.format(epoch+1, i+1))\n",
        "for ncol in range(ncols):\n",
        "    axes[ncol].imshow(sample_gen_imgs.permute(0,2,3,1)[ncol], cmap='gray')\n",
        "    axes[ncol].axis('off')\n",
        "plt.show()"
      ]
    },
    {
      "cell_type": "code",
      "execution_count": null,
      "metadata": {
        "id": "2DNZW4HMhOJe"
      },
      "outputs": [],
      "source": [
        "def show(img):\n",
        "    npimg = img.numpy()\n",
        "    plt.imshow(np.transpose(npimg, (1, 2, 0)), cmap='gray')"
      ]
    },
    {
      "cell_type": "code",
      "execution_count": null,
      "metadata": {
        "colab": {
          "base_uri": "https://localhost:8080/",
          "height": 430
        },
        "id": "03oYRbgjhfXb",
        "outputId": "7800133a-519b-4ec2-aba1-5bd1da31caa6"
      },
      "outputs": [
        {
          "data": {
            "image/png": "[encoded data removed]",
            "text/plain": [
              "<Figure size 640x480 with 1 Axes>"
            ]
          },
          "metadata": {},
          "output_type": "display_data"
        }
      ],
      "source": [
        "show(sample_gen_imgs[3, :, :, :].detach())"
      ]
    },
    {
      "cell_type": "markdown",
      "source": [
        "# WGAN With Gradient Penalty"
      ],
      "metadata": {
        "id": "FoTFcg2OSq4l"
      }
    },
    {
      "cell_type": "code",
      "source": [
        "def compute_gradient_penalty(D, real_samples, fake_samples):\n",
        "    \"\"\"Calculates the gradient penalty loss for WGAN GP\"\"\"\n",
        "    # Random weight term for interpolation between real and fake samples\n",
        "    alpha = Tensor(np.random.random((real_samples.size(0), 1, 1, 1)))\n",
        "    # Get random interpolation between real and fake samples\n",
        "    interpolates = (alpha * real_samples + ((1 - alpha) * fake_samples)).requires_grad_(True)\n",
        "    d_interpolates = D(interpolates)\n",
        "    fake = Variable(Tensor(real_samples.shape[0], 1).fill_(1.0), requires_grad=False)\n",
        "    # Get gradient w.r.t. interpolates\n",
        "    gradients = autograd.grad(\n",
        "        outputs=d_interpolates,\n",
        "        inputs=interpolates,\n",
        "        grad_outputs=fake,\n",
        "        create_graph=True,\n",
        "        retain_graph=True,\n",
        "        only_inputs=True,\n",
        "    )[0]\n",
        "    gradients = gradients.view(gradients.size(0), -1)\n",
        "    gradient_penalty = ((gradients.norm(2, dim=1) - 1) ** 2).mean()\n",
        "    return gradient_penalty"
      ],
      "metadata": {
        "id": "09QEzlUMStDb"
      },
      "execution_count": 1,
      "outputs": []
    },
    {
      "cell_type": "code",
      "source": [
        "generator = Generator()\n",
        "discriminator = Discriminator()"
      ],
      "metadata": {
        "colab": {
          "base_uri": "https://localhost:8080/",
          "height": 195
        },
        "id": "uQ-Hi9VHSuwI",
        "outputId": "657daf5b-c76f-4754-f226-979e3414b27f"
      },
      "execution_count": 2,
      "outputs": [
        {
          "output_type": "error",
          "ename": "NameError",
          "evalue": "ignored",
          "traceback": [
            "\u001b[0;31m---------------------------------------------------------------------------\u001b[0m",
            "\u001b[0;31mNameError\u001b[0m                                 Traceback (most recent call last)",
            "\u001b[0;32m<ipython-input-2-e27bc5f0ec7f>\u001b[0m in \u001b[0;36m<cell line: 1>\u001b[0;34m()\u001b[0m\n\u001b[0;32m----> 1\u001b[0;31m \u001b[0mgenerator\u001b[0m \u001b[0;34m=\u001b[0m \u001b[0mGenerator\u001b[0m\u001b[0;34m(\u001b[0m\u001b[0;34m)\u001b[0m\u001b[0;34m\u001b[0m\u001b[0;34m\u001b[0m\u001b[0m\n\u001b[0m\u001b[1;32m      2\u001b[0m \u001b[0mdiscriminator\u001b[0m \u001b[0;34m=\u001b[0m \u001b[0mDiscriminator\u001b[0m\u001b[0;34m(\u001b[0m\u001b[0;34m)\u001b[0m\u001b[0;34m\u001b[0m\u001b[0;34m\u001b[0m\u001b[0m\n",
            "\u001b[0;31mNameError\u001b[0m: name 'Generator' is not defined"
          ]
        }
      ]
    },
    {
      "cell_type": "code",
      "source": [],
      "metadata": {
        "id": "ZojvMgbNSxml"
      },
      "execution_count": null,
      "outputs": []
    }
  ],
  "metadata": {
    "colab": {
      "provenance": [],
      "gpuType": "T4"
    },
    "kernelspec": {
      "display_name": "Python 3",
      "name": "python3"
    },
    "language_info": {
      "name": "python"
    },
    "widgets": {
      "application/vnd.jupyter.widget-state+json": {
        "a9d9312412594939a6b45b186375c820": {
          "model_module": "@jupyter-widgets/controls",
          "model_name": "HBoxModel",
          "model_module_version": "1.5.0",
          "state": {
            "_dom_classes": [],
            "_model_module": "@jupyter-widgets/controls",
            "_model_module_version": "1.5.0",
            "_model_name": "HBoxModel",
            "_view_count": null,
            "_view_module": "@jupyter-widgets/controls",
            "_view_module_version": "1.5.0",
            "_view_name": "HBoxView",
            "box_style": "",
            "children": [
              "IPY_MODEL_0f0e8e24e7124c6684b18bca9fc88bdb",
              "IPY_MODEL_5a85485357af453088b778d2a21048b3",
              "IPY_MODEL_efb20e33412145178e4dca360242907c"
            ],
            "layout": "IPY_MODEL_d2674ca54ca24a97a38e97abb457d9c5"
          }
        },
        "0f0e8e24e7124c6684b18bca9fc88bdb": {
          "model_module": "@jupyter-widgets/controls",
          "model_name": "HTMLModel",
          "model_module_version": "1.5.0",
          "state": {
            "_dom_classes": [],
            "_model_module": "@jupyter-widgets/controls",
            "_model_module_version": "1.5.0",
            "_model_name": "HTMLModel",
            "_view_count": null,
            "_view_module": "@jupyter-widgets/controls",
            "_view_module_version": "1.5.0",
            "_view_name": "HTMLView",
            "description": "",
            "description_tooltip": null,
            "layout": "IPY_MODEL_27e74e61d1b54a42b32524b8005ba056",
            "placeholder": "​",
            "style": "IPY_MODEL_c4b63bb6858e46fca1429aaf332f6e5d",
            "value": " 22%"
          }
        },
        "5a85485357af453088b778d2a21048b3": {
          "model_module": "@jupyter-widgets/controls",
          "model_name": "FloatProgressModel",
          "model_module_version": "1.5.0",
          "state": {
            "_dom_classes": [],
            "_model_module": "@jupyter-widgets/controls",
            "_model_module_version": "1.5.0",
            "_model_name": "FloatProgressModel",
            "_view_count": null,
            "_view_module": "@jupyter-widgets/controls",
            "_view_module_version": "1.5.0",
            "_view_name": "ProgressView",
            "bar_style": "",
            "description": "",
            "description_tooltip": null,
            "layout": "IPY_MODEL_3ce4582114d74267b7a0e60902ffbeb2",
            "max": 938,
            "min": 0,
            "orientation": "horizontal",
            "style": "IPY_MODEL_7da8c853aa27460d96ab46a5894a1a13",
            "value": 207
          }
        },
        "efb20e33412145178e4dca360242907c": {
          "model_module": "@jupyter-widgets/controls",
          "model_name": "HTMLModel",
          "model_module_version": "1.5.0",
          "state": {
            "_dom_classes": [],
            "_model_module": "@jupyter-widgets/controls",
            "_model_module_version": "1.5.0",
            "_model_name": "HTMLModel",
            "_view_count": null,
            "_view_module": "@jupyter-widgets/controls",
            "_view_module_version": "1.5.0",
            "_view_name": "HTMLView",
            "description": "",
            "description_tooltip": null,
            "layout": "IPY_MODEL_a5ef949a69a04ef1a727a06c02c7edb7",
            "placeholder": "​",
            "style": "IPY_MODEL_6e0e33b71e6c4445a3f336e2cd7df3ea",
            "value": " 207/938 [00:07&lt;00:29, 24.46it/s]"
          }
        },
        "d2674ca54ca24a97a38e97abb457d9c5": {
          "model_module": "@jupyter-widgets/base",
          "model_name": "LayoutModel",
          "model_module_version": "1.2.0",
          "state": {
            "_model_module": "@jupyter-widgets/base",
            "_model_module_version": "1.2.0",
            "_model_name": "LayoutModel",
            "_view_count": null,
            "_view_module": "@jupyter-widgets/base",
            "_view_module_version": "1.2.0",
            "_view_name": "LayoutView",
            "align_content": null,
            "align_items": null,
            "align_self": null,
            "border": null,
            "bottom": null,
            "display": null,
            "flex": null,
            "flex_flow": null,
            "grid_area": null,
            "grid_auto_columns": null,
            "grid_auto_flow": null,
            "grid_auto_rows": null,
            "grid_column": null,
            "grid_gap": null,
            "grid_row": null,
            "grid_template_areas": null,
            "grid_template_columns": null,
            "grid_template_rows": null,
            "height": null,
            "justify_content": null,
            "justify_items": null,
            "left": null,
            "margin": null,
            "max_height": null,
            "max_width": null,
            "min_height": null,
            "min_width": null,
            "object_fit": null,
            "object_position": null,
            "order": null,
            "overflow": null,
            "overflow_x": null,
            "overflow_y": null,
            "padding": null,
            "right": null,
            "top": null,
            "visibility": null,
            "width": null
          }
        },
        "27e74e61d1b54a42b32524b8005ba056": {
          "model_module": "@jupyter-widgets/base",
          "model_name": "LayoutModel",
          "model_module_version": "1.2.0",
          "state": {
            "_model_module": "@jupyter-widgets/base",
            "_model_module_version": "1.2.0",
            "_model_name": "LayoutModel",
            "_view_count": null,
            "_view_module": "@jupyter-widgets/base",
            "_view_module_version": "1.2.0",
            "_view_name": "LayoutView",
            "align_content": null,
            "align_items": null,
            "align_self": null,
            "border": null,
            "bottom": null,
            "display": null,
            "flex": null,
            "flex_flow": null,
            "grid_area": null,
            "grid_auto_columns": null,
            "grid_auto_flow": null,
            "grid_auto_rows": null,
            "grid_column": null,
            "grid_gap": null,
            "grid_row": null,
            "grid_template_areas": null,
            "grid_template_columns": null,
            "grid_template_rows": null,
            "height": null,
            "justify_content": null,
            "justify_items": null,
            "left": null,
            "margin": null,
            "max_height": null,
            "max_width": null,
            "min_height": null,
            "min_width": null,
            "object_fit": null,
            "object_position": null,
            "order": null,
            "overflow": null,
            "overflow_x": null,
            "overflow_y": null,
            "padding": null,
            "right": null,
            "top": null,
            "visibility": null,
            "width": null
          }
        },
        "c4b63bb6858e46fca1429aaf332f6e5d": {
          "model_module": "@jupyter-widgets/controls",
          "model_name": "DescriptionStyleModel",
          "model_module_version": "1.5.0",
          "state": {
            "_model_module": "@jupyter-widgets/controls",
            "_model_module_version": "1.5.0",
            "_model_name": "DescriptionStyleModel",
            "_view_count": null,
            "_view_module": "@jupyter-widgets/base",
            "_view_module_version": "1.2.0",
            "_view_name": "StyleView",
            "description_width": ""
          }
        },
        "3ce4582114d74267b7a0e60902ffbeb2": {
          "model_module": "@jupyter-widgets/base",
          "model_name": "LayoutModel",
          "model_module_version": "1.2.0",
          "state": {
            "_model_module": "@jupyter-widgets/base",
            "_model_module_version": "1.2.0",
            "_model_name": "LayoutModel",
            "_view_count": null,
            "_view_module": "@jupyter-widgets/base",
            "_view_module_version": "1.2.0",
            "_view_name": "LayoutView",
            "align_content": null,
            "align_items": null,
            "align_self": null,
            "border": null,
            "bottom": null,
            "display": null,
            "flex": null,
            "flex_flow": null,
            "grid_area": null,
            "grid_auto_columns": null,
            "grid_auto_flow": null,
            "grid_auto_rows": null,
            "grid_column": null,
            "grid_gap": null,
            "grid_row": null,
            "grid_template_areas": null,
            "grid_template_columns": null,
            "grid_template_rows": null,
            "height": null,
            "justify_content": null,
            "justify_items": null,
            "left": null,
            "margin": null,
            "max_height": null,
            "max_width": null,
            "min_height": null,
            "min_width": null,
            "object_fit": null,
            "object_position": null,
            "order": null,
            "overflow": null,
            "overflow_x": null,
            "overflow_y": null,
            "padding": null,
            "right": null,
            "top": null,
            "visibility": null,
            "width": null
          }
        },
        "7da8c853aa27460d96ab46a5894a1a13": {
          "model_module": "@jupyter-widgets/controls",
          "model_name": "ProgressStyleModel",
          "model_module_version": "1.5.0",
          "state": {
            "_model_module": "@jupyter-widgets/controls",
            "_model_module_version": "1.5.0",
            "_model_name": "ProgressStyleModel",
            "_view_count": null,
            "_view_module": "@jupyter-widgets/base",
            "_view_module_version": "1.2.0",
            "_view_name": "StyleView",
            "bar_color": null,
            "description_width": ""
          }
        },
        "a5ef949a69a04ef1a727a06c02c7edb7": {
          "model_module": "@jupyter-widgets/base",
          "model_name": "LayoutModel",
          "model_module_version": "1.2.0",
          "state": {
            "_model_module": "@jupyter-widgets/base",
            "_model_module_version": "1.2.0",
            "_model_name": "LayoutModel",
            "_view_count": null,
            "_view_module": "@jupyter-widgets/base",
            "_view_module_version": "1.2.0",
            "_view_name": "LayoutView",
            "align_content": null,
            "align_items": null,
            "align_self": null,
            "border": null,
            "bottom": null,
            "display": null,
            "flex": null,
            "flex_flow": null,
            "grid_area": null,
            "grid_auto_columns": null,
            "grid_auto_flow": null,
            "grid_auto_rows": null,
            "grid_column": null,
            "grid_gap": null,
            "grid_row": null,
            "grid_template_areas": null,
            "grid_template_columns": null,
            "grid_template_rows": null,
            "height": null,
            "justify_content": null,
            "justify_items": null,
            "left": null,
            "margin": null,
            "max_height": null,
            "max_width": null,
            "min_height": null,
            "min_width": null,
            "object_fit": null,
            "object_position": null,
            "order": null,
            "overflow": null,
            "overflow_x": null,
            "overflow_y": null,
            "padding": null,
            "right": null,
            "top": null,
            "visibility": null,
            "width": null
          }
        },
        "6e0e33b71e6c4445a3f336e2cd7df3ea": {
          "model_module": "@jupyter-widgets/controls",
          "model_name": "DescriptionStyleModel",
          "model_module_version": "1.5.0",
          "state": {
            "_model_module": "@jupyter-widgets/controls",
            "_model_module_version": "1.5.0",
            "_model_name": "DescriptionStyleModel",
            "_view_count": null,
            "_view_module": "@jupyter-widgets/base",
            "_view_module_version": "1.2.0",
            "_view_name": "StyleView",
            "description_width": ""
          }
        }
      }
    },
    "accelerator": "GPU"
  },
  "nbformat": 4,
  "nbformat_minor": 0
}