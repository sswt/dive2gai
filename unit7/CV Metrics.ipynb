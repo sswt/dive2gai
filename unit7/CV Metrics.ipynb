{
 "cells": [
  {
   "cell_type": "markdown",
   "metadata": {
    "id": "1czVdIlqnImH"
   },
   "source": [
    "# Метрики качества Генерации (Изображение)"
   ]
  },
  {
   "cell_type": "markdown",
   "metadata": {
    "id": "1KD3ZgLs80vY"
   },
   "source": [
    "### Цели\n",
    "В этом ноутбуке, возникающих при оценке GAN, а также о способе их решения, который называется Fréchet Inception Distance (FID).\n",
    "\n",
    "### Задачи обучения\n",
    "1.   Понять проблемы, связанные с оценкой качества GAN.\n",
    "2.   Написать код для оценки IS.\n",
    "2.   Написать код для оценки расстояния Фреше.\n",
    "3.    \n",
    "\n",
    "\n",
    "Ссылки:\n",
    "\n",
    "1. [A Note on the Inception Score](https://arxiv.org/pdf/1801.01973.pdf)\n",
    "2. [A Study on the Evaluation of Generative Models](https://arxiv.org/pdf/2206.10935.pdf)\n",
    "3. [Pros and Cons of GAN Evaluation Measures](https://arxiv.org/pdf/2103.09396.pdf)\n",
    "4. [Improved Tech for Training GAN](https://arxiv.org/pdf/1606.03498.pdf)\n",
    "5. [Analyzing and Improving the Image Quality of StyleGAN](https://arxiv.org/pdf/1912.04958.pdf)"
   ]
  },
  {
   "cell_type": "markdown",
   "metadata": {
    "id": "YcjvPOSMSCzL"
   },
   "source": [
    "## Проблемы, связанные с оценкой GAN-систем\n",
    "\n",
    "#### Функции потерь неинформативны\n",
    "Одним из аспектов, затрудняющих оценку GAN, является то, что функция потерь мало что говорят нам об их эффективности. В отличие от классификаторов, где низкий уровень потерь на тестовом наборе свидетельствует о высокой эффективности, низкий уровень потерь для генератора или дискриминатора говорит о том, что обучение прекратилось.\n",
    "\n",
    "\n",
    "#### Нет четкой нечеловеческой метрики.\n",
    "Если определить цель GAN как \"генерирование изображений, которые кажутся людям реальными\", то технически это можно измерить напрямую: [можно попросить людей выступить в роли дискриминатора](https://arxiv.org/abs/1904.01121). Однако это требует значительных затрат времени и средств, поэтому в идеале для этого можно использовать прокси. Также не существует \"идеального\" дискриминатора, который мог бы отличить подлинники от подделок - если бы он существовал, то многие задачи машинного обучения были бы решены ;)\n",
    "\n",
    "В этом блокноте вы реализуете метод Fréchet Inception Distance, который призван решить эти проблемы."
   ]
  },
  {
   "cell_type": "markdown",
   "metadata": {},
   "source": [
    "## Оценка качества GAN моделей\n",
    "Как оценивать качество генеративных моделей?\n",
    "**Likelihood** модели\n",
    "* Разбить данные на train/val/test\n",
    "* Обучить модели на train\n",
    "* Потюнить гиперпараметры на валидации\n",
    "* Оценить обобщение модели на тестовом множестве\n",
    "\n",
    "Не **Likelihood** модели\n",
    "* VAE: compare ELBO values\n",
    "* GAN: ????"
   ]
  },
  {
   "cell_type": "code",
   "execution_count": null,
   "metadata": {},
   "outputs": [],
   "source": []
  },
  {
   "cell_type": "markdown",
   "metadata": {
    "id": "wU8DDM6l9rZb"
   },
   "source": [
    "## Начало работы\n",
    "В этом блокноте мы будем использовать [CelebA](http://mmlab.ie.cuhk.edu.hk/projects/CelebA.html). Начнем с загрузки предварительно обученного генератора, который был обучен на CelebA."
   ]
  },
  {
   "cell_type": "markdown",
   "metadata": {
    "id": "gsTReUckdFQh"
   },
   "source": [
    "Здесь вы импортируете некоторые полезные библиотеки и пакеты"
   ]
  },
  {
   "cell_type": "code",
   "execution_count": 1,
   "metadata": {
    "id": "JfkorNJrnmNO"
   },
   "outputs": [],
   "source": [
    "import torch\n",
    "import numpy as np\n",
    "from torch import nn\n",
    "from tqdm.auto import tqdm\n",
    "from torchvision import transforms\n",
    "from torchvision.datasets import CelebA\n",
    "from torchvision.utils import make_grid\n",
    "from torch.utils.data import DataLoader\n",
    "import matplotlib.pyplot as plt\n",
    "torch.manual_seed(0) # Set for our testing purposes, please do not change!\n",
    "\n",
    "class Generator(nn.Module):\n",
    "    '''\n",
    "    Generator Class\n",
    "    Values:\n",
    "        z_dim: the dimension of the noise vector, a scalar\n",
    "        im_chan: the number of channels in the images, fitted for the dataset used, a scalar\n",
    "              (CelebA is rgb, so 3 is your default)\n",
    "        hidden_dim: the inner dimension, a scalar\n",
    "    '''\n",
    "    def __init__(self, z_dim=10, im_chan=3, hidden_dim=64):\n",
    "        super(Generator, self).__init__()\n",
    "        self.z_dim = z_dim\n",
    "        # Build the neural network\n",
    "        self.gen = nn.Sequential(\n",
    "            self.make_gen_block(z_dim, hidden_dim * 8),\n",
    "            self.make_gen_block(hidden_dim * 8, hidden_dim * 4),\n",
    "            self.make_gen_block(hidden_dim * 4, hidden_dim * 2),\n",
    "            self.make_gen_block(hidden_dim * 2, hidden_dim),\n",
    "            self.make_gen_block(hidden_dim, im_chan, kernel_size=4, final_layer=True),\n",
    "        )\n",
    "\n",
    "    def make_gen_block(self, input_channels, output_channels, kernel_size=3, stride=2, final_layer=False):\n",
    "        '''\n",
    "        Function to return a sequence of operations corresponding to a generator block of DCGAN;\n",
    "        a transposed convolution, a batchnorm (except in the final layer), and an activation.\n",
    "        Parameters:\n",
    "            input_channels: how many channels the input feature representation has\n",
    "            output_channels: how many channels the output feature representation should have\n",
    "            kernel_size: the size of each convolutional filter, equivalent to (kernel_size, kernel_size)\n",
    "            stride: the stride of the convolution\n",
    "            final_layer: a boolean, true if it is the final layer and false otherwise\n",
    "                      (affects activation and batchnorm)\n",
    "        '''\n",
    "        if not final_layer:\n",
    "            return nn.Sequential(\n",
    "                nn.ConvTranspose2d(input_channels, output_channels, kernel_size, stride),\n",
    "                nn.BatchNorm2d(output_channels),\n",
    "                nn.ReLU(inplace=True),\n",
    "            )\n",
    "        else:\n",
    "            return nn.Sequential(\n",
    "                nn.ConvTranspose2d(input_channels, output_channels, kernel_size, stride),\n",
    "                nn.Tanh(),\n",
    "            )\n",
    "\n",
    "    def forward(self, noise):\n",
    "        '''\n",
    "        Function for completing a forward pass of the generator: Given a noise tensor,\n",
    "        returns generated images.\n",
    "        Parameters:\n",
    "            noise: a noise tensor with dimensions (n_samples, z_dim)\n",
    "        '''\n",
    "        x = noise.view(len(noise), self.z_dim, 1, 1)\n",
    "        return self.gen(x)\n",
    "\n",
    "def get_noise(n_samples, z_dim, device='cpu'):\n",
    "    '''\n",
    "    Function for creating noise vectors: Given the dimensions (n_samples, z_dim)\n",
    "    creates a tensor of that shape filled with random numbers from the normal distribution.\n",
    "    Parameters:\n",
    "        n_samples: the number of samples to generate, a scalar\n",
    "        z_dim: the dimension of the noise vector, a scalar\n",
    "        device: the device type\n",
    "    '''\n",
    "    return torch.randn(n_samples, z_dim, device=device)"
   ]
  },
  {
   "cell_type": "markdown",
   "metadata": {
    "id": "qRk_8azSq3tF"
   },
   "source": [
    "## Загрузка предварительно обученной модели\n",
    "\n",
    "Теперь можно задать аргументы для модели и загрузить набор данных:\n",
    "  * z_dim: размерность вектора шума\n",
    "  * image_size: размер изображения на входе в Inception\n",
    "  * device: тип устройства"
   ]
  },
  {
   "cell_type": "code",
   "execution_count": 15,
   "metadata": {
    "id": "XBWB60sj3qgd"
   },
   "outputs": [],
   "source": [
    "# !gdown --id 1O8LE-FpN79Diu6aCvppH5HwlcR5I--PX\n",
    "# !mkdir data\n",
    "!unzip -qq img_align_celeba.zip -d data"
   ]
  },
  {
   "cell_type": "code",
   "execution_count": 1,
   "metadata": {
    "id": "UXptQZcwrBrq"
   },
   "outputs": [
    {
     "name": "stderr",
     "output_type": "stream",
     "text": [
      "/home/mteterin/.local/lib/python3.8/site-packages/torchvision/io/image.py:13: UserWarning: Failed to load image Python extension: '/home/mteterin/.local/lib/python3.8/site-packages/torchvision/image.so: undefined symbol: _ZN3c104cuda9SetDeviceEi'If you don't plan on using image functionality from `torchvision.io`, you can ignore this warning. Otherwise, there might be something wrong with your environment. Did you have `libjpeg` or `libpng` installed before building `torchvision` from source?\n",
      "  warn(\n"
     ]
    },
    {
     "ename": "NameError",
     "evalue": "name 'transforms' is not defined",
     "output_type": "error",
     "traceback": [
      "\u001b[0;31m---------------------------------------------------------------------------\u001b[0m",
      "\u001b[0;31mNameError\u001b[0m                                 Traceback (most recent call last)",
      "Cell \u001b[0;32mIn [1], line 6\u001b[0m\n\u001b[1;32m      3\u001b[0m image_size \u001b[38;5;241m=\u001b[39m \u001b[38;5;241m299\u001b[39m\n\u001b[1;32m      4\u001b[0m device \u001b[38;5;241m=\u001b[39m \u001b[38;5;124m'\u001b[39m\u001b[38;5;124mcuda\u001b[39m\u001b[38;5;124m'\u001b[39m\n\u001b[0;32m----> 6\u001b[0m transform \u001b[38;5;241m=\u001b[39m \u001b[43mtransforms\u001b[49m\u001b[38;5;241m.\u001b[39mCompose([\n\u001b[1;32m      7\u001b[0m     transforms\u001b[38;5;241m.\u001b[39mResize(image_size),\n\u001b[1;32m      8\u001b[0m     transforms\u001b[38;5;241m.\u001b[39mCenterCrop(image_size),\n\u001b[1;32m      9\u001b[0m     transforms\u001b[38;5;241m.\u001b[39mToTensor(),\n\u001b[1;32m     10\u001b[0m     transforms\u001b[38;5;241m.\u001b[39mNormalize((\u001b[38;5;241m0.5\u001b[39m, \u001b[38;5;241m0.5\u001b[39m, \u001b[38;5;241m0.5\u001b[39m), (\u001b[38;5;241m0.5\u001b[39m, \u001b[38;5;241m0.5\u001b[39m, \u001b[38;5;241m0.5\u001b[39m)),\n\u001b[1;32m     11\u001b[0m ])\n\u001b[1;32m     13\u001b[0m dataset \u001b[38;5;241m=\u001b[39m ImageFolder(root\u001b[38;5;241m=\u001b[39m\u001b[38;5;124m\"\u001b[39m\u001b[38;5;124m./data\u001b[39m\u001b[38;5;124m\"\u001b[39m, transform\u001b[38;5;241m=\u001b[39mtransform)\n",
      "\u001b[0;31mNameError\u001b[0m: name 'transforms' is not defined"
     ]
    }
   ],
   "source": [
    "from torchvision.datasets import ImageFolder\n",
    "z_dim = 64\n",
    "image_size = 299\n",
    "device = 'cuda'\n",
    "\n",
    "transform = transforms.Compose([\n",
    "    transforms.Resize(image_size),\n",
    "    transforms.CenterCrop(image_size),\n",
    "    transforms.ToTensor(),\n",
    "    transforms.Normalize((0.5, 0.5, 0.5), (0.5, 0.5, 0.5)),\n",
    "])\n",
    "\n",
    "dataset = ImageFolder(root=\"./data\", transform=transform)"
   ]
  },
  {
   "cell_type": "markdown",
   "metadata": {
    "id": "VJvvJ7GDVcyi"
   },
   "source": [
    "Затем можно загрузить и инициализировать модель с весами из предварительно обученной модели. Это позволяет использовать предварительно обученную модель так же, как если бы вы обучали ее самостоятельно."
   ]
  },
  {
   "cell_type": "code",
   "execution_count": 2,
   "metadata": {
    "id": "m5-yxnpDVSzv"
   },
   "outputs": [
    {
     "ename": "NameError",
     "evalue": "name 'Generator' is not defined",
     "output_type": "error",
     "traceback": [
      "\u001b[0;31m---------------------------------------------------------------------------\u001b[0m",
      "\u001b[0;31mNameError\u001b[0m                                 Traceback (most recent call last)",
      "Cell \u001b[0;32mIn [2], line 1\u001b[0m\n\u001b[0;32m----> 1\u001b[0m gen \u001b[38;5;241m=\u001b[39m \u001b[43mGenerator\u001b[49m(z_dim)\u001b[38;5;241m.\u001b[39mto(\u001b[38;5;124m\"\u001b[39m\u001b[38;5;124mcpu\u001b[39m\u001b[38;5;124m\"\u001b[39m)\n\u001b[1;32m      2\u001b[0m gen\u001b[38;5;241m.\u001b[39mload_state_dict(torch\u001b[38;5;241m.\u001b[39mload(\u001b[38;5;124mf\u001b[39m\u001b[38;5;124m\"\u001b[39m\u001b[38;5;124mpretrained_celeba.pth\u001b[39m\u001b[38;5;124m\"\u001b[39m, map_location\u001b[38;5;241m=\u001b[39mtorch\u001b[38;5;241m.\u001b[39mdevice(\u001b[38;5;124m\"\u001b[39m\u001b[38;5;124mcpu\u001b[39m\u001b[38;5;124m\"\u001b[39m))[\u001b[38;5;124m\"\u001b[39m\u001b[38;5;124mgen\u001b[39m\u001b[38;5;124m\"\u001b[39m])\n\u001b[1;32m      3\u001b[0m gen \u001b[38;5;241m=\u001b[39m gen\u001b[38;5;241m.\u001b[39meval()\n",
      "\u001b[0;31mNameError\u001b[0m: name 'Generator' is not defined"
     ]
    }
   ],
   "source": [
    "gen = Generator(z_dim).to(\"cpu\")\n",
    "gen.load_state_dict(torch.load(f\"pretrained_celeba.pth\", map_location=torch.device(\"cpu\"))[\"gen\"])\n",
    "gen = gen.eval()"
   ]
  },
  {
   "cell_type": "markdown",
   "metadata": {
    "id": "Zvis3TCd8tmI"
   },
   "source": [
    "## Сеть Inception-v3\n",
    "Inception-V3 - это нейронная сеть, обученная на [ImageNet](http://www.image-net.org/) для классификации объектов. ImageNet содержит более 1 млн. изображений для обучения. В результате Inception-V3 хорошо справляется с обнаружением признаков и классификацией изображений. Здесь вы загрузите Inception-V3 под именем `inception_model`.\n",
    "\n",
    "<!--  \n",
    "В прошлом люди использовали предварительно обученную сеть Inception для определения классов объектов, сгенерированных GAN, и измеряли, насколько распределение сгенерированных классов похоже на истинное изображение (с помощью KL-расхождения). Этот показатель известен как inception score.\n",
    "\n",
    "Однако с этой метрикой связано много проблем. В работе Барратта и Шармы 2018 года \"[A Note on the Inception Score](https://arxiv.org/pdf/1801.01973.pdf)\" освещается множество проблем, связанных с этим подходом. Среди них они выделяют его нестабильность, возможность эксплуатации и широкое использование Inception Score на моделях, не обученных на ImageNet.  -->\n",
    "\n"
   ]
  },
  {
   "cell_type": "code",
   "execution_count": 3,
   "metadata": {
    "id": "1tPRtB993v68"
   },
   "outputs": [
    {
     "name": "stderr",
     "output_type": "stream",
     "text": [
      "/home/mteterin/.local/lib/python3.8/site-packages/torchvision/models/_utils.py:208: UserWarning: The parameter 'pretrained' is deprecated since 0.13 and may be removed in the future, please use 'weights' instead.\n",
      "  warnings.warn(\n",
      "/home/mteterin/.local/lib/python3.8/site-packages/torchvision/models/_utils.py:223: UserWarning: Arguments other than a weight enum or `None` for 'weights' are deprecated since 0.13 and may be removed in the future. The current behavior is equivalent to passing `weights=Inception_V3_Weights.IMAGENET1K_V1`. You can also use `weights=Inception_V3_Weights.DEFAULT` to get the most up-to-date weights.\n",
      "  warnings.warn(msg)\n"
     ]
    }
   ],
   "source": [
    "from torchvision.models import inception_v3\n",
    "inception_model = inception_v3(pretrained=True)\n",
    "inception_model.to(\"cpu\")\n",
    "inception_model = inception_model.eval() # Evaluation mode"
   ]
  },
  {
   "cell_type": "markdown",
   "metadata": {},
   "source": [
    "### Inception Score\n",
    "\n",
    "Inception Score (оценка начала) является метрикой для оценки качества генеративных моделей, особенно в задачах генерации изображений. Она была предложена в 2016 году в статье \"Improved Techniques for Training GANs\" и основана на использовании предварительно обученной модели классификации изображений Inception.\n",
    "\n",
    "Inception Score оценивает два аспекта сгенерированных изображений: качество (чем лучше изображение, тем выше оценка) и разнообразие (чем больше различных классов представлено на изображениях, тем выше оценка). Для вычисления Inception Score сначала генерируется набор изображений с помощью генеративной модели. Затем эти изображения подаются на вход предварительно обученной модели Inception для получения вероятностей принадлежности каждого изображения к различным классам. Наконец, вычисляется средняя Кульбака-Лейблера дивергенция между распределением классов для всех изображений и средним распределением классов.\n",
    "\n",
    "Inception Score является одним из способов оценки качества генеративных моделей, но не является исчерпывающей метрикой и может не учитывать другие важные аспекты, такие как структура изображений или сохранение деталей. Он широко используется для сравнения разных моделей генерации изображений и может быть полезным инструментом при выборе наилучшей модели."
   ]
  },
  {
   "cell_type": "code",
   "execution_count": 31,
   "metadata": {},
   "outputs": [
    {
     "name": "stdout",
     "output_type": "stream",
     "text": [
      "2.9999999999999996\n",
      "1.0\n"
     ]
    }
   ],
   "source": [
    "# calculate inception score in numpy\n",
    "from numpy import asarray, expand_dims, log, mean, exp\n",
    "\n",
    "# calculate the inception score for p(y|x)\n",
    "def calculate_inception_score(p_yx, eps=1E-16):\n",
    "    # calculate p(y)\n",
    "    p_y = expand_dims(p_yx.mean(axis=0), 0)\n",
    "    # kl divergence for each image\n",
    "    kl_d = p_yx * (log(p_yx + eps) - log(p_y + eps))\n",
    "    # sum over classes\n",
    "    sum_kl_d = kl_d.sum(axis=1)\n",
    "    # average over images\n",
    "    avg_kl_d = mean(sum_kl_d)\n",
    "    # undo the logs\n",
    "    is_score = exp(avg_kl_d)\n",
    "    return is_score\n",
    "\n",
    "# conditional probabilities for high quality images\n",
    "p_yx = asarray([[1.0, 0.0, 0.0], [0.0, 1.0, 0.0], [0.0, 0.0, 1.0]])\n",
    "score = calculate_inception_score(p_yx)\n",
    "print(score)\n",
    "\n",
    "# conditional probabilities for low quality images\n",
    "p_yx = asarray([[0.33, 0.33, 0.33], [0.33, 0.33, 0.33], [0.33, 0.33, 0.33]])\n",
    "score = calculate_inception_score(p_yx)\n",
    "print(score)\n"
   ]
  },
  {
   "cell_type": "markdown",
   "metadata": {
    "id": "9iYUtcRU-woT"
   },
   "source": [
    "## Fréchet Inception Distance\n",
    "\n",
    "Fréchet Inception Distance (FID) был предложен как усовершенствование Inception Score и по-прежнему использует сеть Inception-v3 в своих расчетах. Однако вместо классификационных меток сети Inception-v3 она использует выходной сигнал более раннего слоя - слоя, расположенного непосредственно перед метками. Этот слой часто называют слоем признаков. Исследования показали, что глубокие конволюционные нейронные сети, обученные сложным задачам, таким как классификация множества классов, строят все более сложные представления признаков по мере углубления в сеть. Например, первые несколько слоев могут научиться определять различные виды краев и кривых, а в более поздних слоях могут быть нейроны, срабатывающие в ответ на человеческие лица.\n",
    "\n",
    "Чтобы получить слой признаков в конволюционной нейронной сети, можно заменить последний полностью связанный слой слоем идентификации, который просто возвращает все полученные входные данные без изменений. Таким образом, по сути, удаляется последний классификационный слой и остаются промежуточные выходы предыдущего слоя."
   ]
  },
  {
   "cell_type": "code",
   "execution_count": 4,
   "metadata": {
    "id": "y2KBoaJEXH29"
   },
   "outputs": [
    {
     "ename": "NameError",
     "evalue": "name 'torch' is not defined",
     "output_type": "error",
     "traceback": [
      "\u001b[0;31m---------------------------------------------------------------------------\u001b[0m",
      "\u001b[0;31mNameError\u001b[0m                                 Traceback (most recent call last)",
      "Cell \u001b[0;32mIn [4], line 1\u001b[0m\n\u001b[0;32m----> 1\u001b[0m inception_model\u001b[38;5;241m.\u001b[39mfc \u001b[38;5;241m=\u001b[39m \u001b[43mtorch\u001b[49m\u001b[38;5;241m.\u001b[39mnn\u001b[38;5;241m.\u001b[39mIdentity()\n",
      "\u001b[0;31mNameError\u001b[0m: name 'torch' is not defined"
     ]
    }
   ],
   "source": [
    "inception_model.fc = torch.nn.Identity()"
   ]
  },
  {
   "cell_type": "markdown",
   "metadata": {
    "id": "BKzLLQI_XLdw"
   },
   "source": [
    "### Расстояние Фреше\n",
    "Расстояние Фреше использует значения из слоя признаков для двух наборов изображений, скажем, подлинников и подделок, и сравнивает различные статистические свойства между ними, чтобы определить, насколько они отличаются друг от друга. В частности, расстояние Фреше позволяет найти кратчайшее расстояние, необходимое для одновременного прохождения двух линий или двух кривых. Наиболее интуитивное объяснение расстояния Фреше - это \"минимальное расстояние на поводке\" между двумя точками. Представьте себе себя и свою собаку, движущихся по двум кривым. Если вы идете по одной кривой, а ваша собака, привязанная к поводку, идет по другой в том же темпе, то какой минимальный отрезок поводка вы можете дать своей собаке, чтобы вам никогда не пришлось давать ей больше слабины во время прогулки? Исходя из этого, расстояние Фреше измеряет сходство между этими двумя кривыми.\n",
    "\n",
    "Основная идея аналогична вычислению расстояния Фреше между двумя распределениями вероятностей. Для начала посмотрим, как это выглядит в одномерном, так называемом одномерном, пространстве."
   ]
  },
  {
   "cell_type": "markdown",
   "metadata": {
    "id": "fb5z23wVFE3m"
   },
   "source": [
    "#### Одномерное расстояние Фреше\n",
    "Расстояние между двумя нормальными распределениями $X$ и $Y$ со средними $\\mu_X$ и $\\mu_Y$ и стандартными отклонениями $\\sigma_X$ и $\\sigma_Y$ можно вычислить следующим образом:\n",
    "\n",
    "$$d(X,Y) = (\\mu_X-\\mu_Y)^2 + (\\sigma_X-\\sigma_Y)^2 $$.\n"
   ]
  },
  {
   "cell_type": "markdown",
   "metadata": {
    "id": "f1syunux1Jon"
   },
   "source": [
    "#### Многомерное расстояние Фреше.\n",
    "**Ковариация**\n",
    "\n",
    "Чтобы найти расстояние Фреше между двумя многомерными нормальными распределениями, сначала нужно найти не стандартное отклонение, а ковариацию. Ковариация, которая является многомерной версией дисперсии (квадрата стандартного отклонения), представляется в виде квадратной матрицы, длина стороны которой равна числу измерений. Поскольку используемые векторы признаков имеют 2048 значений/весов, ковариационная матрица будет иметь размерность 2048 x 2048. Но для примера приведем ковариационную матрицу в двумерном пространстве:\n",
    "\n",
    "$\\Sigma = \\left(\\begin{array}{cc}\n",
    "1 & 0\\\\\n",
    "0 & 1\n",
    "\\end{array}\\right)\n",
    "$\n",
    "\n",
    "Значение в точке $(i, j)$ соответствует ковариации вектора $i$ с вектором $j$. Поскольку ковариации $i$ с $j$ и $j$ с $i$ эквивалентны, матрица всегда будет симметрична относительно диагонали. Диагональ - это ковариация данного элемента с самим собой. В данном примере нули есть везде, кроме диагонали. Это означает, что два измерения не зависят друг от друга, они совершенно не связаны между собой.\n",
    "\n",
    "Следующая ячейка кода визуализирует эту матрицу."
   ]
  },
  {
   "cell_type": "code",
   "execution_count": 5,
   "metadata": {
    "colab": {
     "base_uri": "https://localhost:8080/",
     "height": 607
    },
    "id": "qDLxAxYo-v0y",
    "outputId": "30c3adce-507d-49cf-8085-6ff7add7b70c"
   },
   "outputs": [
    {
     "ename": "NameError",
     "evalue": "name 'torch' is not defined",
     "output_type": "error",
     "traceback": [
      "\u001b[0;31m---------------------------------------------------------------------------\u001b[0m",
      "\u001b[0;31mNameError\u001b[0m                                 Traceback (most recent call last)",
      "Cell \u001b[0;32mIn [5], line 6\u001b[0m\n\u001b[1;32m      4\u001b[0m \u001b[38;5;28;01mfrom\u001b[39;00m \u001b[38;5;21;01mtorch\u001b[39;00m\u001b[38;5;21;01m.\u001b[39;00m\u001b[38;5;21;01mdistributions\u001b[39;00m \u001b[38;5;28;01mimport\u001b[39;00m MultivariateNormal\n\u001b[1;32m      5\u001b[0m \u001b[38;5;28;01mimport\u001b[39;00m \u001b[38;5;21;01mseaborn\u001b[39;00m \u001b[38;5;28;01mas\u001b[39;00m \u001b[38;5;21;01msns\u001b[39;00m \u001b[38;5;66;03m# This is for visualization\u001b[39;00m\n\u001b[0;32m----> 6\u001b[0m mean \u001b[38;5;241m=\u001b[39m \u001b[43mtorch\u001b[49m\u001b[38;5;241m.\u001b[39mTensor([\u001b[38;5;241m0\u001b[39m, \u001b[38;5;241m0\u001b[39m]) \u001b[38;5;66;03m# Center the mean at the origin\u001b[39;00m\n\u001b[1;32m      7\u001b[0m covariance \u001b[38;5;241m=\u001b[39m torch\u001b[38;5;241m.\u001b[39mTensor( \u001b[38;5;66;03m# This matrix shows independence - there are only non-zero values on the diagonal\u001b[39;00m\n\u001b[1;32m      8\u001b[0m     [[\u001b[38;5;241m1\u001b[39m, \u001b[38;5;241m0\u001b[39m],\n\u001b[1;32m      9\u001b[0m      [\u001b[38;5;241m0\u001b[39m, \u001b[38;5;241m1\u001b[39m]]\n\u001b[1;32m     10\u001b[0m )\n\u001b[1;32m     11\u001b[0m independent_dist \u001b[38;5;241m=\u001b[39m MultivariateNormal(mean, covariance)\n",
      "\u001b[0;31mNameError\u001b[0m: name 'torch' is not defined"
     ]
    }
   ],
   "source": [
    "#import os\n",
    "#os.environ['KMP_DUPLICATE_LIB_OK']='True'\n",
    "\n",
    "from torch.distributions import MultivariateNormal\n",
    "import seaborn as sns # This is for visualization\n",
    "mean = torch.Tensor([0, 0]) # Center the mean at the origin\n",
    "covariance = torch.Tensor( # This matrix shows independence - there are only non-zero values on the diagonal\n",
    "    [[1, 0],\n",
    "     [0, 1]]\n",
    ")\n",
    "independent_dist = MultivariateNormal(mean, covariance)\n",
    "samples = independent_dist.sample((10000,))\n",
    "res = sns.jointplot(x=samples[:, 0], y=samples[:, 1], kind=\"kde\")\n",
    "plt.show()"
   ]
  },
  {
   "cell_type": "markdown",
   "metadata": {
    "id": "HkEtuo_k2ED5"
   },
   "source": [
    "Приведем пример многомерного нормального распределения с ковариацией:\n",
    "\n",
    "$\\Sigma = \\left(\\begin{array}{cc}\n",
    "2 & -1\\\\\n",
    "-1 & 2\n",
    "\\end{array}\\right)\n",
    "$\n",
    "\n",
    "И посмотрите, как это выглядит:\n"
   ]
  },
  {
   "cell_type": "code",
   "execution_count": 25,
   "metadata": {
    "colab": {
     "base_uri": "https://localhost:8080/",
     "height": 607
    },
    "id": "SQvjyAmw2SGl",
    "outputId": "c701d8f5-3df0-404b-c190-6cdc4323b338"
   },
   "outputs": [
    {
     "data": {
      "image/png": "[encoded data removed]",
      "text/plain": [
       "<Figure size 600x600 with 3 Axes>"
      ]
     },
     "metadata": {},
     "output_type": "display_data"
    }
   ],
   "source": [
    "mean = torch.Tensor([0, 0])\n",
    "covariance = torch.Tensor(\n",
    "    [[2, -1],\n",
    "     [-1, 2]]\n",
    ")\n",
    "covariant_dist = MultivariateNormal(mean, covariance)\n",
    "samples = covariant_dist.sample((10000,))\n",
    "res = sns.jointplot(x=samples[:, 0], y=samples[:, 1], kind=\"kde\")\n",
    "plt.show()"
   ]
  },
  {
   "cell_type": "markdown",
   "metadata": {
    "id": "uf3kci9d2ROC"
   },
   "source": [
    "**Формула**\n",
    "\n",
    "На основании статьи \"[Расстояние Фреше между многомерными нормальными распределениями](https://core.ac.uk/reader/82269844)\" Даусона и Ландау (1982) расстояние Фреше между двумя многомерными нормальными распределениями $X$ и $Y$ имеет вид:\n",
    "\n",
    "$d(X, Y) = \\Vert\\mu_X-\\mu_Y\\Vert^2 + \\mathrm{Tr}\\left(\\Sigma_X+\\Sigma_Y - 2 \\sqrt{\\Sigma_X \\Sigma_Y}\\right)$.\n",
    "\n",
    "Аналогично формуле для одномерного расстояния Фреше, можно вычислить расстояние между средними и расстояние между стандартными отклонениями. Однако вычисление расстояния между стандартными отклонениями здесь несколько меняется, поскольку включает в себя матричное произведение и матричный квадратный корень. $\\mathrm{Tr}$ - это след, сумма диагональных элементов матрицы.\n"
   ]
  },
  {
   "cell_type": "code",
   "execution_count": 6,
   "metadata": {
    "id": "iOlCmNPiuuhK"
   },
   "outputs": [],
   "source": [
    "import scipy\n",
    "# This is the matrix square root function you will be using\n",
    "def matrix_sqrt(x):\n",
    "    '''\n",
    "    Function that takes in a matrix and returns the square root of that matrix.\n",
    "    For an input matrix A, the output matrix B would be such that B @ B is the matrix A.\n",
    "    Parameters:\n",
    "        x: a matrix\n",
    "    '''\n",
    "    y = x.cpu().detach().numpy()\n",
    "    y = scipy.linalg.sqrtm(y)\n",
    "    return torch.Tensor(y.real, device=x.device)"
   ]
  },
  {
   "cell_type": "code",
   "execution_count": 7,
   "metadata": {
    "id": "_hLWk57s91it"
   },
   "outputs": [],
   "source": [
    "def frechet_distance(mu_x, mu_y, sigma_x, sigma_y):\n",
    "    '''\n",
    "    Function for returning the Fréchet distance between multivariate Gaussians,\n",
    "    parameterized by their means and covariance matrices.\n",
    "    Parameters:\n",
    "        mu_x: the mean of the first Gaussian, (n_features)\n",
    "        mu_y: the mean of the second Gaussian, (n_features)\n",
    "        sigma_x: the covariance matrix of the first Gaussian, (n_features, n_features)\n",
    "        sigma_y: the covariance matrix of the second Gaussian, (n_features, n_features)\n",
    "    '''\n",
    "    return torch.norm(torch.sub(mu_x,mu_y)) + torch.trace(sigma_x + sigma_y - 2* matrix_sqrt(torch.matmul(sigma_x,sigma_y)))"
   ]
  },
  {
   "cell_type": "code",
   "execution_count": 29,
   "metadata": {
    "id": "s2ZMTdzMCZtn"
   },
   "outputs": [],
   "source": [
    "def preprocess(img):\n",
    "    img = torch.nn.functional.interpolate(img, size=(299, 299), mode='bilinear', align_corners=False)\n",
    "    return img"
   ]
  },
  {
   "cell_type": "markdown",
   "metadata": {
    "id": "hzXQTFv_UNjm"
   },
   "source": [
    "Затем определим функцию для вычисления ковариации признаков, которая возвращает ковариационную матрицу, заданную списком значений:"
   ]
  },
  {
   "cell_type": "code",
   "execution_count": 30,
   "metadata": {
    "id": "4BEbwlGLiPWJ"
   },
   "outputs": [],
   "source": [
    "import numpy as np\n",
    "def get_covariance(features):\n",
    "    return torch.Tensor(np.cov(features.detach().numpy(), rowvar=False))"
   ]
  },
  {
   "cell_type": "markdown",
   "metadata": {
    "id": "Sw5obaXjVv_v"
   },
   "source": [
    "Наконец, можно использовать предварительно обученную модель Inception-v3 для вычисления признаков реального и поддельного изображений. По этим признакам можно получить ковариацию и среднее значение этих признаков по многим выборкам.\n",
    "\n",
    "Сначала с помощью модели Inception-v3 были получены признаки реального и поддельного изображений:"
   ]
  },
  {
   "cell_type": "code",
   "execution_count": 36,
   "metadata": {
    "id": "UVw9bCQv7WFA"
   },
   "outputs": [],
   "source": [
    "device = \"cpu\""
   ]
  },
  {
   "cell_type": "code",
   "execution_count": 37,
   "metadata": {
    "colab": {
     "base_uri": "https://localhost:8080/",
     "height": 49,
     "referenced_widgets": [
      "eb99bc60b35a45c8bf382ec7b3947f1c",
      "ee9130f83c0848e895e986c69416f6a7",
      "ff7b2224330a4aaa871269c6c936d262",
      "a10fe7df940e4c3895acebc7d1c3f248",
      "b87c44c7fd1f4435ae8ab65b598920f7",
      "d6bd8f3aaaee460ebc5a0ee169db24b0",
      "eb7aab10497c41c2bff6e1b8f74ea8fe",
      "c476cc100a0b47c5a261534a1059c856",
      "dad63fa290a44484b4b03d53657fae6f",
      "dea0db04c179423fa1e4323715b6b145",
      "86ce27dbcae742a38a3734d119b1e0c2"
     ]
    },
    "id": "qQwHSAhrf0hX",
    "outputId": "399dd1ad-4dff-4ded-9b03-6dff1c6f56f7"
   },
   "outputs": [
    {
     "data": {
      "application/vnd.jupyter.widget-view+json": {
       "model_id": "eb99bc60b35a45c8bf382ec7b3947f1c",
       "version_major": 2,
       "version_minor": 0
      },
      "text/plain": [
       "  0%|          | 0/128 [00:00<?, ?it/s]"
      ]
     },
     "metadata": {},
     "output_type": "display_data"
    }
   ],
   "source": [
    "fake_features_list = []\n",
    "real_features_list = []\n",
    "\n",
    "gen.eval()\n",
    "n_samples = 512 # The total number of samples\n",
    "batch_size = 4 # Samples per iteration\n",
    "\n",
    "dataloader = DataLoader(\n",
    "    dataset,\n",
    "    batch_size=batch_size,\n",
    "    shuffle=True)\n",
    "\n",
    "cur_samples = 0\n",
    "with torch.no_grad(): # You don't need to calculate gradients here, so you do this to save memory\n",
    "    try:\n",
    "        for real_example, _ in tqdm(dataloader, total=n_samples // batch_size): # Go by batch\n",
    "            real_samples = real_example\n",
    "            real_features = inception_model(real_samples.to('cpu')).detach().to('cpu') # Move features to CPU\n",
    "            real_features_list.append(real_features)\n",
    "\n",
    "            fake_samples = get_noise(len(real_example), z_dim).to(device)\n",
    "            fake_samples = preprocess(gen(fake_samples))\n",
    "            fake_features = inception_model(fake_samples.to(device)).detach().to('cpu')\n",
    "            fake_features_list.append(fake_features)\n",
    "            cur_samples += len(real_samples)\n",
    "            if cur_samples >= n_samples:\n",
    "                break\n",
    "    except:\n",
    "        print(\"Error in loop\")"
   ]
  },
  {
   "cell_type": "markdown",
   "metadata": {
    "id": "LUrJ_ZEZXkvu"
   },
   "source": [
    "Затем можно объединить все значения, собранные для реальных и фальшивых величин, в большие тензоры:"
   ]
  },
  {
   "cell_type": "code",
   "execution_count": 8,
   "metadata": {
    "id": "UmiOuDulqDTC"
   },
   "outputs": [
    {
     "ename": "NameError",
     "evalue": "name 'torch' is not defined",
     "output_type": "error",
     "traceback": [
      "\u001b[0;31m---------------------------------------------------------------------------\u001b[0m",
      "\u001b[0;31mNameError\u001b[0m                                 Traceback (most recent call last)",
      "Cell \u001b[0;32mIn [8], line 1\u001b[0m\n\u001b[0;32m----> 1\u001b[0m fake_features_all \u001b[38;5;241m=\u001b[39m \u001b[43mtorch\u001b[49m\u001b[38;5;241m.\u001b[39mcat(fake_features_list)\n\u001b[1;32m      2\u001b[0m real_features_all \u001b[38;5;241m=\u001b[39m torch\u001b[38;5;241m.\u001b[39mcat(real_features_list)\n",
      "\u001b[0;31mNameError\u001b[0m: name 'torch' is not defined"
     ]
    }
   ],
   "source": [
    "fake_features_all = torch.cat(fake_features_list)\n",
    "real_features_all = torch.cat(real_features_list)"
   ]
  },
  {
   "cell_type": "markdown",
   "metadata": {
    "id": "41XEEZRoXxN1"
   },
   "source": [
    "И вычислить ковариацию и среднее значение этих реальных и фальшивых признаков:"
   ]
  },
  {
   "cell_type": "code",
   "execution_count": 39,
   "metadata": {
    "id": "quNhtmwaNhpT"
   },
   "outputs": [],
   "source": [
    "mu_fake = torch.mean(fake_features_all,dim=0)\n",
    "mu_real = torch.mean(real_features_all, dim = 0)\n",
    "sigma_fake = get_covariance(fake_features_all)\n",
    "sigma_real = get_covariance(real_features_all)"
   ]
  },
  {
   "cell_type": "markdown",
   "metadata": {
    "id": "gyHx-bBqo5MU"
   },
   "source": [
    "На этом этапе можно также визуализировать, как выглядят парные многомерные распределения начальных признаков!"
   ]
  },
  {
   "cell_type": "code",
   "execution_count": 9,
   "metadata": {
    "colab": {
     "base_uri": "https://localhost:8080/",
     "height": 776
    },
    "id": "fBOp8wfNkce1",
    "outputId": "d09d2e2d-7246-4bda-f9a9-ebf2b02762b9"
   },
   "outputs": [
    {
     "ename": "NameError",
     "evalue": "name 'mu_fake' is not defined",
     "output_type": "error",
     "traceback": [
      "\u001b[0;31m---------------------------------------------------------------------------\u001b[0m",
      "\u001b[0;31mNameError\u001b[0m                                 Traceback (most recent call last)",
      "Cell \u001b[0;32mIn [9], line 2\u001b[0m\n\u001b[1;32m      1\u001b[0m indices \u001b[38;5;241m=\u001b[39m [\u001b[38;5;241m2\u001b[39m, \u001b[38;5;241m4\u001b[39m, \u001b[38;5;241m10\u001b[39m]\n\u001b[0;32m----> 2\u001b[0m fake_dist \u001b[38;5;241m=\u001b[39m MultivariateNormal(\u001b[43mmu_fake\u001b[49m[indices], sigma_fake[indices][:, indices])\n\u001b[1;32m      3\u001b[0m fake_samples \u001b[38;5;241m=\u001b[39m fake_dist\u001b[38;5;241m.\u001b[39msample((\u001b[38;5;241m5000\u001b[39m,))\n\u001b[1;32m      4\u001b[0m real_dist \u001b[38;5;241m=\u001b[39m MultivariateNormal(mu_real[indices], sigma_real[indices][:, indices])\n",
      "\u001b[0;31mNameError\u001b[0m: name 'mu_fake' is not defined"
     ]
    }
   ],
   "source": [
    "indices = [2, 4, 5]\n",
    "fake_dist = MultivariateNormal(mu_fake[indices], sigma_fake[indices][:, indices])\n",
    "fake_samples = fake_dist.sample((5000,))\n",
    "real_dist = MultivariateNormal(mu_real[indices], sigma_real[indices][:, indices])\n",
    "real_samples = real_dist.sample((5000,))\n",
    "\n",
    "import pandas as pd\n",
    "df_fake = pd.DataFrame(fake_samples.numpy(), columns=indices)\n",
    "df_real = pd.DataFrame(real_samples.numpy(), columns=indices)\n",
    "df_fake[\"is_real\"] = \"no\"\n",
    "df_real[\"is_real\"] = \"yes\"\n",
    "df = pd.concat([df_fake, df_real])\n",
    "sns.pairplot(df, plot_kws={'alpha': 0.1}, hue='is_real')"
   ]
  },
  {
   "cell_type": "markdown",
   "metadata": {
    "id": "Ja7DQ9SSX0u2"
   },
   "source": [
    "Наконец, можно использовать ранее полученную функцию `frechet_distance` для вычисления FID и оценки GAN. Вы можете увидеть, насколько похожи/отличаются признаки сгенерированных изображений от признаков реальных изображений."
   ]
  },
  {
   "cell_type": "code",
   "execution_count": 41,
   "metadata": {
    "colab": {
     "base_uri": "https://localhost:8080/"
    },
    "id": "qS8kklILkmyg",
    "outputId": "1f7a25c4-a711-4b2a-8be1-4a8bfa9b66b0"
   },
   "outputs": [
    {
     "name": "stdout",
     "output_type": "stream",
     "text": [
      "82.91352844238281\n"
     ]
    }
   ],
   "source": [
    "with torch.no_grad():\n",
    "    print(frechet_distance(mu_real, mu_fake, sigma_real, sigma_fake).item())"
   ]
  },
  {
   "cell_type": "markdown",
   "metadata": {},
   "source": [
    "# Perceptual Path Length (PPL)\n",
    "\n",
    "Perceptual path length (PPL) - это метрика, которая была введена в [StyleGAN](https://arxiv.org/abs/1812.04948) для оценки того, насколько хорошо генератор справляется с плавной интерполяцией между точками в латентном пространстве. По сути, если перемещаться между двумя изображениями точек, полученными генератором, по прямой линии в латентном пространстве, то при суммировании неровностей каждого шага измеряется общая \"неровность\" интерполяции. В этом блокноте мы рассмотрим мотивацию и механизм, лежащий в основе PPL.\n",
    "\n",
    "В работе [StyleGAN2](https://arxiv.org/abs/1912.04958) было отмечено, что метрика также \"коррелирует с согласованностью и стабильностью форм\", что привело к одному из основных изменений между двумя работами.\n"
   ]
  },
  {
   "cell_type": "markdown",
   "metadata": {},
   "source": [
    "## Перцептивное сходство\n",
    "\n",
    "Как и FID, PPL использует эмбеддинги признаков глубокой конволюционной нейронной сети. В частности, расстояние между двумя эмбеддинги изображений, предложенное в работе [The Unreasonable Effectiveness of Deep Features as a Perceptual Metric\n",
    "] (https://arxiv.org/abs/1801.03924) Чжаном и др. (CVPR 2018). В данном подходе, в отличие от FID, вместо InceptionNet используется сеть VGG16. \n",
    "\n",
    "Перцептивное сходство близко к расстоянию между двумя векторами признаков с одним ключевым отличием: признаки пропускаются через обучаемое преобразование, которое натренировано на соответствие человеческой интуиции в отношении сходства изображений. В частности, если показать два изображения с различными преобразованиями базового изображения, то метрика LPIPS (\"Learned Perceptual Image Patch Similarity\") должна иметь меньшее расстояние для того изображения, которое, по мнению человека, ближе. \n",
    "\n",
    "![рисунок из статьи о перцептивном сходстве](Добавить рисунок)\n",
    "* Рисунок из статьи [The Unreasonable Effectiveness of Deep Features as a Perceptual Metric\n",
    "](https://arxiv.org/abs/1801.03924), где показано исходное изображение в центре и два его преобразования. Человек, как правило, находит правое изображение более похожим на центральное, чем левое, и метрика LPIPS соответствует этому.*\n"
   ]
  },
  {
   "cell_type": "markdown",
   "metadata": {},
   "source": [
    "Для нашей реализации мы можем использовать `lpips`. [library](https://github.com/richzhang/PerceptualSimilarity),  реализованный авторами статьи о перцептивном сходстве.\n"
   ]
  },
  {
   "cell_type": "code",
   "execution_count": 36,
   "metadata": {},
   "outputs": [
    {
     "name": "stdout",
     "output_type": "stream",
     "text": [
      "Setting up [LPIPS] perceptual loss: trunk [vgg], v[0.1], spatial [off]\n"
     ]
    },
    {
     "name": "stderr",
     "output_type": "stream",
     "text": [
      "/home/mteterin/.local/lib/python3.8/site-packages/torchvision/models/_utils.py:208: UserWarning: The parameter 'pretrained' is deprecated since 0.13 and may be removed in the future, please use 'weights' instead.\n",
      "  warnings.warn(\n",
      "/home/mteterin/.local/lib/python3.8/site-packages/torchvision/models/_utils.py:223: UserWarning: Arguments other than a weight enum or `None` for 'weights' are deprecated since 0.13 and may be removed in the future. The current behavior is equivalent to passing `weights=VGG16_Weights.IMAGENET1K_V1`. You can also use `weights=VGG16_Weights.DEFAULT` to get the most up-to-date weights.\n",
      "  warnings.warn(msg)\n",
      "Downloading: \"https://download.pytorch.org/models/vgg16-397923af.pth\" to /home/mteterin/.cache/torch/hub/checkpoints/vgg16-397923af.pth\n",
      "100%|████████████████████████████████████████| 528M/528M [00:17<00:00, 32.4MB/s]\n"
     ]
    },
    {
     "name": "stdout",
     "output_type": "stream",
     "text": [
      "Loading model from: /home/mteterin/.local/lib/python3.8/site-packages/lpips/weights/v0.1/vgg.pth\n"
     ]
    }
   ],
   "source": [
    "import lpips\n",
    "# Outside of coursera, you don't need the following five lines:\n",
    "from shutil import copyfile\n",
    "import os\n",
    "\n",
    "loss_fn_vgg = lpips.LPIPS(net='vgg')"
   ]
  },
  {
   "cell_type": "code",
   "execution_count": 37,
   "metadata": {},
   "outputs": [],
   "source": [
    "import torch\n",
    "import numpy as np\n",
    "from torch import nn\n",
    "from tqdm.auto import tqdm\n",
    "from torchvision import transforms\n",
    "from torchvision.datasets import CelebA\n",
    "from torchvision.utils import make_grid\n",
    "from torch.utils.data import DataLoader\n",
    "import matplotlib.pyplot as plt\n",
    "\n",
    "class Generator(nn.Module):\n",
    "    '''\n",
    "    Generator Class\n",
    "    Values:\n",
    "        z_dim: the dimension of the noise vector, a scalar\n",
    "        im_chan: the number of channels of the output image, a scalar\n",
    "              (CelebA is rgb, so 3 is your default)\n",
    "        hidden_dim: the inner dimension, a scalar\n",
    "    '''\n",
    "    def __init__(self, z_dim=10, im_chan=3, hidden_dim=64):\n",
    "        super(Generator, self).__init__()\n",
    "        self.z_dim = z_dim\n",
    "        # Build the neural network\n",
    "        self.gen = nn.Sequential(\n",
    "            self.make_gen_block(z_dim, hidden_dim * 8),\n",
    "            self.make_gen_block(hidden_dim * 8, hidden_dim * 4),\n",
    "            self.make_gen_block(hidden_dim * 4, hidden_dim * 2),\n",
    "            self.make_gen_block(hidden_dim * 2, hidden_dim),\n",
    "            self.make_gen_block(hidden_dim, im_chan, kernel_size=4, final_layer=True),\n",
    "        )\n",
    "\n",
    "    def make_gen_block(self, input_channels, output_channels, kernel_size=3, stride=2, final_layer=False):\n",
    "        '''\n",
    "        Function to return a sequence of operations corresponding to a generator block of DCGAN;\n",
    "        a transposed convolution, a batchnorm (except in the final layer), and an activation.\n",
    "        Parameters:\n",
    "            input_channels: how many channels the input feature representation has\n",
    "            output_channels: how many channels the output feature representation should have\n",
    "            kernel_size: the size of each convolutional filter, equivalent to (kernel_size, kernel_size)\n",
    "            stride: the stride of the convolution\n",
    "            final_layer: a boolean, true if it is the final layer and false otherwise \n",
    "                      (affects activation and batchnorm)\n",
    "        '''\n",
    "        if not final_layer:\n",
    "            return nn.Sequential(\n",
    "                nn.ConvTranspose2d(input_channels, output_channels, kernel_size, stride),\n",
    "                nn.BatchNorm2d(output_channels),\n",
    "                nn.ReLU(inplace=True),\n",
    "            )\n",
    "        else:\n",
    "            return nn.Sequential(\n",
    "                nn.ConvTranspose2d(input_channels, output_channels, kernel_size, stride),\n",
    "                nn.Tanh(),\n",
    "            )\n",
    "\n",
    "    def forward(self, noise):\n",
    "        '''\n",
    "        Function for completing a forward pass of the generator: Given a noise tensor, \n",
    "        returns generated images.\n",
    "        Parameters:\n",
    "            noise: a noise tensor with dimensions (n_samples, z_dim)\n",
    "        '''\n",
    "        x = noise.view(len(noise), self.z_dim, 1, 1)\n",
    "        return self.gen(x)\n",
    "\n",
    "def show_tensor_images(image_tensor, num_images=16, size=(3, 64, 64), nrow=3):\n",
    "    '''\n",
    "    Function for visualizing images: Given a tensor of images, number of images,\n",
    "    size per image, and images per row, plots and prints the images in an uniform grid.\n",
    "    '''\n",
    "    image_tensor = (image_tensor + 1) / 2\n",
    "    image_unflat = image_tensor.detach().cpu()\n",
    "    image_grid = make_grid(image_unflat[:num_images], nrow=nrow)\n",
    "    plt.imshow(image_grid.permute(1, 2, 0).squeeze())\n",
    "    plt.show()"
   ]
  },
  {
   "cell_type": "code",
   "execution_count": 38,
   "metadata": {},
   "outputs": [],
   "source": [
    "z_dim = 64\n",
    "gen = Generator(z_dim)\n",
    "gen.load_state_dict(torch.load(f\"pretrained_celeba.pth\", map_location='cpu')[\"gen\"])\n",
    "gen = gen.eval()"
   ]
  },
  {
   "cell_type": "markdown",
   "metadata": {},
   "source": [
    "## От LPIPS к PPL\n",
    "Обратите внимание, что перцептивная длина пути строится непосредственно на метрике LPIPS.\n",
    "\n",
    "StyleGAN не оперирует непосредственно со случайно отобранным латентным вектором. Вместо этого он обучается отображению $f$ из $z$ в $w$ - то есть $f(z) = w$. Cуществует два пространства, в которых можно вычислить PPL. \n",
    "\n",
    "### Линейная интерполяция (пространство $w$)\n",
    "\n",
    "Для пространства $w$ PPL определяется следующим образом с помощью линейной интерполяции:\n",
    "\n",
    "Сначала из двух произвольно выбранных точек в пространстве $w$, $w_1 = f(z_1)$ и $w_2 = f(z_2)$, берутся две точки в пространстве $z$. Для простоты будем считать, что $f$ - это функция тождества."
   ]
  },
  {
   "cell_type": "code",
   "execution_count": 39,
   "metadata": {},
   "outputs": [],
   "source": [
    "map_fn = nn.Identity()\n",
    "w_1, w_2 = map_fn(torch.randn(1, z_dim)), map_fn(torch.randn(1, z_dim))"
   ]
  },
  {
   "cell_type": "markdown",
   "metadata": {},
   "source": [
    "С помощью генератора вы получите два изображения, интерполирующих между $w_1$ и $w_2$, где сумма $w_1$ равна $t$, и одно, где сумма $w_1$ равна $t+\\epsilon$. Можно считать, что $t$ - это выборка случайной точки на пути, интерполирующем между $w_1$ и $w_2$.\n",
    "\n",
    "Для линейной интерполяции можно использовать функцию `torch.lerp`, а для равномерной выборки случайной точки $t$ от 0 до 1 - функцию `torch.rand`. Также здесь можно задать $\\epsilon = 2 \\cdot 10^{-1}$ для визуализации, хотя в статье StyleGAN $\\epsilon = 10^{-4}$.\n"
   ]
  },
  {
   "cell_type": "code",
   "execution_count": 41,
   "metadata": {},
   "outputs": [],
   "source": [
    "eps = 2e-1\n",
    "t = torch.rand(1)\n",
    "interpolated_1 = torch.lerp(w_1, w_2, t)\n",
    "interpolated_2 = torch.lerp(w_1, w_2, t + eps)\n",
    "y_1, y_2 = gen(interpolated_1), gen(interpolated_2)"
   ]
  },
  {
   "cell_type": "code",
   "execution_count": 42,
   "metadata": {},
   "outputs": [
    {
     "data": {
      "image/png": "[encoded data removed]",
      "text/plain": [
       "<Figure size 640x480 with 1 Axes>"
      ]
     },
     "metadata": {},
     "output_type": "display_data"
    },
    {
     "name": "stdout",
     "output_type": "stream",
     "text": [
      "Image LPIPS is 0.16880643367767334\n"
     ]
    }
   ],
   "source": [
    "show_tensor_images(torch.cat([y_1, y_2]))\n",
    "cur_lpips = loss_fn_vgg(y_1, y_2).item()\n",
    "print(f\"Image LPIPS is {cur_lpips}\")"
   ]
  },
  {
   "cell_type": "markdown",
   "metadata": {},
   "source": [
    "Наконец, необходимо учесть влияние различных значений $\\epsilon$, чтобы длина перцептивного пути сходилась как $\\epsilon\\rightarrow \\infty$. Для этого PPL делит на $\\epsilon^2$. "
   ]
  },
  {
   "cell_type": "code",
   "execution_count": 43,
   "metadata": {},
   "outputs": [
    {
     "name": "stdout",
     "output_type": "stream",
     "text": [
      "Our final sample PPL is 4.220160841941833\n"
     ]
    }
   ],
   "source": [
    "ppl = cur_lpips / (eps ** 2)\n",
    "print(f\"Our final sample PPL is {ppl}\")"
   ]
  },
  {
   "cell_type": "markdown",
   "metadata": {},
   "source": [
    "Таким образом, получается следующее общее уравнение: \n",
    "\n",
    "$$PPL_{w} = \\mathbb{E}\\left[\\frac{1}{\\epsilon^2} \\mathop{d_{\\mathrm{LPIPS}}}\\left(\\mathop{\\mathrm{G}}\\left(\\mathrm{lerp}(w_1, w_2, t\\right), \\mathop{\\mathrm{G}}\\left(\\mathrm{lerp}(w_1, w_2, t + \\epsilon\\right)\\right)\\right]$$\n",
    "\n",
    "Вы заметите символ ожидания: это потому, что все это многократно повторяется для аппроксимации PPL."
   ]
  },
  {
   "cell_type": "code",
   "execution_count": 45,
   "metadata": {},
   "outputs": [
    {
     "name": "stdout",
     "output_type": "stream",
     "text": [
      "PPL_w: 20.161487579345703\n"
     ]
    }
   ],
   "source": [
    "def ppl_w(gen, map_fn, num_samples=10, eps=1e-4):\n",
    "    \"\"\"\n",
    "    Perceptual path length function: Combines the above steps into one PPL function\n",
    "    \"\"\"\n",
    "    # Sample of a batch of num_samples pairs of points\n",
    "    w_1 = map_fn(torch.randn(num_samples, z_dim))\n",
    "    w_2 = map_fn(torch.randn(num_samples, z_dim))\n",
    "    # Sample num_samples points along the interpolated lines\n",
    "    t = torch.rand(num_samples)[:, None]\n",
    "    # Interpolate between the points\n",
    "    interpolated_1 = torch.lerp(w_1, w_2, t)\n",
    "    interpolated_2 = torch.lerp(w_1, w_2, t + eps)\n",
    "    # Generated the interpolated images\n",
    "    y_1, y_2 = gen(interpolated_1), gen(interpolated_2)\n",
    "    # Calculate the per-sample LPIPS\n",
    "    cur_lpips = loss_fn_vgg(y_1, y_2)\n",
    "    # Calculate the PPL from the LPIPS\n",
    "    ppl = cur_lpips / (eps ** 2)\n",
    "    return ppl.mean()\n",
    "\n",
    "print(f\"PPL_w: {ppl_w(gen, nn.Identity()).item()}\")"
   ]
  },
  {
   "cell_type": "markdown",
   "metadata": {},
   "source": [
    "### Сферическая интерполяция (пространство $z$)\n",
    "\n",
    "Поскольку выборка точек в $z$ производится из гаусса, то для интерполяции в $z$-пространстве вместо линейной интерполяции используется сферическая интерполяция. Для этого мы можем использовать `scipy.spatial.geometric_slerp`.\n",
    "\n",
    "$$slerp(z_1, z_2, t) = \\frac{\\sin[(1 - t) \\cdot \\Omega]}{\\sin\\Omega} z_1 + \\frac{\\sin[t \\cdot \\Omega]}{\\sin\\Omega} z_2$$.\n",
    "\n",
    "где $ \\Omega = \\cos^{-1}(\\mathrm{dot}(\\bar{z}_1, \\bar{z}_2))$, а $\\bar{x}$ обозначает нормированную версию x."
   ]
  },
  {
   "cell_type": "code",
   "execution_count": 46,
   "metadata": {},
   "outputs": [
    {
     "name": "stdout",
     "output_type": "stream",
     "text": [
      "PPL_z: 19.15634536743164\n"
     ]
    }
   ],
   "source": [
    "def normalize(x):\n",
    "    return x / torch.norm(x, dim=1)[:, None]\n",
    "\n",
    "def get_omega(x, y):\n",
    "    return torch.acos((normalize(x) * normalize(y)).sum(1))\n",
    "\n",
    "def slerp(x, y, t):\n",
    "    omega = get_omega(x, y)[:, None]\n",
    "    c1 = torch.sin(omega * (1 - t)) / torch.sin(omega)\n",
    "    c2 = torch.sin(omega * t) / torch.sin(omega)\n",
    "    return c1 * x + c2 * y\n",
    "\n",
    "def ppl_z(gen, num_samples=10, eps=1e-4):\n",
    "    # Sample of a batch of num_samples pairs of points\n",
    "    z_1 = torch.randn(num_samples, z_dim)\n",
    "    z_2 = torch.randn(num_samples, z_dim)\n",
    "    # Sample num_samples points along the interpolated lines\n",
    "    t = torch.rand(num_samples)[:, None]\n",
    "    # Interpolate between the points\n",
    "    interpolated_1 = slerp(z_1, z_2, t)\n",
    "    interpolated_2 = slerp(z_1, z_2, t + eps)\n",
    "    # Generated the interpolated images\n",
    "    y_1, y_2 = gen(interpolated_1), gen(interpolated_2)\n",
    "    # Calculate the per-sample LPIPS\n",
    "    cur_lpips = loss_fn_vgg(y_1, y_2)\n",
    "    # Calculate the PPL from the LPIPS\n",
    "    ppl = cur_lpips / (eps ** 2)\n",
    "    return ppl.mean()\n",
    "\n",
    "print(f\"PPL_z: {ppl_z(gen).item()}\")"
   ]
  }
 ],
 "metadata": {
  "colab": {
   "machine_shape": "hm",
   "provenance": []
  },
  "coursera": {
   "schema_names": [
    "GANSC2-1A"
   ]
  },
  "kernelspec": {
   "display_name": "Python 3 (ipykernel)",
   "language": "python",
   "name": "python3"
  },
  "language_info": {
   "codemirror_mode": {
    "name": "ipython",
    "version": 3
   },
   "file_extension": ".py",
   "mimetype": "text/x-python",
   "name": "python",
   "nbconvert_exporter": "python",
   "pygments_lexer": "ipython3",
   "version": "3.8.10"
  },
  "widgets": {
   "application/vnd.jupyter.widget-state+json": {
    "86ce27dbcae742a38a3734d119b1e0c2": {
     "model_module": "@jupyter-widgets/controls",
     "model_module_version": "1.5.0",
     "model_name": "DescriptionStyleModel",
     "state": {
      "_model_module": "@jupyter-widgets/controls",
      "_model_module_version": "1.5.0",
      "_model_name": "DescriptionStyleModel",
      "_view_count": null,
      "_view_module": "@jupyter-widgets/base",
      "_view_module_version": "1.2.0",
      "_view_name": "StyleView",
      "description_width": ""
     }
    },
    "a10fe7df940e4c3895acebc7d1c3f248": {
     "model_module": "@jupyter-widgets/controls",
     "model_module_version": "1.5.0",
     "model_name": "HTMLModel",
     "state": {
      "_dom_classes": [],
      "_model_module": "@jupyter-widgets/controls",
      "_model_module_version": "1.5.0",
      "_model_name": "HTMLModel",
      "_view_count": null,
      "_view_module": "@jupyter-widgets/controls",
      "_view_module_version": "1.5.0",
      "_view_name": "HTMLView",
      "description": "",
      "description_tooltip": null,
      "layout": "IPY_MODEL_dea0db04c179423fa1e4323715b6b145",
      "placeholder": "​",
      "style": "IPY_MODEL_86ce27dbcae742a38a3734d119b1e0c2",
      "value": " 127/128 [06:46&lt;00:03,  3.18s/it]"
     }
    },
    "b87c44c7fd1f4435ae8ab65b598920f7": {
     "model_module": "@jupyter-widgets/base",
     "model_module_version": "1.2.0",
     "model_name": "LayoutModel",
     "state": {
      "_model_module": "@jupyter-widgets/base",
      "_model_module_version": "1.2.0",
      "_model_name": "LayoutModel",
      "_view_count": null,
      "_view_module": "@jupyter-widgets/base",
      "_view_module_version": "1.2.0",
      "_view_name": "LayoutView",
      "align_content": null,
      "align_items": null,
      "align_self": null,
      "border": null,
      "bottom": null,
      "display": null,
      "flex": null,
      "flex_flow": null,
      "grid_area": null,
      "grid_auto_columns": null,
      "grid_auto_flow": null,
      "grid_auto_rows": null,
      "grid_column": null,
      "grid_gap": null,
      "grid_row": null,
      "grid_template_areas": null,
      "grid_template_columns": null,
      "grid_template_rows": null,
      "height": null,
      "justify_content": null,
      "justify_items": null,
      "left": null,
      "margin": null,
      "max_height": null,
      "max_width": null,
      "min_height": null,
      "min_width": null,
      "object_fit": null,
      "object_position": null,
      "order": null,
      "overflow": null,
      "overflow_x": null,
      "overflow_y": null,
      "padding": null,
      "right": null,
      "top": null,
      "visibility": null,
      "width": null
     }
    },
    "c476cc100a0b47c5a261534a1059c856": {
     "model_module": "@jupyter-widgets/base",
     "model_module_version": "1.2.0",
     "model_name": "LayoutModel",
     "state": {
      "_model_module": "@jupyter-widgets/base",
      "_model_module_version": "1.2.0",
      "_model_name": "LayoutModel",
      "_view_count": null,
      "_view_module": "@jupyter-widgets/base",
      "_view_module_version": "1.2.0",
      "_view_name": "LayoutView",
      "align_content": null,
      "align_items": null,
      "align_self": null,
      "border": null,
      "bottom": null,
      "display": null,
      "flex": null,
      "flex_flow": null,
      "grid_area": null,
      "grid_auto_columns": null,
      "grid_auto_flow": null,
      "grid_auto_rows": null,
      "grid_column": null,
      "grid_gap": null,
      "grid_row": null,
      "grid_template_areas": null,
      "grid_template_columns": null,
      "grid_template_rows": null,
      "height": null,
      "justify_content": null,
      "justify_items": null,
      "left": null,
      "margin": null,
      "max_height": null,
      "max_width": null,
      "min_height": null,
      "min_width": null,
      "object_fit": null,
      "object_position": null,
      "order": null,
      "overflow": null,
      "overflow_x": null,
      "overflow_y": null,
      "padding": null,
      "right": null,
      "top": null,
      "visibility": null,
      "width": null
     }
    },
    "d6bd8f3aaaee460ebc5a0ee169db24b0": {
     "model_module": "@jupyter-widgets/base",
     "model_module_version": "1.2.0",
     "model_name": "LayoutModel",
     "state": {
      "_model_module": "@jupyter-widgets/base",
      "_model_module_version": "1.2.0",
      "_model_name": "LayoutModel",
      "_view_count": null,
      "_view_module": "@jupyter-widgets/base",
      "_view_module_version": "1.2.0",
      "_view_name": "LayoutView",
      "align_content": null,
      "align_items": null,
      "align_self": null,
      "border": null,
      "bottom": null,
      "display": null,
      "flex": null,
      "flex_flow": null,
      "grid_area": null,
      "grid_auto_columns": null,
      "grid_auto_flow": null,
      "grid_auto_rows": null,
      "grid_column": null,
      "grid_gap": null,
      "grid_row": null,
      "grid_template_areas": null,
      "grid_template_columns": null,
      "grid_template_rows": null,
      "height": null,
      "justify_content": null,
      "justify_items": null,
      "left": null,
      "margin": null,
      "max_height": null,
      "max_width": null,
      "min_height": null,
      "min_width": null,
      "object_fit": null,
      "object_position": null,
      "order": null,
      "overflow": null,
      "overflow_x": null,
      "overflow_y": null,
      "padding": null,
      "right": null,
      "top": null,
      "visibility": null,
      "width": null
     }
    },
    "dad63fa290a44484b4b03d53657fae6f": {
     "model_module": "@jupyter-widgets/controls",
     "model_module_version": "1.5.0",
     "model_name": "ProgressStyleModel",
     "state": {
      "_model_module": "@jupyter-widgets/controls",
      "_model_module_version": "1.5.0",
      "_model_name": "ProgressStyleModel",
      "_view_count": null,
      "_view_module": "@jupyter-widgets/base",
      "_view_module_version": "1.2.0",
      "_view_name": "StyleView",
      "bar_color": null,
      "description_width": ""
     }
    },
    "dea0db04c179423fa1e4323715b6b145": {
     "model_module": "@jupyter-widgets/base",
     "model_module_version": "1.2.0",
     "model_name": "LayoutModel",
     "state": {
      "_model_module": "@jupyter-widgets/base",
      "_model_module_version": "1.2.0",
      "_model_name": "LayoutModel",
      "_view_count": null,
      "_view_module": "@jupyter-widgets/base",
      "_view_module_version": "1.2.0",
      "_view_name": "LayoutView",
      "align_content": null,
      "align_items": null,
      "align_self": null,
      "border": null,
      "bottom": null,
      "display": null,
      "flex": null,
      "flex_flow": null,
      "grid_area": null,
      "grid_auto_columns": null,
      "grid_auto_flow": null,
      "grid_auto_rows": null,
      "grid_column": null,
      "grid_gap": null,
      "grid_row": null,
      "grid_template_areas": null,
      "grid_template_columns": null,
      "grid_template_rows": null,
      "height": null,
      "justify_content": null,
      "justify_items": null,
      "left": null,
      "margin": null,
      "max_height": null,
      "max_width": null,
      "min_height": null,
      "min_width": null,
      "object_fit": null,
      "object_position": null,
      "order": null,
      "overflow": null,
      "overflow_x": null,
      "overflow_y": null,
      "padding": null,
      "right": null,
      "top": null,
      "visibility": null,
      "width": null
     }
    },
    "eb7aab10497c41c2bff6e1b8f74ea8fe": {
     "model_module": "@jupyter-widgets/controls",
     "model_module_version": "1.5.0",
     "model_name": "DescriptionStyleModel",
     "state": {
      "_model_module": "@jupyter-widgets/controls",
      "_model_module_version": "1.5.0",
      "_model_name": "DescriptionStyleModel",
      "_view_count": null,
      "_view_module": "@jupyter-widgets/base",
      "_view_module_version": "1.2.0",
      "_view_name": "StyleView",
      "description_width": ""
     }
    },
    "eb99bc60b35a45c8bf382ec7b3947f1c": {
     "model_module": "@jupyter-widgets/controls",
     "model_module_version": "1.5.0",
     "model_name": "HBoxModel",
     "state": {
      "_dom_classes": [],
      "_model_module": "@jupyter-widgets/controls",
      "_model_module_version": "1.5.0",
      "_model_name": "HBoxModel",
      "_view_count": null,
      "_view_module": "@jupyter-widgets/controls",
      "_view_module_version": "1.5.0",
      "_view_name": "HBoxView",
      "box_style": "",
      "children": [
       "IPY_MODEL_ee9130f83c0848e895e986c69416f6a7",
       "IPY_MODEL_ff7b2224330a4aaa871269c6c936d262",
       "IPY_MODEL_a10fe7df940e4c3895acebc7d1c3f248"
      ],
      "layout": "IPY_MODEL_b87c44c7fd1f4435ae8ab65b598920f7"
     }
    },
    "ee9130f83c0848e895e986c69416f6a7": {
     "model_module": "@jupyter-widgets/controls",
     "model_module_version": "1.5.0",
     "model_name": "HTMLModel",
     "state": {
      "_dom_classes": [],
      "_model_module": "@jupyter-widgets/controls",
      "_model_module_version": "1.5.0",
      "_model_name": "HTMLModel",
      "_view_count": null,
      "_view_module": "@jupyter-widgets/controls",
      "_view_module_version": "1.5.0",
      "_view_name": "HTMLView",
      "description": "",
      "description_tooltip": null,
      "layout": "IPY_MODEL_d6bd8f3aaaee460ebc5a0ee169db24b0",
      "placeholder": "​",
      "style": "IPY_MODEL_eb7aab10497c41c2bff6e1b8f74ea8fe",
      "value": " 99%"
     }
    },
    "ff7b2224330a4aaa871269c6c936d262": {
     "model_module": "@jupyter-widgets/controls",
     "model_module_version": "1.5.0",
     "model_name": "FloatProgressModel",
     "state": {
      "_dom_classes": [],
      "_model_module": "@jupyter-widgets/controls",
      "_model_module_version": "1.5.0",
      "_model_name": "FloatProgressModel",
      "_view_count": null,
      "_view_module": "@jupyter-widgets/controls",
      "_view_module_version": "1.5.0",
      "_view_name": "ProgressView",
      "bar_style": "danger",
      "description": "",
      "description_tooltip": null,
      "layout": "IPY_MODEL_c476cc100a0b47c5a261534a1059c856",
      "max": 128,
      "min": 0,
      "orientation": "horizontal",
      "style": "IPY_MODEL_dad63fa290a44484b4b03d53657fae6f",
      "value": 127
     }
    }
   }
  }
 },
 "nbformat": 4,
 "nbformat_minor": 1
}
