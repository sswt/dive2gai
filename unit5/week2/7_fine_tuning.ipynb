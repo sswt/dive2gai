{
 "cells": [
  {
   "cell_type": "markdown",
   "metadata": {},
   "source": [
    "# Тонкая настройка предобученной модели\n",
    "\n",
    "Следующий код написан на основе тьюториала https://deci.ai/blog/fine-tune-llama-2-with-lora-for-question-answering/"
   ]
  },
  {
   "cell_type": "code",
   "execution_count": 1,
   "metadata": {},
   "outputs": [
    {
     "name": "stdout",
     "output_type": "stream",
     "text": [
      "Note: you may need to restart the kernel to use updated packages.\n"
     ]
    }
   ],
   "source": [
    "%pip install --quiet  peft bitsandbytes transformers trl accelerate"
   ]
  },
  {
   "cell_type": "markdown",
   "metadata": {},
   "source": [
    "# Подготовка данных для обучения"
   ]
  },
  {
   "cell_type": "code",
   "execution_count": 2,
   "metadata": {},
   "outputs": [
    {
     "data": {
      "text/plain": [
       "DatasetDict({\n",
       "    train: Dataset({\n",
       "        features: ['text'],\n",
       "        num_rows: 522\n",
       "    })\n",
       "    test: Dataset({\n",
       "        features: ['text'],\n",
       "        num_rows: 60\n",
       "    })\n",
       "})"
      ]
     },
     "execution_count": 2,
     "metadata": {},
     "output_type": "execute_result"
    }
   ],
   "source": [
    "from datasets import load_dataset, Dataset\n",
    "\n",
    "raw_datasets = load_dataset(\"abobster/pushkin_new\")\n",
    "\n",
    "def preprocess(dataset): \n",
    "    poems = '\\n'.join(dataset['text']).split('</s>')\n",
    "    poems = ['<s>' + poem.strip() + '</s>' for poem in poems]\n",
    "    return {'text': poems}\n",
    "\n",
    "raw_datasets = raw_datasets.map(preprocess, batched=True, batch_size=-1)  # https://huggingface.co/docs/datasets/v2.14.5/en/package_reference/main_classes#datasets.Dataset.map\n",
    "\n",
    "raw_datasets"
   ]
  },
  {
   "cell_type": "markdown",
   "metadata": {},
   "source": [
    "# Загрузка и квантизация предобученной модели и токенайзера"
   ]
  },
  {
   "cell_type": "code",
   "execution_count": 3,
   "metadata": {},
   "outputs": [
    {
     "data": {
      "application/vnd.jupyter.widget-view+json": {
       "model_id": "c9c9343e06af40d98bbe3e4840c1e1cb",
       "version_major": 2,
       "version_minor": 0
      },
      "text/plain": [
       "Loading checkpoint shards:   0%|          | 0/2 [00:00<?, ?it/s]"
      ]
     },
     "metadata": {},
     "output_type": "display_data"
    },
    {
     "name": "stdout",
     "output_type": "stream",
     "text": [
      "model_name: meta-llama/Llama-2-7b-hf\n",
      "model_size: 3500.4M\n",
      "{'bos_token': '<s>', 'eos_token': '</s>', 'unk_token': '<unk>', 'pad_token': '<unk>'}\n"
     ]
    }
   ],
   "source": [
    "from transformers import AutoTokenizer, AutoModelForCausalLM, BitsAndBytesConfig\n",
    "import torch\n",
    "\n",
    "model_name = \"meta-llama/Llama-2-7b-hf\"\n",
    "\n",
    "tokenizer = AutoTokenizer.from_pretrained(model_name)\n",
    "tokenizer.pad_token = tokenizer.unk_token\n",
    "tokenizer.padding_side = \"right\"\n",
    "tokenizer.add_bos_token = False\n",
    "tokenizer.add_eos_token = False\n",
    "\n",
    "quant_config = BitsAndBytesConfig(\n",
    "    load_in_4bit=True,\n",
    "    bnb_4bit_quant_type=\"nf4\",\n",
    "    bnb_4bit_compute_dtype=torch.float16,\n",
    "    bnb_4bit_use_double_quant=False\n",
    ")\n",
    "\n",
    "model = AutoModelForCausalLM.from_pretrained(model_name, quantization_config=quant_config)  # the model has already been set to the correct devices and casted to the correct `dtype`\n",
    "\n",
    "model_size = sum(t.numel() for t in model.parameters())\n",
    "print(f\"model_name: {model_name}\")\n",
    "print(f\"model_size: {model_size/1000**2:.1f}M\")\n",
    "print(tokenizer.special_tokens_map)"
   ]
  },
  {
   "cell_type": "markdown",
   "metadata": {},
   "source": [
    "# Дообучение модели"
   ]
  },
  {
   "cell_type": "code",
   "execution_count": 4,
   "metadata": {},
   "outputs": [
    {
     "name": "stderr",
     "output_type": "stream",
     "text": [
      "You're using a LlamaTokenizerFast tokenizer. Please note that with a fast tokenizer, using the `__call__` method is faster than using a method to encode the text followed by a call to the `pad` method to get a padded encoding.\n"
     ]
    },
    {
     "data": {
      "text/html": [
       "\n",
       "    <div>\n",
       "      \n",
       "      <progress value='1834' max='10000' style='width:300px; height:20px; vertical-align: middle;'></progress>\n",
       "      [ 1834/10000 26:06 < 1:56:21, 1.17 it/s, Epoch 14/77]\n",
       "    </div>\n",
       "    <table border=\"1\" class=\"dataframe\">\n",
       "  <thead>\n",
       " <tr style=\"text-align: left;\">\n",
       "      <th>Epoch</th>\n",
       "      <th>Training Loss</th>\n",
       "      <th>Validation Loss</th>\n",
       "    </tr>\n",
       "  </thead>\n",
       "  <tbody>\n",
       "    <tr>\n",
       "      <td>1</td>\n",
       "      <td>2.956500</td>\n",
       "      <td>2.922296</td>\n",
       "    </tr>\n",
       "    <tr>\n",
       "      <td>2</td>\n",
       "      <td>2.882600</td>\n",
       "      <td>2.867680</td>\n",
       "    </tr>\n",
       "    <tr>\n",
       "      <td>3</td>\n",
       "      <td>2.832100</td>\n",
       "      <td>2.834849</td>\n",
       "    </tr>\n",
       "    <tr>\n",
       "      <td>4</td>\n",
       "      <td>2.768500</td>\n",
       "      <td>2.767774</td>\n",
       "    </tr>\n",
       "    <tr>\n",
       "      <td>5</td>\n",
       "      <td>2.709200</td>\n",
       "      <td>2.741626</td>\n",
       "    </tr>\n",
       "    <tr>\n",
       "      <td>6</td>\n",
       "      <td>2.680400</td>\n",
       "      <td>2.731407</td>\n",
       "    </tr>\n",
       "    <tr>\n",
       "      <td>7</td>\n",
       "      <td>2.659300</td>\n",
       "      <td>2.723740</td>\n",
       "    </tr>\n",
       "    <tr>\n",
       "      <td>8</td>\n",
       "      <td>2.640500</td>\n",
       "      <td>2.718449</td>\n",
       "    </tr>\n",
       "    <tr>\n",
       "      <td>9</td>\n",
       "      <td>2.621000</td>\n",
       "      <td>2.715953</td>\n",
       "    </tr>\n",
       "    <tr>\n",
       "      <td>10</td>\n",
       "      <td>2.606200</td>\n",
       "      <td>2.713273</td>\n",
       "    </tr>\n",
       "    <tr>\n",
       "      <td>11</td>\n",
       "      <td>2.585500</td>\n",
       "      <td>2.712572</td>\n",
       "    </tr>\n",
       "    <tr>\n",
       "      <td>12</td>\n",
       "      <td>2.562200</td>\n",
       "      <td>2.714439</td>\n",
       "    </tr>\n",
       "    <tr>\n",
       "      <td>13</td>\n",
       "      <td>2.551200</td>\n",
       "      <td>2.714648</td>\n",
       "    </tr>\n",
       "    <tr>\n",
       "      <td>14</td>\n",
       "      <td>2.532300</td>\n",
       "      <td>2.716137</td>\n",
       "    </tr>\n",
       "  </tbody>\n",
       "</table><p>"
      ],
      "text/plain": [
       "<IPython.core.display.HTML object>"
      ]
     },
     "metadata": {},
     "output_type": "display_data"
    }
   ],
   "source": [
    "from transformers import TrainingArguments, EarlyStoppingCallback\n",
    "from peft import LoraConfig\n",
    "from trl import SFTTrainer\n",
    "\n",
    "peft_parameters = LoraConfig(  # https://huggingface.co/docs/peft/conceptual_guides/lora\n",
    "    lora_alpha=16,\n",
    "    lora_dropout=0.1,\n",
    "    r=8,\n",
    "    bias=\"none\",\n",
    "    task_type=\"CAUSAL_LM\"\n",
    ")\n",
    "\n",
    "batch_size = 4  # Максимум, что влазит в память GPU\n",
    "max_seq_length = 256  # Только первые слова стихотворения учитываются\n",
    "\n",
    "train_args = TrainingArguments(  # https://huggingface.co/docs/transformers/v4.34.0/en/main_classes/trainer#transformers.TrainingArguments\n",
    "    report_to='tensorboard',\n",
    "    output_dir='.results',\n",
    "\n",
    "    max_steps=10000,\n",
    "    load_best_model_at_end=True,\n",
    "\n",
    "    per_device_train_batch_size=batch_size,\n",
    "    per_device_eval_batch_size=batch_size,\n",
    "    evaluation_strategy='epoch',\n",
    "    logging_strategy='epoch',\n",
    "    save_strategy='epoch',\n",
    "\n",
    "    optim=\"paged_adamw_32bit\",\n",
    "    learning_rate=1e-5,\n",
    "    weight_decay=0.001,\n",
    "    fp16=False,\n",
    "    bf16=False,\n",
    "    max_grad_norm=0.3,\n",
    "    warmup_ratio=0.03,\n",
    "    lr_scheduler_type=\"constant\",\n",
    ")\n",
    "\n",
    "trainer = SFTTrainer(  # https://huggingface.co/docs/trl/v0.7.1/en/trainer#trl.SFTTrainer\n",
    "    model=model,\n",
    "    args=train_args,\n",
    "    peft_config=peft_parameters,\n",
    "    tokenizer=tokenizer,\n",
    "    train_dataset=raw_datasets['train'],\n",
    "    eval_dataset=raw_datasets['test'],\n",
    "    dataset_text_field=\"text\",\n",
    "    # packing=True,\n",
    "    max_seq_length=max_seq_length,\n",
    "    callbacks=[EarlyStoppingCallback(3)],\n",
    "    dataset_batch_size=batch_size,\n",
    ")\n",
    "\n",
    "trainer.train()\n",
    "\n",
    "trainer.save_model('.7_fine_tuning')\n"
   ]
  },
  {
   "cell_type": "markdown",
   "metadata": {},
   "source": [
    "# Генерация текста"
   ]
  },
  {
   "cell_type": "code",
   "execution_count": 5,
   "metadata": {},
   "outputs": [],
   "source": [
    "# from transformers import AutoModelForCausalLM, AutoTokenizer\n",
    "# import torch\n",
    "# model = AutoModelForCausalLM.from_pretrained('.7_fine_tuning', local_files_only=True, load_in_4bit=True, bnb_4bit_compute_dtype=torch.float16)\n",
    "# tokenizer = AutoTokenizer.from_pretrained('.7_fine_tuning', local_files_only=True)\n",
    "# tokenizer.add_bos_token = False"
   ]
  },
  {
   "cell_type": "code",
   "execution_count": 26,
   "metadata": {
    "tags": []
   },
   "outputs": [
    {
     "name": "stdout",
     "output_type": "stream",
     "text": [
      "<s> О сколько нам открытий чудных!\n",
      "О сколько сладких снов!\n",
      "И нам, вдохновенным духом,\n",
      "Небесный мир приятный.\n",
      "Среди ветвей, утренней красоты,\n",
      "Среди одуванчиков,\n",
      "Среди пышных цветов,\n",
      "Среди златок и цветов,\n",
      "Среди снов и песен,\n",
      "Всем нам предстоит увидеть\n",
      "Судный день, славный день,\n",
      "Высшую радость,\n",
      "Сыновей и дочерей\n",
      "Отдать покойным душам,\n",
      "Чувствительным умовам,\n",
      "И погребение им.\n",
      "Скажите, кто же сможет\n",
      "Все это увидеть?\n",
      "Кто будет в том дне?\n",
      "\n"
     ]
    }
   ],
   "source": [
    "prefix = '<s>О сколько нам открытий чудных'\n",
    "\n",
    "inputs = tokenizer(prefix, return_tensors='pt').to('cuda')\n",
    "\n",
    "outputs = model.generate(  # https://huggingface.co/docs/transformers/main_classes/text_generation\n",
    "    **inputs, \n",
    "    do_sample=True,\n",
    "    max_new_tokens=200,\n",
    "    eos_token_id=tokenizer.eos_token_id,\n",
    "    pad_token_id=tokenizer.pad_token_id,\n",
    "    )\n",
    "\n",
    "print(tokenizer.decode(outputs[0]))"
   ]
  },
  {
   "cell_type": "code",
   "execution_count": null,
   "metadata": {},
   "outputs": [],
   "source": []
  }
 ],
 "metadata": {
  "kernelspec": {
   "display_name": "Python 3 (ipykernel)",
   "language": "python",
   "name": "python3"
  },
  "language_info": {
   "codemirror_mode": {
    "name": "ipython",
    "version": 3
   },
   "file_extension": ".py",
   "mimetype": "text/x-python",
   "name": "python",
   "nbconvert_exporter": "python",
   "pygments_lexer": "ipython3",
   "version": "3.10.12"
  }
 },
 "nbformat": 4,
 "nbformat_minor": 4
}
