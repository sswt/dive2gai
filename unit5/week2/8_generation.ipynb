{
 "cells": [
  {
   "cell_type": "markdown",
   "id": "930f4910",
   "metadata": {},
   "source": [
    "# Генерация стихов финальной моделью"
   ]
  },
  {
   "cell_type": "code",
   "execution_count": 1,
   "id": "5b3f9964-a4ea-4d0f-95a6-be4318173d8f",
   "metadata": {},
   "outputs": [
    {
     "data": {
      "application/vnd.jupyter.widget-view+json": {
       "model_id": "0691fe52ee6141058fa7ec2a56f2fcc1",
       "version_major": 2,
       "version_minor": 0
      },
      "text/plain": [
       "Loading checkpoint shards:   0%|          | 0/6 [00:00<?, ?it/s]"
      ]
     },
     "metadata": {},
     "output_type": "display_data"
    }
   ],
   "source": [
    "from transformers import AutoModelForCausalLM, AutoTokenizer, GenerationConfig\n",
    "import torch\n",
    "folder_name = '.7_fine_tuning'\n",
    "model = AutoModelForCausalLM.from_pretrained(folder_name, local_files_only=True, load_in_8bit=True)\n",
    "tokenizer = AutoTokenizer.from_pretrained(folder_name, local_files_only=True)\n",
    "generation_config = GenerationConfig.from_pretrained(folder_name, local_files_only=True)"
   ]
  },
  {
   "cell_type": "code",
   "execution_count": 5,
   "id": "3c69227e-c2e7-47ae-b111-c4c3965b11c2",
   "metadata": {
    "tags": []
   },
   "outputs": [
    {
     "name": "stdout",
     "output_type": "stream",
     "text": [
      "<s>С утра я встал не стой ноги,\n",
      "Не умывался, не чесался.\n",
      "Я в зеркало взглянул: зеваю;\n",
      "Узнать нельзя вчерашнего себя!\n",
      "И вот решился я сегодня\n",
      "В порядок привести себя;\n",
      "Пошел к цирюльнику Ивану —\n",
      "Он брил меня уж год назад.\n",
      "«Ну что ж? ты все еще в халате?» —\n",
      "Спросил его с досадой я.\n",
      "— «А что прикажешь делать мне?\n",
      "Ведь на дворе такая стужа!» —\n",
      "Сказал он, грабли вынимая.\n",
      "— «Да полно вздор молоть, братец!\n",
      "Ужели целый век тебе\n",
      "Причесывать господских дочек\n",
      "И гребешком их щекотать?\n",
      "Пора за ум взяться». —\n",
      "«Рад бы рад», — сказал Иван Петрович,\n",
      "Но только лишь успел сказать,\n",
      "Как дверь тихонько отворилась…\n",
      "Кто там? спросил мой парикмахер.\n",
      "Вошла хозяйка молодая,\n",
      "Мила, как яс\n"
     ]
    }
   ],
   "source": [
    "prefix = '<s>С утра я встал не стой ноги'\n",
    "\n",
    "inputs = tokenizer(prefix, return_tensors='pt').to('cuda')\n",
    "\n",
    "outputs = model.generate(\n",
    "    **inputs,\n",
    "    generation_config=generation_config\n",
    "    )\n",
    "\n",
    "print(tokenizer.decode(outputs[0]))"
   ]
  }
 ],
 "metadata": {
  "kernelspec": {
   "display_name": "Python 3 (ipykernel)",
   "language": "python",
   "name": "python3"
  },
  "language_info": {
   "codemirror_mode": {
    "name": "ipython",
    "version": 3
   },
   "file_extension": ".py",
   "mimetype": "text/x-python",
   "name": "python",
   "nbconvert_exporter": "python",
   "pygments_lexer": "ipython3",
   "version": "3.10.12"
  }
 },
 "nbformat": 4,
 "nbformat_minor": 5
}
