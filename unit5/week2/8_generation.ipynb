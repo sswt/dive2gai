{
 "cells": [
  {
   "cell_type": "markdown",
   "id": "930f4910",
   "metadata": {},
   "source": [
    "# Генерация стихов финальной моделью"
   ]
  },
  {
   "cell_type": "code",
   "execution_count": 1,
   "id": "5b3f9964-a4ea-4d0f-95a6-be4318173d8f",
   "metadata": {},
   "outputs": [
    {
     "data": {
      "application/vnd.jupyter.widget-view+json": {
       "model_id": "ec969164e2924592aec265acb8b40117",
       "version_major": 2,
       "version_minor": 0
      },
      "text/plain": [
       "Loading checkpoint shards:   0%|          | 0/6 [00:00<?, ?it/s]"
      ]
     },
     "metadata": {},
     "output_type": "display_data"
    }
   ],
   "source": [
    "from transformers import AutoModelForCausalLM, AutoTokenizer, GenerationConfig\n",
    "import torch\n",
    "folder_name = '.7_fine_tuning'\n",
    "model = AutoModelForCausalLM.from_pretrained(folder_name, local_files_only=True, load_in_8bit=True)\n",
    "tokenizer = AutoTokenizer.from_pretrained(folder_name, local_files_only=True)\n",
    "generation_config = GenerationConfig.from_pretrained(folder_name, local_files_only=True)"
   ]
  },
  {
   "cell_type": "code",
   "execution_count": 16,
   "id": "3c69227e-c2e7-47ae-b111-c4c3965b11c2",
   "metadata": {},
   "outputs": [
    {
     "name": "stdout",
     "output_type": "stream",
     "text": [
      "<s>С утра я встал не стой ноги,\n",
      "Не умывался, не чесался.\n",
      "Я в зеркало взглянул: лицо как у попа!\n",
      "И брюхо толстое набито кашей гречневой.\n",
      "А тут еще проклятая погода!\n",
      "Дождь мелкий моросит и ветер воет;\n",
      "Насквозь промокшие дрожки\n",
      "Везут меня к тебе, мой друг сердечный.\n",
      "Ну что за жизнь? тоска да скука!\n",
      "Приехал — дома нет ни крошки.\n",
      "Жена с сестрой ушли куда-то…\n",
      "Сижу один перед камином\n",
      "Да думаю о том, что было бы со мною,\n",
      "Когда б ты мне не изменила.\n",
      "Вот так сижу я час, другой,\n",
      "Третий проходит незаметно;\n",
      "Вдруг слышу шорох под ногою.\n",
      "Гляжу — мышонок небольшой\n",
      "Подходит ближе, ближе, смело\n",
      "К моей протянутой руке.\n",
      "«Ах, бедный! — думал я сначала,—\n",
      "Ты голоден, поди сюда».\n",
      "Но\n"
     ]
    }
   ],
   "source": [
    "prefix = '<s>С утра я встал не стой ноги'\n",
    "\n",
    "inputs = tokenizer(prefix, return_tensors='pt').to('cuda')\n",
    "\n",
    "outputs = model.generate(\n",
    "    **inputs,\n",
    "    generation_config=generation_config\n",
    "    )\n",
    "\n",
    "print(tokenizer.decode(outputs[0]))"
   ]
  }
 ],
 "metadata": {
  "kernelspec": {
   "display_name": "Python 3 (ipykernel)",
   "language": "python",
   "name": "python3"
  },
  "language_info": {
   "codemirror_mode": {
    "name": "ipython",
    "version": 3
   },
   "file_extension": ".py",
   "mimetype": "text/x-python",
   "name": "python",
   "nbconvert_exporter": "python",
   "pygments_lexer": "ipython3",
   "version": "3.10.12"
  }
 },
 "nbformat": 4,
 "nbformat_minor": 5
}
