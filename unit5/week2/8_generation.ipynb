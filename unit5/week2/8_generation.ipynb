{
 "cells": [
  {
   "cell_type": "code",
   "execution_count": 2,
   "id": "5b3f9964-a4ea-4d0f-95a6-be4318173d8f",
   "metadata": {},
   "outputs": [
    {
     "data": {
      "application/vnd.jupyter.widget-view+json": {
       "model_id": "7f986946d38a482b9bd074b3fb97df4e",
       "version_major": 2,
       "version_minor": 0
      },
      "text/plain": [
       "Loading checkpoint shards:   0%|          | 0/6 [00:00<?, ?it/s]"
      ]
     },
     "metadata": {},
     "output_type": "display_data"
    }
   ],
   "source": [
    "from transformers import AutoModelForCausalLM, AutoTokenizer\n",
    "import torch\n",
    "folder_name = '.7_fine_tuning'\n",
    "model = AutoModelForCausalLM.from_pretrained(folder_name, local_files_only=True, load_in_8bit=True)\n",
    "tokenizer = AutoTokenizer.from_pretrained(folder_name, local_files_only=True)\n",
    "tokenizer.add_bos_token = False"
   ]
  },
  {
   "cell_type": "code",
   "execution_count": 11,
   "id": "3c69227e-c2e7-47ae-b111-c4c3965b11c2",
   "metadata": {},
   "outputs": [
    {
     "name": "stdout",
     "output_type": "stream",
     "text": [
      "<s>С утра я встал не стой ноги,\n",
      "Не умывался, не чесался;\n",
      "Я все сидел да размышлял:\n",
      "Куда б сегодня мне убраться?\n",
      "И наконец решил удрать\n",
      "В деревню к тетке, в глушь, в Саратов.\n",
      "Там буду есть пирог с грибами\n",
      "Да брагу пить из жбана с вами…</s>\n"
     ]
    }
   ],
   "source": [
    "from transformers import GenerationConfig\n",
    "\n",
    "prefix = '<s>С утра я встал не стой ноги'\n",
    "\n",
    "generation_config = GenerationConfig(\n",
    "  bos_token_id=tokenizer.bos_token_id,\n",
    "  eos_token_id=tokenizer.eos_token_id,\n",
    "  pad_token_id=tokenizer.pad_token_id,\n",
    "  do_sample=True,\n",
    "  max_new_tokens=200,\n",
    "  no_repeat_ngram_size=15,\n",
    "  repetition_penalty=1.15,\n",
    "  temperature=0.2,\n",
    "  top_k=30,\n",
    "  top_p=0.9,\n",
    ")\n",
    "\n",
    "inputs = tokenizer(prefix, return_tensors='pt').to('cuda')\n",
    "\n",
    "outputs = model.generate(\n",
    "    **inputs, \n",
    "    generation_config=generation_config,\n",
    "    )\n",
    "\n",
    "print(tokenizer.decode(outputs[0]))"
   ]
  }
 ],
 "metadata": {
  "kernelspec": {
   "display_name": "Python 3 (ipykernel)",
   "language": "python",
   "name": "python3"
  },
  "language_info": {
   "codemirror_mode": {
    "name": "ipython",
    "version": 3
   },
   "file_extension": ".py",
   "mimetype": "text/x-python",
   "name": "python",
   "nbconvert_exporter": "python",
   "pygments_lexer": "ipython3",
   "version": "3.10.12"
  }
 },
 "nbformat": 4,
 "nbformat_minor": 5
}
