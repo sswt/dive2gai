{
 "cells": [
  {
   "cell_type": "markdown",
   "metadata": {},
   "source": [
    "# Предобученные модели\n",
    "\n",
    "На Huggingface доступно множество предобученных языковых моделей. \n",
    "\n",
    "https://huggingface.co/models\n",
    "\n",
    "Следующие модели содержат русский язык.\n",
    "\n",
    "## Сбербанк ruGPT\n",
    "\n",
    "ai-forever/rugpt3small_based_on_gpt2 __125m__ \\\n",
    "ai-forever/rugpt3medium_based_on_gpt2 __356m__ \\\n",
    "ai-forever/rugpt3large_based_on_gpt2 __760m__ \\\n",
    "ai-forever/ruGPT-3.5-13B\n",
    "\n",
    "## Сбербанк mGPT\n",
    "\n",
    "ai-forever/mGPT __1.4b__\n",
    "\n",
    "## Huggingface BLOOM\n",
    "bigscience/bloom-560m\\\n",
    "bigscience/bloom-1b1\\\n",
    "bigscience/bloom-1b7\\\n",
    "bigscience/bloom-3b\\\n",
    "bigscience/bloom __366B__\n",
    "\n",
    "## Facebook OPT\n",
    "facebook/opt-125m\\\n",
    "facebook/opt-350m\\\n",
    "facebook/opt-1.3b\\\n",
    "facebook/opt-2.7b\\\n",
    "facebook/opt-6.7b\\\n",
    "facebook/opt-13b\\\n",
    "facebook/opt-30b\\\n",
    "facebook/opt-66b\n",
    "\n",
    "## Meta LLaMA\n",
    "meta-llama/Llama-2-7b-hf\\\n",
    "meta-llama/Llama-2-13b-hf\\\n",
    "meta-llama/Llama-2-70b-hf\n",
    "\n",
    "## ... и другие\n"
   ]
  },
  {
   "cell_type": "markdown",
   "metadata": {},
   "source": [
    "# Загрузка предобученной модели с HuggingFace\n",
    "\n",
    "Выбор размера модели:\n",
    "\n",
    "Допустим модель имеет 1b (миллиард) переменных\n",
    "\n",
    "На диске она будет занимать от 2 до 4 Гб\n",
    "\n",
    "В памяти GPU она будет занимать:\n",
    "\n",
    "* 4Гб с опцией **torch_dtype=torch.float32**\n",
    "* 2Гб с опцией **torch_dtype=torch.float16**\n",
    "* 1Гб с опцией **load_in_8bit=True**\n",
    "* 0.5Гб с опцией **load_in_4bit=True**"
   ]
  },
  {
   "cell_type": "code",
   "execution_count": 10,
   "metadata": {},
   "outputs": [
    {
     "name": "stdout",
     "output_type": "stream",
     "text": [
      "model_size 813.6M\n"
     ]
    }
   ],
   "source": [
    "from transformers import AutoTokenizer, AutoModelForCausalLM\n",
    "import torch\n",
    "\n",
    "# model_name = 'ai-forever/rugpt3small_based_on_gpt2'\n",
    "# model_name = 'ai-forever/rugpt3large_based_on_gpt2'\n",
    "# model_name = 'ai-forever/ruGPT-3.5-13B'\n",
    "model_name = 'ai-forever/mGPT'\n",
    "# model_name = 'facebook/opt-30b'\n",
    "# model_name = 'bigscience/bloom-3b'\n",
    "# model_name = 'meta-llama/Llama-2-7b-hf'\n",
    "\n",
    "model = AutoModelForCausalLM.from_pretrained(model_name, load_in_4bit=True)\n",
    "tokenizer = AutoTokenizer.from_pretrained(model_name)\n",
    "\n",
    "model_size = sum(t.numel() for t in model.parameters())\n",
    "print(f'model_size {model_size/1000**2:.1f}M')"
   ]
  },
  {
   "cell_type": "markdown",
   "metadata": {},
   "source": [
    "# Генерация с префиксом"
   ]
  },
  {
   "cell_type": "code",
   "execution_count": 11,
   "metadata": {},
   "outputs": [
    {
     "name": "stdout",
     "output_type": "stream",
     "text": [
      "О сколько нам открытий чудных. Пора от этих открытий вам открывать новые возможности. А вам счастья.\n",
      "Добавлено: Чет 30 Августа 2006 16:40\n",
      "Даша, вот ещё из детства, такую подругу... с нами не считалась, а у меня одна была - и вот такая! \"Счастливый ребёнок\"\n",
      "Добавлено: Чет 30 Августа 2006 17:16\n",
      "ДД! Давайте об\n"
     ]
    }
   ],
   "source": [
    "prefix = 'О сколько нам открытий чудных'\n",
    "\n",
    "inputs = tokenizer(prefix, return_tensors='pt').to('cuda')\n",
    "\n",
    "outputs = model.generate(\n",
    "    **inputs, \n",
    "    do_sample=True,\n",
    "    max_new_tokens=100,\n",
    "    pad_token_id=tokenizer.eos_token_id,\n",
    "    eos_token_id=tokenizer.eos_token_id,\n",
    "    )\n",
    "\n",
    "print(tokenizer.decode(outputs[0]))"
   ]
  },
  {
   "cell_type": "markdown",
   "metadata": {},
   "source": [
    "# Параметры модели"
   ]
  },
  {
   "cell_type": "code",
   "execution_count": 12,
   "metadata": {},
   "outputs": [
    {
     "data": {
      "text/plain": [
       "GPT2LMHeadModel(\n",
       "  (transformer): GPT2Model(\n",
       "    (wte): Embedding(100000, 2048)\n",
       "    (wpe): Embedding(2048, 2048)\n",
       "    (drop): Dropout(p=0.1, inplace=False)\n",
       "    (h): ModuleList(\n",
       "      (0-23): 24 x GPT2Block(\n",
       "        (ln_1): LayerNorm((2048,), eps=1e-05, elementwise_affine=True)\n",
       "        (attn): GPT2Attention(\n",
       "          (c_attn): Linear4bit(in_features=2048, out_features=6144, bias=True)\n",
       "          (c_proj): Linear4bit(in_features=2048, out_features=2048, bias=True)\n",
       "          (attn_dropout): Dropout(p=0.1, inplace=False)\n",
       "          (resid_dropout): Dropout(p=0.1, inplace=False)\n",
       "        )\n",
       "        (ln_2): LayerNorm((2048,), eps=1e-05, elementwise_affine=True)\n",
       "        (mlp): GPT2MLP(\n",
       "          (c_fc): Linear4bit(in_features=2048, out_features=8192, bias=True)\n",
       "          (c_proj): Linear4bit(in_features=8192, out_features=2048, bias=True)\n",
       "          (act): NewGELUActivation()\n",
       "          (dropout): Dropout(p=0.1, inplace=False)\n",
       "        )\n",
       "      )\n",
       "    )\n",
       "    (ln_f): LayerNorm((2048,), eps=1e-05, elementwise_affine=True)\n",
       "  )\n",
       "  (lm_head): Linear(in_features=2048, out_features=100000, bias=False)\n",
       ")"
      ]
     },
     "execution_count": 12,
     "metadata": {},
     "output_type": "execute_result"
    }
   ],
   "source": [
    "model"
   ]
  },
  {
   "cell_type": "code",
   "execution_count": 13,
   "metadata": {},
   "outputs": [
    {
     "data": {
      "text/plain": [
       "GPT2Config {\n",
       "  \"_name_or_path\": \"ai-forever/mGPT\",\n",
       "  \"activation_function\": \"gelu_new\",\n",
       "  \"architectures\": [\n",
       "    \"GPT2LMHeadModel\"\n",
       "  ],\n",
       "  \"attn_pdrop\": 0.1,\n",
       "  \"bos_token_id\": 50256,\n",
       "  \"embd_pdrop\": 0.1,\n",
       "  \"eos_token_id\": 50256,\n",
       "  \"gradient_checkpointing\": false,\n",
       "  \"initializer_range\": 0.02,\n",
       "  \"layer_norm_epsilon\": 1e-05,\n",
       "  \"model_type\": \"gpt2\",\n",
       "  \"n_ctx\": 2048,\n",
       "  \"n_embd\": 2048,\n",
       "  \"n_head\": 16,\n",
       "  \"n_inner\": null,\n",
       "  \"n_layer\": 24,\n",
       "  \"n_positions\": 2048,\n",
       "  \"quantization_config\": {\n",
       "    \"bnb_4bit_compute_dtype\": \"float32\",\n",
       "    \"bnb_4bit_quant_type\": \"fp4\",\n",
       "    \"bnb_4bit_use_double_quant\": false,\n",
       "    \"llm_int8_enable_fp32_cpu_offload\": false,\n",
       "    \"llm_int8_has_fp16_weight\": false,\n",
       "    \"llm_int8_skip_modules\": null,\n",
       "    \"llm_int8_threshold\": 6.0,\n",
       "    \"load_in_4bit\": true,\n",
       "    \"load_in_8bit\": false,\n",
       "    \"quant_method\": \"bitsandbytes\"\n",
       "  },\n",
       "  \"reorder_and_upcast_attn\": false,\n",
       "  \"resid_pdrop\": 0.1,\n",
       "  \"scale_attn_by_inverse_layer_idx\": false,\n",
       "  \"scale_attn_weights\": true,\n",
       "  \"summary_activation\": null,\n",
       "  \"summary_first_dropout\": 0.1,\n",
       "  \"summary_proj_to_labels\": true,\n",
       "  \"summary_type\": \"cls_index\",\n",
       "  \"summary_use_proj\": true,\n",
       "  \"torch_dtype\": \"float32\",\n",
       "  \"transformers_version\": \"4.34.0\",\n",
       "  \"use_cache\": true,\n",
       "  \"vocab_size\": 100000\n",
       "}"
      ]
     },
     "execution_count": 13,
     "metadata": {},
     "output_type": "execute_result"
    }
   ],
   "source": [
    "model.config"
   ]
  },
  {
   "cell_type": "code",
   "execution_count": null,
   "metadata": {},
   "outputs": [],
   "source": []
  }
 ],
 "metadata": {
  "kernelspec": {
   "display_name": "Python 3 (ipykernel)",
   "language": "python",
   "name": "python3"
  },
  "language_info": {
   "codemirror_mode": {
    "name": "ipython",
    "version": 3
   },
   "file_extension": ".py",
   "mimetype": "text/x-python",
   "name": "python",
   "nbconvert_exporter": "python",
   "pygments_lexer": "ipython3",
   "version": "3.10.9"
  }
 },
 "nbformat": 4,
 "nbformat_minor": 4
}
