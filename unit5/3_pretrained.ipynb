{
 "cells": [
  {
   "cell_type": "markdown",
   "metadata": {},
   "source": [
    "# Предобученные модели\n",
    "\n",
    "На Huggingface доступно множество предобученных языковых моделей. \n",
    "\n",
    "https://huggingface.co/models\n",
    "\n",
    "Следующие модели содержат русский язык.\n",
    "\n",
    "## Сбербанк ruGPT\n",
    "\n",
    "ai-forever/rugpt3small_based_on_gpt2 __125m__ \\\n",
    "ai-forever/rugpt3medium_based_on_gpt2 __356m__ \\\n",
    "ai-forever/rugpt3large_based_on_gpt2 __760m__ \\\n",
    "ai-forever/ruGPT-3.5-13B\n",
    "\n",
    "## Сбербанк mGPT\n",
    "\n",
    "ai-forever/mGPT __1.4b__\n",
    "\n",
    "## Huggingface BLOOM\n",
    "bigscience/bloom-560m\\\n",
    "bigscience/bloom-1b1\\\n",
    "bigscience/bloom-1b7\\\n",
    "bigscience/bloom-3b\\\n",
    "bigscience/bloom __366B__\n",
    "\n",
    "## Facebook OPT\n",
    "facebook/opt-125m\\\n",
    "facebook/opt-350m\\\n",
    "facebook/opt-1.3b\\\n",
    "facebook/opt-2.7b\\\n",
    "facebook/opt-6.7b\\\n",
    "facebook/opt-13b\\\n",
    "facebook/opt-30b\\\n",
    "facebook/opt-66b\n",
    "\n",
    "## Meta LLaMA\n",
    "meta-llama/Llama-2-7b-hf\\\n",
    "meta-llama/Llama-2-13b-hf\\\n",
    "meta-llama/Llama-2-70b-hf\n",
    "\n",
    "## ... и другие\n"
   ]
  },
  {
   "cell_type": "code",
   "execution_count": 20,
   "metadata": {},
   "outputs": [
    {
     "name": "stdout",
     "output_type": "stream",
     "text": [
      "model_size 1417.6M\n"
     ]
    },
    {
     "data": {
      "text/plain": [
       "GPT2Config {\n",
       "  \"_name_or_path\": \"ai-forever/mGPT\",\n",
       "  \"activation_function\": \"gelu_new\",\n",
       "  \"architectures\": [\n",
       "    \"GPT2LMHeadModel\"\n",
       "  ],\n",
       "  \"attn_pdrop\": 0.1,\n",
       "  \"bos_token_id\": 50256,\n",
       "  \"embd_pdrop\": 0.1,\n",
       "  \"eos_token_id\": 50256,\n",
       "  \"gradient_checkpointing\": false,\n",
       "  \"initializer_range\": 0.02,\n",
       "  \"layer_norm_epsilon\": 1e-05,\n",
       "  \"model_type\": \"gpt2\",\n",
       "  \"n_ctx\": 2048,\n",
       "  \"n_embd\": 2048,\n",
       "  \"n_head\": 16,\n",
       "  \"n_inner\": null,\n",
       "  \"n_layer\": 24,\n",
       "  \"n_positions\": 2048,\n",
       "  \"reorder_and_upcast_attn\": false,\n",
       "  \"resid_pdrop\": 0.1,\n",
       "  \"scale_attn_by_inverse_layer_idx\": false,\n",
       "  \"scale_attn_weights\": true,\n",
       "  \"summary_activation\": null,\n",
       "  \"summary_first_dropout\": 0.1,\n",
       "  \"summary_proj_to_labels\": true,\n",
       "  \"summary_type\": \"cls_index\",\n",
       "  \"summary_use_proj\": true,\n",
       "  \"torch_dtype\": \"float16\",\n",
       "  \"transformers_version\": \"4.34.0\",\n",
       "  \"use_cache\": true,\n",
       "  \"vocab_size\": 100000\n",
       "}"
      ]
     },
     "execution_count": 20,
     "metadata": {},
     "output_type": "execute_result"
    }
   ],
   "source": [
    "from transformers import AutoTokenizer, AutoModelForCausalLM\n",
    "import torch\n",
    "\n",
    "model_name = 'ai-forever/mGPT'\n",
    "# model_name = 'ai-forever/rugpt3small_based_on_gpt2'\n",
    "\n",
    "model = AutoModelForCausalLM.from_pretrained(model_name, torch_dtype=torch.float16).to('cuda')\n",
    "tokenizer = AutoTokenizer.from_pretrained(model_name)\n",
    "\n",
    "model_size = sum(t.numel() for t in model.parameters())\n",
    "print(f'model_size {model_size/1000**2:.1f}M')\n",
    "\n",
    "model.config\n"
   ]
  },
  {
   "cell_type": "code",
   "execution_count": 22,
   "metadata": {},
   "outputs": [
    {
     "name": "stdout",
     "output_type": "stream",
     "text": [
      "О сколько нам открытий чудных, чудесных, на самом деле...всего лишь вера - в наших судьбах, в том, что наше сердце не просто так наполнено радостью, но и очень, очень трудно в этом мире оставить безнаказанным и скованным\n",
      "Отличная статья, очень понравилось. Читаешь статью и думаешь о том, что творишь для своих родителей, с какой любов\n"
     ]
    }
   ],
   "source": [
    "prefix = 'О сколько нам открытий чудных'\n",
    "\n",
    "inputs = tokenizer(prefix, return_tensors='pt').to('cuda')\n",
    "\n",
    "outputs = model.generate(\n",
    "    **inputs, \n",
    "    do_sample=True,\n",
    "    max_new_tokens=100,\n",
    "    pad_token_id=tokenizer.eos_token_id\n",
    "    )\n",
    "\n",
    "print(tokenizer.decode(outputs[0]))"
   ]
  }
 ],
 "metadata": {
  "kernelspec": {
   "display_name": "Python 3 (ipykernel)",
   "language": "python",
   "name": "python3"
  },
  "language_info": {
   "codemirror_mode": {
    "name": "ipython",
    "version": 3
   },
   "file_extension": ".py",
   "mimetype": "text/x-python",
   "name": "python",
   "nbconvert_exporter": "python",
   "pygments_lexer": "ipython3",
   "version": "3.10.12"
  }
 },
 "nbformat": 4,
 "nbformat_minor": 4
}
