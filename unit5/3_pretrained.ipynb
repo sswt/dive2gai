{
 "cells": [
  {
   "cell_type": "markdown",
   "metadata": {},
   "source": [
    "# Предобученные модели\n",
    "\n",
    "На Huggingface доступно множество предобученных языковых моделей. Следующие модели содержат русский язык.\n",
    "\n",
    "## Сбербанк ruGPT\n",
    "\n",
    "ai-forever/rugpt3small_based_on_gpt2 __125m__ \\\n",
    "ai-forever/rugpt3medium_based_on_gpt2 __356m__ \\\n",
    "ai-forever/rugpt3large_based_on_gpt2 __760m__ \\\n",
    "ai-forever/ruGPT-3.5-13B\n",
    "\n",
    "## Сбербанк mGPT\n",
    "\n",
    "ai-forever/mGPT __1.4b__\n",
    "\n",
    "## Huggingface BLOOM\n",
    "bigscience/bloom-560m\\\n",
    "bigscience/bloom-1b1\\\n",
    "bigscience/bloom-1b7\\\n",
    "bigscience/bloom-3b\\\n",
    "bigscience/bloom __366B__\n",
    "\n",
    "## Facebook OPT\n",
    "facebook/opt-125m\\\n",
    "facebook/opt-350m\\\n",
    "facebook/opt-1.3b\\\n",
    "facebook/opt-2.7b\\\n",
    "facebook/opt-6.7b\\\n",
    "facebook/opt-13b\\\n",
    "facebook/opt-30b\\\n",
    "facebook/opt-66b\n",
    "\n",
    "## Facebook LLaMA\n",
    "\n",
    "... и другие\n",
    "\n"
   ]
  },
  {
   "cell_type": "code",
   "execution_count": 13,
   "metadata": {},
   "outputs": [
    {
     "name": "stdout",
     "output_type": "stream",
     "text": [
      "model_size 125.2M\n",
      "О сколько нам открытий чудных…\" (В. М. Соловьев) В 1852 г. на \"Вавилоне\", после неудачного визита к императору, он посетил в изгнании Францию. В 1856 г. в Берлине, с успехом вошедший в историю французской литературы как \"неудачная экспедиция в Египет\", Толстой побывал в Париже; в 1879 г. — в Турине в гостях у И. А. Гончарова. В эти годы Толстой в основном путешествовал по Европе, с 1870 г. жил в России\n"
     ]
    }
   ],
   "source": [
    "from transformers import AutoTokenizer, AutoModelForCausalLM\n",
    "\n",
    "prefix = 'О сколько нам открытий чудных'\n",
    "# model_name = 'ai-forever/mGPT'\n",
    "model_name = 'ai-forever/rugpt3small_based_on_gpt2'\n",
    "\n",
    "model = AutoModelForCausalLM.from_pretrained(model_name).to('cuda')\n",
    "# model = AutoModelForCausalLM.from_pretrained(model_name, torch_dtype=torch.float16).to('cuda')\n",
    "tokenizer = AutoTokenizer.from_pretrained(model_name)\n",
    "\n",
    "model_size = sum(t.numel() for t in model.parameters())\n",
    "print(f'model_size {model_size/1000**2:.1f}M')\n",
    "\n",
    "inputs = tokenizer(prefix, return_tensors='pt').to('cuda')\n",
    "\n",
    "outputs = model.generate(\n",
    "    **inputs, \n",
    "    do_sample=True,\n",
    "    max_new_tokens=100,\n",
    "    pad_token_id=tokenizer.eos_token_id\n",
    "    )\n",
    "\n",
    "print(tokenizer.decode(outputs[0]))"
   ]
  },
  {
   "cell_type": "code",
   "execution_count": 12,
   "metadata": {},
   "outputs": [
    {
     "data": {
      "text/plain": [
       "GPT2Config {\n",
       "  \"_name_or_path\": \"ai-forever/rugpt3small_based_on_gpt2\",\n",
       "  \"activation_function\": \"gelu_new\",\n",
       "  \"architectures\": [\n",
       "    \"GPT2LMHeadModel\"\n",
       "  ],\n",
       "  \"attn_pdrop\": 0.1,\n",
       "  \"bos_token_id\": 50256,\n",
       "  \"embd_pdrop\": 0.1,\n",
       "  \"eos_token_id\": 50256,\n",
       "  \"gradient_checkpointing\": false,\n",
       "  \"initializer_range\": 0.02,\n",
       "  \"layer_norm_epsilon\": 1e-05,\n",
       "  \"model_type\": \"gpt2\",\n",
       "  \"n_ctx\": 2048,\n",
       "  \"n_embd\": 768,\n",
       "  \"n_head\": 12,\n",
       "  \"n_inner\": null,\n",
       "  \"n_layer\": 12,\n",
       "  \"n_positions\": 2048,\n",
       "  \"reorder_and_upcast_attn\": false,\n",
       "  \"resid_pdrop\": 0.1,\n",
       "  \"scale_attn_by_inverse_layer_idx\": false,\n",
       "  \"scale_attn_weights\": true,\n",
       "  \"summary_activation\": null,\n",
       "  \"summary_first_dropout\": 0.1,\n",
       "  \"summary_proj_to_labels\": true,\n",
       "  \"summary_type\": \"cls_index\",\n",
       "  \"summary_use_proj\": true,\n",
       "  \"transformers_version\": \"4.34.0\",\n",
       "  \"use_cache\": true,\n",
       "  \"vocab_size\": 50264\n",
       "}"
      ]
     },
     "execution_count": 12,
     "metadata": {},
     "output_type": "execute_result"
    }
   ],
   "source": [
    "model.config"
   ]
  },
  {
   "cell_type": "code",
   "execution_count": null,
   "metadata": {},
   "outputs": [],
   "source": []
  }
 ],
 "metadata": {
  "kernelspec": {
   "display_name": "Python 3 (ipykernel)",
   "language": "python",
   "name": "python3"
  },
  "language_info": {
   "codemirror_mode": {
    "name": "ipython",
    "version": 3
   },
   "file_extension": ".py",
   "mimetype": "text/x-python",
   "name": "python",
   "nbconvert_exporter": "python",
   "pygments_lexer": "ipython3",
   "version": "3.10.12"
  }
 },
 "nbformat": 4,
 "nbformat_minor": 4
}
