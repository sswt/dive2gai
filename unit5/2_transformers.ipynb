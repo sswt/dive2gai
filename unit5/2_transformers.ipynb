{
 "cells": [
  {
   "cell_type": "markdown",
   "metadata": {},
   "source": [
    "# GPT с помощью модулей Huggingface\n",
    "\n",
    "Модули:\n",
    "* transformers\n",
    "* tokenizers\n",
    "* datasets\n",
    "\n",
    "Примеры использования https://github.com/huggingface/notebooks/tree/main/examples\n",
    "\n",
    "The Hugging Face Course https://github.com/huggingface/course/tree/main\n",
    "\n",
    "Сайт компании https://huggingface.co/\n",
    "\n",
    "История Huggingface https://ru.wikipedia.org/wiki/Hugging_Face"
   ]
  },
  {
   "cell_type": "code",
   "execution_count": 1,
   "metadata": {},
   "outputs": [
    {
     "name": "stdout",
     "output_type": "stream",
     "text": [
      "Note: you may need to restart the kernel to use updated packages.\n"
     ]
    }
   ],
   "source": [
    "%pip --quiet install transformers tokenizers datasets accelerate"
   ]
  },
  {
   "cell_type": "code",
   "execution_count": 2,
   "metadata": {},
   "outputs": [],
   "source": [
    "# Параметры модели\n",
    "vocab_size=5000\n",
    "block_size = 256\n",
    "n_embd = 384\n",
    "n_head = 6\n",
    "n_layer = 6"
   ]
  },
  {
   "cell_type": "markdown",
   "metadata": {},
   "source": [
    "# Загрузка датасетов"
   ]
  },
  {
   "cell_type": "code",
   "execution_count": 3,
   "metadata": {},
   "outputs": [
    {
     "data": {
      "text/plain": [
       "DatasetDict({\n",
       "    train: Dataset({\n",
       "        features: ['text'],\n",
       "        num_rows: 19785\n",
       "    })\n",
       "    test: Dataset({\n",
       "        features: ['text'],\n",
       "        num_rows: 1974\n",
       "    })\n",
       "})"
      ]
     },
     "execution_count": 3,
     "metadata": {},
     "output_type": "execute_result"
    }
   ],
   "source": [
    "from datasets import load_dataset\n",
    "\n",
    "raw_datasets = load_dataset(\"abobster/pushkin_new\")\n",
    "\n",
    "raw_datasets"
   ]
  },
  {
   "cell_type": "markdown",
   "metadata": {},
   "source": [
    "# Обучение токенайзера"
   ]
  },
  {
   "cell_type": "code",
   "execution_count": 4,
   "metadata": {},
   "outputs": [
    {
     "name": "stdout",
     "output_type": "stream",
     "text": [
      "\n",
      "\n",
      "\n",
      "[4048, 254, 166, 2419, 90, 148, 240, 3010, 204, 90]\n",
      "['Мор', 'оз', ' и', ' солнце', '\\n', 'д', 'ень', ' чудес', 'ный', '\\n']\n"
     ]
    }
   ],
   "source": [
    "# https://github.com/huggingface/notebooks/blob/main/examples/tokenizer_training.ipynb\n",
    "from tokenizers import Tokenizer, trainers, models, pre_tokenizers, decoders, processors\n",
    "from transformers import GPT2TokenizerFast\n",
    "\n",
    "text = '\\n'.join(raw_datasets['train']['text'])\n",
    "\n",
    "tokenizer = Tokenizer(models.BPE())\n",
    "tokenizer.pre_tokenizer = pre_tokenizers.ByteLevel(add_prefix_space=False)\n",
    "trainer = trainers.BpeTrainer(vocab_size=vocab_size, special_tokens=['<|endoftext|>'])\n",
    "tokenizer.train_from_iterator([text], trainer=trainer)\n",
    "tokenizer.post_processor = processors.ByteLevel(trim_offsets=False)\n",
    "tokenizer.decoder = decoders.ByteLevel()\n",
    "new_tokenizer = GPT2TokenizerFast(tokenizer_object=tokenizer, pad_token='<|endoftext|>', bos_token='<|endoftext|>', eos_token='<|endoftext|>')\n",
    "\n",
    "sample = 'Мороз и солнце\\nдень чудесный\\n'\n",
    "print(tokenizer.encode(sample).ids)\n",
    "print([tokenizer.decode([id]) for id in tokenizer.encode(sample).ids])\n"
   ]
  },
  {
   "cell_type": "markdown",
   "metadata": {},
   "source": [
    "# Токенизация с разбиением на блоки"
   ]
  },
  {
   "cell_type": "code",
   "execution_count": 5,
   "metadata": {},
   "outputs": [
    {
     "data": {
      "text/plain": [
       "DatasetDict({\n",
       "    train: Dataset({\n",
       "        features: ['input_ids', 'attention_mask', 'overflow_to_sample_mapping'],\n",
       "        num_rows: 975\n",
       "    })\n",
       "    test: Dataset({\n",
       "        features: ['input_ids', 'attention_mask', 'overflow_to_sample_mapping'],\n",
       "        num_rows: 105\n",
       "    })\n",
       "})"
      ]
     },
     "execution_count": 5,
     "metadata": {},
     "output_type": "execute_result"
    }
   ],
   "source": [
    "# https://huggingface.co/learn/nlp-course/en/chapter7/6?fw=pt\n",
    "\n",
    "def tokenize(element):\n",
    "    poems = '\\n'.join(element['text']).strip().split('</s>') # Объединение строк в стихотворения\n",
    "    # poems = ['<|endoftext|>'.join(poems)]\n",
    "    poems = [poem + '<|endoftext|>' for poem in poems]\n",
    "\n",
    "    outputs = new_tokenizer(  # https://huggingface.co/docs/transformers/main_classes/tokenizer#transformers.PreTrainedTokenizer.__call__\n",
    "        poems,\n",
    "        max_length=block_size,\n",
    "        truncation=True,\n",
    "        return_overflowing_tokens=True,\n",
    "    )\n",
    "\n",
    "    return outputs\n",
    "\n",
    "tokenized_datasets = raw_datasets.map(tokenize, batched=True, batch_size=1000000, remove_columns='text')\n",
    "\n",
    "tokenized_datasets"
   ]
  },
  {
   "cell_type": "markdown",
   "metadata": {},
   "source": [
    "# Модель"
   ]
  },
  {
   "cell_type": "code",
   "execution_count": 6,
   "metadata": {},
   "outputs": [
    {
     "name": "stdout",
     "output_type": "stream",
     "text": [
      "Model size: 12.7M parameters\n"
     ]
    }
   ],
   "source": [
    "from transformers import GPT2LMHeadModel, GPT2Config\n",
    "\n",
    "# Параметры предыдущей модели\n",
    "config = GPT2Config(  # https://huggingface.co/docs/transformers/model_doc/gpt2#transformers.GPT2Config\n",
    "    vocab_size=len(new_tokenizer),\n",
    "    bos_token_id=new_tokenizer.bos_token_id,\n",
    "    eos_token_id=new_tokenizer.eos_token_id,\n",
    "    n_positions=block_size,\n",
    "    n_ctx=block_size,\n",
    "    n_embd=n_embd,\n",
    "    n_head=n_head,\n",
    "    n_layer=n_layer,\n",
    ")\n",
    "\n",
    "# Модель GPT2\n",
    "model = GPT2LMHeadModel(config).to('cuda')\n",
    "\n",
    "model_size = sum(t.numel() for t in model.parameters())\n",
    "print(f\"Model size: {model_size/1000**2:.1f}M parameters\")"
   ]
  },
  {
   "cell_type": "markdown",
   "metadata": {},
   "source": [
    "# Обучение"
   ]
  },
  {
   "cell_type": "code",
   "execution_count": null,
   "metadata": {},
   "outputs": [],
   "source": [
    "from transformers.trainer import Trainer, TrainingArguments\n",
    "from transformers import DataCollatorForLanguageModeling, EarlyStoppingCallback\n",
    "\n",
    "batch_size = 128\n",
    "\n",
    "args = TrainingArguments(  # https://huggingface.co/docs/transformers/v4.34.0/en/main_classes/trainer#transformers.TrainingArguments\n",
    "    report_to='tensorboard', \n",
    "    output_dir='.results',\n",
    "    per_device_train_batch_size=batch_size,\n",
    "    per_device_eval_batch_size=batch_size,\n",
    "    evaluation_strategy='epoch',\n",
    "    logging_strategy='epoch',\n",
    "    save_strategy='epoch',\n",
    "    load_best_model_at_end = True,\n",
    "    max_steps=10000,\n",
    ")\n",
    "\n",
    "data_collator = DataCollatorForLanguageModeling(new_tokenizer, mlm=False)\n",
    "\n",
    "trainer = Trainer(  # https://huggingface.co/docs/transformers/v4.34.0/en/main_classes/trainer#transformers.Trainer\n",
    "    model,  \n",
    "    args, \n",
    "    data_collator=data_collator,\n",
    "    train_dataset=tokenized_datasets['train'], \n",
    "    eval_dataset=tokenized_datasets['test'],\n",
    "    callbacks=[EarlyStoppingCallback(3)],\n",
    ")\n",
    "\n",
    "trainer.train()\n",
    "\n",
    "trainer.save_model('.results/2_transformers')"
   ]
  },
  {
   "cell_type": "markdown",
   "metadata": {},
   "source": [
    "# Генерация"
   ]
  },
  {
   "cell_type": "code",
   "execution_count": 8,
   "metadata": {},
   "outputs": [],
   "source": [
    "# model = GPT2LMHeadModel.from_pretrained('.results/2_transformers', local_files_only=True).to('cuda')"
   ]
  },
  {
   "cell_type": "code",
   "execution_count": 9,
   "metadata": {},
   "outputs": [
    {
     "name": "stdout",
     "output_type": "stream",
     "text": [
      "О сколько нам открытий чудных,\n",
      "Оем к то, к ней и\n",
      "То с ним на пирах и в ребные…\n",
      "Гу в нас не пред ней?\n",
      "«Все не я там на нем\n",
      "С старца оберозом не так,\n",
      "Он в окно ль\n",
      "«Пут, не бо, за край! подавит:\n",
      "Сосой, что ж вы;\n",
      "А то, коптел,\n",
      "Но с ним с ним, и\n",
      "Кто\n"
     ]
    }
   ],
   "source": [
    "prefix = 'О сколько нам открытий чудных'\n",
    "\n",
    "inputs = new_tokenizer(prefix, return_tensors='pt').to('cuda')\n",
    "\n",
    "outputs = model.generate(  # https://huggingface.co/docs/transformers/main_classes/text_generation\n",
    "    **inputs, \n",
    "    do_sample=True,\n",
    "    max_new_tokens=100,\n",
    "    eos_token_id=new_tokenizer.eos_token_id,\n",
    "    pad_token_id=new_tokenizer.pad_token_id,\n",
    "    )\n",
    "\n",
    "print(new_tokenizer.decode(outputs[0]))"
   ]
  }
 ],
 "metadata": {
  "kernelspec": {
   "display_name": "Python 3 (ipykernel)",
   "language": "python",
   "name": "python3"
  },
  "language_info": {
   "codemirror_mode": {
    "name": "ipython",
    "version": 3
   },
   "file_extension": ".py",
   "mimetype": "text/x-python",
   "name": "python",
   "nbconvert_exporter": "python",
   "pygments_lexer": "ipython3",
   "version": "3.10.12"
  }
 },
 "nbformat": 4,
 "nbformat_minor": 4
}
