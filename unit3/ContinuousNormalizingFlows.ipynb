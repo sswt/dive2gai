{
  "nbformat": 4,
  "nbformat_minor": 0,
  "metadata": {
    "colab": {
      "provenance": [],
      "toc_visible": true,
      "authorship_tag": "ABX9TyN/0ORFCiB9HnSpcpXeBeGe",
      "include_colab_link": true
    },
    "kernelspec": {
      "name": "python3",
      "display_name": "Python 3"
    },
    "language_info": {
      "name": "python"
    }
  },
  "cells": [
    {
      "cell_type": "markdown",
      "metadata": {
        "id": "view-in-github",
        "colab_type": "text"
      },
      "source": [
        "<a href=\"https://colab.research.google.com/github/sswt/dive2gai/blob/unit3/unit3/ContinuousNormalizingFlows.ipynb\" target=\"_parent\"><img src=\"https://colab.research.google.com/assets/colab-badge.svg\" alt=\"Open In Colab\"/></a>"
      ]
    },
    {
      "cell_type": "markdown",
      "source": [
        "# Continious Normalizing Flow\n",
        "---"
      ],
      "metadata": {
        "id": "kPStxxifGa9v"
      }
    },
    {
      "cell_type": "markdown",
      "source": [
        "## Введение\n",
        "\n",
        "В нормализирующих потоках мы использовали теорему о подмене переменной чтобы получить точное изменение распределения при помощи биективной функции $f$\n",
        "$$\n",
        "z_1 = f(z_0) \\Longrightarrow \\log p(z_1) = \\log p(z_0) - \\log\\left|\\det\\dfrac{df}{dz_0}\\right|\n",
        "$$\n",
        "Например планарный (линейный) нормализующий поток можно записать так\n",
        "$$\n",
        "z(t+1) = z(t) + uh(w^T z(t) + b) \\Longrightarrow \\log p(z(t+1)) = \\log p(z(t)) - \\log\\left|1 + u^T\\dfrac{dh}{dz}\\right|\n",
        "$$"
      ],
      "metadata": {
        "id": "5RWtQ5iRjM8K"
      }
    },
    {
      "cell_type": "markdown",
      "source": [
        "## Теорема о замене переменной\n",
        "\n",
        "Положим, что $z(t)$ — континуальная случайная величина с плотностью $p(z(t))$, зависящая от времени. Положим, что $dz(t)/dt = f(z(t), t)$ — дифференциальное уравнение, описывающее изменение нашей величины от времени. Положим, что $f$ — Липшецево отображение, тогда\n",
        "$$\n",
        "\\dfrac{∂\\log p(z(t))}{∂t} = -\\text{tr}\\left(\\dfrac{df}{dz(t)}\\right)\n",
        "$$"
      ],
      "metadata": {
        "id": "lV_Yl3OKGavf"
      }
    },
    {
      "cell_type": "markdown",
      "source": [
        "## Доказательство\n",
        "\n",
        "Возьмем небольшое приращение времени $ɛ: |ɛ|\\ll 1$. Запишем изменение $z(t)$ при приращении как\n",
        "$$\n",
        "z(t + ɛ)\\overset{\\text{def}}{=}T_ɛ (z(t))\n",
        "$$\n",
        "Положим, что $f$ — непрерывно по Липшецу на $z(t)$ и непрерывно по $t$. Тогда по теоремме Пикарда о существовании каждое знаение аргумента имеет единственное значение функции. Также полагаем, что $z(t)$ — ограничено. Тогда $f$, $T_ɛ$ и $\\frac{∂}{∂z}T_ɛ$ — тоже ограничены. Теперь пользуясь всем этим знанием распишем частную производную\n",
        "$$\n",
        "\\begin{split}\n",
        "\\dfrac{∂\\log p(z(t))}{∂t} & = \\lim\\limits_{ɛ\\to 0^+}\\dfrac{\\log p(z(t)) - \\log|\\det\\frac{∂}{∂z}T_ɛ(z(t))| - \\log p(z(t))}{ɛ} \\\\\n",
        "& = - \\lim\\limits_{ɛ\\to 0^+}\\dfrac{\\log|\\det\\frac{∂}{∂z}T_ɛ(z(t))|}{ɛ} \\\\\n",
        "& = - \\lim\\limits_{ɛ\\to 0^+}\\dfrac{\\frac{∂}{∂ɛ}\\log|\\det\\frac{∂}{∂z}T_ɛ(z(t))|}{\\frac{∂}{∂ɛ}ɛ}~\\text{(правило Лопиталя)} \\\\\n",
        "& = - \\lim\\limits_{ɛ\\to 0^+}\\dfrac{\\frac{∂}{∂ɛ}|\\det\\frac{∂}{∂z}T_ɛ(z(t))|}{|\\det\\frac{∂}{∂z}T_ɛ(z(t))|} \\\\\n",
        "& = - \\lim\\limits_{ɛ\\to 0^+}|\\det\\frac{∂}{∂z}T_ɛ(z(t))|\n",
        "\\end{split}\n",
        "$$\n",
        "\n",
        "Производная определителя может быть расписан по формуле Якоби\n",
        "$$\n",
        "\\begin{split}\n",
        "\\dfrac{∂\\log p(z(t))}{∂t} & =  - \\lim\\limits_{ɛ\\to 0^+}\\text{tr}\\left(\\text{adj}\\left(\\dfrac{∂}{∂z}T_ɛ(z(t))\\right)\\dfrac{∂}{∂ɛ}\\dfrac{∂}{∂z}T_ɛ(z(t))\\right) \\\\\n",
        "& =  - \\text{tr}\\left(\\left(\\lim\\limits_{ɛ\\to 0^+}\\text{adj}\\left(\\dfrac{∂}{∂z}T_ɛ(z(t))\\right)\\right)\\left(\\lim\\limits_{ɛ\\to 0^+}\\dfrac{∂}{∂ɛ}\\dfrac{∂}{∂z}T_ɛ(z(t))\\right)\\right) \\\\\n",
        "& =  - \\text{tr}\\left(\\lim\\limits_{ɛ\\to 0^+}\\dfrac{∂}{∂ɛ}\\dfrac{∂}{∂z}T_ɛ(z(t))\\right)\n",
        "\\end{split}\n",
        "$$\n",
        "\n",
        "Закончим доказательство разложением $T_ɛ(z(t))$ по Тейлору\n",
        "$$\n",
        "\\begin{split}\n",
        "\\dfrac{∂\\log p(z(t))}{∂t} & = - \\text{tr}\\left(\\lim\\limits_{ɛ\\to 0^+}\\dfrac{∂}{∂ɛ}\\dfrac{∂}{∂z}(z + ɛf(z(t), t)+O(ɛ^2)+O(ɛ^3)+…)\\right) \\\\\n",
        "& = - \\text{tr}\\left(\\lim\\limits_{ɛ\\to 0^+}\\dfrac{∂}{∂ɛ}(1 + \\dfrac{∂}{∂z}ɛf(z(t), t)+O(ɛ^2)+O(ɛ^3)+…)\\right) \\\\\n",
        "& = - \\text{tr}\\left(\\lim\\limits_{ɛ\\to 0^+}(\\dfrac{∂}{∂z}f(z(t), t)+O(ɛ)+O(ɛ^2)+…)\\right) \\\\\n",
        "& = - \\text{tr}\\left(\\dfrac{∂}{∂z}f(z(t), t)\\right)\n",
        "\\end{split}\n",
        "$$\n"
      ],
      "metadata": {
        "id": "ykZdNUSajBxK"
      }
    },
    {
      "cell_type": "markdown",
      "source": [
        "Таким образом мы можем представить непрерывный аналог планарного потока\n",
        "$$\n",
        "\\dfrac{dz(t)}{dt} = uh(w^T z(t) + b) \\Longrightarrow \\dfrac{∂\\log p(z(t))}{∂t} = -u^T\\dfrac{dh}{dz}\n",
        "$$"
      ],
      "metadata": {
        "id": "c1QWSkCnQaAT"
      }
    },
    {
      "cell_type": "code",
      "source": [],
      "metadata": {
        "id": "6EQrL85qjaEY"
      },
      "execution_count": null,
      "outputs": []
    },
    {
      "cell_type": "markdown",
      "source": [
        "## Многомерные сети\n",
        "\n",
        "Пока поток $f$ не линейна, путь по Якобиана обладает свойством\n",
        "$$\n",
        "\\text{tr}\\left(\\sum\\limits_n J_n\\right) = \\sum\\limits_n \\text{tr}\\left(J_n\\right)\n",
        "$$\n",
        "Таким образом если наша динамика пораждена суммой функций, диффур логарифма плотности также является суммой\n",
        "$$\n",
        "\\dfrac{dz(t)}{dt} = \\sum\\limits_{i=1}^Mf_i(z(t)) \\Longrightarrow \\dfrac{∂\\log p(z(t))}{∂t} = \\sum\\limits_{i=1}^M\\text{tr}\\left\n",
        "(\\dfrac{df_i}{dz}\\right)\n",
        "$$\n",
        "\n",
        "Получается мы можем дешево (по сложности) обучать потоковые модели с большим числом скрытых слоев со сложностью равной числу скрытых слоев $O(M)$. В тоже время использование таких \"широких\" потоков в обычных нормализационных моделях имеет сложность $O(M^3)$."
      ],
      "metadata": {
        "id": "SowyWsIRRl2k"
      }
    },
    {
      "cell_type": "code",
      "source": [],
      "metadata": {
        "id": "CuwU1HsZjbC4"
      },
      "execution_count": null,
      "outputs": []
    },
    {
      "cell_type": "markdown",
      "source": [
        "## Использование динамики во времени\n",
        "\n",
        "Также интересно то, что мы можем использовать один поток с параметром времени, то есть явно зависимый от времени $f(z(t), t)$, а не $f(z(t))$. Также авторы метода предлагают новый страбирующий метод\n",
        "$$\n",
        "\\dfrac{dz(t)}{dt} = \\sum\\limits_nσ_n(t)f_n(z),~σ\\in(0,1)\n",
        "$$\n",
        "где $σ_n(t)$ — нейронная сеть."
      ],
      "metadata": {
        "id": "bSB9OCFjUxY7"
      }
    },
    {
      "cell_type": "code",
      "source": [],
      "metadata": {
        "id": "EPDsYN0_6i_n"
      },
      "execution_count": null,
      "outputs": []
    },
    {
      "cell_type": "code",
      "source": [],
      "metadata": {
        "id": "1acEFSGOQFmS"
      },
      "execution_count": null,
      "outputs": []
    },
    {
      "cell_type": "code",
      "execution_count": null,
      "metadata": {
        "id": "N6fUJx8IGLhB"
      },
      "outputs": [],
      "source": []
    }
  ]
}