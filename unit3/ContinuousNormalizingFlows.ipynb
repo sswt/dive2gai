{
  "cells": [
    {
      "cell_type": "markdown",
      "metadata": {
        "id": "kPStxxifGa9v"
      },
      "source": [
        "# Continious Normalizing Flow\n",
        "---\n",
        "\n",
        "Ссылки\n",
        "\n",
        "1. [Neural Ordinary Differential Equations](https://arxiv.org/pdf/1806.07366.pdf)\n",
        "2. [Знакомство с Neural ODE](https://habr.com/ru/companies/ods/articles/442002/)\n",
        "3. [PointFlow: 3D Point Cloud Generation with Continuous Normalizing Flows](https://arxiv.org/pdf/1906.12320v3.pdf)\n",
        "4. [Multi-Resolution Continuous Normalizing Flows](https://arxiv.org/pdf/2106.08462v5.pdf)\n",
        "\n",
        "Код\n",
        "\n",
        "1. [PointFlow: 3D Point Cloud Generation with Continuous Normalizing Flows](https://github.com/stevenygd/PointFlow)\n",
        "1. [Multi-Resolution Continuous Normalizing Flows](https://github.com/voletiv/mrcnf)"
      ]
    },
    {
      "cell_type": "markdown",
      "metadata": {
        "id": "5RWtQ5iRjM8K"
      },
      "source": [
        "## Введение\n",
        "\n",
        "В нормализирующих потоках мы использовали теорему о подмене переменной чтобы получить точное изменение распределения при помощи биективной функции $f$\n",
        "$$\n",
        "z_1 = f(z_0) \\Longrightarrow \\log p(z_1) = \\log p(z_0) - \\log\\left|\\det\\dfrac{df}{dz_0}\\right|\n",
        "$$\n",
        "Например планарный (линейный) нормализующий поток можно записать так\n",
        "$$\n",
        "z(t+1) = z(t) + uh(w^T z(t) + b) \\Longrightarrow \\log p(z(t+1)) = \\log p(z(t)) - \\log\\left|1 + u^T\\dfrac{dh}{dz}\\right|\n",
        "$$\n",
        "Проблема такого подхода заключается в дискретности переходов от потока к потоку. Теперь представим, что наша величина $z_i$ на самом деле является функцией по времени $z(t)$, а поток $f(z, t)$ — ее производная по времени. То есть поток теперь — функция характеризующая изменение состояния $z(t)$ в любой момент $t$, то есть преобразование состояния происходит непрерывно во времени. "
      ]
    },
    {
      "cell_type": "markdown",
      "metadata": {
        "id": "lV_Yl3OKGavf"
      },
      "source": [
        "## Теорема о замене переменной\n",
        "\n",
        "Положим, что $z(t)$ — континуальная случайная величина с плотностью $p(z(t))$, зависящая от времени. Положим, что $dz(t)/dt = f(z(t), t)$ — дифференциальное уравнение, описывающее изменение нашей величины от времени. Положим, что $f$ — Липшецево отображение, тогда\n",
        "$$\n",
        "\\dfrac{∂\\log p(z(t))}{∂t} = -\\text{tr}\\left(\\dfrac{df}{dz(t)}\\right)\n",
        "$$"
      ]
    },
    {
      "cell_type": "markdown",
      "metadata": {
        "id": "ykZdNUSajBxK"
      },
      "source": [
        "## Доказательство\n",
        "\n",
        "Возьмем небольшое приращение времени $ɛ: |ɛ|\\ll 1$. Запишем изменение $z(t)$ при приращении как\n",
        "$$\n",
        "z(t + ɛ)\\overset{\\text{def}}{=}T_ɛ (z(t))\n",
        "$$\n",
        "Положим, что $f$ — непрерывно по Липшецу на $z(t)$ и непрерывно по $t$. Тогда по теоремме Пикарда о существовании каждое знаение аргумента имеет единственное значение функции. Также полагаем, что $z(t)$ — ограничено. Тогда $f$, $T_ɛ$ и $\\frac{∂}{∂z}T_ɛ$ — тоже ограничены. Теперь пользуясь всем этим знанием распишем частную производную\n",
        "$$\n",
        "\\begin{split}\n",
        "\\dfrac{∂\\log p(z(t))}{∂t} & = \\lim\\limits_{ɛ\\to 0^+}\\dfrac{\\log p(z(t)) - \\log|\\det\\frac{∂}{∂z}T_ɛ(z(t))| - \\log p(z(t))}{ɛ} \\\\\n",
        "& = - \\lim\\limits_{ɛ\\to 0^+}\\dfrac{\\log|\\det\\frac{∂}{∂z}T_ɛ(z(t))|}{ɛ} \\\\\n",
        "& = - \\lim\\limits_{ɛ\\to 0^+}\\dfrac{\\frac{∂}{∂ɛ}\\log|\\det\\frac{∂}{∂z}T_ɛ(z(t))|}{\\frac{∂}{∂ɛ}ɛ}~\\text{(правило Лопиталя)} \\\\\n",
        "& = - \\lim\\limits_{ɛ\\to 0^+}\\dfrac{\\frac{∂}{∂ɛ}|\\det\\frac{∂}{∂z}T_ɛ(z(t))|}{|\\det\\frac{∂}{∂z}T_ɛ(z(t))|} \\\\\n",
        "& = - \\lim\\limits_{ɛ\\to 0^+}|\\det\\frac{∂}{∂z}T_ɛ(z(t))|\n",
        "\\end{split}\n",
        "$$\n",
        "\n",
        "Производная определителя может быть расписан по формуле Якоби\n",
        "$$\n",
        "\\begin{split}\n",
        "\\dfrac{∂\\log p(z(t))}{∂t} & =  - \\lim\\limits_{ɛ\\to 0^+}\\text{tr}\\left(\\text{adj}\\left(\\dfrac{∂}{∂z}T_ɛ(z(t))\\right)\\dfrac{∂}{∂ɛ}\\dfrac{∂}{∂z}T_ɛ(z(t))\\right) \\\\\n",
        "& =  - \\text{tr}\\left(\\left(\\lim\\limits_{ɛ\\to 0^+}\\text{adj}\\left(\\dfrac{∂}{∂z}T_ɛ(z(t))\\right)\\right)\\left(\\lim\\limits_{ɛ\\to 0^+}\\dfrac{∂}{∂ɛ}\\dfrac{∂}{∂z}T_ɛ(z(t))\\right)\\right) \\\\\n",
        "& =  - \\text{tr}\\left(\\lim\\limits_{ɛ\\to 0^+}\\dfrac{∂}{∂ɛ}\\dfrac{∂}{∂z}T_ɛ(z(t))\\right)\n",
        "\\end{split}\n",
        "$$\n",
        "\n",
        "Закончим доказательство разложением $T_ɛ(z(t))$ по Тейлору\n",
        "$$\n",
        "\\begin{split}\n",
        "\\dfrac{∂\\log p(z(t))}{∂t} & = - \\text{tr}\\left(\\lim\\limits_{ɛ\\to 0^+}\\dfrac{∂}{∂ɛ}\\dfrac{∂}{∂z}(z + ɛf(z(t), t)+O(ɛ^2)+O(ɛ^3)+…)\\right) \\\\\n",
        "& = - \\text{tr}\\left(\\lim\\limits_{ɛ\\to 0^+}\\dfrac{∂}{∂ɛ}(1 + \\dfrac{∂}{∂z}ɛf(z(t), t)+O(ɛ^2)+O(ɛ^3)+…)\\right) \\\\\n",
        "& = - \\text{tr}\\left(\\lim\\limits_{ɛ\\to 0^+}(\\dfrac{∂}{∂z}f(z(t), t)+O(ɛ)+O(ɛ^2)+…)\\right) \\\\\n",
        "& = - \\text{tr}\\left(\\dfrac{∂}{∂z}f(z(t), t)\\right)\n",
        "\\end{split}\n",
        "$$\n"
      ]
    },
    {
      "cell_type": "markdown",
      "metadata": {
        "id": "c1QWSkCnQaAT"
      },
      "source": [
        "Таким образом мы можем представить непрерывный аналог планарного потока\n",
        "$$\n",
        "\\dfrac{dz(t)}{dt} = uh(w^T z(t) + b) \\Longrightarrow \\dfrac{∂\\log p(z(t))}{∂t} = -u^T\\dfrac{dh}{dz}\n",
        "$$"
      ]
    },
    {
      "cell_type": "markdown",
      "metadata": {
        "id": "SowyWsIRRl2k"
      },
      "source": [
        "## Многомерные сети\n",
        "\n",
        "Пока поток $f$ не линейна, путь по Якобиана обладает свойством\n",
        "$$\n",
        "\\text{tr}\\left(\\sum\\limits_n J_n\\right) = \\sum\\limits_n \\text{tr}\\left(J_n\\right)\n",
        "$$\n",
        "Таким образом если наша динамика пораждена суммой функций, диффур логарифма плотности также является суммой\n",
        "$$\n",
        "\\dfrac{dz(t)}{dt} = \\sum\\limits_{i=1}^Mf_i(z(t)) \\Longrightarrow \\dfrac{∂\\log p(z(t))}{∂t} = \\sum\\limits_{i=1}^M\\text{tr}\\left\n",
        "(\\dfrac{df_i}{dz}\\right)\n",
        "$$\n",
        "\n",
        "Получается мы можем дешево (по сложности) обучать потоковые модели с большим числом скрытых слоев со сложностью равной числу скрытых слоев $O(M)$. В тоже время использование таких \"широких\" потоков в обычных нормализационных моделях имеет сложность $O(M^3)$."
      ]
    },
    {
      "cell_type": "markdown",
      "metadata": {
        "id": "bSB9OCFjUxY7"
      },
      "source": [
        "## Использование динамики во времени\n",
        "\n",
        "Также интересно то, что мы можем использовать один поток с параметром времени, то есть явно зависимый от времени $f(z(t), t)$, а не $f(z(t))$. Также авторы метода предлагают новый страбирующий метод\n",
        "$$\n",
        "\\dfrac{dz(t)}{dt} = \\sum\\limits_nσ_n(t)f_n(z),~σ\\in(0,1)\n",
        "$$\n",
        "где $σ_n(t)$ — нейронная сеть."
      ]
    },
    {
      "cell_type": "markdown",
      "metadata": {
        "id": "0VFmZYO4ChpB"
      },
      "source": [
        "## Численное решение задачи Коши ОДУ\n",
        "\n",
        "Рассмотрим задачу Коши первого порядка обыкновенного дифференциального уравнения\n",
        "$$\n",
        "\\begin{cases}\n",
        "\\dfrac{dz(t)}{dt} = f(z(t), t), \\\\\n",
        "z(t_0) = z_0.\n",
        "\\end{cases}\n",
        "$$\n",
        "\n",
        "Такое уравнение мы можем решать численно методами Рунге-Кутты. Для того чтобы понять, как это работает, рассмотрим вывод самого простого метода — метода Эйлера. Проинтегрируем обе части уравнения\n",
        "$$\n",
        "\\dfrac{dz(t)}{dt} = f(z(t), t)⇒ dz(t) = f(z(t), t)dt⇒\\int dz(t) = \\int f(z(t), t)dt\n",
        "$$\n",
        "Так как численное решение не может быть рассчитано на всем бесконечном временном отрезке, возьмем отрезок $[t_0, t_N]$ для которого определен отрезок $[z_0, z_N]$. Тогда решение на этом отрезке расписывается как определенный интеграл\n",
        "$$\n",
        "\\int\\limits_{z_0}^{z_N} dz(t) = \\int\\limits_{t_0}^{t_N} f(z(t), t)dt⇒z_N - z_0 = \\int\\limits_{t_0}^{t_N} f(z(t), t)dt⇒z_N = z_0 + \\int\\limits_{t_0}^{t_N} f(z(t), t)dt\n",
        "$$\n",
        "Для численного интегрирования воспользуемся методом прямоугольников. Для этого введем равномерную сетку по времени количеством значений $N$ и с шагом $h$ такие, что $h = \\frac{|t_1 - t_0|}{N}↔N=\\frac{|t_1 - t_0|}{h}$. Так сетка по времени выглядит как $t_i=t_0+h\\cdot i,~i=0,\\dots,N$.\n",
        "$$\n",
        "\\int\\limits_{t_0}^{t_N} f(z(t), t)dt≈∑\\limits_{i=0}^N hf(z_i, t_i)⇒z_N = z_0 + ∑\\limits_{i=0}^N hf(z_i, t_i)\n",
        "$$\n",
        "Но так как в задаче Коши нам дано только значение $z(t_0)$, то решать задачу будем итерационно\n",
        "$$\n",
        "z_i = z_{i-1} + hf(z_i, t_i)\n",
        "$$"
      ]
    },
    {
      "cell_type": "markdown",
      "metadata": {
        "id": "qcAuAMlfIYbl"
      },
      "source": [
        "## Нейронные ОДУ\n",
        "\n",
        "Теперь положим, что мы не знаем $f(z(t), t)$. Возьмем в качестве производной $f$ функцию $f(z(t), t, θ)$, параметризованную функцию некоторого семейства параметризованных функций (например нейронную сеть). Тогда при наличии множества пар $\\{z_i, t_i\\}_{i=0}^N$ можно аппроксимировать неизвестную нам функцию $f(z(t), t)$ функцией $f(z(t), t, θ)$. Делать мы это будем решая уравнение методом Рунге-Кутты $rk$ и вычисляя функцию потерь\n",
        "$$\n",
        "L(z_N) = L(rk(z_0, f_θ, t_0, t_N, θ))\\to\\min\\limits_{θ}\n",
        "$$\n",
        "\n",
        "Далее нужно посчитать обратное распространение ошибки. Современные фреймворки позволяют автоматически рассчитывать обратное распространение, однако авторы метода предлагают воспользоваться свойством ОДУ, позволяющим вычислять уравнение в обратном направлении дл ускорения рассчетов.\n",
        "\n",
        "Для рассчета обратного распространения необходимо рассчитать градиенты по всем параметрам $z_0$, $t_0$, $t_N$, $θ$. Для их рассчета предлагается параметризация градиентов через переменную $a(t)$\n",
        "$$\n",
        "a(t) = -\\dfrac{∂L}{∂z(t)}\n",
        "$$\n",
        "\n",
        "Эта переменная назыается сопряженным (adjoint) состоянием. Ее градиент рассчитывается как\n",
        "$$\n",
        "\\dfrac{da(t)}{dt} = -a(t)\\dfrac{∂ f(z(t), t, θ)}{∂ z}\n",
        "$$\n",
        "\n",
        "Вывод этой формулы предагается в оригинальной статье и вычисляется через сложную производную (chain rule). С помощью этой параметризации градиент для обратного распространения ошибки сводится к решению ОДУ в обратную сторону\n",
        "$$\n",
        "\\dfrac{∂L}{∂z(t_0)} = \\int\\limits_{t_N}^{t_0} a(t)\\dfrac{∂ f(z(t), t, θ)}{∂ z}dt\n",
        "$$\n",
        "Рассчет градиентов $t$ и $θ$ можно расчитать как честь состояния. Такое состояние завется аугментированным.\n",
        "$$\n",
        "\\dfrac{d}{dt}\n",
        "\\begin{bmatrix}\n",
        "z \\\\ θ \\\\ t\n",
        "\\end{bmatrix} (t) = f_{aug}([z, θ, t]) =\n",
        "\\begin{bmatrix}\n",
        "f(z(t), t, θ) \\\\ 0 \\\\ 1\n",
        "\\end{bmatrix}\n",
        "$$\n",
        "Тогда сопряженное состояние к этому аугментированному состоянию\n",
        "$$\n",
        "a_{aug} =\n",
        "\\begin{bmatrix}\n",
        "a \\\\ a_θ \\\\ a_t\n",
        "\\end{bmatrix},~\n",
        "a_θ(t) = \\dfrac{∂L}{∂θ(t)},~a_t(t) = \\dfrac{∂L}{∂t(t)}\n",
        "$$\n",
        "Градиент аугментированной динамики\n",
        "$$\n",
        "\\dfrac{da_{aug}}{dt} = -\n",
        "\\begin{bmatrix}\n",
        "a\\frac{∂f}{∂z} & a\\frac{∂f}{∂θ} & a\\frac{∂f}{∂t}\n",
        "\\end{bmatrix}^T\n",
        "$$\n",
        "\n",
        "Решение этого ОДУ назад во времени дает градиенты по всем входным параметрам в решатель ОДУ и могут быть вычислены за один проход метода $rk$\n",
        "$$\n",
        "\\begin{cases}\n",
        "\\dfrac{∂L}{∂z(t_0)} = \\int\\limits_{t_N}^{t_0} a(t) \\dfrac{∂f(z(t), t, θ)}{∂z}dt \\\\\n",
        "\\dfrac{∂L}{∂θ} = \\int\\limits_{t_N}^{t_0} a(t) \\dfrac{∂f(z(t), t, θ)}{∂θ}dt \\\\\n",
        "\\dfrac{∂L}{∂t_0} = \\int\\limits_{t_N}^{t_0} a(t) \\dfrac{∂f(z(t), t, θ)}{∂t}dt \\\\\n",
        "\\dfrac{∂L}{∂t_N} = -a(t) \\dfrac{∂f(z(t), t, θ)}{∂t}dt \\\\\n",
        "\\end{cases}\n",
        "$$\n",
        "Ниже приведена иллюстрация прямого и обратного распространения ошибки в нейронных ОДУ.\n",
        "<figure>\n",
        "<img src=\"https://habrastorage.org/r/w1560/webt/7e/65/hf/7e65hfxs1amdqyy_uy6emdwulkg.png\" alt=\"Примеры схем генеративных моделй\" style=\"width:60%\">\n",
        "<figcaption align = \"center\">Схема прямого и обратного распространения ошибки нейронных ОДУ</figcaption>\n",
        "</figure>\n",
        "Также представлен алгоритм рассчета обратного распространения ошибки.\n",
        "<figure>\n",
        "<img src=\"https://habrastorage.org/r/w1560/webt/8k/pz/uk/8kpzukmizpmezmywov4b3zm29lc.png\" alt=\"Примеры схем генеративных моделй\" style=\"width:100%\">\n",
        "<figcaption align = \"center\">Алгоритм вычисления обратного распространения ошибки</figcaption>\n",
        "</figure>"
      ]
    },
    {
      "cell_type": "code",
      "execution_count": null,
      "metadata": {
        "colab": {
          "base_uri": "https://localhost:8080/"
        },
        "id": "zcfQwNW0XppI",
        "outputId": "2a969c96-773f-440f-910a-1503512ab911"
      },
      "outputs": [
        {
          "name": "stdout",
          "output_type": "stream",
          "text": [
            "Requirement already satisfied: torchdiffeq in /usr/local/lib/python3.10/dist-packages (0.2.3)\n",
            "Requirement already satisfied: torch>=1.3.0 in /usr/local/lib/python3.10/dist-packages (from torchdiffeq) (2.0.1+cu118)\n",
            "Requirement already satisfied: scipy>=1.4.0 in /usr/local/lib/python3.10/dist-packages (from torchdiffeq) (1.11.2)\n",
            "Requirement already satisfied: numpy<1.28.0,>=1.21.6 in /usr/local/lib/python3.10/dist-packages (from scipy>=1.4.0->torchdiffeq) (1.23.5)\n",
            "Requirement already satisfied: filelock in /usr/local/lib/python3.10/dist-packages (from torch>=1.3.0->torchdiffeq) (3.12.2)\n",
            "Requirement already satisfied: typing-extensions in /usr/local/lib/python3.10/dist-packages (from torch>=1.3.0->torchdiffeq) (4.5.0)\n",
            "Requirement already satisfied: sympy in /usr/local/lib/python3.10/dist-packages (from torch>=1.3.0->torchdiffeq) (1.12)\n",
            "Requirement already satisfied: networkx in /usr/local/lib/python3.10/dist-packages (from torch>=1.3.0->torchdiffeq) (3.1)\n",
            "Requirement already satisfied: jinja2 in /usr/local/lib/python3.10/dist-packages (from torch>=1.3.0->torchdiffeq) (3.1.2)\n",
            "Requirement already satisfied: triton==2.0.0 in /usr/local/lib/python3.10/dist-packages (from torch>=1.3.0->torchdiffeq) (2.0.0)\n",
            "Requirement already satisfied: cmake in /usr/local/lib/python3.10/dist-packages (from triton==2.0.0->torch>=1.3.0->torchdiffeq) (3.27.4.1)\n",
            "Requirement already satisfied: lit in /usr/local/lib/python3.10/dist-packages (from triton==2.0.0->torch>=1.3.0->torchdiffeq) (16.0.6)\n",
            "Requirement already satisfied: MarkupSafe>=2.0 in /usr/local/lib/python3.10/dist-packages (from jinja2->torch>=1.3.0->torchdiffeq) (2.1.3)\n",
            "Requirement already satisfied: mpmath>=0.19 in /usr/local/lib/python3.10/dist-packages (from sympy->torch>=1.3.0->torchdiffeq) (1.3.0)\n"
          ]
        }
      ],
      "source": [
        "!pip install torchdiffeq"
      ]
    },
    {
      "cell_type": "code",
      "execution_count": 7,
      "metadata": {
        "id": "N6fUJx8IGLhB"
      },
      "outputs": [],
      "source": [
        "import random\n",
        "import numpy as np\n",
        "import matplotlib.pyplot as plt\n",
        "\n",
        "import torch\n",
        "import torch.nn as nn\n",
        "import torch.nn.functional as F\n",
        "\n",
        "from tqdm.notebook import tqdm\n",
        "from torchdiffeq import odeint_adjoint as odeint"
      ]
    },
    {
      "cell_type": "code",
      "execution_count": 82,
      "metadata": {
        "id": "bznnTIDVX0-P"
      },
      "outputs": [],
      "source": [
        "device = torch.device('cuda' if torch.cuda.is_available() else 'cpu')\n",
        "\n",
        "y0 = torch.Tensor([[0.6, 0.3]]).to(device)\n",
        "t = torch.linspace(0., 15., 500).to(device)\n",
        "A = torch.Tensor([[-0.1, -1.], [1., -0.1]]).to(device)"
      ]
    },
    {
      "cell_type": "code",
      "execution_count": 100,
      "metadata": {
        "id": "esKDAsSgZDM1"
      },
      "outputs": [],
      "source": [
        "class Lambda(nn.Module):\n",
        "    def forward(self, t, y):\n",
        "        return torch.mm(y, A)\n",
        "\n",
        "y = odeint(Lambda(), y0, t, method='dopri5')[:, 0] \n",
        "y = y + 0.1 * torch.randn(y.size())"
      ]
    },
    {
      "cell_type": "code",
      "execution_count": 118,
      "metadata": {
        "id": "vYAJeF_1bnB2"
      },
      "outputs": [],
      "source": [
        "def get_batch(y, t, batch_time=10, batch_size=256):\n",
        "    size = len(t)\n",
        "    start = np.random.randint(size-batch_time, size=batch_size)\n",
        "    y0 = y[start]\n",
        "    ts = t[:batch_time]\n",
        "    ys = torch.stack([y[start + i] for i in range(batch_time)], dim=0)\n",
        "    return y0, ts, ys"
      ]
    },
    {
      "cell_type": "code",
      "execution_count": 136,
      "metadata": {
        "id": "eAZT_Xp5dyLI"
      },
      "outputs": [],
      "source": [
        "class ODEF(nn.Module):\n",
        "\n",
        "    def __init__(self):\n",
        "        super().__init__()\n",
        "        self.net =nn.Linear(2, 2, bias=False)\n",
        "\n",
        "    def forward(self, t, y):\n",
        "        return self.net(y)"
      ]
    },
    {
      "cell_type": "code",
      "execution_count": 149,
      "metadata": {},
      "outputs": [],
      "source": [
        "def plot(func, y, y0, t, epoch: int = None):\n",
        "    y_pred = odeint(func, torch.tensor([[2., 0.]]).to(device), t, method='dopri5')[:, 0]\n",
        "\n",
        "    plt.figure(figsize=(12, 3))\n",
        "\n",
        "    ax = plt.subplot(1, 3, 1)\n",
        "    ax.set_title('Фазовый портрет')\n",
        "    ax.plot(y_pred.detach()[:, 0].cpu(), y_pred.detach()[:, 1].cpu(), c='r')\n",
        "    ax.scatter(y.detach()[:, 0].cpu(), y.detach()[:, 1].cpu(), s=1, c='k', alpha=0.7)\n",
        "    ax.set_ylim(-2, 2)\n",
        "    ax.set_xlim(-2, 2)\n",
        "    ax.set_xlabel('$y_1$')\n",
        "    ax.set_ylabel('$y_2$')\n",
        "\n",
        "    ax = plt.subplot(1, 3, 2)\n",
        "    ax.set_title('Траектории')\n",
        "    ax.plot(t.cpu(), y_pred.detach()[:, 0].cpu())\n",
        "    ax.plot(t.cpu(), y_pred.detach()[:, 1].cpu())\n",
        "    ax.scatter(t.cpu(), y.detach()[:, 0].cpu(), s=1, alpha=0.7)\n",
        "    ax.scatter(t.cpu(), y.detach()[:, 1].cpu(), s=1, alpha=0.7)\n",
        "    ax.set_xlabel('$t$')\n",
        "    ax.set_ylabel('$y_1$, $y_2$')\n",
        "    ax.set_xlim(t.cpu().min(), t.cpu().max())\n",
        "    ax.set_ylim(-2, 2)\n",
        "\n",
        "    ax = plt.subplot(1, 3, 3)\n",
        "    Y, X = np.mgrid[-2:2:21j, -2:2:21j]\n",
        "    dydt = func(0, torch.Tensor(np.stack([X, Y], -1).reshape(21 * 21, 2)).to(device)).cpu().detach().numpy()\n",
        "    mag = np.sqrt(dydt[:, 0]**2 + dydt[:, 1]**2).reshape(-1, 1)\n",
        "    dydt = (dydt / mag)\n",
        "    dydt = dydt.reshape(21, 21, 2)\n",
        "\n",
        "    ax.set_title('Векторное поле обучения')\n",
        "    ax.streamplot(X, Y, dydt[:, :, 0], dydt[:, :, 1], color=\"black\")\n",
        "    ax.set_xlabel('$y_1$')\n",
        "    ax.set_ylabel('$y_2$')\n",
        "    ax.set_ylim(-2, 2)\n",
        "    ax.set_xlim(-2, 2)\n",
        "    \n",
        "    plt.tight_layout()\n",
        "    if epoch is None:\n",
        "        plt.show();\n",
        "    else:\n",
        "        plt.savefig('imgs/{:04d}'.format(epoch));\n",
        "        plt.clf();\n",
        "        plt.close();"
      ]
    },
    {
      "cell_type": "code",
      "execution_count": 151,
      "metadata": {
        "colab": {
          "base_uri": "https://localhost:8080/",
          "height": 49,
          "referenced_widgets": [
            "f7d0db3e439f43e787a6617d43b2a985",
            "f9c09311ccf14d36b5d38c250a38b847",
            "1470043c8d964aa7a7e7aa9d95549aed",
            "b3a187aa4db14a5ca4689644e6f0ba8a",
            "72f379d4cb9f41d5b23453a669aa815c",
            "0a9dfd3d0661435cae9812171cacd41a",
            "6d7a0fdf89e941a1853f86c2a6da2fe5",
            "6684d2eef025424b80cf748a8d85df31",
            "74270128417d437c80ab3299f833bfe0",
            "251f5e813c8347309ede1e663805ab97",
            "00078a4f39984992af6aee4333cff4d8"
          ]
        },
        "id": "sSvqU6VBdPrP",
        "outputId": "b88075e2-7f42-49e8-981d-e1b62527e4d2"
      },
      "outputs": [
        {
          "data": {
            "application/vnd.jupyter.widget-view+json": {
              "model_id": "8828d654154f478fab667d289db56f4e",
              "version_major": 2,
              "version_minor": 0
            },
            "text/plain": [
              "  0%|          | 0/1000 [00:00<?, ?it/s]"
            ]
          },
          "metadata": {},
          "output_type": "display_data"
        },
        {
          "name": "stderr",
          "output_type": "stream",
          "text": [
            "/var/folders/qg/xpf_3z654rz2wkstrmbrx7_00000gn/T/ipykernel_10465/2085341712.py:30: RuntimeWarning: invalid value encountered in divide\n",
            "  dydt = (dydt / mag)\n"
          ]
        }
      ],
      "source": [
        "import imageio.v2 as imageio\n",
        "import shutil\n",
        "from pathlib import Path\n",
        "from IPython.display import Image\n",
        "\n",
        "Path('imgs').mkdir(exist_ok=True)\n",
        "\n",
        "random.seed(0);\n",
        "np.random.seed(0);\n",
        "torch.manual_seed(0);\n",
        "torch.cuda.manual_seed(0);\n",
        "torch.cuda.manual_seed_all(0);\n",
        "\n",
        "epoches = 1000\n",
        "func = ODEF().to(device)\n",
        "optimizer = torch.optim.RMSprop(func.parameters(), lr=1e-3)\n",
        "\n",
        "pbar = tqdm(total=epoches)\n",
        "\n",
        "with pbar:\n",
        "    for i in range(epoches):\n",
        "        optimizer.zero_grad()\n",
        "        y0, ts, ys = get_batch(y, t)\n",
        "        y_pred = odeint(func, y0, ts, method='dopri5').to(device)\n",
        "        loss = torch.mean(torch.abs(y_pred - ys))\n",
        "        loss.backward()\n",
        "        optimizer.step()\n",
        "\n",
        "        pbar.update(1)\n",
        "        pbar.set_description(\"Epoch: %i, Loss: %.3f\" % (i, loss.item()))\n",
        "    \n",
        "        with torch.no_grad():\n",
        "            if (i % 20) == 0:\n",
        "                y0 = torch.tensor([[2., 0.]]).to(device)\n",
        "                plot(func, y, y0, t, i);\n",
        "    \n",
        "    with torch.no_grad():\n",
        "        y0 = torch.Tensor([[0.6, 0.3]]).to(device)\n",
        "        plot(func, y, y0, t, epoches);\n",
        "\n",
        "images = []\n",
        "filenames = sorted(list(Path('imgs/').glob('*.png')))\n",
        "for filename in filenames:\n",
        "    images.append(imageio.imread(str(filename)))\n",
        "imageio.mimsave('simple_ode.gif', images, duration=5)\n",
        "shutil.rmtree('imgs')\n",
        "Image(\"simple_ode.gif\")"
      ]
    },
    {
      "cell_type": "code",
      "execution_count": null,
      "metadata": {},
      "outputs": [],
      "source": []
    },
    {
      "cell_type": "code",
      "execution_count": null,
      "metadata": {
        "id": "5CKNcYPJjvr5"
      },
      "outputs": [],
      "source": [
        "class CNF(nn.Module):\n",
        "    \"\"\"Adapted from the NumPy implementation at:\n",
        "    https://gist.github.com/rtqichen/91924063aa4cc95e7ef30b3a5491cc52\n",
        "    \"\"\"\n",
        "    def __init__(self, in_out_dim, hidden_dim, width):\n",
        "        super().__init__()\n",
        "        self.in_out_dim = in_out_dim\n",
        "        self.hidden_dim = hidden_dim\n",
        "        self.width = width\n",
        "        self.hyper_net = HyperNetwork(in_out_dim, hidden_dim, width)\n",
        "\n",
        "    def forward(self, t, states):\n",
        "        z = states[0]\n",
        "        logp_z = states[1]\n",
        "\n",
        "        batchsize = z.shape[0]\n",
        "\n",
        "        with torch.set_grad_enabled(True):\n",
        "            z.requires_grad_(True)\n",
        "\n",
        "            W, B, U = self.hyper_net(t)\n",
        "\n",
        "            Z = torch.unsqueeze(z, 0).repeat(self.width, 1, 1)\n",
        "\n",
        "            h = torch.tanh(torch.matmul(Z, W) + B)\n",
        "            dz_dt = torch.matmul(h, U).mean(0)\n",
        "\n",
        "            dlogp_z_dt = -trace_df_dz(dz_dt, z).view(batchsize, 1)\n",
        "\n",
        "        return (dz_dt, dlogp_z_dt)\n",
        "\n",
        "\n",
        "def trace_df_dz(f, z):\n",
        "    \"\"\"Calculates the trace of the Jacobian df/dz.\n",
        "    Stolen from: https://github.com/rtqichen/ffjord/blob/master/lib/layers/odefunc.py#L13\n",
        "    \"\"\"\n",
        "    sum_diag = 0.\n",
        "    for i in range(z.shape[1]):\n",
        "        sum_diag += torch.autograd.grad(f[:, i].sum(), z, create_graph=True)[0].contiguous()[:, i].contiguous()\n",
        "\n",
        "    return sum_diag.contiguous()\n",
        "\n",
        "\n",
        "class HyperNetwork(nn.Module):\n",
        "    \"\"\"Hyper-network allowing f(z(t), t) to change with time.\n",
        "\n",
        "    Adapted from the NumPy implementation at:\n",
        "    https://gist.github.com/rtqichen/91924063aa4cc95e7ef30b3a5491cc52\n",
        "    \"\"\"\n",
        "    def __init__(self, in_out_dim, hidden_dim, width):\n",
        "        super().__init__()\n",
        "\n",
        "        blocksize = width * in_out_dim\n",
        "\n",
        "        self.fc1 = nn.Linear(1, hidden_dim)\n",
        "        self.fc2 = nn.Linear(hidden_dim, hidden_dim)\n",
        "        self.fc3 = nn.Linear(hidden_dim, 3 * blocksize + width)\n",
        "\n",
        "        self.in_out_dim = in_out_dim\n",
        "        self.hidden_dim = hidden_dim\n",
        "        self.width = width\n",
        "        self.blocksize = blocksize\n",
        "\n",
        "    def forward(self, t):\n",
        "        # predict params\n",
        "        params = t.reshape(1, 1)\n",
        "        params = torch.tanh(self.fc1(params))\n",
        "        params = torch.tanh(self.fc2(params))\n",
        "        params = self.fc3(params)\n",
        "\n",
        "        # restructure\n",
        "        params = params.reshape(-1)\n",
        "        W = params[:self.blocksize].reshape(self.width, self.in_out_dim, 1)\n",
        "\n",
        "        U = params[self.blocksize:2 * self.blocksize].reshape(self.width, 1, self.in_out_dim)\n",
        "\n",
        "        G = params[2 * self.blocksize:3 * self.blocksize].reshape(self.width, 1, self.in_out_dim)\n",
        "        U = U * torch.sigmoid(G)\n",
        "\n",
        "        B = params[3 * self.blocksize:].reshape(self.width, 1, 1)\n",
        "        return [W, B, U]"
      ]
    },
    {
      "cell_type": "code",
      "execution_count": null,
      "metadata": {
        "id": "-R4sbi7xj5jR"
      },
      "outputs": [],
      "source": [
        "from sklearn.datasets import make_moons\n",
        "\n",
        "def get_batch(num_samples):\n",
        "    points, _ = make_moons(n_samples=num_samples, noise=0.06)\n",
        "    x = torch.tensor(points).type(torch.float32).to(device)\n",
        "    logp_diff_t1 = torch.zeros(num_samples, 1).type(torch.float32).to(device)\n",
        "\n",
        "    return(x, logp_diff_t1)"
      ]
    },
    {
      "cell_type": "code",
      "execution_count": null,
      "metadata": {
        "id": "8F1hJ1FQkBvU"
      },
      "outputs": [],
      "source": [
        "epoches = 1000\n",
        "t0, t1 = 0, 10\n",
        "func = CNF(in_out_dim=2, hidden_dim=32, width=64).to(device)\n",
        "optimizer = torch.optim.Adam(func.parameters(), lr=1e-3)\n",
        "p_z0 = torch.distributions.MultivariateNormal(\n",
        "        loc=torch.tensor([0.0, 0.0]).to(device),\n",
        "        covariance_matrix=torch.tensor([[0.1, 0.0], [0.0, 0.1]]).to(device)\n",
        "    )\n",
        "pbar = tqdm(total=epoches)\n",
        "\n",
        "with pbar:\n",
        "    for i in range(epoches):\n",
        "        optimizer.zero_grad()\n",
        "        x, logp_diff_t1 = get_batch(512)\n",
        "        z_t, logp_diff_t = odeint(\n",
        "            func,\n",
        "            (x, logp_diff_t1),\n",
        "            torch.linspace(t1, t0, 10).type(torch.float32).to(device),\n",
        "            atol=1e-5,\n",
        "            rtol=1e-5,\n",
        "            method='rk4',\n",
        "            adjoint_method='rk4'\n",
        "        )\n",
        "        z_t0, logp_diff_t0 = z_t[-1], logp_diff_t[-1]\n",
        "        logp_x = p_z0.log_prob(z_t0).to(device) - logp_diff_t0.view(-1)\n",
        "        loss = -logp_x.mean(0)\n",
        "        loss.backward()\n",
        "        optimizer.step()\n",
        "\n",
        "        pbar.update(1)\n",
        "        pbar.set_description(\"Epoch: %i, Loss: %.3f\" % (i, loss.item()))"
      ]
    },
    {
      "cell_type": "code",
      "execution_count": null,
      "metadata": {
        "colab": {
          "base_uri": "https://localhost:8080/",
          "height": 430
        },
        "id": "QUKUBOPolKcu",
        "outputId": "4d1b54a6-3abf-4437-9bf3-d914bda42017"
      },
      "outputs": [
        {
          "data": {
            "image/png": "[encoded data removed]",
            "text/plain": [
              "<Figure size 640x480 with 1 Axes>"
            ]
          },
          "metadata": {},
          "output_type": "display_data"
        }
      ],
      "source": [
        "z = p_z0.sample((1000, )).to(device)\n",
        "logp_diff_t = torch.zeros(1000, 1).to(device)\n",
        "x, _ = odeint(\n",
        "    func,\n",
        "    (z, logp_diff_t),\n",
        "    torch.linspace(t0, t1, 250).type(torch.float32).to(device),\n",
        "    atol=1e-5,\n",
        "    rtol=1e-5,\n",
        "    method='rk4',\n",
        ")\n",
        "x = x.detach().cpu().clone()\n",
        "\n",
        "plt.scatter(x[-1, :, 0], x[-1, :, 1])\n",
        "plt.show()"
      ]
    },
    {
      "cell_type": "code",
      "execution_count": null,
      "metadata": {
        "id": "BfoJozhBYWOH"
      },
      "outputs": [],
      "source": []
    }
  ],
  "metadata": {
    "colab": {
      "provenance": [],
      "toc_visible": true
    },
    "kernelspec": {
      "display_name": "Python 3",
      "name": "python3"
    },
    "language_info": {
      "codemirror_mode": {
        "name": "ipython",
        "version": 3
      },
      "file_extension": ".py",
      "mimetype": "text/x-python",
      "name": "python",
      "nbconvert_exporter": "python",
      "pygments_lexer": "ipython3",
      "version": "3.11.2"
    },
    "widgets": {
      "application/vnd.jupyter.widget-state+json": {
        "00078a4f39984992af6aee4333cff4d8": {
          "model_module": "@jupyter-widgets/controls",
          "model_module_version": "1.5.0",
          "model_name": "DescriptionStyleModel",
          "state": {
            "_model_module": "@jupyter-widgets/controls",
            "_model_module_version": "1.5.0",
            "_model_name": "DescriptionStyleModel",
            "_view_count": null,
            "_view_module": "@jupyter-widgets/base",
            "_view_module_version": "1.2.0",
            "_view_name": "StyleView",
            "description_width": ""
          }
        },
        "0a9dfd3d0661435cae9812171cacd41a": {
          "model_module": "@jupyter-widgets/base",
          "model_module_version": "1.2.0",
          "model_name": "LayoutModel",
          "state": {
            "_model_module": "@jupyter-widgets/base",
            "_model_module_version": "1.2.0",
            "_model_name": "LayoutModel",
            "_view_count": null,
            "_view_module": "@jupyter-widgets/base",
            "_view_module_version": "1.2.0",
            "_view_name": "LayoutView",
            "align_content": null,
            "align_items": null,
            "align_self": null,
            "border": null,
            "bottom": null,
            "display": null,
            "flex": null,
            "flex_flow": null,
            "grid_area": null,
            "grid_auto_columns": null,
            "grid_auto_flow": null,
            "grid_auto_rows": null,
            "grid_column": null,
            "grid_gap": null,
            "grid_row": null,
            "grid_template_areas": null,
            "grid_template_columns": null,
            "grid_template_rows": null,
            "height": null,
            "justify_content": null,
            "justify_items": null,
            "left": null,
            "margin": null,
            "max_height": null,
            "max_width": null,
            "min_height": null,
            "min_width": null,
            "object_fit": null,
            "object_position": null,
            "order": null,
            "overflow": null,
            "overflow_x": null,
            "overflow_y": null,
            "padding": null,
            "right": null,
            "top": null,
            "visibility": null,
            "width": null
          }
        },
        "1470043c8d964aa7a7e7aa9d95549aed": {
          "model_module": "@jupyter-widgets/controls",
          "model_module_version": "1.5.0",
          "model_name": "FloatProgressModel",
          "state": {
            "_dom_classes": [],
            "_model_module": "@jupyter-widgets/controls",
            "_model_module_version": "1.5.0",
            "_model_name": "FloatProgressModel",
            "_view_count": null,
            "_view_module": "@jupyter-widgets/controls",
            "_view_module_version": "1.5.0",
            "_view_name": "ProgressView",
            "bar_style": "success",
            "description": "",
            "description_tooltip": null,
            "layout": "IPY_MODEL_6684d2eef025424b80cf748a8d85df31",
            "max": 250,
            "min": 0,
            "orientation": "horizontal",
            "style": "IPY_MODEL_74270128417d437c80ab3299f833bfe0",
            "value": 250
          }
        },
        "251f5e813c8347309ede1e663805ab97": {
          "model_module": "@jupyter-widgets/base",
          "model_module_version": "1.2.0",
          "model_name": "LayoutModel",
          "state": {
            "_model_module": "@jupyter-widgets/base",
            "_model_module_version": "1.2.0",
            "_model_name": "LayoutModel",
            "_view_count": null,
            "_view_module": "@jupyter-widgets/base",
            "_view_module_version": "1.2.0",
            "_view_name": "LayoutView",
            "align_content": null,
            "align_items": null,
            "align_self": null,
            "border": null,
            "bottom": null,
            "display": null,
            "flex": null,
            "flex_flow": null,
            "grid_area": null,
            "grid_auto_columns": null,
            "grid_auto_flow": null,
            "grid_auto_rows": null,
            "grid_column": null,
            "grid_gap": null,
            "grid_row": null,
            "grid_template_areas": null,
            "grid_template_columns": null,
            "grid_template_rows": null,
            "height": null,
            "justify_content": null,
            "justify_items": null,
            "left": null,
            "margin": null,
            "max_height": null,
            "max_width": null,
            "min_height": null,
            "min_width": null,
            "object_fit": null,
            "object_position": null,
            "order": null,
            "overflow": null,
            "overflow_x": null,
            "overflow_y": null,
            "padding": null,
            "right": null,
            "top": null,
            "visibility": null,
            "width": null
          }
        },
        "6684d2eef025424b80cf748a8d85df31": {
          "model_module": "@jupyter-widgets/base",
          "model_module_version": "1.2.0",
          "model_name": "LayoutModel",
          "state": {
            "_model_module": "@jupyter-widgets/base",
            "_model_module_version": "1.2.0",
            "_model_name": "LayoutModel",
            "_view_count": null,
            "_view_module": "@jupyter-widgets/base",
            "_view_module_version": "1.2.0",
            "_view_name": "LayoutView",
            "align_content": null,
            "align_items": null,
            "align_self": null,
            "border": null,
            "bottom": null,
            "display": null,
            "flex": null,
            "flex_flow": null,
            "grid_area": null,
            "grid_auto_columns": null,
            "grid_auto_flow": null,
            "grid_auto_rows": null,
            "grid_column": null,
            "grid_gap": null,
            "grid_row": null,
            "grid_template_areas": null,
            "grid_template_columns": null,
            "grid_template_rows": null,
            "height": null,
            "justify_content": null,
            "justify_items": null,
            "left": null,
            "margin": null,
            "max_height": null,
            "max_width": null,
            "min_height": null,
            "min_width": null,
            "object_fit": null,
            "object_position": null,
            "order": null,
            "overflow": null,
            "overflow_x": null,
            "overflow_y": null,
            "padding": null,
            "right": null,
            "top": null,
            "visibility": null,
            "width": null
          }
        },
        "6d7a0fdf89e941a1853f86c2a6da2fe5": {
          "model_module": "@jupyter-widgets/controls",
          "model_module_version": "1.5.0",
          "model_name": "DescriptionStyleModel",
          "state": {
            "_model_module": "@jupyter-widgets/controls",
            "_model_module_version": "1.5.0",
            "_model_name": "DescriptionStyleModel",
            "_view_count": null,
            "_view_module": "@jupyter-widgets/base",
            "_view_module_version": "1.2.0",
            "_view_name": "StyleView",
            "description_width": ""
          }
        },
        "72f379d4cb9f41d5b23453a669aa815c": {
          "model_module": "@jupyter-widgets/base",
          "model_module_version": "1.2.0",
          "model_name": "LayoutModel",
          "state": {
            "_model_module": "@jupyter-widgets/base",
            "_model_module_version": "1.2.0",
            "_model_name": "LayoutModel",
            "_view_count": null,
            "_view_module": "@jupyter-widgets/base",
            "_view_module_version": "1.2.0",
            "_view_name": "LayoutView",
            "align_content": null,
            "align_items": null,
            "align_self": null,
            "border": null,
            "bottom": null,
            "display": null,
            "flex": null,
            "flex_flow": null,
            "grid_area": null,
            "grid_auto_columns": null,
            "grid_auto_flow": null,
            "grid_auto_rows": null,
            "grid_column": null,
            "grid_gap": null,
            "grid_row": null,
            "grid_template_areas": null,
            "grid_template_columns": null,
            "grid_template_rows": null,
            "height": null,
            "justify_content": null,
            "justify_items": null,
            "left": null,
            "margin": null,
            "max_height": null,
            "max_width": null,
            "min_height": null,
            "min_width": null,
            "object_fit": null,
            "object_position": null,
            "order": null,
            "overflow": null,
            "overflow_x": null,
            "overflow_y": null,
            "padding": null,
            "right": null,
            "top": null,
            "visibility": null,
            "width": null
          }
        },
        "74270128417d437c80ab3299f833bfe0": {
          "model_module": "@jupyter-widgets/controls",
          "model_module_version": "1.5.0",
          "model_name": "ProgressStyleModel",
          "state": {
            "_model_module": "@jupyter-widgets/controls",
            "_model_module_version": "1.5.0",
            "_model_name": "ProgressStyleModel",
            "_view_count": null,
            "_view_module": "@jupyter-widgets/base",
            "_view_module_version": "1.2.0",
            "_view_name": "StyleView",
            "bar_color": null,
            "description_width": ""
          }
        },
        "b3a187aa4db14a5ca4689644e6f0ba8a": {
          "model_module": "@jupyter-widgets/controls",
          "model_module_version": "1.5.0",
          "model_name": "HTMLModel",
          "state": {
            "_dom_classes": [],
            "_model_module": "@jupyter-widgets/controls",
            "_model_module_version": "1.5.0",
            "_model_name": "HTMLModel",
            "_view_count": null,
            "_view_module": "@jupyter-widgets/controls",
            "_view_module_version": "1.5.0",
            "_view_name": "HTMLView",
            "description": "",
            "description_tooltip": null,
            "layout": "IPY_MODEL_251f5e813c8347309ede1e663805ab97",
            "placeholder": "​",
            "style": "IPY_MODEL_00078a4f39984992af6aee4333cff4d8",
            "value": " 250/250 [00:59&lt;00:00,  5.04it/s]"
          }
        },
        "f7d0db3e439f43e787a6617d43b2a985": {
          "model_module": "@jupyter-widgets/controls",
          "model_module_version": "1.5.0",
          "model_name": "HBoxModel",
          "state": {
            "_dom_classes": [],
            "_model_module": "@jupyter-widgets/controls",
            "_model_module_version": "1.5.0",
            "_model_name": "HBoxModel",
            "_view_count": null,
            "_view_module": "@jupyter-widgets/controls",
            "_view_module_version": "1.5.0",
            "_view_name": "HBoxView",
            "box_style": "",
            "children": [
              "IPY_MODEL_f9c09311ccf14d36b5d38c250a38b847",
              "IPY_MODEL_1470043c8d964aa7a7e7aa9d95549aed",
              "IPY_MODEL_b3a187aa4db14a5ca4689644e6f0ba8a"
            ],
            "layout": "IPY_MODEL_72f379d4cb9f41d5b23453a669aa815c"
          }
        },
        "f9c09311ccf14d36b5d38c250a38b847": {
          "model_module": "@jupyter-widgets/controls",
          "model_module_version": "1.5.0",
          "model_name": "HTMLModel",
          "state": {
            "_dom_classes": [],
            "_model_module": "@jupyter-widgets/controls",
            "_model_module_version": "1.5.0",
            "_model_name": "HTMLModel",
            "_view_count": null,
            "_view_module": "@jupyter-widgets/controls",
            "_view_module_version": "1.5.0",
            "_view_name": "HTMLView",
            "description": "",
            "description_tooltip": null,
            "layout": "IPY_MODEL_0a9dfd3d0661435cae9812171cacd41a",
            "placeholder": "​",
            "style": "IPY_MODEL_6d7a0fdf89e941a1853f86c2a6da2fe5",
            "value": "Epoch: 249, Loss: 0.010: 100%"
          }
        }
      }
    }
  },
  "nbformat": 4,
  "nbformat_minor": 0
}
