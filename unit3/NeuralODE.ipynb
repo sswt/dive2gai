{
 "cells": [
  {
   "cell_type": "code",
   "execution_count": 6,
   "metadata": {},
   "outputs": [],
   "source": [
    "import random\n",
    "import shutil\n",
    "import numpy as np\n",
    "import matplotlib.pyplot as plt\n",
    "import imageio.v2 as imageio\n",
    "from tqdm.notebook import tqdm\n",
    "from pathlib import Path\n",
    "from sklearn.datasets import make_moons, make_circles\n",
    "\n",
    "import torch\n",
    "import torch.nn as nn\n",
    "import torch.nn.functional as F\n",
    "\n",
    "from torchdiffeq import odeint_adjoint as odeint\n"
   ]
  },
  {
   "cell_type": "code",
   "execution_count": 2,
   "metadata": {},
   "outputs": [],
   "source": [
    "class Lambda(nn.Module):\n",
    "    def forward(self, t, y):\n",
    "        return torch.mm(y, A)\n"
   ]
  },
  {
   "cell_type": "code",
   "execution_count": 3,
   "metadata": {},
   "outputs": [],
   "source": [
    "def get_batch(y, t, batch_time=8, batch_size=256):\n",
    "    size = len(t)\n",
    "    start = np.random.randint(size-batch_time, size=batch_size)\n",
    "    y0 = y[start]\n",
    "    t0 = np.random.randint(size-batch_time)\n",
    "    ts = t[t0:t0+batch_time]\n",
    "    ys = torch.stack([y[start + i] for i in range(batch_time)], dim=0)\n",
    "    return y0, ts, ys\n"
   ]
  },
  {
   "cell_type": "code",
   "execution_count": 4,
   "metadata": {},
   "outputs": [],
   "source": [
    "class ODEF(nn.Module):\n",
    "\n",
    "    def __init__(self):\n",
    "        super().__init__()\n",
    "        self.net = nn.Linear(2, 2, bias=False)\n",
    "        nn.init.normal_(self.net.weight)\n",
    "\n",
    "    def forward(self, t, y):\n",
    "        return self.net(y)\n"
   ]
  },
  {
   "cell_type": "code",
   "execution_count": 5,
   "metadata": {},
   "outputs": [],
   "source": [
    "def plot(func, y, y0, t, epoch: int = None):\n",
    "    y_pred = odeint(func, y0, t, method='rk4')[:, 0]\n",
    "\n",
    "    plt.figure(figsize=(12, 3))\n",
    "\n",
    "    ax = plt.subplot(1, 3, 1)\n",
    "    ax.set_title('Фазовый портрет')\n",
    "    ax.plot(y_pred.detach()[:, 0].cpu(), y_pred.detach()[:, 1].cpu(), c='r')\n",
    "    ax.scatter(y.detach()[:, 0].cpu(), y.detach()[:, 1].cpu(), s=1, c='k', alpha=0.7)\n",
    "    ax.set_ylim(-1, 1)\n",
    "    ax.set_xlim(-1, 1)\n",
    "    ax.set_xlabel('$y_1$')\n",
    "    ax.set_ylabel('$y_2$')\n",
    "\n",
    "    ax = plt.subplot(1, 3, 2)\n",
    "    ax.set_title('Траектории')\n",
    "    ax.plot(t.cpu(), y_pred.detach()[:, 0].cpu())\n",
    "    ax.plot(t.cpu(), y_pred.detach()[:, 1].cpu())\n",
    "    ax.scatter(t.cpu(), y.detach()[:, 0].cpu(), s=1, alpha=0.7)\n",
    "    ax.scatter(t.cpu(), y.detach()[:, 1].cpu(), s=1, alpha=0.7)\n",
    "    ax.set_xlabel('$t$')\n",
    "    ax.set_ylabel('$y_1$, $y_2$')\n",
    "    ax.set_xlim(t.cpu().min(), t.cpu().max())\n",
    "    ax.set_ylim(-1, 1)\n",
    "\n",
    "    ax = plt.subplot(1, 3, 3)\n",
    "    Y, X = np.mgrid[-1:1:21j, -1:1:21j]\n",
    "    dydt = func(0, torch.Tensor(np.stack([X, Y], -1).reshape(21 * 21, 2)).to(device)).cpu().detach().numpy()\n",
    "    mag = np.sqrt(dydt[:, 0]**2 + dydt[:, 1]**2).reshape(-1, 1)\n",
    "    dydt = (dydt / mag)\n",
    "    dydt = dydt.reshape(21, 21, 2)\n",
    "\n",
    "    ax.set_title('Векторное поле обучения')\n",
    "    ax.streamplot(X, Y, dydt[:, :, 0], dydt[:, :, 1], color=\"black\")\n",
    "    ax.set_xlabel('$y_1$')\n",
    "    ax.set_ylabel('$y_2$')\n",
    "    ax.set_ylim(-1, 1)\n",
    "    ax.set_xlim(-1, 1)\n",
    "\n",
    "    plt.tight_layout()\n",
    "    if epoch is None:\n",
    "        plt.show();\n",
    "    else:\n",
    "        plt.savefig('imgs/{:04d}'.format(epoch));\n",
    "        plt.clf();\n",
    "        plt.close();\n"
   ]
  },
  {
   "cell_type": "code",
   "execution_count": 6,
   "metadata": {},
   "outputs": [
    {
     "data": {
      "application/vnd.jupyter.widget-view+json": {
       "model_id": "7acc31e4ef724681bc2ba023212ba21c",
       "version_major": 2,
       "version_minor": 0
      },
      "text/plain": [
       "HBox(children=(HTML(value=''), FloatProgress(value=0.0, max=500.0), HTML(value='')))"
      ]
     },
     "metadata": {},
     "output_type": "display_data"
    },
    {
     "name": "stderr",
     "output_type": "stream",
     "text": [
      "/opt/conda/lib/python3.7/site-packages/ipykernel_launcher.py:30: RuntimeWarning: invalid value encountered in true_divide\n"
     ]
    },
    {
     "name": "stdout",
     "output_type": "stream",
     "text": [
      "\n"
     ]
    }
   ],
   "source": [
    "Path('imgs').mkdir(exist_ok=True)\n",
    "\n",
    "random.seed(0);\n",
    "np.random.seed(0);\n",
    "torch.manual_seed(0);\n",
    "torch.cuda.manual_seed(0);\n",
    "torch.cuda.manual_seed_all(0);\n",
    "\n",
    "device = torch.device('cuda' if torch.cuda.is_available() else 'cpu')\n",
    "\n",
    "y0 = torch.Tensor([[0.6, 0.3]]).to(device)\n",
    "t = torch.linspace(0., 20., 200).to(device)\n",
    "A = torch.Tensor([[-0.1, -1.], [1., -0.1]]).to(device)\n",
    "\n",
    "y = odeint(Lambda(), y0, t, method='rk4')[:, 0]\n",
    "y = y + 0.01 * torch.randn(y.size(), device=device)\n",
    "\n",
    "epoches = 500\n",
    "func = ODEF().to(device)\n",
    "optimizer = torch.optim.Adam(func.parameters(), lr=0.01)\n",
    "\n",
    "pbar = tqdm(total=epoches)\n",
    "\n",
    "with pbar:\n",
    "    for i in range(epoches):\n",
    "        optimizer.zero_grad()\n",
    "        y0, ts, ys = get_batch(y, t)\n",
    "        y_pred = odeint(func, y0, ts, method='rk4').to(device)\n",
    "        loss = torch.mean(torch.abs(y_pred - ys))\n",
    "        loss.backward()\n",
    "        optimizer.step()\n",
    "\n",
    "        pbar.update(1)\n",
    "        pbar.set_description(\"Epoch: %i, Loss: %.3f\" % (i, loss.item()))\n",
    "\n",
    "        with torch.no_grad():\n",
    "            if (i % 20) == 0:\n",
    "                y0 = torch.Tensor([[0.6, 0.3]]).to(device)\n",
    "                plot(func, y, y0, t, i);\n",
    "\n",
    "    with torch.no_grad():\n",
    "        y0 = torch.Tensor([[0.6, 0.3]]).to(device)\n",
    "        plot(func, y, y0, t, epoches);\n",
    "\n",
    "images = []\n",
    "filenames = sorted(list(Path('imgs/').glob('*.png')))\n",
    "for filename in filenames:\n",
    "    images.append(imageio.imread(str(filename)))\n",
    "imageio.mimsave('simple_ode.gif', images, duration=5, format='GIF')\n",
    "shutil.rmtree('imgs')\n"
   ]
  },
  {
   "cell_type": "markdown",
   "metadata": {},
   "source": [
    "![alt](simple_ode.gif)"
   ]
  },
  {
   "cell_type": "code",
   "execution_count": 7,
   "metadata": {},
   "outputs": [],
   "source": [
    "def plot_flow(func, num_samples: int = 30_000, num_timestemps: int = 20, name: str = 'cnf_ode'):\n",
    "    Path('imgs').mkdir(exist_ok=True)\n",
    "\n",
    "    timesteps = torch.linspace(t0, t1, num_timestemps, device=device)\n",
    "    target_sample, _ = get_batch(num_samples)\n",
    "\n",
    "    z_t0 = p_z0.sample([num_samples]).to(device)\n",
    "    logp_diff_t0 = torch.zeros(num_samples, 1).type(torch.float32).to(device)\n",
    "\n",
    "    z_t_samples, _ = odeint(\n",
    "        func,\n",
    "        (z_t0, logp_diff_t0),\n",
    "        timesteps,\n",
    "        atol=1e-5,\n",
    "        rtol=1e-5,\n",
    "        method='dopri5',\n",
    "    )\n",
    "\n",
    "    x = np.linspace(-3, 3, 100)\n",
    "    y = np.linspace(-3, 3, 100)\n",
    "    points = np.vstack(np.meshgrid(x, y)).reshape([2, -1]).T\n",
    "\n",
    "    z_t1 = torch.tensor(points).type(torch.float32).to(device)\n",
    "    logp_diff_t1 = torch.zeros(z_t1.shape[0], 1).type(torch.float32).to(device)\n",
    "\n",
    "    z_t_density, logp_diff_t = odeint(\n",
    "        func,\n",
    "        (z_t1, logp_diff_t1),\n",
    "        timesteps.flip(0),\n",
    "        atol=1e-5,\n",
    "        rtol=1e-5,\n",
    "        method='dopri5',\n",
    "    )\n",
    "\n",
    "    for (t, z_sample, z_density, logp_diff) in zip(timesteps, z_t_samples, z_t_density, logp_diff_t):\n",
    "\n",
    "        logp = p_z0.log_prob(z_density) - logp_diff.view(-1)\n",
    "\n",
    "        fig = plt.figure(figsize=(10, 3))\n",
    "        plt.axis('off')\n",
    "        plt.margins(0, 0)\n",
    "        plt.suptitle(f'{t:.2f}s', size=15)\n",
    "        plt.tight_layout()\n",
    "\n",
    "        ax1 = fig.add_subplot(1, 3, 1)\n",
    "        ax1.set_title('Target')\n",
    "        ax1.get_xaxis().set_ticks([])\n",
    "        ax1.get_yaxis().set_ticks([])\n",
    "\n",
    "        ax2 = fig.add_subplot(1, 3, 2)\n",
    "        ax2.set_title('Samples')\n",
    "        ax2.get_xaxis().set_ticks([])\n",
    "        ax2.get_yaxis().set_ticks([])\n",
    "\n",
    "        ax3 = fig.add_subplot(1, 3, 3)\n",
    "        ax3.set_title('Probability')\n",
    "        ax3.get_xaxis().set_ticks([])\n",
    "        ax3.get_yaxis().set_ticks([])\n",
    "\n",
    "        ax1.hist2d(*target_sample.detach().cpu().T.numpy(), bins=300, density=True, range=[[-3, 3], [-3, 3]])\n",
    "        ax2.hist2d(*z_sample.detach().cpu().T.numpy(), bins=300, density=True, range=[[-3, 3], [-3, 3]])\n",
    "        plt.pcolormesh(*z_t1.T.view(2, 100, 100).detach().cpu(), logp.exp().view(100, 100).detach().cpu())\n",
    "        plt.savefig('imgs/cnf-%.2f.png' % t)\n",
    "        plt.close()\n",
    "\n",
    "    images = []\n",
    "    filenames = sorted(list(Path('imgs/').glob('*.png')))\n",
    "    for filename in filenames:\n",
    "        images.append(imageio.imread(str(filename)))\n",
    "    imageio.mimsave(f'{name}.gif', images, duration=5, format='GIF')\n",
    "    shutil.rmtree('imgs')\n"
   ]
  },
  {
   "cell_type": "code",
   "execution_count": 8,
   "metadata": {},
   "outputs": [],
   "source": [
    "def get_batch(num_samples):\n",
    "    points, _ = make_moons(n_samples=num_samples, noise=0.06)\n",
    "    points = (points - points.mean(0)) / points.std(0) * 1.5\n",
    "    x = torch.tensor(points).type(torch.float32).to(device)\n",
    "    logp_diff_t1 = torch.zeros(num_samples, 1).type(torch.float32).to(device)\n",
    "\n",
    "    return(x, logp_diff_t1)\n"
   ]
  },
  {
   "cell_type": "code",
   "execution_count": 9,
   "metadata": {},
   "outputs": [],
   "source": [
    "def trace_df_dz(f, z):\n",
    "    \"\"\"Calculates the trace of the Jacobian df/dz.\n",
    "    Stolen from: https://github.com/rtqichen/ffjord/blob/master/lib/layers/odefunc.py#L13\n",
    "    \"\"\"\n",
    "    sum_diag = 0.\n",
    "    for i in range(z.shape[1]):\n",
    "        sum_diag += torch.autograd.grad(f[:, i].sum(), z, create_graph=True)[0].contiguous()[:, i].contiguous()\n",
    "\n",
    "    return sum_diag.contiguous()\n"
   ]
  },
  {
   "cell_type": "code",
   "execution_count": 10,
   "metadata": {},
   "outputs": [],
   "source": [
    "class PlanarFlow(nn.Module):\n",
    "\n",
    "    def __init__(self, inp: int, width: int):\n",
    "        super().__init__()\n",
    "        self.net = nn.Sequential(\n",
    "            nn.Linear(inp, width),\n",
    "            nn.Tanh(),\n",
    "            nn.Linear(width, width),\n",
    "            nn.Tanh(),\n",
    "            nn.Linear(width, inp, bias=False)\n",
    "        )\n",
    "\n",
    "    def forward(self, z):\n",
    "        return self.net(z)\n",
    "\n",
    "class CNF(nn.Module):\n",
    "\n",
    "    def __init__(self, inp: int, width: int):\n",
    "        super().__init__()\n",
    "        self.net = PlanarFlow(inp, width)\n",
    "\n",
    "    def forward(self, t, state):\n",
    "        z = state[0]\n",
    "        logp_z = state[1]\n",
    "        with torch.set_grad_enabled(True):\n",
    "            z.requires_grad_(True)\n",
    "            dz_dt = self.net(z)\n",
    "            dlogp_z_dt = -trace_df_dz(dz_dt, z).view(z.size(0), 1)\n",
    "        return (dz_dt, dlogp_z_dt)\n"
   ]
  },
  {
   "cell_type": "code",
   "execution_count": 11,
   "metadata": {},
   "outputs": [
    {
     "data": {
      "application/vnd.jupyter.widget-view+json": {
       "model_id": "52b9ba19bbc44858a221c27a3ddaa884",
       "version_major": 2,
       "version_minor": 0
      },
      "text/plain": [
       "HBox(children=(HTML(value=''), FloatProgress(value=0.0, max=1000.0), HTML(value='')))"
      ]
     },
     "metadata": {},
     "output_type": "display_data"
    },
    {
     "name": "stdout",
     "output_type": "stream",
     "text": [
      "\n"
     ]
    }
   ],
   "source": [
    "random.seed(0);\n",
    "np.random.seed(0);\n",
    "torch.manual_seed(0);\n",
    "torch.cuda.manual_seed(0);\n",
    "torch.cuda.manual_seed_all(0);\n",
    "\n",
    "device = torch.device('cuda' if torch.cuda.is_available() else 'cpu')\n",
    "\n",
    "epoches = 1000\n",
    "t0, t1 = 0, 1\n",
    "func = CNF(2, 256).to(device)\n",
    "optimizer = torch.optim.Adam(func.parameters(), lr=1e-3)\n",
    "p_z0 = torch.distributions.MultivariateNormal(\n",
    "        loc=torch.tensor([0.0, 0.0]).to(device),\n",
    "        covariance_matrix=torch.tensor([[1., 0.0], [0.0, 1.]]).to(device)\n",
    "    )\n",
    "pbar = tqdm(total=epoches)\n",
    "total_loss = []\n",
    "with pbar:\n",
    "    for i in range(epoches):\n",
    "        optimizer.zero_grad()\n",
    "        x, logp_diff_t1 = get_batch(512)\n",
    "        z_t, logp_diff_t = odeint(\n",
    "            func,\n",
    "            (x, logp_diff_t1),\n",
    "            torch.linspace(t1, t0, 10).type(torch.float32).to(device),\n",
    "            atol=1e-5,\n",
    "            rtol=1e-5,\n",
    "            method='midpoint',\n",
    "            adjoint_method='midpoint'\n",
    "        )\n",
    "        z_t0, logp_diff_t0 = z_t[-1], logp_diff_t[-1]\n",
    "        logp_x = p_z0.log_prob(z_t0).to(device) - logp_diff_t0.view(-1)\n",
    "        loss = -logp_x.mean(0)\n",
    "        loss.backward()\n",
    "        optimizer.step()\n",
    "\n",
    "        pbar.update(1)\n",
    "        pbar.set_description(\"Epoch: %i, Loss: %.3f\" % (i, loss.item()))\n",
    "        total_loss.append(loss.item())\n"
   ]
  },
  {
   "cell_type": "code",
   "execution_count": 12,
   "metadata": {},
   "outputs": [],
   "source": [
    "plot_flow(func, num_timestemps=60, name='simple_cnf_ode')"
   ]
  },
  {
   "cell_type": "markdown",
   "metadata": {},
   "source": [
    "![alt](simple_cnf_ode.gif)"
   ]
  },
  {
   "cell_type": "code",
   "execution_count": 13,
   "metadata": {},
   "outputs": [],
   "source": [
    "class CNF(nn.Module):\n",
    "    \"\"\"Adapted from the NumPy implementation at:\n",
    "    https://gist.github.com/rtqichen/91924063aa4cc95e7ef30b3a5491cc52\n",
    "    \"\"\"\n",
    "    def __init__(self, in_out_dim, hidden_dim, width):\n",
    "        super().__init__()\n",
    "        self.in_out_dim = in_out_dim\n",
    "        self.hidden_dim = hidden_dim\n",
    "        self.width = width\n",
    "        self.hyper_net = HyperNetwork(in_out_dim, hidden_dim, width)\n",
    "\n",
    "    def forward(self, t, states):\n",
    "        z = states[0]\n",
    "        logp_z = states[1]\n",
    "\n",
    "        batchsize = z.shape[0]\n",
    "\n",
    "        with torch.set_grad_enabled(True):\n",
    "            z.requires_grad_(True)\n",
    "\n",
    "            W, B, U = self.hyper_net(t)\n",
    "\n",
    "            Z = torch.unsqueeze(z, 0).repeat(self.width, 1, 1)\n",
    "\n",
    "            h = torch.tanh(torch.matmul(Z, W) + B)\n",
    "            dz_dt = torch.matmul(h, U).mean(0)\n",
    "\n",
    "            dlogp_z_dt = -trace_df_dz(dz_dt, z).view(batchsize, 1)\n",
    "\n",
    "        return (dz_dt, dlogp_z_dt)\n",
    "\n",
    "\n",
    "def trace_df_dz(f, z):\n",
    "    \"\"\"Calculates the trace of the Jacobian df/dz.\n",
    "    Stolen from: https://github.com/rtqichen/ffjord/blob/master/lib/layers/odefunc.py#L13\n",
    "    \"\"\"\n",
    "    sum_diag = 0.\n",
    "    for i in range(z.shape[1]):\n",
    "        sum_diag += torch.autograd.grad(f[:, i].sum(), z, create_graph=True)[0].contiguous()[:, i].contiguous()\n",
    "\n",
    "    return sum_diag.contiguous()\n",
    "\n",
    "\n",
    "class HyperNetwork(nn.Module):\n",
    "    \"\"\"Hyper-network allowing f(z(t), t) to change with time.\n",
    "\n",
    "    Adapted from the NumPy implementation at:\n",
    "    https://gist.github.com/rtqichen/91924063aa4cc95e7ef30b3a5491cc52\n",
    "    \"\"\"\n",
    "    def __init__(self, in_out_dim, hidden_dim, width):\n",
    "        super().__init__()\n",
    "\n",
    "        blocksize = width * in_out_dim\n",
    "\n",
    "        self.fc1 = nn.Linear(1, hidden_dim)\n",
    "        self.fc2 = nn.Linear(hidden_dim, hidden_dim)\n",
    "        self.fc3 = nn.Linear(hidden_dim, 3 * blocksize + width)\n",
    "\n",
    "        self.in_out_dim = in_out_dim\n",
    "        self.hidden_dim = hidden_dim\n",
    "        self.width = width\n",
    "        self.blocksize = blocksize\n",
    "\n",
    "    def forward(self, t):\n",
    "        # predict params\n",
    "        params = t.reshape(1, 1)\n",
    "        params = torch.tanh(self.fc1(params))\n",
    "        params = torch.tanh(self.fc2(params))\n",
    "        params = self.fc3(params)\n",
    "\n",
    "        # restructure\n",
    "        params = params.reshape(-1)\n",
    "        W = params[:self.blocksize].reshape(self.width, self.in_out_dim, 1)\n",
    "\n",
    "        U = params[self.blocksize:2 * self.blocksize].reshape(self.width, 1, self.in_out_dim)\n",
    "\n",
    "        G = params[2 * self.blocksize:3 * self.blocksize].reshape(self.width, 1, self.in_out_dim)\n",
    "        U = U * torch.sigmoid(G)\n",
    "\n",
    "        B = params[3 * self.blocksize:].reshape(self.width, 1, 1)\n",
    "        return [W, B, U]\n"
   ]
  },
  {
   "cell_type": "code",
   "execution_count": 14,
   "metadata": {},
   "outputs": [
    {
     "data": {
      "application/vnd.jupyter.widget-view+json": {
       "model_id": "ee741a3edcae424995dfb611e9573432",
       "version_major": 2,
       "version_minor": 0
      },
      "text/plain": [
       "HBox(children=(HTML(value=''), FloatProgress(value=0.0, max=1000.0), HTML(value='')))"
      ]
     },
     "metadata": {},
     "output_type": "display_data"
    },
    {
     "name": "stdout",
     "output_type": "stream",
     "text": [
      "\n"
     ]
    }
   ],
   "source": [
    "random.seed(0);\n",
    "np.random.seed(0);\n",
    "torch.manual_seed(0);\n",
    "torch.cuda.manual_seed(0);\n",
    "torch.cuda.manual_seed_all(0);\n",
    "\n",
    "device = torch.device('cuda' if torch.cuda.is_available() else 'cpu')\n",
    "\n",
    "epoches = 1000\n",
    "t0, t1 = 0, 1\n",
    "func = CNF(2, 32, 64).to(device)\n",
    "optimizer = torch.optim.Adam(func.parameters(), lr=1e-3)\n",
    "p_z0 = torch.distributions.MultivariateNormal(\n",
    "        loc=torch.tensor([0.0, 0.0]).to(device),\n",
    "        covariance_matrix=torch.tensor([[1., 0.0], [0.0, 1.]]).to(device)\n",
    "    )\n",
    "pbar = tqdm(total=epoches)\n",
    "total_loss = []\n",
    "with pbar:\n",
    "    for i in range(epoches):\n",
    "        optimizer.zero_grad()\n",
    "        x, logp_diff_t1 = get_batch(512)\n",
    "        z_t, logp_diff_t = odeint(\n",
    "            func,\n",
    "            (x, logp_diff_t1),\n",
    "            torch.tensor([t1, t0]).type(torch.float32).to(device),\n",
    "            atol=1e-5,\n",
    "            rtol=1e-5,\n",
    "            method='dopri5',\n",
    "            adjoint_method='dopri5'\n",
    "        )\n",
    "        z_t0, logp_diff_t0 = z_t[-1], logp_diff_t[-1]\n",
    "        logp_x = p_z0.log_prob(z_t0).to(device) - logp_diff_t0.view(-1)\n",
    "        loss = -logp_x.mean(0)\n",
    "        loss.backward()\n",
    "        optimizer.step()\n",
    "\n",
    "        pbar.update(1)\n",
    "        pbar.set_description(\"Epoch: %i, Loss: %.3f\" % (i, loss.item()))\n",
    "        total_loss.append(loss.item())\n"
   ]
  },
  {
   "cell_type": "code",
   "execution_count": 15,
   "metadata": {},
   "outputs": [],
   "source": [
    "plot_flow(func, num_timestemps=60)\n"
   ]
  },
  {
   "cell_type": "markdown",
   "metadata": {},
   "source": [
    "![alt](cnf_ode.gif)"
   ]
  },
  {
   "cell_type": "markdown",
   "metadata": {},
   "source": [
    "### Непрерывная диффузия\n",
    "\n",
    "Наша цель — построить процесс диффузии $\\{x(t)\\}_{t=0}^T$ с непрерывным временем $t\\in[0, T]$, такой, что $x(0)\\sim p_0$ переходящий в $x(T)\\sim p_T$. Здась $p_0$ — распределение исходных данных, а $p_T$ — априорное распределение (обычно нормальное). Этот процесс диффузии можно представить в виде Itô SDE\n",
    "$$\n",
    "dx = f(x, t)dt + g(t)dw\n",
    "$$\n",
    "где $dw$ — стандартный Винерский процесс (Броуновское движение), $f(\\cdot, t)$ — коэффициент дрейфа функции $x(t)$, $g(t)$ — коэфициент диффузии $x(t)$.\n",
    "\n",
    "Запишем $p_t(x)$ — распределение $x(t)$, а $p_{st}(x(t)| x(s))$ — ядро перехода от $x(s)$ к $x(t)$ при $0\\leq s < t\\leq T$.\n",
    "\n",
    "### Сэмплирование \n",
    "\n",
    "Процесс обратной диффузии также является процессом диффузии, который протекает в обратном времени и задается СДУ вида \n",
    "$$\n",
    "dx = [f(x, t) - g(t)^2 \\nabla_x\\log{p_t(x)}]dt +g(t)d\\bar w\n",
    "$$\n",
    "где $d\\bar w$ — Винерский обратный процесс (от $T$ до $0$), а $dt$ — отрицательное прирощение по времени. Это выражение мы в дальнейшем используем для генерации объектов из распределения $p_0$.\n",
    "\n",
    "### Обучение модели\n",
    "\n",
    "Для обучения будем использовать следующую задачу минимизации\n",
    "$$\n",
    "\\theta^* = \\operatorname*{argmin}_\\theta\\mathbb{E}_t\\{\\lambda(t)\\mathbb{E}_{x(0)}\\mathbb{E}_{x(T)|x(0)}[||s_\\theta(x, t)-\\nabla_{x(t)}\\log{p_{0t}(x(t)|x(0))}||_2^2]\\}\n",
    "$$\n",
    "здесь $\\lambda(t): [0, T]\\to\\mathbb{R}^+$, выбираем его пропорционально $\\lambda(t) \\propto 1/\\mathbb{E}[||\\nabla_{x(t)}\\log{p_{0t}(x(t)|x(0))}||_2^2]$.\n",
    "\n",
    "### DDPM в SDE\n",
    "\n",
    "Как мы помним, DDPM переходы по марковской цепи для диффузии используется \n",
    "$$\n",
    "x_i = \\sqrt{1-\\beta_i}x_{i-1} + \\sqrt{\\beta_i}z_{i-1}\n",
    "$$\n",
    "где $i=1,2,\\dots,N$. При $N\\to\\infty$ получим, что\n",
    "$$\n",
    "dx = -\\dfrac{1}{2}\\beta(t)xdt + \\sqrt{\\beta(t)}dw\n",
    "$$\n",
    "\n",
    "Если $beta(t)$ — линейная функция $\\beta(t) = \\beta(0) + t\\cdot(\\beta(T) - \\beta(0))$. Тогда интеграл\n",
    "$$\n",
    "\\int\\limits_0^t \\beta(s)ds = \\int\\limits_0^t [\\beta(0) + s\\cdot(\\beta(T) - \\beta(0))]ds = \\beta(0)\\cdot t + (\\beta(T) - \\beta(0))\\cdot\\dfrac{t^2}{2}\n",
    "$$\n",
    "Тогда можно записать ядро перехода как\n",
    "$$\n",
    "p_{0t}(x(t)|x(0)) = \\mathcal{N}(x(t); x(0)e^{-1/2\\int_0^t\\beta(s)ds}, I-Ie^{\\int_0^t\\beta(s)ds}) = \\\\\n",
    "= \\mathcal{N}(x(t); x(0)e^{-1/2\\int_0^t\\beta(s)ds}, (1-e^{\\int_0^t\\beta(s)ds})I)\n",
    "$$"
   ]
  },
  {
   "cell_type": "code",
   "execution_count": 2,
   "metadata": {},
   "outputs": [],
   "source": [
    "from torch.utils.data import DataLoader\n",
    "from torchvision.datasets import MNIST\n",
    "from torchvision.transforms import ToTensor, ToPILImage, Lambda, Resize, Compose, Normalize\n",
    "from torchvision.utils import make_grid\n"
   ]
  },
  {
   "cell_type": "code",
   "execution_count": 41,
   "metadata": {},
   "outputs": [],
   "source": [
    "alpha=0.95\n",
    "\n",
    "def dequantize(x, nvals=256):\n",
    "        \"\"\"[0, 1] -> [0, nvals] -> add uniform noise -> [0, 1]\"\"\"\n",
    "        noise = x.new().resize_as_(x).uniform_()\n",
    "        x = x * (nvals - 1) + noise\n",
    "        x = x / nvals\n",
    "        return x\n",
    "\n",
    "transform = Compose([\n",
    "    Resize(16),                 # Уменьшаем размер изображений\n",
    "    ToTensor(),\n",
    "    # Normalize([0.5], [0.5]),  # Map to (-1, 1)\n",
    "    # Lambda(lambda t: 255 * t),  # Приводим распределение обратно к диапазону [0, 255]\n",
    "    dequantize,\n",
    "    Lambda(lambda x: alpha + (1 - 2 * alpha) * x),\n",
    "    Lambda(lambda x: (x / (1 - x)).log()),\n",
    "])\n",
    "\n",
    "mnist = MNIST('../data/', download=True, transform=transform)\n",
    "train, _ = torch.utils.data.random_split(mnist, [10000, 50000])\n",
    "train = DataLoader(train, batch_size=64, shuffle=True, drop_last=True)\n"
   ]
  },
  {
   "cell_type": "code",
   "execution_count": 42,
   "metadata": {},
   "outputs": [],
   "source": [
    "device = torch.device('cuda' if torch.cuda.is_available() else 'cpu')\n",
    "sample = next(iter(train))[0].to(device)\n"
   ]
  },
  {
   "cell_type": "code",
   "execution_count": 43,
   "metadata": {},
   "outputs": [],
   "source": [
    "import torch\n",
    "import torch.nn as nn\n",
    "import torch.nn.functional as F\n",
    "import torchsde\n",
    "\n",
    "batch_size, state_size, brownian_size = 256, 256, 2\n",
    "t_size = 10\n",
    "\n",
    "ts = torch.linspace(0, 1, t_size).to(device)"
   ]
  },
  {
   "cell_type": "code",
   "execution_count": 89,
   "metadata": {},
   "outputs": [],
   "source": [
    "def fill_tail_dims(y: torch.Tensor, y_like: torch.Tensor):\n",
    "        \"\"\"Fill in missing trailing dimensions for y according to y_like.\"\"\"\n",
    "        return y[(...,) + (None,) * (y_like.dim() - y.dim())]\n",
    "\n",
    "class ScoreMatchingSDE(nn.Module):\n",
    "\n",
    "    def __init__(\n",
    "        self,\n",
    "        denoiser: nn.Module,\n",
    "        input_size=(1,16,16),\n",
    "        beta_min=0.1,\n",
    "        beta_max=20,\n",
    "        partitions=1\n",
    "    ):\n",
    "        super().__init__()\n",
    "\n",
    "        self.input_size = input_size\n",
    "        self.denoiser = denoiser\n",
    "\n",
    "        self.beta_min = beta_min\n",
    "        self.beta_max = beta_max\n",
    "        self.partitions = partitions\n",
    "\n",
    "    def score(self, t, y):\n",
    "        if isinstance(t, float):\n",
    "            t = y.new_tensor(t)\n",
    "        if t.dim() == 0:\n",
    "            t = t.repeat(y.shape[0])\n",
    "        return self.denoiser(t, y)\n",
    "\n",
    "    def _beta(self, t):\n",
    "        \"\"\"linear beta(t) = k*t + b\"\"\"\n",
    "        return self.beta_min + t * (self.beta_max - self.beta_min)\n",
    "\n",
    "    def _int_beta(self, t):\n",
    "        \"\"\"integrate betas in-time\"\"\"\n",
    "        return t * self.beta_min + 0.5 * t ** 2 * (self.beta_max - self.beta_min)\n",
    "\n",
    "    def analytical_mean(self, t, x0):\n",
    "        \"\"\"VP SDE mean\"\"\"\n",
    "        return x0 * fill_tail_dims((- 0.5 * self._int_beta(t)).exp(), x0)\n",
    "\n",
    "    def analytical_var(self, t, x0):\n",
    "        \"\"\"VP SDE varience\"\"\"\n",
    "        return fill_tail_dims((1 - 1 / self._int_beta(t).exp()), x0)\n",
    "\n",
    "    @torch.no_grad()\n",
    "    def analytical_score(self, x_t, t, x0):\n",
    "        mean = self.analytical_mean(t, x0)\n",
    "        var = self.analytical_var(t, x0)\n",
    "        return - (x_t - mean) / var.clamp_min(1e-5)\n",
    "\n",
    "    @torch.no_grad()\n",
    "    def analytical_sample(self, t, x0):\n",
    "        mean = self.analytical_mean(t, x0)\n",
    "        var = self.analytical_var(t, x0)\n",
    "        return mean + torch.randn_like(mean) * var.sqrt()\n",
    "\n",
    "    def f(self, t, y):\n",
    "        return -0.5 * self._beta(t) * y\n",
    "\n",
    "    def g(self, t, y):\n",
    "        return (fill_tail_dims(self._beta(t).sqrt(), y).expand_as(y))\n",
    "\n",
    "    def forward(self, t, x0):\n",
    "        lambda_t = self.analytical_var(t, x0).flatten(start_dim=1).mean(dim=1)\n",
    "        x0 = x0.repeat_interleave(self.partitions, dim=0)\n",
    "        x_t = self.analytical_sample(t, x0)\n",
    "\n",
    "        fake_score = self.score(t, x_t)\n",
    "        true_score = self.analytical_score(x_t, t, x0)\n",
    "        loss = (lambda_t * ((fake_score - true_score) ** 2).flatten(start_dim=1).sum(dim=1))\n",
    "        return loss"
   ]
  },
  {
   "cell_type": "code",
   "execution_count": 90,
   "metadata": {},
   "outputs": [],
   "source": [
    "def postprocess(x, alpha=0.95, clamp=True):\n",
    "    x = (x.sigmoid() - alpha) / (1 - 2 * alpha)\n",
    "    return x.clamp(min=0., max=1.) if clamp else x"
   ]
  },
  {
   "cell_type": "code",
   "execution_count": 91,
   "metadata": {},
   "outputs": [],
   "source": [
    "def sample_time(x0, t0, t1, partitions=1):\n",
    "    u = torch.rand(size=(x0.shape[0], partitions), dtype=x0.dtype, device=x0.device)\n",
    "    u.mul_((t1 - t0) / partitions)\n",
    "    shifts = torch.arange(0, partitions, device=x0.device, dtype=x0.dtype)[None, :]\n",
    "    shifts.mul_((t1 - t0) / partitions).add_(t0)\n",
    "    t = (u + shifts).reshape(-1)\n",
    "    return t"
   ]
  },
  {
   "cell_type": "code",
   "execution_count": 98,
   "metadata": {},
   "outputs": [
    {
     "name": "stderr",
     "output_type": "stream",
     "text": [
      " 17%|█▋        | 27/156 [00:58<04:39,  2.17s/it]:27<?, ?it/s] \n"
     ]
    },
    {
     "ename": "KeyboardInterrupt",
     "evalue": "",
     "output_type": "error",
     "traceback": [
      "\u001b[0;31m---------------------------------------------------------------------------\u001b[0m",
      "\u001b[0;31mKeyboardInterrupt\u001b[0m                         Traceback (most recent call last)",
      "\u001b[0;32m/tmp/ipykernel_59726/828220579.py\u001b[0m in \u001b[0;36m<module>\u001b[0;34m\u001b[0m\n\u001b[1;32m     27\u001b[0m         \u001b[0moptimizer\u001b[0m\u001b[0;34m.\u001b[0m\u001b[0mzero_grad\u001b[0m\u001b[0;34m(\u001b[0m\u001b[0;34m)\u001b[0m\u001b[0;34m\u001b[0m\u001b[0;34m\u001b[0m\u001b[0m\n\u001b[1;32m     28\u001b[0m         \u001b[0mtime\u001b[0m \u001b[0;34m=\u001b[0m \u001b[0msample_time\u001b[0m\u001b[0;34m(\u001b[0m\u001b[0msample\u001b[0m\u001b[0;34m,\u001b[0m \u001b[0mt0\u001b[0m\u001b[0;34m,\u001b[0m \u001b[0mt1\u001b[0m\u001b[0;34m)\u001b[0m\u001b[0;34m\u001b[0m\u001b[0;34m\u001b[0m\u001b[0m\n\u001b[0;32m---> 29\u001b[0;31m         \u001b[0mloss\u001b[0m \u001b[0;34m=\u001b[0m \u001b[0msde_ddpm\u001b[0m\u001b[0;34m(\u001b[0m\u001b[0mtime\u001b[0m\u001b[0;34m,\u001b[0m \u001b[0msample\u001b[0m\u001b[0;34m)\u001b[0m\u001b[0;34m.\u001b[0m\u001b[0mmean\u001b[0m\u001b[0;34m(\u001b[0m\u001b[0mdim\u001b[0m\u001b[0;34m=\u001b[0m\u001b[0;36m0\u001b[0m\u001b[0;34m)\u001b[0m\u001b[0;34m\u001b[0m\u001b[0;34m\u001b[0m\u001b[0m\n\u001b[0m\u001b[1;32m     30\u001b[0m         \u001b[0mloss\u001b[0m\u001b[0;34m.\u001b[0m\u001b[0mbackward\u001b[0m\u001b[0;34m(\u001b[0m\u001b[0;34m)\u001b[0m\u001b[0;34m\u001b[0m\u001b[0;34m\u001b[0m\u001b[0m\n\u001b[1;32m     31\u001b[0m         \u001b[0moptimizer\u001b[0m\u001b[0;34m.\u001b[0m\u001b[0mstep\u001b[0m\u001b[0;34m(\u001b[0m\u001b[0;34m)\u001b[0m\u001b[0;34m\u001b[0m\u001b[0;34m\u001b[0m\u001b[0m\n",
      "\u001b[0;32m~/.local/lib/python3.7/site-packages/torch/nn/modules/module.py\u001b[0m in \u001b[0;36m_call_impl\u001b[0;34m(self, *input, **kwargs)\u001b[0m\n\u001b[1;32m   1192\u001b[0m         if not (self._backward_hooks or self._forward_hooks or self._forward_pre_hooks or _global_backward_hooks\n\u001b[1;32m   1193\u001b[0m                 or _global_forward_hooks or _global_forward_pre_hooks):\n\u001b[0;32m-> 1194\u001b[0;31m             \u001b[0;32mreturn\u001b[0m \u001b[0mforward_call\u001b[0m\u001b[0;34m(\u001b[0m\u001b[0;34m*\u001b[0m\u001b[0minput\u001b[0m\u001b[0;34m,\u001b[0m \u001b[0;34m**\u001b[0m\u001b[0mkwargs\u001b[0m\u001b[0;34m)\u001b[0m\u001b[0;34m\u001b[0m\u001b[0;34m\u001b[0m\u001b[0m\n\u001b[0m\u001b[1;32m   1195\u001b[0m         \u001b[0;31m# Do not call functions when jit is used\u001b[0m\u001b[0;34m\u001b[0m\u001b[0;34m\u001b[0m\u001b[0;34m\u001b[0m\u001b[0m\n\u001b[1;32m   1196\u001b[0m         \u001b[0mfull_backward_hooks\u001b[0m\u001b[0;34m,\u001b[0m \u001b[0mnon_full_backward_hooks\u001b[0m \u001b[0;34m=\u001b[0m \u001b[0;34m[\u001b[0m\u001b[0;34m]\u001b[0m\u001b[0;34m,\u001b[0m \u001b[0;34m[\u001b[0m\u001b[0;34m]\u001b[0m\u001b[0;34m\u001b[0m\u001b[0;34m\u001b[0m\u001b[0m\n",
      "\u001b[0;32m/tmp/ipykernel_59726/3100367288.py\u001b[0m in \u001b[0;36mforward\u001b[0;34m(self, t, x0)\u001b[0m\n\u001b[1;32m     68\u001b[0m         \u001b[0mx_t\u001b[0m \u001b[0;34m=\u001b[0m \u001b[0mself\u001b[0m\u001b[0;34m.\u001b[0m\u001b[0manalytical_sample\u001b[0m\u001b[0;34m(\u001b[0m\u001b[0mt\u001b[0m\u001b[0;34m,\u001b[0m \u001b[0mx0\u001b[0m\u001b[0;34m)\u001b[0m\u001b[0;34m\u001b[0m\u001b[0;34m\u001b[0m\u001b[0m\n\u001b[1;32m     69\u001b[0m \u001b[0;34m\u001b[0m\u001b[0m\n\u001b[0;32m---> 70\u001b[0;31m         \u001b[0mfake_score\u001b[0m \u001b[0;34m=\u001b[0m \u001b[0mself\u001b[0m\u001b[0;34m.\u001b[0m\u001b[0mscore\u001b[0m\u001b[0;34m(\u001b[0m\u001b[0mt\u001b[0m\u001b[0;34m,\u001b[0m \u001b[0mx_t\u001b[0m\u001b[0;34m)\u001b[0m\u001b[0;34m\u001b[0m\u001b[0;34m\u001b[0m\u001b[0m\n\u001b[0m\u001b[1;32m     71\u001b[0m         \u001b[0mtrue_score\u001b[0m \u001b[0;34m=\u001b[0m \u001b[0mself\u001b[0m\u001b[0;34m.\u001b[0m\u001b[0manalytical_score\u001b[0m\u001b[0;34m(\u001b[0m\u001b[0mx_t\u001b[0m\u001b[0;34m,\u001b[0m \u001b[0mt\u001b[0m\u001b[0;34m,\u001b[0m \u001b[0mx0\u001b[0m\u001b[0;34m)\u001b[0m\u001b[0;34m\u001b[0m\u001b[0;34m\u001b[0m\u001b[0m\n\u001b[1;32m     72\u001b[0m         \u001b[0mloss\u001b[0m \u001b[0;34m=\u001b[0m \u001b[0;34m(\u001b[0m\u001b[0mlambda_t\u001b[0m \u001b[0;34m*\u001b[0m \u001b[0;34m(\u001b[0m\u001b[0;34m(\u001b[0m\u001b[0mfake_score\u001b[0m \u001b[0;34m-\u001b[0m \u001b[0mtrue_score\u001b[0m\u001b[0;34m)\u001b[0m \u001b[0;34m**\u001b[0m \u001b[0;36m2\u001b[0m\u001b[0;34m)\u001b[0m\u001b[0;34m.\u001b[0m\u001b[0mflatten\u001b[0m\u001b[0;34m(\u001b[0m\u001b[0mstart_dim\u001b[0m\u001b[0;34m=\u001b[0m\u001b[0;36m1\u001b[0m\u001b[0;34m)\u001b[0m\u001b[0;34m.\u001b[0m\u001b[0msum\u001b[0m\u001b[0;34m(\u001b[0m\u001b[0mdim\u001b[0m\u001b[0;34m=\u001b[0m\u001b[0;36m1\u001b[0m\u001b[0;34m)\u001b[0m\u001b[0;34m)\u001b[0m\u001b[0;34m\u001b[0m\u001b[0;34m\u001b[0m\u001b[0m\n",
      "\u001b[0;32m/tmp/ipykernel_59726/3100367288.py\u001b[0m in \u001b[0;36mscore\u001b[0;34m(self, t, y)\u001b[0m\n\u001b[1;32m     27\u001b[0m         \u001b[0;32mif\u001b[0m \u001b[0mt\u001b[0m\u001b[0;34m.\u001b[0m\u001b[0mdim\u001b[0m\u001b[0;34m(\u001b[0m\u001b[0;34m)\u001b[0m \u001b[0;34m==\u001b[0m \u001b[0;36m0\u001b[0m\u001b[0;34m:\u001b[0m\u001b[0;34m\u001b[0m\u001b[0;34m\u001b[0m\u001b[0m\n\u001b[1;32m     28\u001b[0m             \u001b[0mt\u001b[0m \u001b[0;34m=\u001b[0m \u001b[0mt\u001b[0m\u001b[0;34m.\u001b[0m\u001b[0mrepeat\u001b[0m\u001b[0;34m(\u001b[0m\u001b[0my\u001b[0m\u001b[0;34m.\u001b[0m\u001b[0mshape\u001b[0m\u001b[0;34m[\u001b[0m\u001b[0;36m0\u001b[0m\u001b[0;34m]\u001b[0m\u001b[0;34m)\u001b[0m\u001b[0;34m\u001b[0m\u001b[0;34m\u001b[0m\u001b[0m\n\u001b[0;32m---> 29\u001b[0;31m         \u001b[0;32mreturn\u001b[0m \u001b[0mself\u001b[0m\u001b[0;34m.\u001b[0m\u001b[0mdenoiser\u001b[0m\u001b[0;34m(\u001b[0m\u001b[0mt\u001b[0m\u001b[0;34m,\u001b[0m \u001b[0my\u001b[0m\u001b[0;34m)\u001b[0m\u001b[0;34m\u001b[0m\u001b[0;34m\u001b[0m\u001b[0m\n\u001b[0m\u001b[1;32m     30\u001b[0m \u001b[0;34m\u001b[0m\u001b[0m\n\u001b[1;32m     31\u001b[0m     \u001b[0;32mdef\u001b[0m \u001b[0m_beta\u001b[0m\u001b[0;34m(\u001b[0m\u001b[0mself\u001b[0m\u001b[0;34m,\u001b[0m \u001b[0mt\u001b[0m\u001b[0;34m)\u001b[0m\u001b[0;34m:\u001b[0m\u001b[0;34m\u001b[0m\u001b[0;34m\u001b[0m\u001b[0m\n",
      "\u001b[0;32m~/.local/lib/python3.7/site-packages/torch/nn/modules/module.py\u001b[0m in \u001b[0;36m_call_impl\u001b[0;34m(self, *input, **kwargs)\u001b[0m\n\u001b[1;32m   1192\u001b[0m         if not (self._backward_hooks or self._forward_hooks or self._forward_pre_hooks or _global_backward_hooks\n\u001b[1;32m   1193\u001b[0m                 or _global_forward_hooks or _global_forward_pre_hooks):\n\u001b[0;32m-> 1194\u001b[0;31m             \u001b[0;32mreturn\u001b[0m \u001b[0mforward_call\u001b[0m\u001b[0;34m(\u001b[0m\u001b[0;34m*\u001b[0m\u001b[0minput\u001b[0m\u001b[0;34m,\u001b[0m \u001b[0;34m**\u001b[0m\u001b[0mkwargs\u001b[0m\u001b[0;34m)\u001b[0m\u001b[0;34m\u001b[0m\u001b[0;34m\u001b[0m\u001b[0m\n\u001b[0m\u001b[1;32m   1195\u001b[0m         \u001b[0;31m# Do not call functions when jit is used\u001b[0m\u001b[0;34m\u001b[0m\u001b[0;34m\u001b[0m\u001b[0;34m\u001b[0m\u001b[0m\n\u001b[1;32m   1196\u001b[0m         \u001b[0mfull_backward_hooks\u001b[0m\u001b[0;34m,\u001b[0m \u001b[0mnon_full_backward_hooks\u001b[0m \u001b[0;34m=\u001b[0m \u001b[0;34m[\u001b[0m\u001b[0;34m]\u001b[0m\u001b[0;34m,\u001b[0m \u001b[0;34m[\u001b[0m\u001b[0;34m]\u001b[0m\u001b[0;34m\u001b[0m\u001b[0;34m\u001b[0m\u001b[0m\n",
      "\u001b[0;32m/app/unit3/unet.py\u001b[0m in \u001b[0;36mforward\u001b[0;34m(self, t, x)\u001b[0m\n\u001b[1;32m    333\u001b[0m         \u001b[0mh\u001b[0m \u001b[0;34m=\u001b[0m \u001b[0mself\u001b[0m\u001b[0;34m.\u001b[0m\u001b[0mmid_block1\u001b[0m\u001b[0;34m(\u001b[0m\u001b[0mh\u001b[0m\u001b[0;34m,\u001b[0m \u001b[0mt\u001b[0m\u001b[0;34m)\u001b[0m\u001b[0;34m\u001b[0m\u001b[0;34m\u001b[0m\u001b[0m\n\u001b[1;32m    334\u001b[0m         \u001b[0mh\u001b[0m \u001b[0;34m=\u001b[0m \u001b[0mself\u001b[0m\u001b[0;34m.\u001b[0m\u001b[0mmid_attn\u001b[0m\u001b[0;34m(\u001b[0m\u001b[0mh\u001b[0m\u001b[0;34m)\u001b[0m\u001b[0;34m\u001b[0m\u001b[0;34m\u001b[0m\u001b[0m\n\u001b[0;32m--> 335\u001b[0;31m         \u001b[0mh\u001b[0m \u001b[0;34m=\u001b[0m \u001b[0mself\u001b[0m\u001b[0;34m.\u001b[0m\u001b[0mmid_block2\u001b[0m\u001b[0;34m(\u001b[0m\u001b[0mh\u001b[0m\u001b[0;34m,\u001b[0m \u001b[0mt\u001b[0m\u001b[0;34m)\u001b[0m\u001b[0;34m\u001b[0m\u001b[0;34m\u001b[0m\u001b[0m\n\u001b[0m\u001b[1;32m    336\u001b[0m \u001b[0;34m\u001b[0m\u001b[0m\n\u001b[1;32m    337\u001b[0m         for i, (res_blocks, attn_blocks, spatial_blocks) in enumerate(\n",
      "\u001b[0;32m~/.local/lib/python3.7/site-packages/torch/nn/modules/module.py\u001b[0m in \u001b[0;36m_call_impl\u001b[0;34m(self, *input, **kwargs)\u001b[0m\n\u001b[1;32m   1192\u001b[0m         if not (self._backward_hooks or self._forward_hooks or self._forward_pre_hooks or _global_backward_hooks\n\u001b[1;32m   1193\u001b[0m                 or _global_forward_hooks or _global_forward_pre_hooks):\n\u001b[0;32m-> 1194\u001b[0;31m             \u001b[0;32mreturn\u001b[0m \u001b[0mforward_call\u001b[0m\u001b[0;34m(\u001b[0m\u001b[0;34m*\u001b[0m\u001b[0minput\u001b[0m\u001b[0;34m,\u001b[0m \u001b[0;34m**\u001b[0m\u001b[0mkwargs\u001b[0m\u001b[0;34m)\u001b[0m\u001b[0;34m\u001b[0m\u001b[0;34m\u001b[0m\u001b[0m\n\u001b[0m\u001b[1;32m   1195\u001b[0m         \u001b[0;31m# Do not call functions when jit is used\u001b[0m\u001b[0;34m\u001b[0m\u001b[0;34m\u001b[0m\u001b[0;34m\u001b[0m\u001b[0m\n\u001b[1;32m   1196\u001b[0m         \u001b[0mfull_backward_hooks\u001b[0m\u001b[0;34m,\u001b[0m \u001b[0mnon_full_backward_hooks\u001b[0m \u001b[0;34m=\u001b[0m \u001b[0;34m[\u001b[0m\u001b[0;34m]\u001b[0m\u001b[0;34m,\u001b[0m \u001b[0;34m[\u001b[0m\u001b[0;34m]\u001b[0m\u001b[0;34m\u001b[0m\u001b[0;34m\u001b[0m\u001b[0m\n",
      "\u001b[0;32m/app/unit3/unet.py\u001b[0m in \u001b[0;36mforward\u001b[0;34m(self, x, t)\u001b[0m\n\u001b[1;32m    123\u001b[0m         \u001b[0mh\u001b[0m \u001b[0;34m=\u001b[0m \u001b[0mself\u001b[0m\u001b[0;34m.\u001b[0m\u001b[0mblock1\u001b[0m\u001b[0;34m(\u001b[0m\u001b[0mx\u001b[0m\u001b[0;34m)\u001b[0m\u001b[0;34m\u001b[0m\u001b[0;34m\u001b[0m\u001b[0m\n\u001b[1;32m    124\u001b[0m         \u001b[0mh\u001b[0m \u001b[0;34m+=\u001b[0m \u001b[0mself\u001b[0m\u001b[0;34m.\u001b[0m\u001b[0mmlp\u001b[0m\u001b[0;34m(\u001b[0m\u001b[0mt\u001b[0m\u001b[0;34m)\u001b[0m\u001b[0;34m[\u001b[0m\u001b[0;34m...\u001b[0m\u001b[0;34m,\u001b[0m \u001b[0;32mNone\u001b[0m\u001b[0;34m,\u001b[0m \u001b[0;32mNone\u001b[0m\u001b[0;34m]\u001b[0m\u001b[0;34m\u001b[0m\u001b[0;34m\u001b[0m\u001b[0m\n\u001b[0;32m--> 125\u001b[0;31m         \u001b[0mh\u001b[0m \u001b[0;34m=\u001b[0m \u001b[0mself\u001b[0m\u001b[0;34m.\u001b[0m\u001b[0mblock2\u001b[0m\u001b[0;34m(\u001b[0m\u001b[0mh\u001b[0m\u001b[0;34m)\u001b[0m\u001b[0;34m\u001b[0m\u001b[0;34m\u001b[0m\u001b[0m\n\u001b[0m\u001b[1;32m    126\u001b[0m         \u001b[0;32mreturn\u001b[0m \u001b[0mh\u001b[0m \u001b[0;34m+\u001b[0m \u001b[0mself\u001b[0m\u001b[0;34m.\u001b[0m\u001b[0mres_conv\u001b[0m\u001b[0;34m(\u001b[0m\u001b[0mx\u001b[0m\u001b[0;34m)\u001b[0m\u001b[0;34m\u001b[0m\u001b[0;34m\u001b[0m\u001b[0m\n\u001b[1;32m    127\u001b[0m \u001b[0;34m\u001b[0m\u001b[0m\n",
      "\u001b[0;32m~/.local/lib/python3.7/site-packages/torch/nn/modules/module.py\u001b[0m in \u001b[0;36m_call_impl\u001b[0;34m(self, *input, **kwargs)\u001b[0m\n\u001b[1;32m   1192\u001b[0m         if not (self._backward_hooks or self._forward_hooks or self._forward_pre_hooks or _global_backward_hooks\n\u001b[1;32m   1193\u001b[0m                 or _global_forward_hooks or _global_forward_pre_hooks):\n\u001b[0;32m-> 1194\u001b[0;31m             \u001b[0;32mreturn\u001b[0m \u001b[0mforward_call\u001b[0m\u001b[0;34m(\u001b[0m\u001b[0;34m*\u001b[0m\u001b[0minput\u001b[0m\u001b[0;34m,\u001b[0m \u001b[0;34m**\u001b[0m\u001b[0mkwargs\u001b[0m\u001b[0;34m)\u001b[0m\u001b[0;34m\u001b[0m\u001b[0;34m\u001b[0m\u001b[0m\n\u001b[0m\u001b[1;32m   1195\u001b[0m         \u001b[0;31m# Do not call functions when jit is used\u001b[0m\u001b[0;34m\u001b[0m\u001b[0;34m\u001b[0m\u001b[0;34m\u001b[0m\u001b[0m\n\u001b[1;32m   1196\u001b[0m         \u001b[0mfull_backward_hooks\u001b[0m\u001b[0;34m,\u001b[0m \u001b[0mnon_full_backward_hooks\u001b[0m \u001b[0;34m=\u001b[0m \u001b[0;34m[\u001b[0m\u001b[0;34m]\u001b[0m\u001b[0;34m,\u001b[0m \u001b[0;34m[\u001b[0m\u001b[0;34m]\u001b[0m\u001b[0;34m\u001b[0m\u001b[0;34m\u001b[0m\u001b[0m\n",
      "\u001b[0;32m~/.local/lib/python3.7/site-packages/torch/nn/modules/container.py\u001b[0m in \u001b[0;36mforward\u001b[0;34m(self, input)\u001b[0m\n\u001b[1;32m    202\u001b[0m     \u001b[0;32mdef\u001b[0m \u001b[0mforward\u001b[0m\u001b[0;34m(\u001b[0m\u001b[0mself\u001b[0m\u001b[0;34m,\u001b[0m \u001b[0minput\u001b[0m\u001b[0;34m)\u001b[0m\u001b[0;34m:\u001b[0m\u001b[0;34m\u001b[0m\u001b[0;34m\u001b[0m\u001b[0m\n\u001b[1;32m    203\u001b[0m         \u001b[0;32mfor\u001b[0m \u001b[0mmodule\u001b[0m \u001b[0;32min\u001b[0m \u001b[0mself\u001b[0m\u001b[0;34m:\u001b[0m\u001b[0;34m\u001b[0m\u001b[0;34m\u001b[0m\u001b[0m\n\u001b[0;32m--> 204\u001b[0;31m             \u001b[0minput\u001b[0m \u001b[0;34m=\u001b[0m \u001b[0mmodule\u001b[0m\u001b[0;34m(\u001b[0m\u001b[0minput\u001b[0m\u001b[0;34m)\u001b[0m\u001b[0;34m\u001b[0m\u001b[0;34m\u001b[0m\u001b[0m\n\u001b[0m\u001b[1;32m    205\u001b[0m         \u001b[0;32mreturn\u001b[0m \u001b[0minput\u001b[0m\u001b[0;34m\u001b[0m\u001b[0;34m\u001b[0m\u001b[0m\n\u001b[1;32m    206\u001b[0m \u001b[0;34m\u001b[0m\u001b[0m\n",
      "\u001b[0;32m~/.local/lib/python3.7/site-packages/torch/nn/modules/module.py\u001b[0m in \u001b[0;36m_call_impl\u001b[0;34m(self, *input, **kwargs)\u001b[0m\n\u001b[1;32m   1192\u001b[0m         if not (self._backward_hooks or self._forward_hooks or self._forward_pre_hooks or _global_backward_hooks\n\u001b[1;32m   1193\u001b[0m                 or _global_forward_hooks or _global_forward_pre_hooks):\n\u001b[0;32m-> 1194\u001b[0;31m             \u001b[0;32mreturn\u001b[0m \u001b[0mforward_call\u001b[0m\u001b[0;34m(\u001b[0m\u001b[0;34m*\u001b[0m\u001b[0minput\u001b[0m\u001b[0;34m,\u001b[0m \u001b[0;34m**\u001b[0m\u001b[0mkwargs\u001b[0m\u001b[0;34m)\u001b[0m\u001b[0;34m\u001b[0m\u001b[0;34m\u001b[0m\u001b[0m\n\u001b[0m\u001b[1;32m   1195\u001b[0m         \u001b[0;31m# Do not call functions when jit is used\u001b[0m\u001b[0;34m\u001b[0m\u001b[0;34m\u001b[0m\u001b[0;34m\u001b[0m\u001b[0m\n\u001b[1;32m   1196\u001b[0m         \u001b[0mfull_backward_hooks\u001b[0m\u001b[0;34m,\u001b[0m \u001b[0mnon_full_backward_hooks\u001b[0m \u001b[0;34m=\u001b[0m \u001b[0;34m[\u001b[0m\u001b[0;34m]\u001b[0m\u001b[0;34m,\u001b[0m \u001b[0;34m[\u001b[0m\u001b[0;34m]\u001b[0m\u001b[0;34m\u001b[0m\u001b[0;34m\u001b[0m\u001b[0m\n",
      "\u001b[0;32m~/.local/lib/python3.7/site-packages/torch/nn/modules/conv.py\u001b[0m in \u001b[0;36mforward\u001b[0;34m(self, input)\u001b[0m\n\u001b[1;32m    461\u001b[0m \u001b[0;34m\u001b[0m\u001b[0m\n\u001b[1;32m    462\u001b[0m     \u001b[0;32mdef\u001b[0m \u001b[0mforward\u001b[0m\u001b[0;34m(\u001b[0m\u001b[0mself\u001b[0m\u001b[0;34m,\u001b[0m \u001b[0minput\u001b[0m\u001b[0;34m:\u001b[0m \u001b[0mTensor\u001b[0m\u001b[0;34m)\u001b[0m \u001b[0;34m->\u001b[0m \u001b[0mTensor\u001b[0m\u001b[0;34m:\u001b[0m\u001b[0;34m\u001b[0m\u001b[0;34m\u001b[0m\u001b[0m\n\u001b[0;32m--> 463\u001b[0;31m         \u001b[0;32mreturn\u001b[0m \u001b[0mself\u001b[0m\u001b[0;34m.\u001b[0m\u001b[0m_conv_forward\u001b[0m\u001b[0;34m(\u001b[0m\u001b[0minput\u001b[0m\u001b[0;34m,\u001b[0m \u001b[0mself\u001b[0m\u001b[0;34m.\u001b[0m\u001b[0mweight\u001b[0m\u001b[0;34m,\u001b[0m \u001b[0mself\u001b[0m\u001b[0;34m.\u001b[0m\u001b[0mbias\u001b[0m\u001b[0;34m)\u001b[0m\u001b[0;34m\u001b[0m\u001b[0;34m\u001b[0m\u001b[0m\n\u001b[0m\u001b[1;32m    464\u001b[0m \u001b[0;34m\u001b[0m\u001b[0m\n\u001b[1;32m    465\u001b[0m \u001b[0;32mclass\u001b[0m \u001b[0mConv3d\u001b[0m\u001b[0;34m(\u001b[0m\u001b[0m_ConvNd\u001b[0m\u001b[0;34m)\u001b[0m\u001b[0;34m:\u001b[0m\u001b[0;34m\u001b[0m\u001b[0;34m\u001b[0m\u001b[0m\n",
      "\u001b[0;32m~/.local/lib/python3.7/site-packages/torch/nn/modules/conv.py\u001b[0m in \u001b[0;36m_conv_forward\u001b[0;34m(self, input, weight, bias)\u001b[0m\n\u001b[1;32m    458\u001b[0m                             _pair(0), self.dilation, self.groups)\n\u001b[1;32m    459\u001b[0m         return F.conv2d(input, weight, bias, self.stride,\n\u001b[0;32m--> 460\u001b[0;31m                         self.padding, self.dilation, self.groups)\n\u001b[0m\u001b[1;32m    461\u001b[0m \u001b[0;34m\u001b[0m\u001b[0m\n\u001b[1;32m    462\u001b[0m     \u001b[0;32mdef\u001b[0m \u001b[0mforward\u001b[0m\u001b[0;34m(\u001b[0m\u001b[0mself\u001b[0m\u001b[0;34m,\u001b[0m \u001b[0minput\u001b[0m\u001b[0;34m:\u001b[0m \u001b[0mTensor\u001b[0m\u001b[0;34m)\u001b[0m \u001b[0;34m->\u001b[0m \u001b[0mTensor\u001b[0m\u001b[0;34m:\u001b[0m\u001b[0;34m\u001b[0m\u001b[0;34m\u001b[0m\u001b[0m\n",
      "\u001b[0;31mKeyboardInterrupt\u001b[0m: "
     ]
    }
   ],
   "source": [
    "from tqdm import tqdm\n",
    "from unet import Unet, LinearTimeSelfAttention\n",
    "\n",
    "random.seed(0);\n",
    "np.random.seed(0);\n",
    "torch.manual_seed(0);\n",
    "torch.cuda.manual_seed(0);\n",
    "torch.cuda.manual_seed_all(0);\n",
    "\n",
    "device = torch.device('cuda' if torch.cuda.is_available() else 'cpu')\n",
    "\n",
    "epoches = 5\n",
    "t0, t1 = 0, 1\n",
    "denoiser = Unet(\n",
    "    input_size=(1, 16, 16),\n",
    "    dim_mults=(1, 2, 4,),\n",
    "    attention_cls=LinearTimeSelfAttention,\n",
    ")\n",
    "sde_ddpm = ScoreMatchingSDE(denoiser)\n",
    "optimizer = torch.optim.Adam(sde_ddpm.parameters(), lr=1e-3)\n",
    "# pbar = tqdm(total=epoches)\n",
    "total_loss = []\n",
    "# with pbar:\n",
    "for i in range(epoches):\n",
    "    epoch_loss = []\n",
    "    for sample, _ in tqdm(train):\n",
    "        optimizer.zero_grad()\n",
    "        time = sample_time(sample, t0, t1)\n",
    "        loss = sde_ddpm(time, sample).mean(dim=0)\n",
    "        loss.backward()\n",
    "        optimizer.step()\n",
    "        epoch_loss.append(loss.item())\n",
    "\n",
    "        pbar.set_description(\"Epoch: %i, Loss: %.3f\" % (i, epoch_loss[-1]))\n",
    "    # pbar.update(1)\n",
    "    total_loss.append(np.mean(epoch_loss))\n"
   ]
  },
  {
   "cell_type": "code",
   "execution_count": null,
   "metadata": {},
   "outputs": [],
   "source": []
  },
  {
   "cell_type": "code",
   "execution_count": 59,
   "metadata": {},
   "outputs": [
    {
     "data": {
      "image/png": "[encoded data removed]",
      "text/plain": [
       "<Figure size 640x480 with 1 Axes>"
      ]
     },
     "metadata": {},
     "output_type": "display_data"
    },
    {
     "data": {
      "image/png": "[encoded data removed]",
      "text/plain": [
       "<Figure size 640x480 with 1 Axes>"
      ]
     },
     "metadata": {},
     "output_type": "display_data"
    },
    {
     "data": {
      "image/png": "[encoded data removed]",
      "text/plain": [
       "<Figure size 640x480 with 1 Axes>"
      ]
     },
     "metadata": {},
     "output_type": "display_data"
    },
    {
     "data": {
      "image/png": "[encoded data removed]",
      "text/plain": [
       "<Figure size 640x480 with 1 Axes>"
      ]
     },
     "metadata": {},
     "output_type": "display_data"
    }
   ],
   "source": [
    "\n",
    "sde_diff = ScoreMatchingSDE(denoiser)\n",
    "\n",
    "noised = [postprocess(sde_diff.analytical_sample(ts[i].cpu(), sample.cpu()[0])) for i in range(10)]\n",
    "plt.imshow(ToPILImage()(make_grid(noised, nrow=10, normalize=True)))\n",
    "plt.show()\n",
    "\n",
    "denoised = [postprocess(sde_diff.analytical_score(noised[0], ts[i].cpu(), sample.cpu()[0])) for i in range(10)]\n",
    "plt.imshow(ToPILImage()(make_grid(denoised, nrow=10, normalize=True)))\n",
    "plt.show()\n",
    "\n",
    "\n",
    "noised = [(sde_diff.f(ts[i].cpu(), sample.cpu()[0])) for i in range(10)]\n",
    "plt.imshow(ToPILImage()(make_grid(noised, nrow=10, normalize=True)))\n",
    "plt.show()\n",
    "\n",
    "denoised = [(sde_diff.g(ts[i].cpu(), sample.cpu()[0])) for i in range(10)]\n",
    "plt.imshow(ToPILImage()(make_grid(denoised, nrow=10, normalize=True)))\n",
    "plt.show()"
   ]
  },
  {
   "cell_type": "code",
   "execution_count": 62,
   "metadata": {},
   "outputs": [
    {
     "data": {
      "text/plain": [
       "tensor([288.9498, 255.1563, 287.7413, 274.7783, 272.0470, 270.7300, 249.7079,\n",
       "        244.0576, 280.0407, 255.9550, 230.9274, 259.0180, 271.0232, 259.4678,\n",
       "        247.2188, 245.6138, 239.2370, 279.3791, 255.5644, 281.6728, 248.8304,\n",
       "        256.4174, 241.0885, 275.1063, 236.4643, 202.9608, 290.9052, 252.8931,\n",
       "        233.2843, 269.0977, 259.7978, 255.4887, 211.1488, 236.1050, 270.5071,\n",
       "        235.1281, 244.2093, 248.7650, 263.7664, 268.4968, 245.0475, 227.4651,\n",
       "        274.3809, 275.1512, 208.2409, 277.4374, 212.9665, 211.5093, 254.0091,\n",
       "        255.0731, 271.4694, 232.7199, 244.3855, 328.3353, 255.4287, 219.4309,\n",
       "        252.7814, 253.9956, 260.8272, 228.6771, 269.3477, 265.5832, 225.0860,\n",
       "        259.7653], grad_fn=<MulBackward0>)"
      ]
     },
     "execution_count": 62,
     "metadata": {},
     "output_type": "execute_result"
    }
   ],
   "source": [
    "sde_diff(ts[1].cpu(), sample.cpu())"
   ]
  },
  {
   "cell_type": "code",
   "execution_count": null,
   "metadata": {},
   "outputs": [],
   "source": []
  },
  {
   "cell_type": "code",
   "execution_count": null,
   "metadata": {},
   "outputs": [],
   "source": []
  },
  {
   "cell_type": "code",
   "execution_count": null,
   "metadata": {},
   "outputs": [],
   "source": []
  },
  {
   "cell_type": "code",
   "execution_count": null,
   "metadata": {},
   "outputs": [],
   "source": []
  },
  {
   "cell_type": "code",
   "execution_count": null,
   "metadata": {},
   "outputs": [],
   "source": []
  }
 ],
 "metadata": {
  "kernelspec": {
   "display_name": "base",
   "language": "python",
   "name": "python3"
  },
  "language_info": {
   "codemirror_mode": {
    "name": "ipython",
    "version": 3
   },
   "file_extension": ".py",
   "mimetype": "text/x-python",
   "name": "python",
   "nbconvert_exporter": "python",
   "pygments_lexer": "ipython3",
   "version": "3.7.10"
  }
 },
 "nbformat": 4,
 "nbformat_minor": 2
}
