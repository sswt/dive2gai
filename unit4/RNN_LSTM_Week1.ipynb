{
  "cells": [
    {
      "cell_type": "markdown",
      "metadata": {
        "id": "jehHtiUJuDv1"
      },
      "source": [
        "# Рекуррентные сети\n",
        "\n",
        "Цели:\n",
        "\n",
        "- Реализация RNN from scratch\n",
        "- Реализация LSTM from scratch\n",
        "- Сеть на основе LSTM-ячейки из pytorch\n",
        "\n",
        "Содержание:\n",
        "\n",
        "* [Введение](#intro)\n",
        "* [Загрузка данных](#load_data)\n",
        "* [Введение в рекуррентные сети](#rnn_intro)\n",
        "  * [Цикл обучения RNN](#rnn_train_loop)\n",
        "  * [Недостатки \"ванильных\" RNN](#vanilla_rnn)\n",
        "* [Рекуррентные сети с памятью](#lstm)\n",
        "  * [Цикл обучения LSTM](#lstm_train_loop)\n",
        "* [Pytorch LSTM Cell](#pytorch_lstm)\n",
        "  * [Цикл обучения](#lstm2_train_loop)\n",
        "\n",
        "\n",
        "Ссылки:\n",
        "\n",
        "* [Pytorch RNN char generation tutorial](https://pytorch.org/tutorials/intermediate/char_rnn_generation_tutorial.html)\n",
        "* [Understanding LSTM Networks, C. Olah blog](http://colah.github.io/posts/2015-08-Understanding-LSTMs/) и её [перевод](https://habr.com/ru/companies/wunderfund/articles/331310/)\n",
        "* [Долгая краткосрочная память (вики ИТМО)](https://neerc.ifmo.ru/wiki/index.php?title=%D0%94%D0%BE%D0%BB%D0%B3%D0%B0%D1%8F_%D0%BA%D1%80%D0%B0%D1%82%D0%BA%D0%BE%D1%81%D1%80%D0%BE%D1%87%D0%BD%D0%B0%D1%8F_%D0%BF%D0%B0%D0%BC%D1%8F%D1%82%D1%8C)"
      ]
    },
    {
      "cell_type": "markdown",
      "metadata": {
        "id": "hr0xI44e4dGg"
      },
      "source": [
        "<a name=\"intro\"></a>\n",
        "## Введение\n",
        "\n",
        "В качестве последовательностей в данном ноутбуке будем использовать тексты  работ с arXiv (название + аннотация), работать будем с ними посимвольно.\n",
        "\n",
        "<p align=\"center\">\n",
        "<img src=\"https://raw.githubusercontent.com/sswt/dive2gai/main/.github/images/w4/meme_text_sequence.png\" alt=\"Text sequence\" width=\"40%\">\n",
        "</p>\n",
        "\n"
      ]
    },
    {
      "cell_type": "code",
      "execution_count": 1,
      "metadata": {
        "id": "BHn5fa0VYXiK"
      },
      "outputs": [],
      "source": [
        "import time\n",
        "import math\n",
        "import torch\n",
        "import random\n",
        "import string\n",
        "import unicodedata\n",
        "import numpy as np\n",
        "import pandas as pd\n",
        "import matplotlib.pyplot as plt\n",
        "\n",
        "# Turn a Unicode string to plain ASCII, thanks to https://stackoverflow.com/a/518232/2809427\n",
        "def unicode2ascii(s):\n",
        "    return ''.join(\n",
        "        c for c in unicodedata.normalize('NFD', s)\n",
        "        if unicodedata.category(c) != 'Mn'\n",
        "        and c in all_letters\n",
        "    )\n",
        "\n",
        "# One-hot matrix of first to last letters for input (w/o EOS)\n",
        "def input_tensor(line):\n",
        "    tensor = torch.zeros(len(line), 1, n_letters)\n",
        "    for li in range(len(line)):\n",
        "        letter = line[li]\n",
        "        tensor[li][0][all_letters.find(letter)] = 1\n",
        "    return tensor\n",
        "\n",
        "# Label-encoded matrix fo first to last letters for altenative input\n",
        "def label_tensor(line):\n",
        "    t = torch.LongTensor([all_letters.find(line[li]) for li in range(len(line))])\n",
        "    return t.unsqueeze(-1)  # to keep size consistent with input tensor\n",
        "\n",
        "# LongTensor of second letter to end (EOS) for target\n",
        "def target_tensor(line):\n",
        "    letter_indexes = [all_letters.find(line[li]) for li in range(1, len(line))]\n",
        "    letter_indexes.append(n_letters - 1) # EOS\n",
        "    return torch.LongTensor(letter_indexes)\n",
        "\n",
        "# Get a random line excluding EOS\n",
        "def random_training_line():\n",
        "    line = lines[random.randint(0, len(lines) - 1)]\n",
        "    return line[:-1]\n",
        "\n",
        "# Make category, input, and target tensors from a random category, line pair\n",
        "def random_training_example():\n",
        "    line = random_training_line()\n",
        "    input_line_tensor = input_tensor(line)\n",
        "    target_line_tensor = target_tensor(line)\n",
        "    return input_line_tensor, target_line_tensor\n",
        "\n",
        "# Measure time in human format\n",
        "def time_since(since):\n",
        "    s = time.time() - since\n",
        "    m = math.floor(s / 60)\n",
        "    s -= m * 60\n",
        "    return '%dm %ds' % (m, s)"
      ]
    },
    {
      "cell_type": "markdown",
      "metadata": {
        "id": "6HPrXDZp4jPG"
      },
      "source": [
        "<a name=\"load_data\"></a>\n",
        "## Загрузка данных"
      ]
    },
    {
      "cell_type": "code",
      "execution_count": 2,
      "metadata": {
        "id": "kdrVdFDyRbmD"
      },
      "outputs": [],
      "source": [
        "all_letters = string.ascii_letters + \"1234567890\" + \" .,;'\\n\"\n",
        "n_letters = len(all_letters)"
      ]
    },
    {
      "cell_type": "code",
      "execution_count": 3,
      "metadata": {
        "colab": {
          "base_uri": "https://localhost:8080/"
        },
        "id": "2VtT3YdvXI-1",
        "outputId": "fad0767d-0656-4187-8afb-95e0f5d17063"
      },
      "outputs": [
        {
          "name": "stdout",
          "output_type": "stream",
          "text": [
            "--2023-10-03 07:54:19--  https://www.dropbox.com/s/99az9n1b57qkd9j/arxivData.json.tar.gz?dl=1\n",
            "Resolving www.dropbox.com (www.dropbox.com)... 162.125.1.18, 2620:100:6016:18::a27d:112\n",
            "Connecting to www.dropbox.com (www.dropbox.com)|162.125.1.18|:443... connected.\n",
            "HTTP request sent, awaiting response... 302 Found\n",
            "Location: /s/dl/99az9n1b57qkd9j/arxivData.json.tar.gz [following]\n",
            "--2023-10-03 07:54:20--  https://www.dropbox.com/s/dl/99az9n1b57qkd9j/arxivData.json.tar.gz\n",
            "Reusing existing connection to www.dropbox.com:443.\n",
            "HTTP request sent, awaiting response... 302 Found\n",
            "Location: https://uc7fd837cb57e0ce1907e12a221f.dl.dropboxusercontent.com/cd/0/get/CE7vjOMZgLoTGdUMm6NHpmVyqE2CRq8NtDyNSCp9J_UV171LasVgzIgS3vfvT_CkhalhQxWWQb1VkThAqoea17szyP-bnySqHkUT_Z--TUyQwNzQu1PBrg8vqy6V5pgI7wU/file?dl=1# [following]\n",
            "--2023-10-03 07:54:20--  https://uc7fd837cb57e0ce1907e12a221f.dl.dropboxusercontent.com/cd/0/get/CE7vjOMZgLoTGdUMm6NHpmVyqE2CRq8NtDyNSCp9J_UV171LasVgzIgS3vfvT_CkhalhQxWWQb1VkThAqoea17szyP-bnySqHkUT_Z--TUyQwNzQu1PBrg8vqy6V5pgI7wU/file?dl=1\n",
            "Resolving uc7fd837cb57e0ce1907e12a221f.dl.dropboxusercontent.com (uc7fd837cb57e0ce1907e12a221f.dl.dropboxusercontent.com)... 162.125.1.15, 2620:100:6016:15::a27d:10f\n",
            "Connecting to uc7fd837cb57e0ce1907e12a221f.dl.dropboxusercontent.com (uc7fd837cb57e0ce1907e12a221f.dl.dropboxusercontent.com)|162.125.1.15|:443... connected.\n",
            "HTTP request sent, awaiting response... 200 OK\n",
            "Length: 18933283 (18M) [application/binary]\n",
            "Saving to: ‘arxivData.json.tar.gz’\n",
            "\n",
            "arxivData.json.tar. 100%[===================>]  18.06M  --.-KB/s    in 0.1s    \n",
            "\n",
            "2023-10-03 07:54:21 (189 MB/s) - ‘arxivData.json.tar.gz’ saved [18933283/18933283]\n",
            "\n",
            "arxivData.json\n"
          ]
        }
      ],
      "source": [
        "# Alternative manual download link: https://yadi.sk/d/_nGyU2IajjR9-w\n",
        "!wget \"https://www.dropbox.com/s/99az9n1b57qkd9j/arxivData.json.tar.gz?dl=1\" -O arxivData.json.tar.gz\n",
        "!tar -xvzf arxivData.json.tar.gz"
      ]
    },
    {
      "cell_type": "code",
      "execution_count": 4,
      "metadata": {
        "colab": {
          "base_uri": "https://localhost:8080/",
          "height": 213
        },
        "id": "WWkO4l9pZVIn",
        "outputId": "a04154d0-dfc1-4966-e4aa-11d05136ec7b"
      },
      "outputs": [
        {
          "name": "stdout",
          "output_type": "stream",
          "text": [
            "(41000, 9)\n"
          ]
        },
        {
          "data": {
            "text/html": [
              "\n",
              "  <div id=\"df-f24de63e-c9f8-47a8-bd80-501c13112874\" class=\"colab-df-container\">\n",
              "    <div>\n",
              "<style scoped>\n",
              "    .dataframe tbody tr th:only-of-type {\n",
              "        vertical-align: middle;\n",
              "    }\n",
              "\n",
              "    .dataframe tbody tr th {\n",
              "        vertical-align: top;\n",
              "    }\n",
              "\n",
              "    .dataframe thead th {\n",
              "        text-align: right;\n",
              "    }\n",
              "</style>\n",
              "<table border=\"1\" class=\"dataframe\">\n",
              "  <thead>\n",
              "    <tr style=\"text-align: right;\">\n",
              "      <th></th>\n",
              "      <th>author</th>\n",
              "      <th>day</th>\n",
              "      <th>id</th>\n",
              "      <th>link</th>\n",
              "      <th>month</th>\n",
              "      <th>summary</th>\n",
              "      <th>tag</th>\n",
              "      <th>title</th>\n",
              "      <th>year</th>\n",
              "    </tr>\n",
              "  </thead>\n",
              "  <tbody>\n",
              "    <tr>\n",
              "      <th>8965</th>\n",
              "      <td>[{'name': 'Sachin Pawar'}, {'name': 'Girish K....</td>\n",
              "      <td>14</td>\n",
              "      <td>1712.05191v1</td>\n",
              "      <td>[{'rel': 'alternate', 'href': 'http://arxiv.or...</td>\n",
              "      <td>12</td>\n",
              "      <td>With the advent of the Internet, large amount ...</td>\n",
              "      <td>[{'term': 'cs.CL', 'scheme': 'http://arxiv.org...</td>\n",
              "      <td>Relation Extraction : A Survey</td>\n",
              "      <td>2017</td>\n",
              "    </tr>\n",
              "    <tr>\n",
              "      <th>28632</th>\n",
              "      <td>[{'name': 'E. Naderan'}]</td>\n",
              "      <td>11</td>\n",
              "      <td>1707.03088v2</td>\n",
              "      <td>[{'rel': 'alternate', 'href': 'http://arxiv.or...</td>\n",
              "      <td>7</td>\n",
              "      <td>The article describes developed information te...</td>\n",
              "      <td>[{'term': 'cs.CV', 'scheme': 'http://arxiv.org...</td>\n",
              "      <td>Online Handwritten Mathematical Expressions Re...</td>\n",
              "      <td>2017</td>\n",
              "    </tr>\n",
              "    <tr>\n",
              "      <th>22293</th>\n",
              "      <td>[{'name': 'Pengyu Wang'}, {'name': 'Phil Bluns...</td>\n",
              "      <td>5</td>\n",
              "      <td>1512.01666v1</td>\n",
              "      <td>[{'rel': 'alternate', 'href': 'http://arxiv.or...</td>\n",
              "      <td>12</td>\n",
              "      <td>Stochastic variational inference for collapsed...</td>\n",
              "      <td>[{'term': 'stat.ML', 'scheme': 'http://arxiv.o...</td>\n",
              "      <td>Stochastic Collapsed Variational Inference for...</td>\n",
              "      <td>2015</td>\n",
              "    </tr>\n",
              "  </tbody>\n",
              "</table>\n",
              "</div>\n",
              "    <div class=\"colab-df-buttons\">\n",
              "\n",
              "  <div class=\"colab-df-container\">\n",
              "    <button class=\"colab-df-convert\" onclick=\"convertToInteractive('df-f24de63e-c9f8-47a8-bd80-501c13112874')\"\n",
              "            title=\"Convert this dataframe to an interactive table.\"\n",
              "            style=\"display:none;\">\n",
              "\n",
              "  <svg xmlns=\"http://www.w3.org/2000/svg\" height=\"24px\" viewBox=\"0 -960 960 960\">\n",
              "    <path d=\"M120-120v-720h720v720H120Zm60-500h600v-160H180v160Zm220 220h160v-160H400v160Zm0 220h160v-160H400v160ZM180-400h160v-160H180v160Zm440 0h160v-160H620v160ZM180-180h160v-160H180v160Zm440 0h160v-160H620v160Z\"/>\n",
              "  </svg>\n",
              "    </button>\n",
              "\n",
              "  <style>\n",
              "    .colab-df-container {\n",
              "      display:flex;\n",
              "      gap: 12px;\n",
              "    }\n",
              "\n",
              "    .colab-df-convert {\n",
              "      background-color: #E8F0FE;\n",
              "      border: none;\n",
              "      border-radius: 50%;\n",
              "      cursor: pointer;\n",
              "      display: none;\n",
              "      fill: #1967D2;\n",
              "      height: 32px;\n",
              "      padding: 0 0 0 0;\n",
              "      width: 32px;\n",
              "    }\n",
              "\n",
              "    .colab-df-convert:hover {\n",
              "      background-color: #E2EBFA;\n",
              "      box-shadow: 0px 1px 2px rgba(60, 64, 67, 0.3), 0px 1px 3px 1px rgba(60, 64, 67, 0.15);\n",
              "      fill: #174EA6;\n",
              "    }\n",
              "\n",
              "    .colab-df-buttons div {\n",
              "      margin-bottom: 4px;\n",
              "    }\n",
              "\n",
              "    [theme=dark] .colab-df-convert {\n",
              "      background-color: #3B4455;\n",
              "      fill: #D2E3FC;\n",
              "    }\n",
              "\n",
              "    [theme=dark] .colab-df-convert:hover {\n",
              "      background-color: #434B5C;\n",
              "      box-shadow: 0px 1px 3px 1px rgba(0, 0, 0, 0.15);\n",
              "      filter: drop-shadow(0px 1px 2px rgba(0, 0, 0, 0.3));\n",
              "      fill: #FFFFFF;\n",
              "    }\n",
              "  </style>\n",
              "\n",
              "    <script>\n",
              "      const buttonEl =\n",
              "        document.querySelector('#df-f24de63e-c9f8-47a8-bd80-501c13112874 button.colab-df-convert');\n",
              "      buttonEl.style.display =\n",
              "        google.colab.kernel.accessAllowed ? 'block' : 'none';\n",
              "\n",
              "      async function convertToInteractive(key) {\n",
              "        const element = document.querySelector('#df-f24de63e-c9f8-47a8-bd80-501c13112874');\n",
              "        const dataTable =\n",
              "          await google.colab.kernel.invokeFunction('convertToInteractive',\n",
              "                                                    [key], {});\n",
              "        if (!dataTable) return;\n",
              "\n",
              "        const docLinkHtml = 'Like what you see? Visit the ' +\n",
              "          '<a target=\"_blank\" href=https://colab.research.google.com/notebooks/data_table.ipynb>data table notebook</a>'\n",
              "          + ' to learn more about interactive tables.';\n",
              "        element.innerHTML = '';\n",
              "        dataTable['output_type'] = 'display_data';\n",
              "        await google.colab.output.renderOutput(dataTable, element);\n",
              "        const docLink = document.createElement('div');\n",
              "        docLink.innerHTML = docLinkHtml;\n",
              "        element.appendChild(docLink);\n",
              "      }\n",
              "    </script>\n",
              "  </div>\n",
              "\n",
              "\n",
              "<div id=\"df-c838448c-97d8-43da-935c-5c572e08f984\">\n",
              "  <button class=\"colab-df-quickchart\" onclick=\"quickchart('df-c838448c-97d8-43da-935c-5c572e08f984')\"\n",
              "            title=\"Suggest charts.\"\n",
              "            style=\"display:none;\">\n",
              "\n",
              "<svg xmlns=\"http://www.w3.org/2000/svg\" height=\"24px\"viewBox=\"0 0 24 24\"\n",
              "     width=\"24px\">\n",
              "    <g>\n",
              "        <path d=\"M19 3H5c-1.1 0-2 .9-2 2v14c0 1.1.9 2 2 2h14c1.1 0 2-.9 2-2V5c0-1.1-.9-2-2-2zM9 17H7v-7h2v7zm4 0h-2V7h2v10zm4 0h-2v-4h2v4z\"/>\n",
              "    </g>\n",
              "</svg>\n",
              "  </button>\n",
              "\n",
              "<style>\n",
              "  .colab-df-quickchart {\n",
              "      --bg-color: #E8F0FE;\n",
              "      --fill-color: #1967D2;\n",
              "      --hover-bg-color: #E2EBFA;\n",
              "      --hover-fill-color: #174EA6;\n",
              "      --disabled-fill-color: #AAA;\n",
              "      --disabled-bg-color: #DDD;\n",
              "  }\n",
              "\n",
              "  [theme=dark] .colab-df-quickchart {\n",
              "      --bg-color: #3B4455;\n",
              "      --fill-color: #D2E3FC;\n",
              "      --hover-bg-color: #434B5C;\n",
              "      --hover-fill-color: #FFFFFF;\n",
              "      --disabled-bg-color: #3B4455;\n",
              "      --disabled-fill-color: #666;\n",
              "  }\n",
              "\n",
              "  .colab-df-quickchart {\n",
              "    background-color: var(--bg-color);\n",
              "    border: none;\n",
              "    border-radius: 50%;\n",
              "    cursor: pointer;\n",
              "    display: none;\n",
              "    fill: var(--fill-color);\n",
              "    height: 32px;\n",
              "    padding: 0;\n",
              "    width: 32px;\n",
              "  }\n",
              "\n",
              "  .colab-df-quickchart:hover {\n",
              "    background-color: var(--hover-bg-color);\n",
              "    box-shadow: 0 1px 2px rgba(60, 64, 67, 0.3), 0 1px 3px 1px rgba(60, 64, 67, 0.15);\n",
              "    fill: var(--button-hover-fill-color);\n",
              "  }\n",
              "\n",
              "  .colab-df-quickchart-complete:disabled,\n",
              "  .colab-df-quickchart-complete:disabled:hover {\n",
              "    background-color: var(--disabled-bg-color);\n",
              "    fill: var(--disabled-fill-color);\n",
              "    box-shadow: none;\n",
              "  }\n",
              "\n",
              "  .colab-df-spinner {\n",
              "    border: 2px solid var(--fill-color);\n",
              "    border-color: transparent;\n",
              "    border-bottom-color: var(--fill-color);\n",
              "    animation:\n",
              "      spin 1s steps(1) infinite;\n",
              "  }\n",
              "\n",
              "  @keyframes spin {\n",
              "    0% {\n",
              "      border-color: transparent;\n",
              "      border-bottom-color: var(--fill-color);\n",
              "      border-left-color: var(--fill-color);\n",
              "    }\n",
              "    20% {\n",
              "      border-color: transparent;\n",
              "      border-left-color: var(--fill-color);\n",
              "      border-top-color: var(--fill-color);\n",
              "    }\n",
              "    30% {\n",
              "      border-color: transparent;\n",
              "      border-left-color: var(--fill-color);\n",
              "      border-top-color: var(--fill-color);\n",
              "      border-right-color: var(--fill-color);\n",
              "    }\n",
              "    40% {\n",
              "      border-color: transparent;\n",
              "      border-right-color: var(--fill-color);\n",
              "      border-top-color: var(--fill-color);\n",
              "    }\n",
              "    60% {\n",
              "      border-color: transparent;\n",
              "      border-right-color: var(--fill-color);\n",
              "    }\n",
              "    80% {\n",
              "      border-color: transparent;\n",
              "      border-right-color: var(--fill-color);\n",
              "      border-bottom-color: var(--fill-color);\n",
              "    }\n",
              "    90% {\n",
              "      border-color: transparent;\n",
              "      border-bottom-color: var(--fill-color);\n",
              "    }\n",
              "  }\n",
              "</style>\n",
              "\n",
              "  <script>\n",
              "    async function quickchart(key) {\n",
              "      const quickchartButtonEl =\n",
              "        document.querySelector('#' + key + ' button');\n",
              "      quickchartButtonEl.disabled = true;  // To prevent multiple clicks.\n",
              "      quickchartButtonEl.classList.add('colab-df-spinner');\n",
              "      try {\n",
              "        const charts = await google.colab.kernel.invokeFunction(\n",
              "            'suggestCharts', [key], {});\n",
              "      } catch (error) {\n",
              "        console.error('Error during call to suggestCharts:', error);\n",
              "      }\n",
              "      quickchartButtonEl.classList.remove('colab-df-spinner');\n",
              "      quickchartButtonEl.classList.add('colab-df-quickchart-complete');\n",
              "    }\n",
              "    (() => {\n",
              "      let quickchartButtonEl =\n",
              "        document.querySelector('#df-c838448c-97d8-43da-935c-5c572e08f984 button');\n",
              "      quickchartButtonEl.style.display =\n",
              "        google.colab.kernel.accessAllowed ? 'block' : 'none';\n",
              "    })();\n",
              "  </script>\n",
              "</div>\n",
              "    </div>\n",
              "  </div>\n"
            ],
            "text/plain": [
              "                                                  author  day            id  \\\n",
              "8965   [{'name': 'Sachin Pawar'}, {'name': 'Girish K....   14  1712.05191v1   \n",
              "28632                           [{'name': 'E. Naderan'}]   11  1707.03088v2   \n",
              "22293  [{'name': 'Pengyu Wang'}, {'name': 'Phil Bluns...    5  1512.01666v1   \n",
              "\n",
              "                                                    link  month  \\\n",
              "8965   [{'rel': 'alternate', 'href': 'http://arxiv.or...     12   \n",
              "28632  [{'rel': 'alternate', 'href': 'http://arxiv.or...      7   \n",
              "22293  [{'rel': 'alternate', 'href': 'http://arxiv.or...     12   \n",
              "\n",
              "                                                 summary  \\\n",
              "8965   With the advent of the Internet, large amount ...   \n",
              "28632  The article describes developed information te...   \n",
              "22293  Stochastic variational inference for collapsed...   \n",
              "\n",
              "                                                     tag  \\\n",
              "8965   [{'term': 'cs.CL', 'scheme': 'http://arxiv.org...   \n",
              "28632  [{'term': 'cs.CV', 'scheme': 'http://arxiv.org...   \n",
              "22293  [{'term': 'stat.ML', 'scheme': 'http://arxiv.o...   \n",
              "\n",
              "                                                   title  year  \n",
              "8965                      Relation Extraction : A Survey  2017  \n",
              "28632  Online Handwritten Mathematical Expressions Re...  2017  \n",
              "22293  Stochastic Collapsed Variational Inference for...  2015  "
            ]
          },
          "execution_count": 4,
          "metadata": {},
          "output_type": "execute_result"
        }
      ],
      "source": [
        "data = pd.read_json(\"./arxivData.json\")\n",
        "print(data.shape)\n",
        "data.sample(n=3)"
      ]
    },
    {
      "cell_type": "code",
      "execution_count": 5,
      "metadata": {
        "id": "Q6D65OMqXT9p"
      },
      "outputs": [],
      "source": [
        "seq_len = 256  # to prevent RNN gradients from exploding\n",
        "BOS, EOS = ' ', '\\n'  # special tokens for generation\n",
        "\n",
        "# EOS will be added only for targets\n",
        "lines = data.apply(lambda row: unicode2ascii((row['title'] + ' ; ' + row['summary'])[:seq_len]), axis=1) \\\n",
        "            .apply(lambda line: BOS + line.replace(EOS, ' ')) \\\n",
        "            .tolist()"
      ]
    },
    {
      "cell_type": "code",
      "execution_count": 6,
      "metadata": {
        "colab": {
          "base_uri": "https://localhost:8080/"
        },
        "id": "gBgfod09ZBmG",
        "outputId": "eac1b700-0fd8-4f2e-9ed0-20280c1f4592"
      },
      "outputs": [
        {
          "data": {
            "text/plain": [
              "count    41000.000000\n",
              "mean      1023.248098\n",
              "std        358.009525\n",
              "min         25.000000\n",
              "25%        770.000000\n",
              "50%        999.500000\n",
              "75%       1253.250000\n",
              "max       3658.000000\n",
              "Name: summary, dtype: float64"
            ]
          },
          "execution_count": 6,
          "metadata": {},
          "output_type": "execute_result"
        }
      ],
      "source": [
        "data['summary'].apply(lambda x: len(x)).describe()"
      ]
    },
    {
      "cell_type": "code",
      "execution_count": 7,
      "metadata": {
        "colab": {
          "base_uri": "https://localhost:8080/"
        },
        "id": "t4lqOw1eXWd-",
        "outputId": "04d1a1a0-6370-4b18-ccda-59c8b879976c"
      },
      "outputs": [
        {
          "data": {
            "text/plain": [
              "[' Dual Recurrent Attention Units for Visual Question Answering ; We propose an architecture for VQA which utilizes recurrent layers to generate visual and textual attention. The memory characteristic of the proposed recurrent attention units offers a rich jo',\n",
              " ' Sequential ShortText Classification with Recurrent and Convolutional   Neural Networks ; Recent approaches based on artificial neural networks ANNs have shown promising results for shorttext classification. However, many short texts occur in sequences ',\n",
              " ' Multiresolution Recurrent Neural Networks An Application to Dialogue   Response Generation ; We introduce the multiresolution recurrent neural network, which extends the sequencetosequence framework to model natural language generation as two parallel d']"
            ]
          },
          "execution_count": 7,
          "metadata": {},
          "output_type": "execute_result"
        }
      ],
      "source": [
        "lines[:3]"
      ]
    },
    {
      "cell_type": "code",
      "execution_count": 8,
      "metadata": {
        "colab": {
          "base_uri": "https://localhost:8080/"
        },
        "id": "degC_GVHiM9c",
        "outputId": "af658e79-642a-4981-b1fa-291afd8683ec"
      },
      "outputs": [
        {
          "name": "stdout",
          "output_type": "stream",
          "text": [
            " Mental State Recognition via Wearable EEG ; The increasing quality and affordability of consumer electroencephalogram EEG heads\n",
            "torch.Size([254, 1, 68])\n",
            "tensor([ 4, 62, 18, 19,  0, 19,  4, 18, 62, 67])\n"
          ]
        }
      ],
      "source": [
        "line = random_training_line()\n",
        "input_line_tensor = input_tensor(line)\n",
        "target_line_tensor = target_tensor(line)\n",
        "label_line_tensor = label_tensor(line)\n",
        "print(line[:128])\n",
        "print(input_line_tensor.shape)\n",
        "print(target_line_tensor[-10:])\n",
        "target_line_tensor = target_line_tensor.unsqueeze(-1)"
      ]
    },
    {
      "cell_type": "markdown",
      "metadata": {
        "id": "lgdW3JeponKR"
      },
      "source": [
        "<a name=\"rnn_intro\"></a>\n",
        "## RNN\n",
        "\n",
        "Recurrent Neural Networks"
      ]
    },
    {
      "cell_type": "markdown",
      "metadata": {
        "id": "ILhThVuWD6EE"
      },
      "source": [
        "<figure>\n",
        "<img src=\"https://colah.github.io/posts/2015-08-Understanding-LSTMs/img/RNN-unrolled.png\" alt=\"Forward vs Reverse KL\" style=\"width:100%\">\n",
        "<figcaption align = \"center\"> Image credit: <a href=\"https://colah.github.io/posts/2015-08-Understanding-LSTMs/\">Colah's blog</a></figcaption>\n",
        "</figure>\n",
        "\n",
        "Рекуррентные нейросети на $t$-ом шаге принимают на вход элемент последовательности $x_t$, а возвращают $h_t$, который поступает на вход на следующем шаге вместе с $x_{t+1}$. Звучит как какая-то магия. Можно представить такую аналогию, что у нас как бы несколько копий одной сетки, каждая из которых передаёт сообщение следующей по цепочке. Это становится более наглядным, если развернуть цикл, как на картинке."
      ]
    },
    {
      "cell_type": "code",
      "execution_count": 9,
      "metadata": {
        "id": "LSyiGgZOhemd"
      },
      "outputs": [],
      "source": [
        "import torch\n",
        "import torch.nn as nn\n",
        "\n",
        "class RNN(nn.Module):\n",
        "    def __init__(self, input_size, hidden_size, output_size):\n",
        "        super(RNN, self).__init__()\n",
        "        self.hidden_size = hidden_size\n",
        "\n",
        "        self.i2h = nn.Linear(input_size + hidden_size, hidden_size)\n",
        "        self.i2o = nn.Linear(input_size + hidden_size, output_size)\n",
        "        self.o2o = nn.Linear(hidden_size + output_size, output_size)\n",
        "        self.nonlinear = nn.Tanh()\n",
        "        self.dropout = nn.Dropout(0.1)\n",
        "        self.softmax = nn.LogSoftmax(dim=1)\n",
        "\n",
        "    def forward(self, input, hidden):\n",
        "        input_combined = torch.cat((input, hidden), 1)\n",
        "        hidden = self.i2h(input_combined)\n",
        "        output = self.i2o(input_combined)\n",
        "        output_combined = torch.cat((hidden, output), 1)\n",
        "        output_combined = self.nonlinear(output_combined)\n",
        "        output = self.o2o(output_combined)\n",
        "        output = self.dropout(output)\n",
        "        output = self.softmax(output)\n",
        "        return output, hidden\n",
        "\n",
        "    def init_hidden(self, device=torch.device('cpu')):\n",
        "        return torch.zeros(1, self.hidden_size).to(device)"
      ]
    },
    {
      "cell_type": "code",
      "execution_count": 10,
      "metadata": {
        "id": "e3Bs6gzSDutk"
      },
      "outputs": [],
      "source": [
        "rnn = RNN(n_letters, 128, n_letters)\n",
        "hidden = rnn.init_hidden()\n",
        "criterion = nn.NLLLoss()\n",
        "for i in range(input_line_tensor.size(0)):\n",
        "      output, hidden = rnn(input_line_tensor[i], hidden)\n",
        "      l = criterion(output, target_line_tensor[i])"
      ]
    },
    {
      "cell_type": "code",
      "execution_count": 11,
      "metadata": {
        "colab": {
          "base_uri": "https://localhost:8080/"
        },
        "id": "-LndYFOKEFoS",
        "outputId": "0c03dbd0-cba0-4400-b688-1b0117fbd181"
      },
      "outputs": [
        {
          "data": {
            "text/plain": [
              "(tensor(4.2775, grad_fn=<NllLossBackward0>),\n",
              " tensor([67]),\n",
              " tensor(-4.2775, grad_fn=<SelectBackward0>))"
            ]
          },
          "execution_count": 11,
          "metadata": {},
          "output_type": "execute_result"
        }
      ],
      "source": [
        "l, target_line_tensor[i], output[0, target_line_tensor[i][0]]"
      ]
    },
    {
      "cell_type": "markdown",
      "metadata": {
        "id": "H_4UKiwQu4oS"
      },
      "source": [
        "Добавим типовой код для обучения и генерации"
      ]
    },
    {
      "cell_type": "code",
      "execution_count": 12,
      "metadata": {
        "id": "LRzqq4LWXH4R"
      },
      "outputs": [],
      "source": [
        "def train(model, opt, input_line_tensor, target_line_tensor, hidden, add_dim=False):\n",
        "    target_line_tensor.unsqueeze_(-1)\n",
        "\n",
        "    # model.zero_grad()\n",
        "    opt.zero_grad()\n",
        "\n",
        "    loss = torch.Tensor([0]).to(device) # you can also just simply use ``loss = 0``\n",
        "    hidden_hist = []\n",
        "    for i in range(input_line_tensor.size(0)):\n",
        "        t = input_line_tensor[i]\n",
        "        if add_dim:  # for nn.LSTM we need and extra dimension\n",
        "            t = t.unsqueeze(0)\n",
        "        output, hidden = model(t, hidden)\n",
        "        l = criterion(output, target_line_tensor[i])\n",
        "        if torch.isnan(l):\n",
        "          print('OOPS:', i, hidden, output)\n",
        "          raise\n",
        "        loss += l\n",
        "    loss.backward()\n",
        "\n",
        "    # for p in model.parameters():\n",
        "    #     p.data.add_(p.grad.data, alpha=-learning_rate)\n",
        "    opt.step()\n",
        "\n",
        "    return output, loss.item() / input_line_tensor.size(0)"
      ]
    },
    {
      "cell_type": "code",
      "execution_count": 56,
      "metadata": {
        "id": "UQBXrf2W138O"
      },
      "outputs": [],
      "source": [
        "# Sample from a category and starting letter\n",
        "def sample(model, start_letter='A', device=torch.device('cpu'), add_dim=False, temperature=None):\n",
        "    \"\"\"\n",
        "    add_dim - for case of nn.LSTM with Embedding layer over label-encoded input\n",
        "    \"\"\"\n",
        "    with torch.no_grad():  # no need to track history in sampling\n",
        "        tensor_func = input_tensor if not add_dim else label_tensor\n",
        "        input = tensor_func(start_letter).to(device)\n",
        "        hidden = model.init_hidden(device=device)\n",
        "        output_name = start_letter\n",
        "\n",
        "        for i in range(seq_len):\n",
        "            t = input[0]\n",
        "            if add_dim:  # for nn.LSTM we need and extra dimension\n",
        "                t = t.unsqueeze(0)\n",
        "            output, hidden = model(t, hidden)\n",
        "            if temperature is None:\n",
        "                topv, topi = output.topk(1)\n",
        "                topi = topi[0][0]\n",
        "                if topi == n_letters - 1:\n",
        "                    break\n",
        "                else:\n",
        "                    letter = all_letters[topi]\n",
        "                    output_name += letter\n",
        "            else:\n",
        "                probs = torch.exp(output).detach().clone().flatten().cpu().numpy()**(1/temperature)\n",
        "                probs /= probs.sum()\n",
        "                letter = np.random.choice(list(all_letters), p=probs)\n",
        "                if letter == all_letters[-1]:\n",
        "                    break\n",
        "                else:\n",
        "                    output_name += letter\n",
        "            input = tensor_func(letter).to(device)\n",
        "\n",
        "        return output_name\n",
        "\n",
        "# Get multiple samples from one category and multiple starting letters\n",
        "def samples(model, start_letters='ABC', device=torch.device('cpu'), add_dim=False, temperature=None):\n",
        "    for start_letter in start_letters:\n",
        "        print(sample(model, start_letter, device, add_dim, temperature=temperature))"
      ]
    },
    {
      "cell_type": "markdown",
      "metadata": {
        "id": "OvYVJ3mmUd9C"
      },
      "source": [
        "<a name=\"rnn_train_loop\"></a>\n",
        "### RNN цикл обучения"
      ]
    },
    {
      "cell_type": "code",
      "execution_count": 14,
      "metadata": {
        "colab": {
          "base_uri": "https://localhost:8080/"
        },
        "id": "hEnPEAvbNLGF",
        "outputId": "68eddf31-8bde-4178-ecac-8566a3f209e7"
      },
      "outputs": [
        {
          "data": {
            "text/plain": [
              "device(type='cpu')"
            ]
          },
          "execution_count": 14,
          "metadata": {},
          "output_type": "execute_result"
        }
      ],
      "source": [
        "device = torch.device('cuda' if torch.cuda.is_available else 'cpu')\n",
        "device = torch.device('cpu')\n",
        "device"
      ]
    },
    {
      "cell_type": "code",
      "execution_count": 15,
      "metadata": {
        "id": "IOJNWkH32AFl"
      },
      "outputs": [],
      "source": [
        "criterion = nn.NLLLoss()\n",
        "learning_rate = 0.0005\n",
        "model_rnn = RNN(n_letters, 128, n_letters).to(device)\n",
        "opt = torch.optim.Adam(model_rnn.parameters(), lr=learning_rate)"
      ]
    },
    {
      "cell_type": "code",
      "execution_count": 16,
      "metadata": {
        "colab": {
          "base_uri": "https://localhost:8080/"
        },
        "id": "UDt1tVpe2EnX",
        "outputId": "549ee0f9-9f19-4fd9-fa3a-ca24dcb55095"
      },
      "outputs": [
        {
          "name": "stdout",
          "output_type": "stream",
          "text": [
            " iW9dLhGaC W1FM1Im49ULSCuKX1SOB5uyW mjD\n"
          ]
        }
      ],
      "source": [
        "samples(model_rnn, [' '])"
      ]
    },
    {
      "cell_type": "markdown",
      "metadata": {
        "id": "wIAg7RG5Kdmr"
      },
      "source": [
        "Здесь можно обратить внимание, что сетка очень не стабильна и если увеличить максимальную длину последовательности (с 256 до 512 например) или увеличить вдвое learning_rate, градиенты начинают взрываться почти всегда. При текущих параметрах это происходит лишь иногда."
      ]
    },
    {
      "cell_type": "code",
      "execution_count": 17,
      "metadata": {
        "colab": {
          "base_uri": "https://localhost:8080/"
        },
        "id": "nfvdUEWAJ_Bi",
        "outputId": "26a2f739-738c-42c7-c0c5-77badc92252f"
      },
      "outputs": [
        {
          "name": "stdout",
          "output_type": "stream",
          "text": [
            "0m 21s (200 1%) 3.1292\n",
            "0m 50s (400 2%) 3.0704\n",
            "1m 13s (600 4%) 2.6915\n",
            "1m 33s (800 5%) 2.4314\n",
            "1m 54s (1000 6%) 2.4089\n",
            "2m 14s (1200 8%) 2.4322\n",
            "2m 33s (1400 9%) 2.5105\n",
            "2m 53s (1600 10%) 2.5062\n",
            "3m 13s (1800 12%) 2.5027\n",
            "3m 34s (2000 13%) 2.3250\n",
            "3m 54s (2200 14%) 2.5537\n",
            "4m 14s (2400 16%) 2.6619\n",
            "4m 34s (2600 17%) 2.4698\n",
            "4m 54s (2800 18%) 2.1004\n",
            "5m 20s (3000 20%) 2.3726\n",
            "5m 45s (3200 21%) 2.4216\n",
            "6m 8s (3400 22%) 2.3491\n",
            "6m 29s (3600 24%) 2.2328\n",
            "6m 52s (3800 25%) 2.2804\n",
            "7m 13s (4000 26%) 2.2309\n",
            "7m 36s (4200 28%) 2.3730\n",
            "7m 57s (4400 29%) 2.1637\n",
            "8m 17s (4600 30%) 2.2395\n",
            "8m 37s (4800 32%) 2.0108\n",
            "8m 57s (5000 33%) 1.9299\n",
            "9m 16s (5200 34%) 2.2629\n",
            "9m 36s (5400 36%) 1.9664\n",
            "9m 56s (5600 37%) 2.2740\n",
            "10m 18s (5800 38%) 2.2360\n",
            "10m 38s (6000 40%) 2.3094\n",
            "10m 58s (6200 41%) 1.9693\n",
            "11m 30s (6400 42%) 2.0323\n",
            "11m 50s (6600 44%) 2.0660\n",
            "12m 16s (6800 45%) 2.0239\n",
            "12m 35s (7000 46%) 2.0390\n",
            "12m 56s (7200 48%) 2.2817\n",
            "13m 16s (7400 49%) 2.3113\n",
            "13m 36s (7600 50%) 1.9855\n",
            "13m 57s (7800 52%) 2.1250\n",
            "14m 17s (8000 53%) 1.8854\n",
            "14m 36s (8200 54%) 2.1039\n",
            "14m 56s (8400 56%) 2.1730\n",
            "15m 16s (8600 57%) 1.8829\n",
            "15m 36s (8800 58%) 1.9938\n",
            "15m 57s (9000 60%) 1.8733\n",
            "16m 16s (9200 61%) 1.6667\n",
            "16m 36s (9400 62%) 2.1060\n",
            "16m 56s (9600 64%) 2.0144\n",
            "17m 16s (9800 65%) 1.9696\n",
            "17m 37s (10000 66%) 1.9949\n",
            "17m 56s (10200 68%) 2.1118\n",
            "18m 16s (10400 69%) 1.9848\n",
            "18m 36s (10600 70%) 2.0290\n",
            "18m 55s (10800 72%) 2.3229\n",
            "19m 15s (11000 73%) 1.8779\n",
            "19m 35s (11200 74%) 1.8450\n",
            "19m 55s (11400 76%) 1.6477\n",
            "20m 15s (11600 77%) 1.9121\n",
            "20m 35s (11800 78%) 1.9461\n",
            "20m 55s (12000 80%) 1.9848\n",
            "21m 16s (12200 81%) 1.9732\n",
            "21m 35s (12400 82%) 1.8192\n",
            "21m 55s (12600 84%) 2.0451\n",
            "22m 16s (12800 85%) 2.0267\n",
            "22m 35s (13000 86%) 2.1287\n",
            "22m 55s (13200 88%) 1.9673\n",
            "23m 14s (13400 89%) 1.8670\n",
            "23m 34s (13600 90%) 1.9447\n",
            "23m 54s (13800 92%) 1.7149\n",
            "24m 14s (14000 93%) 1.8031\n",
            "24m 34s (14200 94%) 2.0400\n",
            "24m 59s (14400 96%) 1.8769\n",
            "25m 22s (14600 97%) 1.8227\n",
            "25m 41s (14800 98%) 1.6694\n",
            "26m 5s (15000 100%) 1.9871\n"
          ]
        }
      ],
      "source": [
        "n_iters = 15000\n",
        "print_every = 50 * 4\n",
        "plot_every = 50\n",
        "all_losses_rnn = []\n",
        "total_loss = 0 # Reset every ``plot_every`` ``iters``\n",
        "\n",
        "start = time.time()\n",
        "\n",
        "for iter in range(1, n_iters + 1):\n",
        "    x, y = random_training_example()\n",
        "    hidden = model_rnn.init_hidden().to(device)\n",
        "    output, loss = train(model_rnn, opt, x.to(device), y.to(device), hidden)\n",
        "    total_loss += loss\n",
        "\n",
        "    if iter % print_every == 0:\n",
        "        print('%s (%d %d%%) %.4f' % (time_since(start), iter, iter / n_iters * 100, loss))\n",
        "\n",
        "    if iter % plot_every == 0:\n",
        "        all_losses_rnn.append(total_loss / plot_every)\n",
        "        total_loss = 0"
      ]
    },
    {
      "cell_type": "code",
      "execution_count": 18,
      "metadata": {
        "colab": {
          "base_uri": "https://localhost:8080/",
          "height": 447
        },
        "id": "xPdyx8hG8KFr",
        "outputId": "006040ed-2d8d-482e-bc89-29397f9ea60f"
      },
      "outputs": [
        {
          "data": {
            "text/plain": [
              "[<matplotlib.lines.Line2D at 0x7a69257be8f0>]"
            ]
          },
          "execution_count": 18,
          "metadata": {},
          "output_type": "execute_result"
        },
        {
          "data": {
            "image/png": "[encoded data removed]",
            "text/plain": [
              "<Figure size 640x480 with 1 Axes>"
            ]
          },
          "metadata": {},
          "output_type": "display_data"
        }
      ],
      "source": [
        "plt.plot(all_losses_rnn)"
      ]
    },
    {
      "cell_type": "code",
      "execution_count": 46,
      "metadata": {
        "colab": {
          "base_uri": "https://localhost:8080/"
        },
        "id": "dBZsjrHMiW2W",
        "outputId": "b7ceaac4-fab8-49cb-ce06-43b3754abdf2"
      },
      "outputs": [
        {
          "name": "stdout",
          "output_type": "stream",
          "text": [
            " A Contrative Lexical Semantic Mathing ; Whichnation oftem or and componal mathing the problem of the probles of the problem ofining and commonic learnificative compuse a mangure a detective and models formattic problem of to in there a mangured and structe\n"
          ]
        }
      ],
      "source": [
        "samples(model_rnn, [' '])"
      ]
    },
    {
      "cell_type": "markdown",
      "metadata": {
        "id": "B1BDazh0Uj7-"
      },
      "source": [
        "<a name=\"vanilla_rnn\"></a>\n",
        "### Недостатки \"ванильных\" RNN\n",
        "\n",
        "В случаях, когда релевантный контекст, необходимый для предсказания следующего элемента последовательности находится недалеко в последовательности, RNN может использовать эту информацию.\n",
        "\n",
        "\n",
        "<figure>\n",
        "<img src=\"https://colah.github.io/posts/2015-08-Understanding-LSTMs/img/RNN-shorttermdepdencies.png\" alt=\"RNN short term dependencies\" width=\"70%\">\n",
        "</figure>\n",
        "\n",
        "Однако иногда нужно больше контекста и релевантная информация находится далеко и с ростом этого разрыва RNN становится неспособной использовать нужный контекст.\n",
        "\n",
        "<figure>\n",
        "<img src=\"https://colah.github.io/posts/2015-08-Understanding-LSTMs/img/RNN-longtermdependencies.png\" alt=\"RNN log term dependencies\" width=\"70%\">\n",
        "<figcaption align = \"center\"> Image credits: <a href=\"https://colah.github.io/posts/2015-08-Understanding-LSTMs/\">Colah's blog</a></figcaption></figure>"
      ]
    },
    {
      "cell_type": "markdown",
      "metadata": {
        "id": "nsMWGhhSnLhC"
      },
      "source": [
        "<a name=\"lstm\"></a>\n",
        "## LSTM\n",
        "\n",
        "**Long Short Term Memory Networks** (Hochreiter & Schmidhuber, 1997), сети долгой краткосрочной памяти, специально созданы для того, чтобы избежать проблемы длительных зависимостей.\n",
        "\n",
        "<p align=\"center\">\n",
        "<img src=\"https://raw.githubusercontent.com/sswt/dive2gai/main/.github/images/w4/meme_schmidhuber.jpg\" alt=\"Jurgen\" width=\"25%\">\n",
        "</p>\n"
      ]
    },
    {
      "cell_type": "markdown",
      "metadata": {
        "id": "om8pO3Z4E62C"
      },
      "source": [
        "Сравним ячейки RNN и LSTM.\n",
        "\n",
        "**RNN Cell**\n",
        "<figure>\n",
        "<img src=\"https://colah.github.io/posts/2015-08-Understanding-LSTMs/img/LSTM3-SimpleRNN.png\" alt=\"Forward vs Reverse KL\" style=\"width:100%\">\n",
        "</figure>\n",
        "\n",
        "---\n",
        "\n",
        "**LSTM Cell**\n",
        "<figure>\n",
        "<img src=\"https://colah.github.io/posts/2015-08-Understanding-LSTMs/img/LSTM3-chain.png\" alt=\"Forward vs Reverse KL\" style=\"width:100%\">\n",
        "</figure>\n",
        "\n",
        "---\n",
        "\n",
        "<figure>\n",
        "<img src=\"https://colah.github.io/posts/2015-08-Understanding-LSTMs/img/LSTM2-notation.png\" alt=\"Forward vs Reverse KL\" width=\"50%\">\n",
        "<figcaption align = \"center\"> Image credits: <a href=\"https://colah.github.io/posts/2015-08-Understanding-LSTMs/\">Colah's blog</a></figcaption>\n",
        "</figure>\n",
        "\n"
      ]
    },
    {
      "cell_type": "markdown",
      "metadata": {
        "id": "X0tNtz6ZXPmr"
      },
      "source": [
        "Ключевая идея LSTM - состояние ячейки (cell state), горизонтальная линия, которая проходит по верху диаграммы. Она проходит по всей цепочке лишь с двумя простыми линейными преобразованиями и информации очень легко протекать через неё без изменения.\n",
        "\n",
        "<img src=\"https://colah.github.io/posts/2015-08-Understanding-LSTMs/img/LSTM3-C-line.png\" alt=\"Cell state\" width=\"60%\">\n",
        "\n",
        "В LSTM добавление или удаление информации из состояния ячейки регулируется специальными структурами, называемыми фильтрами (gates). Они состоят из сигмоиды и поэлементной операции умножения. Сигмоида выдаёт число от 0 до 1, регулируя пропускание информации через каждый элемент вектора (0 - ничего не должно пройти, 1 - пусть всё пройдёт).\n",
        "\n",
        "LSTM имеет три фильтра, которые сохраняют и контролируют состояние ячейки:\n",
        "\n",
        "* фильтр забывания (forget gate)\n",
        "* входной фильтр (input gate)\n",
        "* выходной фильтр (output gate)\n",
        "\n",
        "Первым делом надо решить, какую информацию можно выбрасывать из состояния ячейки. За это отвечает фильтр забывания (forget gate) с сигмоидой. Он смотрит на $h_{t-1}$ и $x_t$ и возвращает число от 0 до 1 для каждого элемента состояния ячейки $C_{t-1}$. 1 значит - полностью сохрани этот элемент, 0 - избавься от этого элемента с концами.\n",
        "\n",
        "Как только какая-то часть информации перестаёт быть релевантной, сеть забывает её, исключая из состояния ячейки.\n",
        "\n",
        "<img src=\"https://raw.githubusercontent.com/sswt/dive2gai/main/.github/images/w4/LSTM3-focus-f.jpg\" alt=\"Cell state\" width=\"60%\" style=\"background: red;\">\n",
        "\n",
        "Дальше нам нужно решить, какую часть новой информации мы хотим сохранить в состоянии ячейки. Сначала входной фильтр с сигмоидой (input gate) определяет, какие значения следует обновить. Затем слой с гиперболическим тангенсом создаёт вектор новых значений-кандидатов $\\tilde{C_t}$, которые могут быть добавлены к состоянию. На следующем шаге мы комбинируем эти два вектора для обновления состояния.\n",
        "\n",
        "<img src=\"https://raw.githubusercontent.com/sswt/dive2gai/main/.github/images/w4/LSTM3-focus-i.jpg\" alt=\"Cell state\" width=\"60%\">\n",
        "\n",
        "Пришло время обновить старое состояние сети $C_{t-1}$ в новое состояние $C_t$.\n",
        "\n",
        "Мы перемножили старое состояние $f_t$, забывая то, что мы решили забыть ранее. Затем мы прибавили $i_t * \\tilde{C_t}$, это значения новых элементов-кандидатов, масштабированные настолько, насколько мы хотим обновить значение каждого состояния. То есть попросту говоря удаляем устаревшую информацию и добавляем новую.\n",
        "\n",
        "<img src=\"https://raw.githubusercontent.com/sswt/dive2gai/main/.github/images/w4/LSTM3-focus-C.jpg\" alt=\"Cell state\" width=\"60%\">\n",
        "\n",
        "В конце нам нужно решить, какую информацию мы хотим получить на выходе. Выход основывается на состоянии ячейки, после применения некоторых фильтров. Сначала мы пропускаем через сигмоиду, которая решает, какие части состояния ячейки мы хотим отправить на выход. Затем, мы пропускаем состояние ячейки через tanh, чтобы преобразовать значения к диапазону от -1 до 1, и перемножаем с выходным вектором после сигмоиды, что позволяет выводить только требуемую информацию.\n",
        "\n",
        "\n",
        "<img src=\"https://raw.githubusercontent.com/sswt/dive2gai/main/.github/images/w4/LSTM3-focus-o1.jpg\" alt=\"Cell state\" width=\"60%\">\n",
        "\n",
        "\n",
        "<figcaption align=\"left\"> Image credits: <a href=\"https://colah.github.io/posts/2015-08-Understanding-LSTMs/\">Colah's blog</a></figcaption>\n",
        "\n",
        "\n"
      ]
    },
    {
      "cell_type": "code",
      "execution_count": 21,
      "metadata": {
        "id": "X-Nv3miunfRN"
      },
      "outputs": [],
      "source": [
        "class LSTM(nn.Module):\n",
        "    def __init__(self, input_size, hidden_size, output_size):\n",
        "        super(LSTM, self).__init__()\n",
        "        self.hidden_size = hidden_size\n",
        "\n",
        "        self.i2h = nn.Linear(input_size, hidden_size*4)\n",
        "        self.h2h = nn.Linear(hidden_size, hidden_size*4)\n",
        "        self.o2o = nn.Linear(hidden_size, output_size)\n",
        "        self.softmax = nn.LogSoftmax(dim=1)\n",
        "\n",
        "    def forward(self, input, hidden):\n",
        "        h_t, c_t = hidden\n",
        "        gates = self.i2h(input) + self.h2h(h_t)\n",
        "        # Get gates (i_t, f_t, g_t, o_t)\n",
        "        input_gate, forget_gate, cell_gate, output_gate = gates.chunk(4, 1)\n",
        "        i_t = torch.sigmoid(input_gate)\n",
        "        f_t = torch.sigmoid(forget_gate)\n",
        "        g_t = torch.tanh(cell_gate)\n",
        "        o_t = torch.sigmoid(output_gate)\n",
        "\n",
        "        c_t = c_t * f_t + i_t * g_t\n",
        "        h_t = o_t * torch.tanh(c_t)\n",
        "\n",
        "        output = self.o2o(h_t)\n",
        "        output = self.softmax(output)\n",
        "        return output, (h_t, c_t)\n",
        "\n",
        "    def init_hidden(self, device=torch.device('cpu')):\n",
        "        return torch.zeros(1, self.hidden_size).to(device), torch.zeros(1, self.hidden_size).to(device)"
      ]
    },
    {
      "cell_type": "code",
      "execution_count": 22,
      "metadata": {
        "id": "d4c0blOuo-EP"
      },
      "outputs": [],
      "source": [
        "rnn = LSTM(n_letters, 128, n_letters)\n",
        "hidden = rnn.init_hidden()\n",
        "criterion = nn.NLLLoss()\n",
        "for i in range(input_line_tensor.size(0)):\n",
        "      output, hidden = rnn(input_line_tensor[i], hidden)\n",
        "      l = criterion(output, target_line_tensor[i])"
      ]
    },
    {
      "cell_type": "code",
      "execution_count": 23,
      "metadata": {
        "colab": {
          "base_uri": "https://localhost:8080/"
        },
        "id": "b6Q4S1d6ngKz",
        "outputId": "658cb7a3-536c-4630-f4e5-bd98599e8b77"
      },
      "outputs": [
        {
          "data": {
            "text/plain": [
              "(tensor(4.3193, grad_fn=<NllLossBackward0>),\n",
              " tensor([67]),\n",
              " tensor(-4.3193, grad_fn=<SelectBackward0>))"
            ]
          },
          "execution_count": 23,
          "metadata": {},
          "output_type": "execute_result"
        }
      ],
      "source": [
        "l, target_line_tensor[i], output[0, target_line_tensor[i][0]]"
      ]
    },
    {
      "cell_type": "markdown",
      "metadata": {
        "id": "kc7l414rsH1p"
      },
      "source": [
        "<a name=\"lstm_train_loop\"></a>\n",
        "### Цикл обучения LSTM"
      ]
    },
    {
      "cell_type": "code",
      "execution_count": 63,
      "metadata": {
        "colab": {
          "base_uri": "https://localhost:8080/"
        },
        "id": "MQcn5ckOrIEU",
        "outputId": "5419a37c-d85e-4f33-ceee-176473b6a0cf"
      },
      "outputs": [
        {
          "data": {
            "text/plain": [
              "device(type='cpu')"
            ]
          },
          "execution_count": 63,
          "metadata": {},
          "output_type": "execute_result"
        }
      ],
      "source": [
        "# device = torch.device('cuda' if torch.cuda.is_available else 'cpu')\n",
        "device = torch.device('cpu')\n",
        "device"
      ]
    },
    {
      "cell_type": "code",
      "execution_count": 25,
      "metadata": {
        "id": "ODl2w8rT2bCy"
      },
      "outputs": [],
      "source": [
        "criterion = nn.NLLLoss()\n",
        "learning_rate = 0.0005 * 2\n",
        "model_lstm = LSTM(n_letters, 128, n_letters).to(device)\n",
        "opt = torch.optim.Adam(model_lstm.parameters(), lr=learning_rate)"
      ]
    },
    {
      "cell_type": "code",
      "execution_count": 26,
      "metadata": {
        "colab": {
          "base_uri": "https://localhost:8080/"
        },
        "id": "NSRAUf0m2uKQ",
        "outputId": "caec628e-20a2-4b1f-e75a-1b47ddfe6dcb"
      },
      "outputs": [
        {
          "name": "stdout",
          "output_type": "stream",
          "text": [
            " zB .rCIVVKBCcoDQ3dLzEBOlWQ890RRrBWFsCRI78.vHgVflB\n"
          ]
        }
      ],
      "source": [
        "samples(model_lstm, [' '], device=device)"
      ]
    },
    {
      "cell_type": "code",
      "execution_count": 27,
      "metadata": {
        "colab": {
          "base_uri": "https://localhost:8080/"
        },
        "id": "LtYOMziKETLa",
        "outputId": "6b34ed24-33d6-4352-87b5-ce203ce96d5a"
      },
      "outputs": [
        {
          "name": "stdout",
          "output_type": "stream",
          "text": [
            "0m 35s (200 1%) 3.1342\n",
            "1m 7s (400 2%) 2.7243\n",
            "1m 38s (600 4%) 2.5462\n",
            "2m 6s (800 5%) 2.4326\n",
            "2m 33s (1000 6%) 2.2745\n",
            "3m 2s (1200 8%) 2.1755\n",
            "3m 29s (1400 9%) 2.0524\n",
            "3m 58s (1600 10%) 2.0305\n",
            "4m 27s (1800 12%) 2.2068\n",
            "5m 1s (2000 13%) 1.9193\n",
            "5m 29s (2200 14%) 2.0771\n",
            "5m 57s (2400 16%) 1.9934\n",
            "6m 24s (2600 17%) 1.9991\n",
            "6m 51s (2800 18%) 2.0911\n",
            "7m 18s (3000 20%) 2.0624\n",
            "7m 45s (3200 21%) 1.8774\n",
            "8m 12s (3400 22%) 1.7660\n",
            "8m 41s (3600 24%) 1.7738\n",
            "9m 8s (3800 25%) 1.6499\n",
            "9m 35s (4000 26%) 1.7870\n",
            "10m 2s (4200 28%) 1.9038\n",
            "10m 30s (4400 29%) 1.8126\n",
            "10m 57s (4600 30%) 2.1968\n",
            "11m 24s (4800 32%) 1.5901\n",
            "11m 51s (5000 33%) 1.7562\n",
            "12m 18s (5200 34%) 1.9619\n",
            "12m 46s (5400 36%) 1.7831\n",
            "13m 14s (5600 37%) 1.9412\n",
            "13m 41s (5800 38%) 1.5594\n",
            "14m 9s (6000 40%) 1.5047\n",
            "14m 36s (6200 41%) 1.4874\n",
            "15m 5s (6400 42%) 1.3746\n",
            "15m 32s (6600 44%) 1.4154\n",
            "15m 59s (6800 45%) 1.5077\n",
            "16m 27s (7000 46%) 1.5024\n",
            "16m 55s (7200 48%) 1.4786\n",
            "17m 22s (7400 49%) 1.5885\n",
            "17m 49s (7600 50%) 1.7166\n",
            "18m 18s (7800 52%) 1.9159\n",
            "18m 45s (8000 53%) 1.7273\n",
            "19m 13s (8200 54%) 1.7035\n",
            "19m 42s (8400 56%) 1.2124\n",
            "20m 10s (8600 57%) 1.8575\n",
            "20m 38s (8800 58%) 1.4683\n",
            "21m 5s (9000 60%) 1.3219\n",
            "21m 33s (9200 61%) 1.7223\n",
            "22m 1s (9400 62%) 1.6058\n",
            "22m 28s (9600 64%) 1.3592\n",
            "22m 56s (9800 65%) 1.3979\n",
            "23m 24s (10000 66%) 1.8082\n",
            "23m 53s (10200 68%) 1.5840\n",
            "24m 22s (10400 69%) 1.5027\n",
            "24m 49s (10600 70%) 1.0656\n",
            "25m 18s (10800 72%) 1.1304\n",
            "25m 45s (11000 73%) 1.6291\n",
            "26m 13s (11200 74%) 1.4610\n",
            "26m 41s (11400 76%) 1.2369\n",
            "27m 9s (11600 77%) 1.1806\n",
            "27m 38s (11800 78%) 1.0929\n",
            "28m 6s (12000 80%) 1.2969\n",
            "28m 35s (12200 81%) 1.8638\n",
            "29m 3s (12400 82%) 1.3647\n",
            "29m 31s (12600 84%) 1.4039\n",
            "29m 58s (12800 85%) 1.3605\n",
            "30m 27s (13000 86%) 1.0735\n",
            "30m 55s (13200 88%) 1.1781\n",
            "31m 23s (13400 89%) 1.3902\n",
            "31m 51s (13600 90%) 1.0574\n",
            "32m 20s (13800 92%) 1.8791\n",
            "32m 47s (14000 93%) 1.4123\n",
            "33m 15s (14200 94%) 1.6586\n",
            "33m 42s (14400 96%) 1.1224\n",
            "34m 12s (14600 97%) 1.5707\n",
            "34m 40s (14800 98%) 1.7830\n",
            "35m 7s (15000 100%) 1.0659\n"
          ]
        }
      ],
      "source": [
        "n_iters = 15000 * 1\n",
        "print_every = 50 * 4\n",
        "plot_every = 50\n",
        "all_losses_lstm = []\n",
        "total_loss = 0 # Reset every ``plot_every`` ``iters``\n",
        "\n",
        "start = time.time()\n",
        "\n",
        "for iter in range(1, n_iters + 1):\n",
        "    x, y = random_training_example()\n",
        "    hidden = model_lstm.init_hidden(device=device)\n",
        "    output, loss = train(model_lstm, opt, x.to(device), y.to(device), hidden)\n",
        "    total_loss += loss\n",
        "\n",
        "    if iter % print_every == 0:\n",
        "        print('%s (%d %d%%) %.4f' % (time_since(start), iter, iter / n_iters * 100, loss))\n",
        "\n",
        "    if iter % plot_every == 0:\n",
        "        all_losses_lstm.append(total_loss / plot_every)\n",
        "        total_loss = 0"
      ]
    },
    {
      "cell_type": "code",
      "execution_count": 28,
      "metadata": {
        "colab": {
          "base_uri": "https://localhost:8080/",
          "height": 447
        },
        "id": "A-S2YKXFjgPL",
        "outputId": "94e130d7-27ed-4950-c26a-18840c55153c"
      },
      "outputs": [
        {
          "data": {
            "text/plain": [
              "[<matplotlib.lines.Line2D at 0x7a6922f16a40>]"
            ]
          },
          "execution_count": 28,
          "metadata": {},
          "output_type": "execute_result"
        },
        {
          "data": {
            "image/png": "[encoded data removed]",
            "text/plain": [
              "<Figure size 640x480 with 1 Axes>"
            ]
          },
          "metadata": {},
          "output_type": "display_data"
        }
      ],
      "source": [
        "plt.plot(all_losses_rnn)\n",
        "plt.plot(all_losses_lstm)"
      ]
    },
    {
      "cell_type": "code",
      "execution_count": 44,
      "metadata": {
        "colab": {
          "base_uri": "https://localhost:8080/"
        },
        "id": "fWlHyXD3jkeQ",
        "outputId": "ca1872fe-9fc0-4d0e-fb78-ac5fc8dba3d0"
      },
      "outputs": [
        {
          "name": "stdout",
          "output_type": "stream",
          "text": [
            " A Neural Networks for Semantic Recognition ; The problem of a sensing and computer in the problem of a sensing and computer in the problem of a sensing and computer and the set of a sensing and computer and the statistical models and and and and and and \n"
          ]
        }
      ],
      "source": [
        "samples(model_lstm, [' '])"
      ]
    },
    {
      "cell_type": "code",
      "execution_count": 65,
      "metadata": {
        "colab": {
          "base_uri": "https://localhost:8080/"
        },
        "id": "0DODUv-1DJhz",
        "outputId": "c9b5ef43-7954-4458-fb08-425f39a638a0"
      },
      "outputs": [
        {
          "name": "stdout",
          "output_type": "stream",
          "text": [
            " Visual Neural Networks for Semantic Recognition and Insterative Method Semantic Recurrent Neural Networks ; We present a methods of the describing in a sentence and systems by represent a convolution results is a setection models. The very is a reastive co\n",
            " Processing Bayesian Approach for Metracting Reversion Senection ; This paper, and in the convolutional Neural Networks ; This paper, we present a semantic sparse a sparse a graphical many describe the pose of the restors and compress. The convention of nat\n",
            " Deep Research Expression Reconsing Detection ; A new and in the search of a support a natural proposed a market computer a new the process decomposed a performance in a simple results in research segmentation of predicting algorithm is the classification \n"
          ]
        }
      ],
      "source": [
        "samples(model_lstm, [' ', ' ', ' '], device=device, temperature=.5)"
      ]
    },
    {
      "cell_type": "markdown",
      "metadata": {
        "id": "qp7ZaA-qrImz"
      },
      "source": [
        "<a name=\"pytorch_lstm\"></a>\n",
        "## Pytorch LSTM Cell"
      ]
    },
    {
      "cell_type": "code",
      "execution_count": 31,
      "metadata": {
        "id": "X1RM8_SyiU-Y"
      },
      "outputs": [],
      "source": [
        "class LSTMPytorch(nn.Module):\n",
        "    def __init__(self, input_size, hidden_size, output_size, num_layers=1):\n",
        "        super(LSTMPytorch, self).__init__()\n",
        "        self.hidden_size = hidden_size\n",
        "        self.num_layers = num_layers\n",
        "        self.encoder = nn.Embedding(input_size, hidden_size)\n",
        "        self.rnn = nn.LSTM(input_size=hidden_size, hidden_size=hidden_size, num_layers=num_layers, batch_first=False)\n",
        "        self.decoder = nn.Linear(hidden_size, output_size)\n",
        "        self.softmax = nn.LogSoftmax(dim=1)\n",
        "\n",
        "    def forward(self, input_seq, hidden_state):\n",
        "        emb = self.encoder(input_seq.long())\n",
        "        # emb = input_seq\n",
        "        output, hidden_state = self.rnn(emb, hidden_state)\n",
        "        output = self.decoder(output)\n",
        "        output = self.softmax(output.squeeze(0))\n",
        "        return output, (hidden_state[0].detach(), hidden_state[1].detach())\n",
        "\n",
        "    def init_hidden(self, device=torch.device('cpu')):\n",
        "        hidden = (\n",
        "            torch.zeros(self.num_layers, 1, self.hidden_size).to(device),\n",
        "            torch.zeros(self.num_layers, 1, self.hidden_size).to(device))\n",
        "        return hidden"
      ]
    },
    {
      "cell_type": "code",
      "execution_count": 32,
      "metadata": {
        "id": "VMZ2XLxknNCj"
      },
      "outputs": [],
      "source": [
        "n_layers = 2\n",
        "rnn = LSTMPytorch(n_letters, 128, n_letters, num_layers=n_layers)\n",
        "hidden = (torch.randn(n_layers, 1, 128), torch.randn(n_layers, 1, 128))\n",
        "criterion = nn.NLLLoss()\n",
        "for i in range(label_line_tensor.size(0)):\n",
        "      output, hidden = rnn(label_line_tensor[i].view(1, -1), hidden)\n",
        "      l = criterion(output, target_line_tensor[i])"
      ]
    },
    {
      "cell_type": "code",
      "execution_count": 33,
      "metadata": {
        "colab": {
          "base_uri": "https://localhost:8080/"
        },
        "id": "u1pMfwFktU-W",
        "outputId": "49d66bc8-fdaf-47a5-b85f-6e7bbd88114d"
      },
      "outputs": [
        {
          "data": {
            "text/plain": [
              "(tensor(4.1730, grad_fn=<NllLossBackward0>),\n",
              " tensor([67]),\n",
              " tensor(-4.1730, grad_fn=<SelectBackward0>))"
            ]
          },
          "execution_count": 33,
          "metadata": {},
          "output_type": "execute_result"
        }
      ],
      "source": [
        "l, target_line_tensor[i], output[0, target_line_tensor[i][0]]"
      ]
    },
    {
      "cell_type": "markdown",
      "metadata": {
        "id": "4AWsgoS9T4Fo"
      },
      "source": [
        "<a name=\"lstm2_train_loop\"></a>\n",
        "### Цикл обучения"
      ]
    },
    {
      "cell_type": "code",
      "execution_count": 48,
      "metadata": {
        "colab": {
          "base_uri": "https://localhost:8080/"
        },
        "id": "_no7Hs5KSNyu",
        "outputId": "2a477a89-9817-42cb-c193-9ff0a562020d"
      },
      "outputs": [
        {
          "data": {
            "text/plain": [
              "device(type='cuda')"
            ]
          },
          "execution_count": 48,
          "metadata": {},
          "output_type": "execute_result"
        }
      ],
      "source": [
        "device = torch.device('cuda' if torch.cuda.is_available else 'cpu')\n",
        "# device = torch.device('cpu')\n",
        "device"
      ]
    },
    {
      "cell_type": "code",
      "execution_count": 53,
      "metadata": {
        "id": "fHDTWinP3Wvm"
      },
      "outputs": [],
      "source": [
        "criterion = nn.NLLLoss()\n",
        "learning_rate = 0.0005 * 2\n",
        "model_lstm2 = LSTMPytorch(n_letters, 128, n_letters, num_layers=2).to(device)\n",
        "opt = torch.optim.Adam(model_lstm2.parameters(), lr=learning_rate)"
      ]
    },
    {
      "cell_type": "code",
      "execution_count": 54,
      "metadata": {
        "colab": {
          "base_uri": "https://localhost:8080/"
        },
        "id": "0wkBvFIY3VU6",
        "outputId": "33b7164c-dcef-4de2-e125-ae59f91744b5"
      },
      "outputs": [
        {
          "name": "stdout",
          "output_type": "stream",
          "text": [
            "  Uss4yyyyyUyyyyyyyyyyyyyyyyyyyyyyyyyyyyyyyyyyyyyyyyyyyyyyyyyyyyyyyyyyyyyyyyyyyyyyyyyyyyyyyyyyyyyyyyyyyyyyyyyyyyyyyyyyyyyyyyyyyyyyyyyyyyyyyyyyyyyyyyyyyyyyyyyyyyyyyyyyyyyyyyyyyyyyyyyyyyyyyyyyyyyyyyyyyyyyyyyyyyyyyyyyyyyyyyyyyyyyyyyyyyyyyyyyyyyyyyyyyyyyyyyyyyy\n"
          ]
        }
      ],
      "source": [
        "samples(model_lstm2, [' '], device=device, add_dim=True)"
      ]
    },
    {
      "cell_type": "code",
      "execution_count": 57,
      "metadata": {
        "colab": {
          "base_uri": "https://localhost:8080/"
        },
        "id": "e00D9ZHpcOS4",
        "outputId": "2fef44b6-d2da-433f-8697-141625016d3c"
      },
      "outputs": [
        {
          "name": "stdout",
          "output_type": "stream",
          "text": [
            " zv;ISnRW5.KHXbrawFhiJzwSZtb0jizfo6 IubTWXud XzlZV8UwsCwwokZdvRn omRNhhynVtEc0JjIQmj5,ljq 4JdaFH90'LV8xnL3J0Mbxvr9k94\n"
          ]
        }
      ],
      "source": [
        "samples(model_lstm2, [' '], device=device, add_dim=True, temperature=1)"
      ]
    },
    {
      "cell_type": "code",
      "execution_count": 58,
      "metadata": {
        "colab": {
          "base_uri": "https://localhost:8080/"
        },
        "id": "kCxRY1FtkVRe",
        "outputId": "a59d40c7-c959-4a62-dc98-517373399c28"
      },
      "outputs": [
        {
          "name": "stdout",
          "output_type": "stream",
          "text": [
            "0m 49s (200 1%) 2.4128\n",
            "1m 39s (400 2%) 2.1179\n",
            "2m 30s (600 4%) 2.0815\n",
            "3m 20s (800 5%) 1.7960\n",
            "4m 11s (1000 6%) 1.6185\n",
            "5m 2s (1200 8%) 1.7510\n",
            "5m 52s (1400 9%) 1.6831\n",
            "6m 44s (1600 10%) 1.3472\n",
            "7m 34s (1800 12%) 1.7713\n",
            "8m 25s (2000 13%) 1.6224\n",
            "9m 16s (2200 14%) 2.2523\n",
            "10m 6s (2400 16%) 1.6326\n",
            "10m 56s (2600 17%) 1.5546\n",
            "11m 47s (2800 18%) 1.6211\n",
            "12m 37s (3000 20%) 1.4274\n",
            "13m 27s (3200 21%) 1.8091\n",
            "14m 17s (3400 22%) 1.7720\n",
            "15m 8s (3600 24%) 1.2979\n",
            "16m 0s (3800 25%) 1.3376\n",
            "16m 52s (4000 26%) 1.3944\n",
            "17m 43s (4200 28%) 1.2420\n",
            "18m 33s (4400 29%) 1.3569\n",
            "19m 26s (4600 30%) 1.2624\n",
            "20m 17s (4800 32%) 1.3918\n",
            "21m 8s (5000 33%) 1.2123\n",
            "21m 59s (5200 34%) 1.4549\n",
            "22m 50s (5400 36%) 1.3472\n",
            "23m 42s (5600 37%) 1.4645\n",
            "24m 34s (5800 38%) 1.5564\n",
            "25m 24s (6000 40%) 1.2514\n",
            "26m 16s (6200 41%) 1.4642\n",
            "27m 7s (6400 42%) 1.4449\n",
            "27m 59s (6600 44%) 1.6129\n",
            "28m 50s (6800 45%) 1.4290\n",
            "29m 42s (7000 46%) 1.5923\n",
            "30m 34s (7200 48%) 1.6352\n",
            "31m 26s (7400 49%) 1.2397\n",
            "32m 18s (7600 50%) 1.1997\n",
            "33m 9s (7800 52%) 1.3174\n",
            "34m 2s (8000 53%) 1.2841\n",
            "34m 53s (8200 54%) 1.2348\n",
            "35m 45s (8400 56%) 1.0358\n",
            "36m 37s (8600 57%) 0.9744\n",
            "37m 28s (8800 58%) 1.2578\n",
            "38m 19s (9000 60%) 1.2946\n",
            "39m 11s (9200 61%) 1.0335\n",
            "40m 3s (9400 62%) 1.5962\n",
            "40m 54s (9600 64%) 1.5336\n",
            "41m 46s (9800 65%) 1.3311\n",
            "42m 37s (10000 66%) 1.1137\n",
            "43m 27s (10200 68%) 1.6082\n",
            "44m 18s (10400 69%) 1.4030\n",
            "45m 8s (10600 70%) 1.1085\n",
            "45m 58s (10800 72%) 1.1633\n",
            "46m 49s (11000 73%) 1.6034\n",
            "47m 39s (11200 74%) 1.1592\n",
            "48m 29s (11400 76%) 1.0112\n",
            "49m 20s (11600 77%) 1.3596\n",
            "50m 10s (11800 78%) 0.7818\n",
            "51m 1s (12000 80%) 1.3382\n",
            "51m 51s (12200 81%) 1.5524\n",
            "52m 41s (12400 82%) 1.1717\n",
            "53m 31s (12600 84%) 1.1416\n",
            "54m 21s (12800 85%) 1.2561\n",
            "55m 11s (13000 86%) 1.0807\n",
            "56m 3s (13200 88%) 1.4693\n",
            "56m 53s (13400 89%) 1.0463\n",
            "57m 43s (13600 90%) 1.3820\n",
            "58m 33s (13800 92%) 1.2524\n",
            "59m 23s (14000 93%) 1.2622\n",
            "60m 15s (14200 94%) 1.4348\n",
            "61m 5s (14400 96%) 0.9929\n",
            "61m 54s (14600 97%) 1.2985\n",
            "62m 44s (14800 98%) 1.1068\n",
            "63m 35s (15000 100%) 1.7818\n"
          ]
        }
      ],
      "source": [
        "n_iters = 15000\n",
        "print_every = 50 * 4\n",
        "plot_every = 50\n",
        "all_losses_lstm2 = []\n",
        "total_loss = 0 # Reset every ``plot_every`` ``iters``\n",
        "\n",
        "start = time.time()\n",
        "\n",
        "for iter in range(1, n_iters + 1):\n",
        "    line = random_training_line()\n",
        "    x, y = label_tensor(line), target_tensor(line)\n",
        "\n",
        "    hidden = model_lstm2.init_hidden(device=device)\n",
        "    output, loss = train(model_lstm2, opt, x.to(device), y.to(device), hidden, add_dim=True)\n",
        "    total_loss += loss\n",
        "\n",
        "    if iter % print_every == 0:\n",
        "        print('%s (%d %d%%) %.4f' % (time_since(start), iter, iter / n_iters * 100, loss))\n",
        "\n",
        "    if iter % plot_every == 0:\n",
        "        all_losses_lstm2.append(total_loss / plot_every)\n",
        "        total_loss = 0"
      ]
    },
    {
      "cell_type": "code",
      "execution_count": 59,
      "metadata": {
        "colab": {
          "base_uri": "https://localhost:8080/",
          "height": 430
        },
        "id": "-gSa1dlnk-3Z",
        "outputId": "beb04346-bf63-4ebf-b68f-08fb5932d954"
      },
      "outputs": [
        {
          "data": {
            "image/png": "[encoded data removed]",
            "text/plain": [
              "<Figure size 640x480 with 1 Axes>"
            ]
          },
          "metadata": {},
          "output_type": "display_data"
        }
      ],
      "source": [
        "plt.plot(all_losses_rnn)\n",
        "plt.plot(all_losses_lstm)\n",
        "plt.plot(all_losses_lstm2)\n",
        "plt.legend(['RNN', 'LSTM', 'Pytorch LSTM']);"
      ]
    },
    {
      "cell_type": "code",
      "execution_count": 60,
      "metadata": {
        "colab": {
          "base_uri": "https://localhost:8080/"
        },
        "id": "pCZ5cF0Gmoz2",
        "outputId": "d955a36d-8651-4c93-a272-d0feab702222"
      },
      "outputs": [
        {
          "name": "stdout",
          "output_type": "stream",
          "text": [
            " A Nonetic segmentation of the problem of the problem of the problem of the problem of the problem of the problem of the problem of the problem of the problem of the problem of the problem of the problem of the problem of the problem of the problem of the p\n"
          ]
        }
      ],
      "source": [
        "samples(model_lstm2, [' '], device=device, add_dim=True)"
      ]
    },
    {
      "cell_type": "code",
      "execution_count": 61,
      "metadata": {
        "colab": {
          "base_uri": "https://localhost:8080/"
        },
        "id": "6_ufwZd8m7qQ",
        "outputId": "e8e67662-baae-41a6-b1c7-c05c5d920c4a"
      },
      "outputs": [
        {
          "name": "stdout",
          "output_type": "stream",
          "text": [
            " Method the problem to the performance and Speech Recognition of Selection of accurate and Constructions with Mining the symbolic contention with Algorithm for delevant analysis on particular do the computer vises of the true as a set of the problem of the \n",
            " A Review of a network in entity and comprehension method for computing and construction but provides ; This paper preserving the structure Deep Neural networks ; We conditions ; We study on the proposed on the spectral Language Intere algorithms based on C\n",
            " Learning and regularized models ; Convolutional fundament a linear solving the an increasing Robust computing programming by learning ; Networks ; As an incorporate and nonnegation to continuous to and Gaussian Low process ; The problem in research and Mar\n"
          ]
        }
      ],
      "source": [
        "samples(model_lstm2, [' ', ' ', ' '], device=device, add_dim=True, temperature=.5)"
      ]
    },
    {
      "cell_type": "code",
      "execution_count": null,
      "metadata": {
        "colab": {
          "base_uri": "https://localhost:8080/",
          "height": 430
        },
        "id": "EMeDW6YQaAcK",
        "outputId": "d4896464-9b9d-40a6-dff2-64fbd2daa771"
      },
      "outputs": [
        {
          "data": {
            "image/png": "[encoded data removed]",
            "text/plain": [
              "<Figure size 640x480 with 1 Axes>"
            ]
          },
          "metadata": {},
          "output_type": "display_data"
        }
      ],
      "source": [
        "plt.plot(all_losses_rnn)\n",
        "plt.plot(all_losses_lstm)\n",
        "plt.plot(all_losses_lstm2)\n",
        "plt.legend(['RNN', 'LSTM', 'Pytorch LSTM']);"
      ]
    },
    {
      "cell_type": "markdown",
      "metadata": {
        "id": "7oXFK_V11LFb"
      },
      "source": [
        "\n",
        "LSTM большой шаг к усовершенствованию классических RNN, но следующий шаг был ещё значимее - появление attention. Механизм внимания позволяет обращать внимание на большИй контекст."
      ]
    },
    {
      "cell_type": "markdown",
      "metadata": {
        "id": "iIBeVrepiM7p"
      },
      "source": [
        "## Упражнения\n",
        "\n",
        "* попробуйте ограничить градиенты или веса в обычной RNN, чтобы она обучалась на последовательностях длины 512\n",
        "* попробуйте GRU вместо LSTM"
      ]
    },
    {
      "cell_type": "code",
      "execution_count": null,
      "metadata": {
        "id": "mGT4hoByibCZ"
      },
      "outputs": [],
      "source": []
    }
  ],
  "metadata": {
    "accelerator": "GPU",
    "colab": {
      "gpuType": "T4",
      "provenance": [],
      "toc_visible": true
    },
    "kernelspec": {
      "display_name": "Python 3",
      "name": "python3"
    },
    "language_info": {
      "name": "python"
    }
  },
  "nbformat": 4,
  "nbformat_minor": 0
}
