{
  "nbformat": 4,
  "nbformat_minor": 0,
  "metadata": {
    "colab": {
      "provenance": [],
      "toc_visible": true,
      "gpuType": "T4"
    },
    "kernelspec": {
      "name": "python3",
      "display_name": "Python 3"
    },
    "language_info": {
      "name": "python"
    }
  },
  "cells": [
    {
      "cell_type": "markdown",
      "source": [
        "# SeqGAN\n",
        "\n",
        "Цели:\n",
        "\n",
        "- Разобраться с основными архитектурными решениями и алгоритмом обучения SeqGAN\n",
        "- Реализация SeqGAN для задачи посимвольной генерации текстов\n",
        "\n",
        "Содержание:\n",
        "\n",
        "* [Введение](#intro)\n",
        "* [Загрузка данных](#load_data)\n",
        "* [Алгоритм обучения](#algorithm)\n",
        "  * [Генератор](#generator)\n",
        "  * [Дискриминатор](#discriminator)\n",
        "  * [Предобучение генератора (MLE)](#gen_pretrain)\n",
        "  * [Предобучение дискриминатора](#disc_pretrain)\n",
        "  * [Обучение в состязательном режиме](#adversarial_train)\n",
        "\n",
        "Ссылки:\n",
        "\n",
        "* [SeqGAN: Sequence Generative Adversarial Nets with Policy Gradient. Статья на ArXiv](https://arxiv.org/pdf/1609.05473v6.pdf)\n",
        "* [Реализация на pytorch](https://github.com/suragnair/seqGAN/blob/master/generator.py)\n",
        "* [Deep Reinforcement Learning: Pong from Pixels](http://karpathy.github.io/2016/05/31/rl/)\n"
      ],
      "metadata": {
        "id": "UkjfPrklG6TK"
      }
    },
    {
      "cell_type": "markdown",
      "source": [
        "<a name=\"load_data\"></a>\n",
        "## Загрузка данных"
      ],
      "metadata": {
        "id": "_KUKbAAq10hR"
      }
    },
    {
      "cell_type": "code",
      "source": [
        "import torch\n",
        "import torch.nn as nn\n",
        "import torch.nn.functional as F\n",
        "\n",
        "from time import time\n",
        "from collections import namedtuple\n",
        "from sklearn.model_selection import train_test_split\n",
        "\n",
        "import numpy as np\n",
        "import matplotlib.pyplot as plt"
      ],
      "metadata": {
        "id": "USX7LvX0Gpzm"
      },
      "execution_count": null,
      "outputs": []
    },
    {
      "cell_type": "code",
      "execution_count": null,
      "metadata": {
        "id": "NAnfc4vvFAa8"
      },
      "outputs": [],
      "source": [
        "!wget -q https://huggingface.co/datasets/sswt/arxiv_sample_50K/resolve/main/title_summary_ascii.txt.tar.gz -O data.tar.gz && tar -xzf data.tar.gz"
      ]
    },
    {
      "cell_type": "code",
      "source": [
        "max_len = 100  # default - 128, 32 for debug\n",
        "with open('title_summary_ascii.txt') as fp:\n",
        "    lines = [line[:max_len] for line in fp.readlines()]"
      ],
      "metadata": {
        "id": "AAxjSxf-FRan"
      },
      "execution_count": null,
      "outputs": []
    },
    {
      "cell_type": "code",
      "source": [
        "lines[:3]"
      ],
      "metadata": {
        "colab": {
          "base_uri": "https://localhost:8080/"
        },
        "id": "-8GEnsxMFtMS",
        "outputId": "07b3b749-246e-42be-dbc9-438fcdd99caa"
      },
      "execution_count": null,
      "outputs": [
        {
          "output_type": "execute_result",
          "data": {
            "text/plain": [
              "[' On Finitely Generated Models of Theories with at Most Countably Many Nonisomorphic Finitely Generat',\n",
              " ' Generalized modeling of ecological population dynamics ; Over the past years several authors have u',\n",
              " ' Generating Subsurface Earth Models using Discrete Representation Learning and Deep Autoregressive N']"
            ]
          },
          "metadata": {},
          "execution_count": 4
        }
      ]
    },
    {
      "cell_type": "code",
      "source": [
        "vocab = {c: i for i, c in enumerate(sorted(set([c for l in lines for c in l])))}\n",
        "inv_vocab = {i: c for c, i in vocab.items()}\n",
        "vocab_size = len(vocab)\n",
        "len(vocab)"
      ],
      "metadata": {
        "colab": {
          "base_uri": "https://localhost:8080/"
        },
        "id": "CISnZgL-GHxD",
        "outputId": "2ecb79e0-a495-440b-c8bc-0bd594e940d2"
      },
      "execution_count": null,
      "outputs": [
        {
          "output_type": "execute_result",
          "data": {
            "text/plain": [
              "68"
            ]
          },
          "metadata": {},
          "execution_count": 5
        }
      ]
    },
    {
      "cell_type": "code",
      "source": [
        "''.join(vocab)"
      ],
      "metadata": {
        "colab": {
          "base_uri": "https://localhost:8080/",
          "height": 35
        },
        "id": "V0-6kK_lGOzd",
        "outputId": "e1ba6a07-705f-4717-a773-e3ebf89a6b08"
      },
      "execution_count": null,
      "outputs": [
        {
          "output_type": "execute_result",
          "data": {
            "text/plain": [
              "\"\\n ',.0123456789;ABCDEFGHIJKLMNOPQRSTUVWXYZabcdefghijklmnopqrstuvwxyz\""
            ],
            "application/vnd.google.colaboratory.intrinsic+json": {
              "type": "string"
            }
          },
          "metadata": {},
          "execution_count": 6
        }
      ]
    },
    {
      "cell_type": "code",
      "source": [
        "lines, val_lines = train_test_split(lines, test_size=1024, random_state=42)\n",
        "len(lines), len(val_lines)"
      ],
      "metadata": {
        "colab": {
          "base_uri": "https://localhost:8080/"
        },
        "id": "yrFFSvNltoZs",
        "outputId": "418af980-3d98-440e-cfba-672e9dec0ea2"
      },
      "execution_count": null,
      "outputs": [
        {
          "output_type": "execute_result",
          "data": {
            "text/plain": [
              "(48976, 1024)"
            ]
          },
          "metadata": {},
          "execution_count": 7
        }
      ]
    },
    {
      "cell_type": "markdown",
      "source": [
        "<a name=\"intro\"></a>\n",
        "## Введение\n",
        "\n",
        "В классических GAN'ах генератор сэмплирует случайный вектор $z$, а затем выполняет детерминированное преобразование в соответствии с его весами. Далее градиент функции потерь дискриминатора используется, чтобы немного изменить генерируемое генератором значение и оно стало чуть более правдоподобным. Но для дискретных токенов нельзя \"немного\" изменить значение. То есть для изображения можно изменить пиксель на 0.0001, а для слова \"слово + 0.0001\" непонятно чем является, даже если делать это в пространстве эмбеддингов.\n",
        "\n",
        "Ещё один недостаток заключается в том, что GAN оценивает функцию потерь только для последовательности целиком, то есть после того, как она полностью сгенерирована, а сделать это в процессе генерации для GAN не так просто.\n",
        "\n",
        "В SeqGAN процесс генерации рассматривается как процесс последовательного принятия решений, как в обучении с подкреплением (reinforcement learning). Основная идея обучения с подкреплением состоит в том, что агент находясь в каком-то состоянии взаимодействует с окружающей средой, предпринимая действия и переходя в новые состояния. Окружающая среда его поощряет за эти действия, а агент продолжает их предпринимать, пытаясь максимизировать свою \"награду\".\n",
        "\n",
        "В нашей постановке задачи:\n",
        "\n",
        "* состояние - уже сгенерированная часть последовательности\n",
        "* действие - выбор следующего токена\n",
        "\n",
        "Как определить вознаграждение?\n",
        "\n",
        "Для этого используется дискриминатор, а точнее его оценка вероятности принадлежности сгенерированной последовательности к реальной.\n",
        "\n",
        "У нас есть генератор $G_\\theta$ и дискриминатор $D_ϕ$. $D_ϕ(Y_{1:T})$ - вероятность того, что последовательность $Y_{1:T}$ - реальная. $G$ обучается с помощью алгоритма policy gradient, где финальное значение вознаграждения за всю сгенерированную последовательность целиком выдаётся $D$ и передаётся обратно к промежуточным состояниям (предыдущим токенам) с помощью поиска по методу Монте Карло MC.\n",
        "\n",
        "<img src=\"https://raw.githubusercontent.com/sswt/dive2gai/main/.github/images/w4/seqgan_arch.png\" alt=\"SeqGAN\" width=\"75%\" />\n"
      ],
      "metadata": {
        "id": "mz48kdTc15E7"
      }
    },
    {
      "cell_type": "markdown",
      "source": [
        "<a name=\"algorithm\"></a>\n",
        "## Алгоритм обучения\n",
        "\n",
        "У нас нет немедленного вознаграждения на каждом шаге, в этом случае цель генератора - максимизировать мат. ожидание вознаграждения в конце последовательности шагов. Вознаграждение оценивает дискриминатор - чем ближе оно к 1 для сгенерированных последовательностей, тем лучше.\n",
        "И здесь мы не просто на каждом шаге оцениваем удачность текущего действия, но ещё и беспокоимся о конечном результате. Это похоже на игры в шахматы или Го, когда мы можем поступиться текущими интересами для победы во всей партии.\n",
        "\n",
        "Для оценки вознаграждения на промежуточных шагах, мы применяем метод Монте-Карло. Находясь в состоянии t, мы в соответствии с генератором сэмплируем последние T-t токенов последовательности $Y_{1:T}$ и через дискриминатор оцениваем вероятность того, что она реальная. Повторяем процедуру N раз и усредняем оценку полученной вероятности.\n",
        "\n",
        "Весь алгоритм выглядит следующим образом:\n",
        "\n",
        "<img src=\"https://raw.githubusercontent.com/sswt/dive2gai/main/.github/images/w4/seqgan_algorithm.png\" alt=\"SeqGAN algorithm\" width=\"50%\" />\n",
        "\n",
        "В начале генератор $G_θ$ предобучается с помощью MLE. Затем дискриминатор $D_ϕ$ предобучается отличать сгенерированные $G_θ$ последовательности от реальных. По опыту авторов обучающий сигнал от предобученного $D_ϕ$ позволяет обучать генератор более эффективно.\n",
        "\n",
        "Затем $G_θ$ и $D_ϕ$ обучаются последовательно. Как только генератор прогрессирует за счёт обучения на g-шагах, дискриминатор тоже надо дообучить на улучшенных сгенерированных последовательностях. Для баланса число генерируемых последовательностей совпадает с числом реальных.\n",
        "\n",
        "Формулы из алгоритма:\n",
        "\n",
        "* (4) - усреднение вознаграждения за N шагов\n",
        "* (8) - применение градиента целевой функции для максимизации мат. ожидания финального вознаграждения\n",
        "* (5) - обычная кросс-энтропия для бинарной классификации"
      ],
      "metadata": {
        "id": "8cdOOfdbCZo7"
      }
    },
    {
      "cell_type": "markdown",
      "source": [
        "<a name=\"generator\"></a>\n",
        "### Генератор\n",
        "\n",
        "Генератор - обычная RNN, здесь используется LSTM, но это может быть GRU или трансформер."
      ],
      "metadata": {
        "id": "b51LeR2aHYig"
      }
    },
    {
      "cell_type": "markdown",
      "source": [
        "TODO:\n",
        "\n",
        "* Fix tensor padding in data iter"
      ],
      "metadata": {
        "id": "TQabSIKRGJo-"
      }
    },
    {
      "cell_type": "code",
      "source": [
        "class DataIterator:\n",
        "    def __init__(self, texts, vocab, batch_size=32, max_len=256):\n",
        "        self.texts = texts\n",
        "        self.vocab = vocab\n",
        "        self.max_len = max_len\n",
        "        self.batch_size = batch_size\n",
        "        self.ixs = np.arange(len(texts))\n",
        "        self.pos = 0\n",
        "        self.reset()\n",
        "\n",
        "    def __len__(self):\n",
        "        return len(self.texts) // self.batch_size\n",
        "\n",
        "    def __iter__(self):\n",
        "        return self\n",
        "\n",
        "    def __next__(self):\n",
        "        if len(self)*self.batch_size - self.pos < self.batch_size:\n",
        "           raise StopIteration\n",
        "        indices = self.ixs[self.pos:self.pos + self.batch_size]\n",
        "        # print([self.to_tensor(self.texts[i]) for i in indices])\n",
        "        sequences = torch.stack([self.to_tensor(self.texts[i]) for i in indices])\n",
        "        self.pos += self.batch_size\n",
        "        return sequences[:, :-1], sequences[:, 1:]\n",
        "\n",
        "    def reset(self):\n",
        "        self.pos = 0\n",
        "        np.random.shuffle(self.ixs)\n",
        "\n",
        "    def to_tensor(self, line):\n",
        "        t = torch.LongTensor([self.vocab[line[li]] for li in range(len(line[:self.max_len]))])\n",
        "        if len(line) < self.max_len:\n",
        "            t = nn.ConstantPad1d((0, self.max_len - len(line)), 0)(t)\n",
        "        return t"
      ],
      "metadata": {
        "id": "TCMPtLyGCxkV"
      },
      "execution_count": null,
      "outputs": []
    },
    {
      "cell_type": "code",
      "source": [
        "class Generator(nn.Module):\n",
        "    \"\"\" Generator \"\"\"\n",
        "\n",
        "    def __init__(self, vocab_size, embedding_dim, hidden_dim, use_cuda):\n",
        "        super(Generator, self).__init__()\n",
        "        self.hidden_dim = hidden_dim\n",
        "        self.use_cuda = use_cuda\n",
        "        self.embed = nn.Embedding(vocab_size, embedding_dim)\n",
        "        self.lstm = nn.LSTM(embedding_dim, hidden_dim, batch_first=True)\n",
        "        self.fc = nn.Linear(hidden_dim, vocab_size)\n",
        "        self.log_softmax = nn.LogSoftmax(dim=1)\n",
        "        self.init_params()\n",
        "\n",
        "    def forward(self, x):\n",
        "        \"\"\"\n",
        "        Embeds input and applies LSTM on the input sequence.\n",
        "\n",
        "        Inputs: x\n",
        "            - x: (batch_size, seq_len), sequence of tokens generated by generator\n",
        "        Outputs: out\n",
        "            - out: (batch_size * seq_len, vocab_size), lstm output prediction\n",
        "        \"\"\"\n",
        "        self.lstm.flatten_parameters()\n",
        "        h0, c0 = self.init_hidden(x.size(0))\n",
        "        emb = self.embed(x) # batch_size * seq_len * emb_dim\n",
        "        out, _ = self.lstm(emb, (h0, c0)) # out: batch_size * seq_len * hidden_dim\n",
        "        out = self.log_softmax(self.fc(out.contiguous().view(-1, self.hidden_dim))) # (batch_size*seq_len) * vocab_size\n",
        "        return out\n",
        "\n",
        "    def step(self, x, h, c):\n",
        "        \"\"\"\n",
        "        Embeds input and applies LSTM one token at a time (seq_len = 1).\n",
        "\n",
        "        Inputs: x, h, c\n",
        "            - x: (batch_size, 1), sequence of tokens generated by generator\n",
        "            - h: (1, batch_size, hidden_dim), lstm hidden state\n",
        "            - c: (1, batch_size, hidden_dim), lstm cell state\n",
        "        Outputs: out, h, c\n",
        "            - out: (batch_size, vocab_size), lstm output prediction\n",
        "            - h: (1, batch_size, hidden_dim), lstm hidden state\n",
        "            - c: (1, batch_size, hidden_dim), lstm cell state\n",
        "        \"\"\"\n",
        "        self.lstm.flatten_parameters()\n",
        "        emb = self.embed(x) # batch_size * 1 * emb_dim\n",
        "        out, (h, c) = self.lstm(emb, (h, c)) # out: batch_size * 1 * hidden_dim\n",
        "        out = self.log_softmax(self.fc(out.contiguous().view(-1, self.hidden_dim))) # batch_size * vocab_size\n",
        "        return out, h, c\n",
        "\n",
        "    def init_hidden(self, batch_size):\n",
        "        h = torch.zeros(1, batch_size, self.hidden_dim)\n",
        "        c = torch.zeros(1, batch_size, self.hidden_dim)\n",
        "        if self.use_cuda:\n",
        "            h, c = h.cuda(), c.cuda()\n",
        "        return h, c\n",
        "\n",
        "    def init_params(self):\n",
        "        for param in self.parameters():\n",
        "            param.data.uniform_(-0.05, 0.05)\n",
        "\n",
        "    def sample(self, batch_size, seq_len, x=None):\n",
        "        \"\"\"\n",
        "        Samples the network and returns a batch of samples of length seq_len.\n",
        "\n",
        "        Outputs: out\n",
        "            - out: (batch_size * seq_len)\n",
        "        \"\"\"\n",
        "        # TODO: Fix generation to be one pass instead of step-by-step loop\n",
        "        # TODO: Add stop iteration on EOS token\n",
        "        samples = []\n",
        "        if x is None:\n",
        "            h, c = self.init_hidden(batch_size)\n",
        "            x = torch.zeros(batch_size, 1, dtype=torch.int64)\n",
        "            if self.use_cuda:\n",
        "                x = x.cuda()\n",
        "            for _ in range(seq_len):\n",
        "                out, h, c = self.step(x, h, c)\n",
        "                prob = torch.exp(out)\n",
        "                x = torch.multinomial(prob, 1)\n",
        "                samples.append(x)\n",
        "        else:\n",
        "            h, c = self.init_hidden(x.size(0))\n",
        "            given_len = x.size(1)\n",
        "            lis = x.chunk(x.size(1), dim=1)\n",
        "            for i in range(given_len):\n",
        "                out, h, c = self.step(lis[i], h, c)\n",
        "                samples.append(lis[i])\n",
        "            prob = torch.exp(out)\n",
        "            x = torch.multinomial(prob, 1)\n",
        "            for _ in range(given_len, seq_len):\n",
        "                samples.append(x)\n",
        "                out, h, c = self.step(x, h, c)\n",
        "                prob = torch.exp(out)\n",
        "                x = torch.multinomial(prob, 1)\n",
        "        out = torch.cat(samples, dim=1) # along the batch_size dimension\n",
        "        return out"
      ],
      "metadata": {
        "id": "TP6iKKWuPAep"
      },
      "execution_count": null,
      "outputs": []
    },
    {
      "cell_type": "markdown",
      "source": [
        "<a name=\"discriminator\"></a>\n",
        "### Дискриминатор\n",
        "\n",
        "В качестве дискриминатора используется свёрточная сеть, которая предсказывает для последовательности целиком - реальная она или сгенерированная.\n",
        "\n",
        "* для токенов строятся k-мерные эмбеддинги\n",
        "* применяется набор свёрточных фильтров с различной шириной окна\n",
        "* max pooling поверх которого применяется highway-архитектура\n",
        "* dropout\n",
        "* полносвязный слой с выходом на два класса\n",
        "\n",
        "Highway-архитектура - когда в глубоких полносвязных сетях добавляются skip connections через несколько слоёв, которые называются information highways. При этом информация пропускается через фильтры с сигмоидой (привет LSTM). Выход слоя считается по формуле:\n",
        "\n",
        "$y = H(x, W_H) · T(x, W_T) + x · C(x, W_C)$,\n",
        "\n",
        "где $ H(x, W_H)$ - привычный линейный слой с какой-то нелинейной функцией активации $H$, $T(x, W_T)$ - transform gate с сигмоидой, $C(x,W_C)$ - carry gate, $С = 1 - T$.\n",
        "\n",
        "Это позволяет облегчить протекание градиентов."
      ],
      "metadata": {
        "id": "s_NRHPYwDRyB"
      }
    },
    {
      "cell_type": "code",
      "source": [
        "import math\n",
        "import random\n",
        "\n",
        "class DisDataIter:\n",
        "    def __init__(self, real_data, fake_data, batch_size, vocab, max_len):\n",
        "        super(DisDataIter, self).__init__()\n",
        "        assert len(real_data) == len(fake_data)\n",
        "        self.batch_size = batch_size\n",
        "        self.data = real_data + fake_data\n",
        "        self.labels = [1 for _ in range(len(real_data))] + [0 for _ in range(len(fake_data))]\n",
        "        self.pairs = list(zip(self.data, self.labels))\n",
        "        self.data_num = len(self.pairs)\n",
        "        self.indices = range(self.data_num)\n",
        "        self.num_batches = math.ceil(self.data_num / self.batch_size)\n",
        "        self.vocab = vocab\n",
        "        self.max_len = max_len\n",
        "        self.idx = 0\n",
        "        self.reset()\n",
        "\n",
        "    def __len__(self):\n",
        "        return self.num_batches\n",
        "\n",
        "    def __iter__(self):\n",
        "        return self\n",
        "\n",
        "    def __next__(self):\n",
        "        return self.next()\n",
        "\n",
        "    def reset(self):\n",
        "        self.idx = 0\n",
        "        random.shuffle(self.pairs)\n",
        "\n",
        "    def next(self):\n",
        "        if self.idx >= self.data_num:\n",
        "            raise StopIteration\n",
        "        index = self.indices[self.idx : self.idx + self.batch_size]\n",
        "        pairs = [self.pairs[i] for i in index]\n",
        "        data = [self.to_tensor(p[0]) for p in pairs]\n",
        "        label = [torch.tensor(p[1]) for p in pairs]\n",
        "        data = torch.stack(data)\n",
        "        label = torch.stack(label)\n",
        "        self.idx += self.batch_size\n",
        "        return data, label\n",
        "\n",
        "    def to_tensor(self, line):\n",
        "        t = torch.LongTensor([self.vocab[line[li]] for li in range(len(line[:self.max_len]))])\n",
        "        if len(line) < self.max_len:\n",
        "            t = nn.ConstantPad1d((0, self.max_len - len(line)), 0)(t)\n",
        "        return t"
      ],
      "metadata": {
        "id": "sAuQq-GDHQGx"
      },
      "execution_count": null,
      "outputs": []
    },
    {
      "cell_type": "code",
      "source": [
        "class Discriminator(nn.Module):\n",
        "    \"\"\"\n",
        "    A CNN for text classification.\n",
        "    Uses an embedding layer, followed by a convolutional, max-pooling and softmax layer.\n",
        "    Highway architecture based on the pooled feature maps is added. Dropout is adopted.\n",
        "    \"\"\"\n",
        "\n",
        "    def __init__(self, vocab_size, embedding_dim, filter_sizes, num_filters, dropout_prob, num_classes=2):\n",
        "        super(Discriminator, self).__init__()\n",
        "        self.embed = nn.Embedding(vocab_size, embedding_dim)\n",
        "        self.convs = nn.ModuleList([\n",
        "            nn.Conv2d(1, num_f, (f_size, embedding_dim)) for f_size, num_f in zip(filter_sizes, num_filters)\n",
        "        ])\n",
        "        self.highway = nn.Linear(sum(num_filters), sum(num_filters))\n",
        "        self.dropout = nn.Dropout(p = dropout_prob)\n",
        "        self.fc = nn.Linear(sum(num_filters), num_classes)\n",
        "\n",
        "    def forward(self, x):\n",
        "        \"\"\"\n",
        "        Inputs: x\n",
        "            - x: (batch_size, seq_len)\n",
        "        Outputs: out\n",
        "            - out: (batch_size, num_classes)\n",
        "        \"\"\"\n",
        "        emb = self.embed(x).unsqueeze(1) # batch_size, 1 * seq_len * emb_dim\n",
        "        convs = [F.relu(conv(emb)).squeeze(3) for conv in self.convs] # [batch_size * num_filter * seq_len]\n",
        "        pools = [F.max_pool1d(conv, conv.size(2)).squeeze(2) for conv in convs] # [batch_size * num_filter]\n",
        "        out = torch.cat(pools, 1)  # batch_size * sum(num_filters)\n",
        "        highway = self.highway(out)\n",
        "        transform = F.sigmoid(highway)\n",
        "        out = transform * F.relu(highway) + (1. - transform) * out # sets C = 1 - T\n",
        "        out = F.log_softmax(self.fc(self.dropout(out)), dim=1) # batch * num_classes\n",
        "        return out"
      ],
      "metadata": {
        "id": "gQcFJowcPzws"
      },
      "execution_count": null,
      "outputs": []
    },
    {
      "cell_type": "markdown",
      "source": [
        "<a name=\"gen_pretrain\"></a>\n",
        "### Предобучение генератора с помощью MLE\n",
        "\n",
        "Уже знакомое \"привычное\" обучение RNN с предыдущего занятия"
      ],
      "metadata": {
        "id": "0_f69B7AFOf_"
      }
    },
    {
      "cell_type": "code",
      "source": [
        "def train_generator_MLE(gen, data_iter, criterion, optimizer, epochs, losses, cuda):\n",
        "    \"\"\"\n",
        "    Train generator with MLE\n",
        "    \"\"\"\n",
        "    for epoch in range(epochs):\n",
        "        total_loss = 0.\n",
        "        for data, target in data_iter:\n",
        "            if cuda:\n",
        "                data, target = data.cuda(), target.cuda()\n",
        "            target = target.contiguous().view(-1)\n",
        "            output = gen(data)\n",
        "            loss = criterion(output, target)\n",
        "            total_loss += loss.item()\n",
        "            optimizer.zero_grad()\n",
        "            loss.backward()\n",
        "            optimizer.step()\n",
        "        data_iter.reset()\n",
        "        avg_loss = total_loss / len(data_iter)\n",
        "        print(f\"Epoch {epoch}, train loss: {avg_loss:.5f}\", end=', ')\n",
        "        losses.append(avg_loss)\n",
        "\n",
        "def generate_samples(model, batch_size, generated_num, inv_vocab, g_seq_len=20):\n",
        "    samples = []\n",
        "    for _ in range(int(generated_num / batch_size)):\n",
        "        sample = model.sample(batch_size, g_seq_len).cpu().data.numpy().tolist()\n",
        "        samples.extend(sample)\n",
        "    return [''.join([inv_vocab[s] for s in sample]) for sample in samples]\n",
        "\n",
        "def eval_generator(model, data_iter, criterion, cuda):\n",
        "    \"\"\"\n",
        "    Evaluate generator with NLL\n",
        "    \"\"\"\n",
        "    total_loss = 0.\n",
        "    with torch.no_grad():\n",
        "        for data, target in data_iter:\n",
        "            if cuda:\n",
        "                data, target = data.cuda(), target.cuda()\n",
        "            target = target.contiguous().view(-1)\n",
        "            pred = model(data)\n",
        "            loss = criterion(pred, target)\n",
        "            total_loss += loss.item()\n",
        "    avg_loss = total_loss / len(data_iter)\n",
        "    return avg_loss"
      ],
      "metadata": {
        "id": "piDErOQi87Pw"
      },
      "execution_count": null,
      "outputs": []
    },
    {
      "cell_type": "code",
      "source": [
        "args = {\n",
        "    'hpc': False,  # 'set to hpc mode'\n",
        "    'data_path': './seq_gan/', # data path to save files (default: ./seq_gan/)\n",
        "    'rounds': 15,  # rounds of adversarial training (default: 150)\n",
        "    'g_pretrain_steps': 120,  #! steps of pre-training of generators (default: 120)\n",
        "    'd_pretrain_steps': 30,  #! steps of pre-training of discriminators (default: 50)\n",
        "    'g_steps': 1,  # steps of generator updates in one round of adverarial training (default: 1)\n",
        "    'd_steps': 2,  #! steps of discriminator updates in one round of adverarial training (default: 3)\n",
        "    'gk_epochs': 1,  # epochs of generator updates in one step of generate update (default: 1)\n",
        "    'dk_epochs': 2,  #! epochs of discriminator updates in one step of discriminator update (default: 3)\n",
        "    'update_rate': 0.8,  # update rate of roll-out model (default: 0.8)\n",
        "    'n_rollout': 16,  #! number of roll-out (default: 16)\n",
        "    # 'vocab_size': 10,  # vocabulary size (default: 10)\n",
        "    'batch_size': 64,  # batch size (default: 64)\n",
        "    'n_samples': 6400,  # number of samples generated per time (default: 6400, speedup: 320)\n",
        "    'gen_lr': 1e-3,  # learning rate of generator optimizer (default: 1e-3)\n",
        "    'dis_lr': 1e-3,  # learning rate of discriminator optimizer (default: 1e-3)\n",
        "    'no_cuda': False,  # disables CUDA training\n",
        "    'seed': 1,  # random seed (default: 1)\n",
        "}\n",
        "args = namedtuple('Struct', args)(**args)"
      ],
      "metadata": {
        "id": "CmKdqR3iNPnk"
      },
      "execution_count": null,
      "outputs": []
    },
    {
      "cell_type": "code",
      "source": [
        "cuda = torch.cuda.is_available()\n",
        "device = torch.device('cuda') if torch.cuda.is_available() else torch.device('cpu')\n",
        "cuda"
      ],
      "metadata": {
        "colab": {
          "base_uri": "https://localhost:8080/"
        },
        "id": "bCHonchL-fqJ",
        "outputId": "025ec0ef-a645-46ef-b253-0f0fd6d75215"
      },
      "execution_count": null,
      "outputs": [
        {
          "output_type": "execute_result",
          "data": {
            "text/plain": [
              "True"
            ]
          },
          "metadata": {},
          "execution_count": 14
        }
      ]
    },
    {
      "cell_type": "code",
      "source": [
        "real_lines = lines[:args.n_samples]"
      ],
      "metadata": {
        "id": "tKgmU1tlPA2B"
      },
      "execution_count": null,
      "outputs": []
    },
    {
      "cell_type": "code",
      "source": [
        "data_iter = DataIterator(real_lines, vocab, max_len=max_len)"
      ],
      "metadata": {
        "id": "ZmSLap-nGjwm"
      },
      "execution_count": null,
      "outputs": []
    },
    {
      "cell_type": "code",
      "source": [
        "# Generator Parameters\n",
        "g_embed_dim = 32\n",
        "g_hidden_dim = 32\n",
        "generator = Generator(vocab_size, g_embed_dim, g_hidden_dim, cuda).to(device)\n",
        "nll_loss = nn.NLLLoss()\n",
        "gen_optimizer = torch.optim.Adam(params=generator.parameters(), lr=args.gen_lr)"
      ],
      "metadata": {
        "id": "Feqx1AUD-U39"
      },
      "execution_count": null,
      "outputs": []
    },
    {
      "cell_type": "code",
      "source": [
        "gen_pretrain_train_loss = []\n",
        "gen_pretrain_eval_loss = []\n",
        "for i in range(args.g_pretrain_steps):\n",
        "    print(\"G-Step {}\".format(i), end=' - ')\n",
        "    train_generator_MLE(generator, data_iter, nll_loss, gen_optimizer, args.gk_epochs, gen_pretrain_train_loss, cuda)\n",
        "    eval_iter = DataIterator(val_lines, vocab, max_len=max_len)\n",
        "    gen_loss = eval_generator(generator, eval_iter, nll_loss, cuda)\n",
        "    gen_pretrain_eval_loss.append(gen_loss)\n",
        "    print(\"eval loss: {:.5f}\".format(gen_loss))\n",
        "    # print(generate_samples(generator, args.batch_size, args.batch_size, inv_vocab, g_seq_len=max_len)[0])\n",
        "gen_lines = generate_samples(generator, args.batch_size, args.n_samples, inv_vocab, g_seq_len=max_len)"
      ],
      "metadata": {
        "id": "muqqEQqYKZ8f",
        "colab": {
          "base_uri": "https://localhost:8080/"
        },
        "outputId": "eccdca3e-c5a5-43b8-cd4a-ca291077ab2f"
      },
      "execution_count": null,
      "outputs": [
        {
          "output_type": "stream",
          "name": "stdout",
          "text": [
            "G-Step 0 - Epoch 0, train loss: 3.35826, eval loss: 3.16017\n",
            "G-Step 1 - Epoch 0, train loss: 3.12323, eval loss: 3.04630\n",
            "G-Step 2 - Epoch 0, train loss: 2.94795, eval loss: 2.87185\n",
            "G-Step 3 - Epoch 0, train loss: 2.80310, eval loss: 2.73884\n",
            "G-Step 4 - Epoch 0, train loss: 2.66733, eval loss: 2.62265\n",
            "G-Step 5 - Epoch 0, train loss: 2.56721, eval loss: 2.53574\n",
            "G-Step 6 - Epoch 0, train loss: 2.47648, eval loss: 2.44241\n",
            "G-Step 7 - Epoch 0, train loss: 2.38962, eval loss: 2.36485\n",
            "G-Step 8 - Epoch 0, train loss: 2.31281, eval loss: 2.29112\n",
            "G-Step 9 - Epoch 0, train loss: 2.24586, eval loss: 2.23454\n",
            "G-Step 10 - Epoch 0, train loss: 2.19208, eval loss: 2.18456\n",
            "G-Step 11 - Epoch 0, train loss: 2.14387, eval loss: 2.13856\n",
            "G-Step 12 - Epoch 0, train loss: 2.10176, eval loss: 2.10031\n",
            "G-Step 13 - Epoch 0, train loss: 2.06585, eval loss: 2.06814\n",
            "G-Step 14 - Epoch 0, train loss: 2.03520, eval loss: 2.03791\n",
            "G-Step 15 - Epoch 0, train loss: 2.00810, eval loss: 2.01224\n",
            "G-Step 16 - Epoch 0, train loss: 1.98361, eval loss: 1.98854\n",
            "G-Step 17 - Epoch 0, train loss: 1.96089, eval loss: 1.96681\n",
            "G-Step 18 - Epoch 0, train loss: 1.94066, eval loss: 1.94723\n",
            "G-Step 19 - Epoch 0, train loss: 1.92238, eval loss: 1.92989\n",
            "G-Step 20 - Epoch 0, train loss: 1.90576, eval loss: 1.91432\n",
            "G-Step 21 - Epoch 0, train loss: 1.89064, eval loss: 1.89940\n",
            "G-Step 22 - Epoch 0, train loss: 1.87669, eval loss: 1.88638\n",
            "G-Step 23 - Epoch 0, train loss: 1.86374, eval loss: 1.87396\n",
            "G-Step 24 - Epoch 0, train loss: 1.85161, eval loss: 1.86335\n",
            "G-Step 25 - Epoch 0, train loss: 1.84024, eval loss: 1.85116\n",
            "G-Step 26 - Epoch 0, train loss: 1.82927, eval loss: 1.84107\n",
            "G-Step 27 - Epoch 0, train loss: 1.81872, eval loss: 1.83134\n",
            "G-Step 28 - Epoch 0, train loss: 1.80878, eval loss: 1.82239\n",
            "G-Step 29 - Epoch 0, train loss: 1.79953, eval loss: 1.81365\n",
            "G-Step 30 - Epoch 0, train loss: 1.79080, eval loss: 1.80535\n",
            "G-Step 31 - Epoch 0, train loss: 1.78282, eval loss: 1.79770\n",
            "G-Step 32 - Epoch 0, train loss: 1.77511, eval loss: 1.79060\n",
            "G-Step 33 - Epoch 0, train loss: 1.76785, eval loss: 1.78354\n",
            "G-Step 34 - Epoch 0, train loss: 1.76108, eval loss: 1.77724\n",
            "G-Step 35 - Epoch 0, train loss: 1.75451, eval loss: 1.77151\n",
            "G-Step 36 - Epoch 0, train loss: 1.74832, eval loss: 1.76569\n",
            "G-Step 37 - Epoch 0, train loss: 1.74198, eval loss: 1.75997\n",
            "G-Step 38 - Epoch 0, train loss: 1.73638, eval loss: 1.75413\n",
            "G-Step 39 - Epoch 0, train loss: 1.73059, eval loss: 1.74914\n",
            "G-Step 40 - Epoch 0, train loss: 1.72537, eval loss: 1.74377\n",
            "G-Step 41 - Epoch 0, train loss: 1.72013, eval loss: 1.73916\n",
            "G-Step 42 - Epoch 0, train loss: 1.71527, eval loss: 1.73491\n",
            "G-Step 43 - Epoch 0, train loss: 1.71046, eval loss: 1.73084\n",
            "G-Step 44 - Epoch 0, train loss: 1.70609, eval loss: 1.72560\n",
            "G-Step 45 - Epoch 0, train loss: 1.70170, eval loss: 1.72167\n",
            "G-Step 46 - Epoch 0, train loss: 1.69763, eval loss: 1.71775\n",
            "G-Step 47 - Epoch 0, train loss: 1.69386, eval loss: 1.71472\n",
            "G-Step 48 - Epoch 0, train loss: 1.68997, eval loss: 1.71138\n",
            "G-Step 49 - Epoch 0, train loss: 1.68662, eval loss: 1.70775\n",
            "G-Step 50 - Epoch 0, train loss: 1.68292, eval loss: 1.70488\n",
            "G-Step 51 - Epoch 0, train loss: 1.67975, eval loss: 1.70212\n",
            "G-Step 52 - Epoch 0, train loss: 1.67644, eval loss: 1.69875\n",
            "G-Step 53 - Epoch 0, train loss: 1.67352, eval loss: 1.69659\n",
            "G-Step 54 - Epoch 0, train loss: 1.67046, eval loss: 1.69356\n",
            "G-Step 55 - Epoch 0, train loss: 1.66747, eval loss: 1.69122\n",
            "G-Step 56 - Epoch 0, train loss: 1.66487, eval loss: 1.68904\n",
            "G-Step 57 - Epoch 0, train loss: 1.66235, eval loss: 1.68679\n",
            "G-Step 58 - Epoch 0, train loss: 1.65962, eval loss: 1.68449\n",
            "G-Step 59 - Epoch 0, train loss: 1.65708, eval loss: 1.68194\n",
            "G-Step 60 - Epoch 0, train loss: 1.65452, eval loss: 1.67946\n",
            "G-Step 61 - Epoch 0, train loss: 1.65233, eval loss: 1.67781\n",
            "G-Step 62 - Epoch 0, train loss: 1.65015, eval loss: 1.67597\n",
            "G-Step 63 - Epoch 0, train loss: 1.64794, eval loss: 1.67398\n",
            "G-Step 64 - Epoch 0, train loss: 1.64573, eval loss: 1.67167\n",
            "G-Step 65 - Epoch 0, train loss: 1.64375, eval loss: 1.67076\n",
            "G-Step 66 - Epoch 0, train loss: 1.64191, eval loss: 1.66896\n",
            "G-Step 67 - Epoch 0, train loss: 1.63982, eval loss: 1.66676\n",
            "G-Step 68 - Epoch 0, train loss: 1.63801, eval loss: 1.66642\n",
            "G-Step 69 - Epoch 0, train loss: 1.63630, eval loss: 1.66407\n",
            "G-Step 70 - Epoch 0, train loss: 1.63451, eval loss: 1.66210\n",
            "G-Step 71 - Epoch 0, train loss: 1.63281, eval loss: 1.66076\n",
            "G-Step 72 - Epoch 0, train loss: 1.63115, eval loss: 1.65949\n",
            "G-Step 73 - Epoch 0, train loss: 1.62947, eval loss: 1.65858\n",
            "G-Step 74 - Epoch 0, train loss: 1.62783, eval loss: 1.65696\n",
            "G-Step 75 - Epoch 0, train loss: 1.62631, eval loss: 1.65532\n",
            "G-Step 76 - Epoch 0, train loss: 1.62463, eval loss: 1.65426\n",
            "G-Step 77 - Epoch 0, train loss: 1.62312, eval loss: 1.65298\n",
            "G-Step 78 - Epoch 0, train loss: 1.62194, eval loss: 1.65152\n",
            "G-Step 79 - Epoch 0, train loss: 1.62032, eval loss: 1.65111\n",
            "G-Step 80 - Epoch 0, train loss: 1.61904, eval loss: 1.64960\n",
            "G-Step 81 - Epoch 0, train loss: 1.61770, eval loss: 1.64753\n",
            "G-Step 82 - Epoch 0, train loss: 1.61635, eval loss: 1.64771\n",
            "G-Step 83 - Epoch 0, train loss: 1.61510, eval loss: 1.64620\n",
            "G-Step 84 - Epoch 0, train loss: 1.61363, eval loss: 1.64475\n",
            "G-Step 85 - Epoch 0, train loss: 1.61254, eval loss: 1.64394\n",
            "G-Step 86 - Epoch 0, train loss: 1.61122, eval loss: 1.64291\n",
            "G-Step 87 - Epoch 0, train loss: 1.60998, eval loss: 1.64157\n",
            "G-Step 88 - Epoch 0, train loss: 1.60874, eval loss: 1.64030\n",
            "G-Step 89 - Epoch 0, train loss: 1.60764, eval loss: 1.63969\n",
            "G-Step 90 - Epoch 0, train loss: 1.60633, eval loss: 1.63875\n",
            "G-Step 91 - Epoch 0, train loss: 1.60527, eval loss: 1.63773\n",
            "G-Step 92 - Epoch 0, train loss: 1.60424, eval loss: 1.63653\n",
            "G-Step 93 - Epoch 0, train loss: 1.60300, eval loss: 1.63539\n",
            "G-Step 94 - Epoch 0, train loss: 1.60177, eval loss: 1.63548\n",
            "G-Step 95 - Epoch 0, train loss: 1.60074, eval loss: 1.63339\n",
            "G-Step 96 - Epoch 0, train loss: 1.59957, eval loss: 1.63217\n",
            "G-Step 97 - Epoch 0, train loss: 1.59873, eval loss: 1.63197\n",
            "G-Step 98 - Epoch 0, train loss: 1.59771, eval loss: 1.63094\n",
            "G-Step 99 - Epoch 0, train loss: 1.59667, eval loss: 1.63050\n",
            "G-Step 100 - Epoch 0, train loss: 1.59571, eval loss: 1.62931\n",
            "G-Step 101 - Epoch 0, train loss: 1.59471, eval loss: 1.62789\n",
            "G-Step 102 - Epoch 0, train loss: 1.59373, eval loss: 1.62737\n",
            "G-Step 103 - Epoch 0, train loss: 1.59291, eval loss: 1.62663\n",
            "G-Step 104 - Epoch 0, train loss: 1.59184, eval loss: 1.62684\n",
            "G-Step 105 - Epoch 0, train loss: 1.59101, eval loss: 1.62526\n",
            "G-Step 106 - Epoch 0, train loss: 1.59005, eval loss: 1.62443\n",
            "G-Step 107 - Epoch 0, train loss: 1.58925, eval loss: 1.62397\n",
            "G-Step 108 - Epoch 0, train loss: 1.58834, eval loss: 1.62276\n",
            "G-Step 109 - Epoch 0, train loss: 1.58750, eval loss: 1.62227\n",
            "G-Step 110 - Epoch 0, train loss: 1.58677, eval loss: 1.62134\n",
            "G-Step 111 - Epoch 0, train loss: 1.58575, eval loss: 1.62044\n",
            "G-Step 112 - Epoch 0, train loss: 1.58480, eval loss: 1.61985\n",
            "G-Step 113 - Epoch 0, train loss: 1.58399, eval loss: 1.61961\n",
            "G-Step 114 - Epoch 0, train loss: 1.58337, eval loss: 1.61855\n",
            "G-Step 115 - Epoch 0, train loss: 1.58262, eval loss: 1.61843\n",
            "G-Step 116 - Epoch 0, train loss: 1.58171, eval loss: 1.61709\n",
            "G-Step 117 - Epoch 0, train loss: 1.58099, eval loss: 1.61641\n",
            "G-Step 118 - Epoch 0, train loss: 1.58020, eval loss: 1.61577\n",
            "G-Step 119 - Epoch 0, train loss: 1.57930, eval loss: 1.61590\n"
          ]
        }
      ]
    },
    {
      "cell_type": "code",
      "source": [
        "plt.rcParams['figure.figsize'] = (8, 4)\n",
        "plt.plot(gen_pretrain_train_loss, marker='.', alpha=.5)\n",
        "plt.plot(gen_pretrain_eval_loss)\n",
        "plt.legend(['train', 'eval']);"
      ],
      "metadata": {
        "colab": {
          "base_uri": "https://localhost:8080/",
          "height": 368
        },
        "id": "SjK6ww9aUIBP",
        "outputId": "dddf432d-d1d5-4438-f08a-2ffe2c0c1b91"
      },
      "execution_count": null,
      "outputs": [
        {
          "output_type": "display_data",
          "data": {
            "text/plain": [
              "<Figure size 800x400 with 1 Axes>"
            ],
            "image/png": "[encoded data removed]"
          },
          "metadata": {}
        }
      ]
    },
    {
      "cell_type": "code",
      "source": [
        "len(gen_lines)"
      ],
      "metadata": {
        "colab": {
          "base_uri": "https://localhost:8080/"
        },
        "id": "0e9v1l3_KgHu",
        "outputId": "46928dc4-22d0-44ae-8352-37320fb3824f"
      },
      "execution_count": null,
      "outputs": [
        {
          "output_type": "execute_result",
          "data": {
            "text/plain": [
              "6400"
            ]
          },
          "metadata": {},
          "execution_count": 20
        }
      ]
    },
    {
      "cell_type": "code",
      "source": [
        "gen_lines[:3]"
      ],
      "metadata": {
        "colab": {
          "base_uri": "https://localhost:8080/"
        },
        "id": "K8ShaIDhF6Gw",
        "outputId": "51c185eb-70da-448e-824c-c4538f6c03a7"
      },
      "execution_count": null,
      "outputs": [
        {
          "output_type": "execute_result",
          "data": {
            "text/plain": [
              "['gPRS ; aST a tixesponstogical Deep ancodical larshr Clue Revilimationidystibinative MEssivence tets ',\n",
              " 'Leeurbelatial Learning models in Evarying model Tean general Sukeginy Hegsational dolations ; Thilus',\n",
              " 'Havisted Machilar and In thin Ranimited apps formaintionate generalized the ringous Effebrom instoll']"
            ]
          },
          "metadata": {},
          "execution_count": 21
        }
      ]
    },
    {
      "cell_type": "markdown",
      "source": [
        "<a name=\"disc_pretrain\"></a>\n",
        "### Предобучение дискриминатора\n",
        "\n",
        "Бинарный классификатор - сгенерированная последовательность или реальная"
      ],
      "metadata": {
        "id": "NFfSp9du2WJu"
      }
    },
    {
      "cell_type": "code",
      "source": [
        "def train_discriminator(dis, data_iter, criterion, optimizer, epochs,\n",
        "        dis_adversarial_train_loss, dis_adversarial_train_acc, cuda):\n",
        "    \"\"\"\n",
        "    Train discriminator\n",
        "    \"\"\"\n",
        "    for epoch in range(epochs):\n",
        "        correct = 0\n",
        "        total_loss = 0.\n",
        "        for data, target in data_iter:\n",
        "            if cuda:\n",
        "                data, target = data.cuda(), target.cuda()\n",
        "            target = target.contiguous().view(-1)\n",
        "            output = dis(data)\n",
        "            pred = output.data.max(1)[1]\n",
        "            correct += pred.eq(target.data).cpu().sum()\n",
        "            loss = criterion(output, target)\n",
        "            total_loss += loss.item()\n",
        "            optimizer.zero_grad()\n",
        "            loss.backward()\n",
        "            optimizer.step()\n",
        "        data_iter.reset()\n",
        "        avg_loss = total_loss / len(data_iter)\n",
        "        acc = correct.item() / data_iter.data_num\n",
        "        print(\"Epoch {}, train loss: {:.5f}, train acc: {:.3f}\".format(epoch, avg_loss, acc))\n",
        "        dis_adversarial_train_loss.append(avg_loss)\n",
        "        dis_adversarial_train_acc.append(acc)\n",
        "\n",
        "def eval_discriminator(model, data_iter, criterion, cuda):\n",
        "    \"\"\"\n",
        "    Evaluate discriminator, dropout is enabled\n",
        "    \"\"\"\n",
        "    correct = 0\n",
        "    total_loss = 0.\n",
        "    with torch.no_grad():\n",
        "        for data, target in data_iter:\n",
        "            if cuda:\n",
        "                data, target = data.cuda(), target.cuda()\n",
        "            target = target.contiguous().view(-1)\n",
        "            output = model(data)\n",
        "            pred = output.data.max(1)[1]\n",
        "            correct += pred.eq(target.data).cpu().sum()\n",
        "            loss = criterion(output, target)\n",
        "            total_loss += loss.item()\n",
        "        data_iter.reset()\n",
        "    avg_loss = total_loss / len(data_iter)\n",
        "    acc = correct.item() / data_iter.data_num\n",
        "    return avg_loss, acc"
      ],
      "metadata": {
        "id": "KsgVychcFuU0"
      },
      "execution_count": null,
      "outputs": []
    },
    {
      "cell_type": "code",
      "source": [
        "disc_data_iter = DisDataIter(real_lines, gen_lines, args.batch_size, vocab, max_len)"
      ],
      "metadata": {
        "id": "VM16ZTAtOAhW"
      },
      "execution_count": null,
      "outputs": []
    },
    {
      "cell_type": "code",
      "source": [
        "d_embed_dim = 64\n",
        "d_filter_sizes = [1, 2, 3, 4, 5, 6, 7, 8, 9, 10, 15, 20]\n",
        "d_num_filters = [100, 200, 200, 200, 200, 100, 100, 100, 100, 100, 160, 160]\n",
        "d_dropout_prob = 0.2\n",
        "discriminator = Discriminator(vocab_size, d_embed_dim, d_filter_sizes, d_num_filters, d_dropout_prob).to(device)\n",
        "dis_optimizer = torch.optim.SGD(params=discriminator.parameters(), lr=args.dis_lr)"
      ],
      "metadata": {
        "id": "cj5Y4itWPxOT"
      },
      "execution_count": null,
      "outputs": []
    },
    {
      "cell_type": "code",
      "source": [
        "gen_lines = generate_samples(generator, args.batch_size, args.n_samples, inv_vocab, g_seq_len=max_len)"
      ],
      "metadata": {
        "id": "FwmvdgQlVhUC"
      },
      "execution_count": null,
      "outputs": []
    },
    {
      "cell_type": "code",
      "source": [
        "dis_adversarial_train_loss = []\n",
        "dis_adversarial_train_acc = []\n",
        "dis_pretrain_eval_loss = []\n",
        "dis_pretrain_eval_acc = []"
      ],
      "metadata": {
        "id": "ZK1U_RReQdGm"
      },
      "execution_count": null,
      "outputs": []
    },
    {
      "cell_type": "code",
      "source": [
        "gen_val_lines = generate_samples(generator, args.batch_size, len(val_lines), inv_vocab, g_seq_len=max_len)\n",
        "eval_iter = DisDataIter(val_lines, gen_val_lines, args.batch_size, vocab, max_len)\n",
        "for i in range(args.d_pretrain_steps):\n",
        "    t0 = time()\n",
        "    print(\"D-Step {}\".format(i))\n",
        "    train_discriminator(discriminator, disc_data_iter, nll_loss,\n",
        "        dis_optimizer, args.dk_epochs, dis_adversarial_train_loss, dis_adversarial_train_acc, cuda)\n",
        "    dis_loss, dis_acc = eval_discriminator(discriminator, eval_iter, nll_loss, cuda)\n",
        "    dis_pretrain_eval_loss.append(dis_loss)\n",
        "    dis_pretrain_eval_acc.append(dis_acc)\n",
        "    print(\"eval loss: {:.5f}, eval acc: {:.3f}, elapsed: {:.1f}s\".format(dis_loss, dis_acc, time() - t0))"
      ],
      "metadata": {
        "id": "WeA04bLVLy6f",
        "colab": {
          "base_uri": "https://localhost:8080/"
        },
        "outputId": "210261f7-4f07-45b2-f4c9-98d9239ae9b1"
      },
      "execution_count": null,
      "outputs": [
        {
          "output_type": "stream",
          "name": "stdout",
          "text": [
            "D-Step 0\n",
            "Epoch 0, train loss: 0.71628, train acc: 0.506\n",
            "Epoch 1, train loss: 0.70621, train acc: 0.518\n",
            "eval loss: 0.70507, eval acc: 0.516, elapsed: 73.6s\n",
            "D-Step 1\n",
            "Epoch 0, train loss: 0.69805, train acc: 0.531\n",
            "Epoch 1, train loss: 0.68842, train acc: 0.555\n",
            "eval loss: 0.69182, eval acc: 0.532, elapsed: 71.9s\n",
            "D-Step 2\n",
            "Epoch 0, train loss: 0.68334, train acc: 0.562\n",
            "Epoch 1, train loss: 0.67582, train acc: 0.575\n",
            "eval loss: 0.67092, eval acc: 0.591, elapsed: 71.9s\n",
            "D-Step 3\n",
            "Epoch 0, train loss: 0.66832, train acc: 0.584\n",
            "Epoch 1, train loss: 0.66112, train acc: 0.601\n",
            "eval loss: 0.65613, eval acc: 0.596, elapsed: 72.3s\n",
            "D-Step 4\n",
            "Epoch 0, train loss: 0.65627, train acc: 0.612\n",
            "Epoch 1, train loss: 0.64758, train acc: 0.621\n",
            "eval loss: 0.63992, eval acc: 0.641, elapsed: 72.1s\n",
            "D-Step 5\n",
            "Epoch 0, train loss: 0.64246, train acc: 0.628\n",
            "Epoch 1, train loss: 0.64066, train acc: 0.630\n",
            "eval loss: 0.63572, eval acc: 0.642, elapsed: 71.9s\n",
            "D-Step 6\n",
            "Epoch 0, train loss: 0.63344, train acc: 0.645\n",
            "Epoch 1, train loss: 0.62581, train acc: 0.649\n",
            "eval loss: 0.62520, eval acc: 0.655, elapsed: 71.9s\n",
            "D-Step 7\n",
            "Epoch 0, train loss: 0.62392, train acc: 0.654\n",
            "Epoch 1, train loss: 0.61878, train acc: 0.656\n",
            "eval loss: 0.62541, eval acc: 0.639, elapsed: 71.9s\n",
            "D-Step 8\n",
            "Epoch 0, train loss: 0.61659, train acc: 0.658\n",
            "Epoch 1, train loss: 0.61379, train acc: 0.663\n",
            "eval loss: 0.60669, eval acc: 0.675, elapsed: 71.9s\n",
            "D-Step 9\n",
            "Epoch 0, train loss: 0.60855, train acc: 0.670\n",
            "Epoch 1, train loss: 0.60148, train acc: 0.673\n",
            "eval loss: 0.60381, eval acc: 0.656, elapsed: 72.0s\n",
            "D-Step 10\n",
            "Epoch 0, train loss: 0.59814, train acc: 0.677\n",
            "Epoch 1, train loss: 0.59116, train acc: 0.687\n",
            "eval loss: 0.59716, eval acc: 0.683, elapsed: 71.7s\n",
            "D-Step 11\n",
            "Epoch 0, train loss: 0.58954, train acc: 0.687\n",
            "Epoch 1, train loss: 0.58394, train acc: 0.691\n",
            "eval loss: 0.59716, eval acc: 0.690, elapsed: 71.7s\n",
            "D-Step 12\n",
            "Epoch 0, train loss: 0.58113, train acc: 0.696\n",
            "Epoch 1, train loss: 0.57659, train acc: 0.700\n",
            "eval loss: 0.58709, eval acc: 0.697, elapsed: 71.7s\n",
            "D-Step 13\n",
            "Epoch 0, train loss: 0.57273, train acc: 0.702\n",
            "Epoch 1, train loss: 0.56525, train acc: 0.712\n",
            "eval loss: 0.57691, eval acc: 0.703, elapsed: 71.9s\n",
            "D-Step 14\n",
            "Epoch 0, train loss: 0.56011, train acc: 0.715\n",
            "Epoch 1, train loss: 0.55775, train acc: 0.714\n",
            "eval loss: 0.56090, eval acc: 0.720, elapsed: 71.8s\n",
            "D-Step 15\n",
            "Epoch 0, train loss: 0.55233, train acc: 0.724\n",
            "Epoch 1, train loss: 0.54585, train acc: 0.728\n",
            "eval loss: 0.55841, eval acc: 0.714, elapsed: 71.8s\n",
            "D-Step 16\n",
            "Epoch 0, train loss: 0.53821, train acc: 0.741\n",
            "Epoch 1, train loss: 0.53164, train acc: 0.735\n",
            "eval loss: 0.55791, eval acc: 0.705, elapsed: 71.7s\n",
            "D-Step 17\n",
            "Epoch 0, train loss: 0.52454, train acc: 0.746\n",
            "Epoch 1, train loss: 0.51721, train acc: 0.753\n",
            "eval loss: 0.52932, eval acc: 0.743, elapsed: 71.7s\n",
            "D-Step 18\n",
            "Epoch 0, train loss: 0.51283, train acc: 0.753\n",
            "Epoch 1, train loss: 0.51120, train acc: 0.754\n",
            "eval loss: 0.53196, eval acc: 0.720, elapsed: 71.6s\n",
            "D-Step 19\n",
            "Epoch 0, train loss: 0.50373, train acc: 0.762\n",
            "Epoch 1, train loss: 0.49414, train acc: 0.768\n",
            "eval loss: 0.50588, eval acc: 0.764, elapsed: 71.7s\n",
            "D-Step 20\n",
            "Epoch 0, train loss: 0.48379, train acc: 0.777\n",
            "Epoch 1, train loss: 0.47823, train acc: 0.780\n",
            "eval loss: 0.52005, eval acc: 0.746, elapsed: 71.6s\n",
            "D-Step 21\n",
            "Epoch 0, train loss: 0.47213, train acc: 0.786\n",
            "Epoch 1, train loss: 0.46141, train acc: 0.791\n",
            "eval loss: 0.48733, eval acc: 0.766, elapsed: 71.7s\n",
            "D-Step 22\n",
            "Epoch 0, train loss: 0.45603, train acc: 0.796\n",
            "Epoch 1, train loss: 0.44584, train acc: 0.801\n",
            "eval loss: 0.47327, eval acc: 0.784, elapsed: 71.6s\n",
            "D-Step 23\n",
            "Epoch 0, train loss: 0.44103, train acc: 0.807\n",
            "Epoch 1, train loss: 0.43001, train acc: 0.814\n",
            "eval loss: 0.45946, eval acc: 0.787, elapsed: 71.7s\n",
            "D-Step 24\n",
            "Epoch 0, train loss: 0.41974, train acc: 0.817\n",
            "Epoch 1, train loss: 0.41866, train acc: 0.816\n",
            "eval loss: 0.44546, eval acc: 0.800, elapsed: 71.8s\n",
            "D-Step 25\n",
            "Epoch 0, train loss: 0.40527, train acc: 0.829\n",
            "Epoch 1, train loss: 0.40145, train acc: 0.831\n",
            "eval loss: 0.44371, eval acc: 0.803, elapsed: 71.7s\n",
            "D-Step 26\n",
            "Epoch 0, train loss: 0.39158, train acc: 0.834\n",
            "Epoch 1, train loss: 0.38396, train acc: 0.840\n",
            "eval loss: 0.44067, eval acc: 0.795, elapsed: 71.7s\n",
            "D-Step 27\n",
            "Epoch 0, train loss: 0.37526, train acc: 0.840\n",
            "Epoch 1, train loss: 0.37069, train acc: 0.846\n",
            "eval loss: 0.40768, eval acc: 0.827, elapsed: 71.7s\n",
            "D-Step 28\n",
            "Epoch 0, train loss: 0.35750, train acc: 0.852\n",
            "Epoch 1, train loss: 0.34790, train acc: 0.857\n",
            "eval loss: 0.39353, eval acc: 0.835, elapsed: 71.7s\n",
            "D-Step 29\n",
            "Epoch 0, train loss: 0.34719, train acc: 0.855\n",
            "Epoch 1, train loss: 0.33327, train acc: 0.864\n",
            "eval loss: 0.38779, eval acc: 0.831, elapsed: 71.6s\n"
          ]
        }
      ]
    },
    {
      "cell_type": "markdown",
      "source": [
        "<a name=\"adversarial_train\"></a>\n",
        "### Обучение в состязательном режиме\n",
        "\n",
        "Rollout - содержит метод, как мы будем определять вознаграждение на каждом шаге (токене) при генерации с помощью Monte Carlo поиска. Затем в PGLoss лосс считается как -логарифм предсказанной вероятности для истинных токенов, помноженный на вознаграждение."
      ],
      "metadata": {
        "id": "jnphkfmye__1"
      }
    },
    {
      "cell_type": "code",
      "source": [
        "import copy\n",
        "class Rollout(object):\n",
        "    \"\"\" Rollout Policy \"\"\"\n",
        "\n",
        "    def __init__(self, model, update_rate):\n",
        "        self.ori_model = model\n",
        "        self.own_model = copy.deepcopy(model)\n",
        "        self.update_rate = update_rate\n",
        "\n",
        "    def get_reward(self, x, num, discriminator):\n",
        "        \"\"\"\n",
        "        Inputs: x, num, discriminator\n",
        "            - x: (batch_size, seq_len) input data\n",
        "            - num: rollout number\n",
        "            - discriminator: discriminator model\n",
        "        \"\"\"\n",
        "        rewards = []\n",
        "        batch_size = x.size(0)\n",
        "        seq_len = x.size(1)\n",
        "        for i in range(num):\n",
        "            print(i, end=', ')\n",
        "            for l in range(1, seq_len):\n",
        "                data = x[:, 0:l]\n",
        "                samples = self.own_model.sample(batch_size, seq_len, data)\n",
        "                pred = discriminator(samples)\n",
        "                pred = pred.cpu().data[:,1].numpy()\n",
        "                if i == 0:\n",
        "                    rewards.append(pred)\n",
        "                else:\n",
        "                    rewards[l-1] += pred\n",
        "\n",
        "            # for the last token\n",
        "            pred = discriminator(x)\n",
        "            pred = pred.cpu().data[:, 1].numpy()\n",
        "            if i == 0:\n",
        "                rewards.append(pred)\n",
        "            else:\n",
        "                rewards[seq_len-1] += pred\n",
        "        rewards = np.transpose(np.array(rewards)) / (1.0 * num) # batch_size * seq_len\n",
        "        return rewards\n",
        "\n",
        "    def update_params(self):\n",
        "        dic = {}\n",
        "        for name, param in self.ori_model.named_parameters():\n",
        "            dic[name] = param.data\n",
        "        for name, param in self.own_model.named_parameters():\n",
        "            if name.startswith('emb'):\n",
        "                param.data = dic[name]\n",
        "            else:\n",
        "                param.data = self.update_rate * param.data + (1 - self.update_rate) * dic[name]"
      ],
      "metadata": {
        "id": "XNoJsREJffT9"
      },
      "execution_count": null,
      "outputs": []
    },
    {
      "cell_type": "code",
      "source": [
        "class PGLoss(nn.Module):\n",
        "    \"\"\"\n",
        "    Pseudo-loss that gives corresponding policy gradients (on calling .backward())\n",
        "    for adversial training of Generator\n",
        "    \"\"\"\n",
        "\n",
        "    def __init__(self):\n",
        "        super(PGLoss, self).__init__()\n",
        "\n",
        "    def forward(self, pred, target, reward):\n",
        "        \"\"\"\n",
        "        Inputs: pred, target, reward\n",
        "            - pred: (batch_size, seq_len),\n",
        "            - target : (batch_size, seq_len),\n",
        "            - reward : (batch_size, ), reward of each whole sentence\n",
        "        \"\"\"\n",
        "        one_hot = torch.zeros(pred.size(), dtype=torch.bool)  # one hot for targets\n",
        "        if pred.is_cuda:\n",
        "            one_hot = one_hot.cuda()\n",
        "        one_hot.scatter_(1, target.data.view(-1, 1), 1)  # set positions to 1\n",
        "        loss = torch.masked_select(pred, one_hot)\n",
        "        loss = loss * reward.contiguous().view(-1)\n",
        "        loss = -torch.sum(loss)\n",
        "        return loss"
      ],
      "metadata": {
        "id": "gs6B73CfgTOE"
      },
      "execution_count": null,
      "outputs": []
    },
    {
      "cell_type": "code",
      "source": [
        "def adversarial_train(gen, dis, rollout, pg_loss, nll_loss, gen_optimizer, dis_optimizer,\n",
        "        dis_adversarial_train_loss, dis_adversarial_train_acc, args, cuda, disc_data_iter):\n",
        "    \"\"\"\n",
        "    Adversarially train generator and discriminator\n",
        "    \"\"\"\n",
        "    # train generator for g_steps\n",
        "    print(\"#Train generator\")\n",
        "    for i in range(args.g_steps):\n",
        "        print(\"##G-Step {}\".format(i))\n",
        "        train_generator_PG(gen, dis, rollout, pg_loss, gen_optimizer, args.gk_epochs, args, cuda)\n",
        "\n",
        "    # train discriminator for d_steps\n",
        "    print(\"#Train discriminator\")\n",
        "    for i in range(args.d_steps):\n",
        "        print(\"##D-Step {}\".format(i))\n",
        "        train_discriminator(dis, disc_data_iter, nll_loss, dis_optimizer, args.dk_epochs,\n",
        "            dis_adversarial_train_loss, dis_adversarial_train_acc, cuda)\n",
        "\n",
        "    # update roll-out model\n",
        "    rollout.update_params()\n",
        "\n",
        "def train_generator_PG(gen, dis, rollout, pg_loss, optimizer, epochs, args, cuda):\n",
        "    \"\"\"\n",
        "    Train generator with the guidance of policy gradient\n",
        "    \"\"\"\n",
        "    for epoch in range(epochs):\n",
        "        # construct the input to the genrator, add zeros before samples and delete the last column\n",
        "        samples = generator.sample(args.batch_size, g_seq_len)\n",
        "        zeros = torch.zeros(args.batch_size, 1, dtype=torch.int64)\n",
        "        if samples.is_cuda:\n",
        "            zeros = zeros.cuda()\n",
        "        inputs = torch.cat([zeros, samples.data], dim = 1)[:, :-1].contiguous()\n",
        "        targets = samples.data.contiguous().view((-1,))\n",
        "\n",
        "        # calculate the reward\n",
        "        rewards = torch.tensor(rollout.get_reward(samples, args.n_rollout, dis))\n",
        "        if cuda:\n",
        "            rewards = rewards.cuda()\n",
        "\n",
        "        # update generator\n",
        "        output = gen(inputs)\n",
        "        loss = pg_loss(output, targets, rewards)\n",
        "        optimizer.zero_grad()\n",
        "        loss.backward()\n",
        "        optimizer.step()"
      ],
      "metadata": {
        "id": "MwXkPp1ufnhm"
      },
      "execution_count": null,
      "outputs": []
    },
    {
      "cell_type": "code",
      "source": [
        "pg_loss = PGLoss()\n",
        "\n",
        "gen_adversarial_eval_loss = []\n",
        "dis_adversarial_eval_loss = []\n",
        "dis_adversarial_eval_acc = []"
      ],
      "metadata": {
        "id": "W1Of4WUNgO3h"
      },
      "execution_count": null,
      "outputs": []
    },
    {
      "cell_type": "code",
      "source": [
        "g_seq_len = max_len"
      ],
      "metadata": {
        "id": "ssdd869s-bhh"
      },
      "execution_count": null,
      "outputs": []
    },
    {
      "cell_type": "code",
      "source": [
        "rollout = Rollout(generator, args.update_rate)\n",
        "for i in range(args.rounds):\n",
        "    print(\"Round {}\".format(i))\n",
        "    adversarial_train(generator, discriminator, rollout,\n",
        "        pg_loss, nll_loss, gen_optimizer, dis_optimizer,\n",
        "        dis_adversarial_train_loss, dis_adversarial_train_acc, args, cuda, disc_data_iter)\n",
        "    gen_lines = generate_samples(generator, args.batch_size, args.n_samples, inv_vocab, g_seq_len=max_len)\n",
        "    disc_data_iter = DisDataIter(real_lines, gen_lines, args.batch_size, vocab, max_len)  # gen_lines are new to discriminator\n",
        "    gen_eval_iter = DataIterator(val_lines, vocab, max_len=max_len)\n",
        "    gen_loss = eval_generator(generator, gen_eval_iter, nll_loss, cuda)\n",
        "    gen_adversarial_eval_loss.append(gen_loss)\n",
        "    dis_loss, dis_acc = eval_discriminator(discriminator, disc_data_iter, nll_loss, cuda)\n",
        "    dis_adversarial_eval_loss.append(dis_loss)\n",
        "    dis_adversarial_eval_acc.append(dis_acc)\n",
        "    print(f\"gen eval loss: {gen_loss:.5f}, dis eval loss: {dis_loss:.5f}, dis eval acc: {dis_acc:.3f}, elapsed: {time() - t0:.1f}s\")"
      ],
      "metadata": {
        "colab": {
          "base_uri": "https://localhost:8080/"
        },
        "id": "zeXxI9LjPsox",
        "outputId": "4b69e343-aabe-49a6-bd12-afaabcb8ad79"
      },
      "execution_count": null,
      "outputs": [
        {
          "output_type": "stream",
          "name": "stdout",
          "text": [
            "Round 0\n",
            "#Train generator\n",
            "##G-Step 0\n",
            "0, 1, 2, 3, 4, 5, 6, 7, 8, 9, 10, 11, 12, 13, 14, 15, #Train discriminator\n",
            "##D-Step 0\n",
            "Epoch 0, train loss: 0.32534, train acc: 0.873\n",
            "Epoch 1, train loss: 0.31673, train acc: 0.872\n",
            "##D-Step 1\n",
            "Epoch 0, train loss: 0.30631, train acc: 0.882\n",
            "Epoch 1, train loss: 0.30135, train acc: 0.882\n",
            "gen eval loss: 1.62833, dis eval loss: 0.33191, dis eval acc: 0.864, elapsed: 530.4s\n",
            "Round 1\n",
            "#Train generator\n",
            "##G-Step 0\n",
            "0, 1, 2, 3, 4, 5, 6, 7, 8, 9, 10, 11, 12, 13, 14, 15, #Train discriminator\n",
            "##D-Step 0\n",
            "Epoch 0, train loss: 0.32928, train acc: 0.865\n",
            "Epoch 1, train loss: 0.31227, train acc: 0.876\n",
            "##D-Step 1\n",
            "Epoch 0, train loss: 0.30719, train acc: 0.877\n",
            "Epoch 1, train loss: 0.29502, train acc: 0.883\n",
            "gen eval loss: 1.65836, dis eval loss: 0.27538, dis eval acc: 0.896, elapsed: 888.2s\n",
            "Round 2\n",
            "#Train generator\n",
            "##G-Step 0\n",
            "0, 1, 2, 3, 4, 5, 6, 7, 8, 9, 10, 11, 12, 13, 14, 15, #Train discriminator\n",
            "##D-Step 0\n",
            "Epoch 0, train loss: 0.27263, train acc: 0.896\n",
            "Epoch 1, train loss: 0.25791, train acc: 0.904\n",
            "##D-Step 1\n",
            "Epoch 0, train loss: 0.25050, train acc: 0.905\n",
            "Epoch 1, train loss: 0.23188, train acc: 0.918\n",
            "gen eval loss: 1.69592, dis eval loss: 0.22141, dis eval acc: 0.921, elapsed: 1244.3s\n",
            "Round 3\n",
            "#Train generator\n",
            "##G-Step 0\n",
            "0, 1, 2, 3, 4, 5, 6, 7, 8, 9, 10, 11, 12, 13, 14, 15, #Train discriminator\n",
            "##D-Step 0\n",
            "Epoch 0, train loss: 0.22075, train acc: 0.921\n",
            "Epoch 1, train loss: 0.20327, train acc: 0.930\n",
            "##D-Step 1\n",
            "Epoch 0, train loss: 0.19496, train acc: 0.933\n",
            "Epoch 1, train loss: 0.18177, train acc: 0.939\n",
            "gen eval loss: 1.73772, dis eval loss: 0.17346, dis eval acc: 0.941, elapsed: 1601.5s\n",
            "Round 4\n",
            "#Train generator\n",
            "##G-Step 0\n",
            "0, 1, 2, 3, 4, 5, 6, 7, 8, 9, 10, 11, 12, 13, 14, 15, #Train discriminator\n",
            "##D-Step 0\n",
            "Epoch 0, train loss: 0.16526, train acc: 0.946\n",
            "Epoch 1, train loss: 0.15319, train acc: 0.950\n",
            "##D-Step 1\n",
            "Epoch 0, train loss: 0.14492, train acc: 0.955\n",
            "Epoch 1, train loss: 0.13583, train acc: 0.958\n",
            "gen eval loss: 1.76960, dis eval loss: 0.13505, dis eval acc: 0.957, elapsed: 1957.4s\n",
            "Round 5\n",
            "#Train generator\n",
            "##G-Step 0\n",
            "0, 1, 2, 3, 4, 5, 6, 7, 8, 9, 10, 11, 12, 13, 14, 15, #Train discriminator\n",
            "##D-Step 0\n",
            "Epoch 0, train loss: 0.13113, train acc: 0.959\n",
            "Epoch 1, train loss: 0.12319, train acc: 0.962\n",
            "##D-Step 1\n",
            "Epoch 0, train loss: 0.11753, train acc: 0.965\n",
            "Epoch 1, train loss: 0.11023, train acc: 0.966\n",
            "gen eval loss: 1.78384, dis eval loss: 0.11931, dis eval acc: 0.964, elapsed: 2316.3s\n",
            "Round 6\n",
            "#Train generator\n",
            "##G-Step 0\n",
            "0, 1, 2, 3, 4, 5, 6, 7, 8, 9, 10, 11, 12, 13, 14, 15, #Train discriminator\n",
            "##D-Step 0\n",
            "Epoch 0, train loss: 0.11895, train acc: 0.962\n",
            "Epoch 1, train loss: 0.11035, train acc: 0.966\n",
            "##D-Step 1\n",
            "Epoch 0, train loss: 0.10442, train acc: 0.968\n",
            "Epoch 1, train loss: 0.09583, train acc: 0.973\n",
            "gen eval loss: 1.80510, dis eval loss: 0.09535, dis eval acc: 0.972, elapsed: 2681.1s\n",
            "Round 7\n",
            "#Train generator\n",
            "##G-Step 0\n",
            "0, 1, 2, 3, 4, 5, 6, 7, 8, 9, 10, 11, 12, 13, 14, 15, #Train discriminator\n",
            "##D-Step 0\n",
            "Epoch 0, train loss: 0.09084, train acc: 0.974\n",
            "Epoch 1, train loss: 0.08381, train acc: 0.976\n",
            "##D-Step 1\n",
            "Epoch 0, train loss: 0.08025, train acc: 0.978\n",
            "Epoch 1, train loss: 0.07549, train acc: 0.981\n",
            "gen eval loss: 1.82285, dis eval loss: 0.07971, dis eval acc: 0.978, elapsed: 3039.7s\n",
            "Round 8\n",
            "#Train generator\n",
            "##G-Step 0\n",
            "0, 1, 2, 3, 4, 5, 6, 7, 8, 9, 10, 11, 12, 13, 14, 15, #Train discriminator\n",
            "##D-Step 0\n",
            "Epoch 0, train loss: 0.07904, train acc: 0.977\n",
            "Epoch 1, train loss: 0.07738, train acc: 0.977\n",
            "##D-Step 1\n",
            "Epoch 0, train loss: 0.07196, train acc: 0.980\n",
            "Epoch 1, train loss: 0.06337, train acc: 0.983\n",
            "gen eval loss: 1.84490, dis eval loss: 0.06648, dis eval acc: 0.981, elapsed: 3396.2s\n",
            "Round 9\n",
            "#Train generator\n",
            "##G-Step 0\n",
            "0, 1, 2, 3, 4, 5, 6, 7, 8, 9, 10, 11, 12, 13, 14, 15, #Train discriminator\n",
            "##D-Step 0\n",
            "Epoch 0, train loss: 0.06448, train acc: 0.984\n",
            "Epoch 1, train loss: 0.06404, train acc: 0.982\n",
            "##D-Step 1\n",
            "Epoch 0, train loss: 0.05721, train acc: 0.986\n",
            "Epoch 1, train loss: 0.05433, train acc: 0.987\n",
            "gen eval loss: 1.86527, dis eval loss: 0.06133, dis eval acc: 0.982, elapsed: 3751.6s\n",
            "Round 10\n",
            "#Train generator\n",
            "##G-Step 0\n",
            "0, 1, 2, 3, 4, 5, 6, 7, 8, 9, 10, 11, 12, 13, 14, 15, #Train discriminator\n",
            "##D-Step 0\n",
            "Epoch 0, train loss: 0.05817, train acc: 0.984\n",
            "Epoch 1, train loss: 0.05509, train acc: 0.983\n",
            "##D-Step 1\n",
            "Epoch 0, train loss: 0.05238, train acc: 0.985\n",
            "Epoch 1, train loss: 0.04785, train acc: 0.987\n",
            "gen eval loss: 1.89733, dis eval loss: 0.04546, dis eval acc: 0.987, elapsed: 4107.2s\n",
            "Round 11\n",
            "#Train generator\n",
            "##G-Step 0\n",
            "0, 1, 2, 3, 4, 5, 6, 7, 8, 9, 10, 11, 12, 13, 14, 15, #Train discriminator\n",
            "##D-Step 0\n",
            "Epoch 0, train loss: 0.04474, train acc: 0.989\n",
            "Epoch 1, train loss: 0.04259, train acc: 0.990\n",
            "##D-Step 1\n",
            "Epoch 0, train loss: 0.04077, train acc: 0.989\n",
            "Epoch 1, train loss: 0.03847, train acc: 0.991\n",
            "gen eval loss: 1.92305, dis eval loss: 0.04060, dis eval acc: 0.989, elapsed: 4474.1s\n",
            "Round 12\n",
            "#Train generator\n",
            "##G-Step 0\n",
            "0, 1, 2, 3, 4, 5, 6, 7, 8, 9, 10, 11, 12, 13, 14, 15, #Train discriminator\n",
            "##D-Step 0\n",
            "Epoch 0, train loss: 0.04078, train acc: 0.989\n",
            "Epoch 1, train loss: 0.03905, train acc: 0.990\n",
            "##D-Step 1\n",
            "Epoch 0, train loss: 0.03666, train acc: 0.990\n",
            "Epoch 1, train loss: 0.03229, train acc: 0.993\n",
            "gen eval loss: 1.95019, dis eval loss: 0.02983, dis eval acc: 0.992, elapsed: 4830.9s\n",
            "Round 13\n",
            "#Train generator\n",
            "##G-Step 0\n",
            "0, 1, 2, 3, 4, 5, 6, 7, 8, 9, 10, 11, 12, 13, 14, 15, #Train discriminator\n",
            "##D-Step 0\n",
            "Epoch 0, train loss: 0.03102, train acc: 0.993\n",
            "Epoch 1, train loss: 0.02948, train acc: 0.993\n",
            "##D-Step 1\n",
            "Epoch 0, train loss: 0.02797, train acc: 0.994\n",
            "Epoch 1, train loss: 0.02685, train acc: 0.993\n",
            "gen eval loss: 1.96848, dis eval loss: 0.03266, dis eval acc: 0.991, elapsed: 5199.1s\n",
            "Round 14\n",
            "#Train generator\n",
            "##G-Step 0\n",
            "0, 1, 2, 3, 4, 5, 6, 7, 8, 9, 10, 11, 12, 13, 14, 15, #Train discriminator\n",
            "##D-Step 0\n",
            "Epoch 0, train loss: 0.03163, train acc: 0.992\n",
            "Epoch 1, train loss: 0.02828, train acc: 0.993\n",
            "##D-Step 1\n",
            "Epoch 0, train loss: 0.02965, train acc: 0.992\n",
            "Epoch 1, train loss: 0.02628, train acc: 0.993\n",
            "gen eval loss: 1.98496, dis eval loss: 0.03195, dis eval acc: 0.990, elapsed: 5565.5s\n"
          ]
        }
      ]
    },
    {
      "cell_type": "code",
      "source": [
        "gen_lines[:3]"
      ],
      "metadata": {
        "colab": {
          "base_uri": "https://localhost:8080/"
        },
        "id": "rA28S0ZVGmj_",
        "outputId": "46edcf39-08b3-4461-97a7-e67781b63a6e"
      },
      "execution_count": null,
      "outputs": [
        {
          "output_type": "execute_result",
          "data": {
            "text/plain": [
              "[' Expnytopy Diside A prese transfere ; Fn vite anhothe this, Infaciste realininged Commoriecinged Tra',\n",
              " ' Waximodical condidel netwo GON Modeliod ther 3 Gravity spandif a Diaff modelymeringed therem Ind Ge',\n",
              " ' modelion fingelity General modelion for for W synth Proce. On Enverdodydious for Relace mandivit bl']"
            ]
          },
          "metadata": {},
          "execution_count": 35
        }
      ]
    },
    {
      "cell_type": "code",
      "source": [
        "plt.plot(gen_pretrain_eval_loss + gen_adversarial_eval_loss)\n",
        "plt.axvline(x=len(gen_pretrain_eval_loss)-1, color='r', alpha=.5)\n",
        "plt.title('Generator eval loss');"
      ],
      "metadata": {
        "colab": {
          "base_uri": "https://localhost:8080/",
          "height": 391
        },
        "id": "4FrK1pow7EE1",
        "outputId": "85df5b12-5c3b-45b3-f5e0-b6200b6eb249"
      },
      "execution_count": null,
      "outputs": [
        {
          "output_type": "display_data",
          "data": {
            "text/plain": [
              "<Figure size 800x400 with 1 Axes>"
            ],
            "image/png": "[encoded data removed]"
          },
          "metadata": {}
        }
      ]
    },
    {
      "cell_type": "code",
      "source": [
        "plt.plot(dis_pretrain_eval_loss + dis_adversarial_eval_loss)\n",
        "plt.axvline(x=len(dis_pretrain_eval_loss)-1, color='r', alpha=.5)\n",
        "plt.title('Discriminator eval loss');"
      ],
      "metadata": {
        "colab": {
          "base_uri": "https://localhost:8080/",
          "height": 391
        },
        "id": "JjK0GFi0onc4",
        "outputId": "792c902f-5705-41c7-d80b-aa715a2d0399"
      },
      "execution_count": null,
      "outputs": [
        {
          "output_type": "display_data",
          "data": {
            "text/plain": [
              "<Figure size 800x400 with 1 Axes>"
            ],
            "image/png": "[encoded data removed]"
          },
          "metadata": {}
        }
      ]
    },
    {
      "cell_type": "markdown",
      "source": [
        "Кривая функции потерь генератора здорового человека\n",
        "\n",
        "<img src=\"https://raw.githubusercontent.com/sswt/dive2gai/main/.github/images/w4/seqgan_loss.png\" alt=\"SeqGAN\" width=\"60%\" />\n",
        "\n",
        "Это картинка из статьи, возможно дело в том, что там была другая постановка задачи - в качестве истинных последовательностей использовались сгенерированные случайным образом инициализированно йLSTM-сетью (oracle).\n"
      ],
      "metadata": {
        "id": "L3GFXeLSr2Cx"
      }
    },
    {
      "cell_type": "markdown",
      "source": [
        "## Упражнения\n",
        "\n",
        "* попробуйте поменять параметры обучения\n",
        "  * batch_size\n",
        "  * число шагов и эпох обучения дискриминатора, генератора\n",
        "  * другие параметры\n",
        "* заставьте состязательное обучение работать 😸"
      ],
      "metadata": {
        "id": "K4dr_rRrqsLH"
      }
    },
    {
      "cell_type": "code",
      "source": [],
      "metadata": {
        "id": "fgdtv20srJGD"
      },
      "execution_count": null,
      "outputs": []
    }
  ]
}