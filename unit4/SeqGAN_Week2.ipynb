{
  "nbformat": 4,
  "nbformat_minor": 0,
  "metadata": {
    "colab": {
      "provenance": [],
      "toc_visible": true,
      "gpuType": "T4"
    },
    "kernelspec": {
      "name": "python3",
      "display_name": "Python 3"
    },
    "language_info": {
      "name": "python"
    },
    "accelerator": "GPU"
  },
  "cells": [
    {
      "cell_type": "markdown",
      "source": [
        "# SeqGAN\n",
        "\n",
        "Цели:\n",
        "\n",
        "- Разобраться с основными архитектурными решениями и алгоритмом обучения SeqGAN\n",
        "- Реализация SeqGAN для задачи посимвольной генерации текстов\n",
        "\n",
        "Содержание:\n",
        "\n",
        "* [Введение](#intro)\n",
        "* [Загрузка данных](#load_data)\n",
        "* [Алгоритм обучения](#algorithm)\n",
        "  * [Генератор](#generator)\n",
        "  * [Дискриминатор](#discriminator)\n",
        "  * [Предобучение генератора (MLE)](#gen_pretrain)\n",
        "  * [Предобучение дискриминатора](#disc_pretrain)\n",
        "  * [Обучение в состязательном режиме](#adversarial_train)\n",
        "\n",
        "Ссылки:\n",
        "\n",
        "* [SeqGAN: Sequence Generative Adversarial Nets with Policy Gradient. Статья на ArXiv](https://arxiv.org/pdf/1609.05473v6.pdf)\n",
        "* [Deep Reinforcement Learning: Pong from Pixels](http://karpathy.github.io/2016/05/31/rl/)\n",
        "* [Реализация на pytorch](https://github.com/X-czh/SeqGAN-PyTorch/tree/master)\n",
        "* [Адаптированная реализация из репозитория TextGAN-PyTorch](https://github.com/sswt/dive2gai/blob/main/unit4/seqgan_textgan.py)\n"
      ],
      "metadata": {
        "id": "UkjfPrklG6TK"
      }
    },
    {
      "cell_type": "markdown",
      "source": [
        "<a name=\"load_data\"></a>\n",
        "## Загрузка данных"
      ],
      "metadata": {
        "id": "_KUKbAAq10hR"
      }
    },
    {
      "cell_type": "code",
      "source": [
        "import torch\n",
        "import torch.nn as nn\n",
        "import torch.nn.functional as F\n",
        "\n",
        "from time import time\n",
        "from collections import namedtuple\n",
        "from sklearn.model_selection import train_test_split\n",
        "\n",
        "import numpy as np\n",
        "import matplotlib.pyplot as plt"
      ],
      "metadata": {
        "id": "USX7LvX0Gpzm"
      },
      "execution_count": 1,
      "outputs": []
    },
    {
      "cell_type": "code",
      "execution_count": 2,
      "metadata": {
        "id": "NAnfc4vvFAa8"
      },
      "outputs": [],
      "source": [
        "!wget -q https://huggingface.co/datasets/sswt/arxiv_sample_50K/resolve/main/title_summary_ascii.txt.tar.gz -O data.tar.gz && tar -xzf data.tar.gz"
      ]
    },
    {
      "cell_type": "code",
      "source": [
        "max_len = 32  # default - 128, 32 for debug\n",
        "with open('title_summary_ascii.txt') as fp:\n",
        "    lines = [line[:max_len] for line in fp.readlines()]"
      ],
      "metadata": {
        "id": "AAxjSxf-FRan"
      },
      "execution_count": 3,
      "outputs": []
    },
    {
      "cell_type": "code",
      "source": [
        "vocab = {c: i for i, c in enumerate(sorted(set([c for l in lines for c in l])))}\n",
        "inv_vocab = {i: c for c, i in vocab.items()}\n",
        "vocab_size = len(vocab)\n",
        "len(vocab)"
      ],
      "metadata": {
        "colab": {
          "base_uri": "https://localhost:8080/"
        },
        "id": "CISnZgL-GHxD",
        "outputId": "bd8fedc7-0cbc-4bff-8c64-7b4a33e9486f"
      },
      "execution_count": 4,
      "outputs": [
        {
          "output_type": "execute_result",
          "data": {
            "text/plain": [
              "67"
            ]
          },
          "metadata": {},
          "execution_count": 4
        }
      ]
    },
    {
      "cell_type": "code",
      "source": [
        "lines[:3]"
      ],
      "metadata": {
        "colab": {
          "base_uri": "https://localhost:8080/"
        },
        "id": "-8GEnsxMFtMS",
        "outputId": "6b92fc99-3187-47e6-ce7b-fc3b8f0e4727"
      },
      "execution_count": 5,
      "outputs": [
        {
          "output_type": "execute_result",
          "data": {
            "text/plain": [
              "[' On Finitely Generated Models of',\n",
              " ' Generalized modeling of ecologi',\n",
              " ' Generating Subsurface Earth Mod']"
            ]
          },
          "metadata": {},
          "execution_count": 5
        }
      ]
    },
    {
      "cell_type": "code",
      "source": [
        "''.join(vocab)"
      ],
      "metadata": {
        "colab": {
          "base_uri": "https://localhost:8080/",
          "height": 35
        },
        "id": "V0-6kK_lGOzd",
        "outputId": "c992bce8-8927-463b-ca25-b61396bf5be9"
      },
      "execution_count": 6,
      "outputs": [
        {
          "output_type": "execute_result",
          "data": {
            "text/plain": [
              "\" ',.0123456789;ABCDEFGHIJKLMNOPQRSTUVWXYZabcdefghijklmnopqrstuvwxyz\""
            ],
            "application/vnd.google.colaboratory.intrinsic+json": {
              "type": "string"
            }
          },
          "metadata": {},
          "execution_count": 6
        }
      ]
    },
    {
      "cell_type": "code",
      "source": [
        "lines, val_lines = train_test_split(lines, test_size=1024, random_state=42)\n",
        "len(lines), len(val_lines)"
      ],
      "metadata": {
        "colab": {
          "base_uri": "https://localhost:8080/"
        },
        "id": "yrFFSvNltoZs",
        "outputId": "800e6b7d-864e-4494-d7ed-38e2b0235007"
      },
      "execution_count": 7,
      "outputs": [
        {
          "output_type": "execute_result",
          "data": {
            "text/plain": [
              "(48976, 1024)"
            ]
          },
          "metadata": {},
          "execution_count": 7
        }
      ]
    },
    {
      "cell_type": "markdown",
      "source": [
        "<a name=\"intro\"></a>\n",
        "## Введение\n",
        "\n",
        "В классических GAN'ах генератор сэмплирует случайный вектор $z$, а затем выполняет детерминированное преобразование в соответствии с его весами. Далее сгенерированный сэмпл вместе с настоящим пропускается через дискриминатор и градиент функции потерь дискриминатора используется, чтобы немного изменить генерируемое генератором значение и оно стало чуть более правдоподобным. Но для дискретных токенов нельзя \"немного\" изменить значение. То есть для изображения можно изменить пиксель на 0.0001, а для слова \"слово + 0.0001\" непонятно чем является, даже если делать это в пространстве эмбеддингов.\n",
        "\n",
        "Ещё один недостаток заключается в том, что GAN оценивает функцию потерь только для последовательности целиком, то есть после того, как она полностью сгенерирована, а сделать это в процессе генерации для GAN не так просто.\n",
        "\n",
        "В SeqGAN процесс генерации рассматривается как процесс последовательного принятия решений, как в обучении с подкреплением (reinforcement learning). Основная идея обучения с подкреплением состоит в том, что агент находясь в каком-то состоянии взаимодействует с окружающей средой, предпринимая действия и переходя в новые состояния. Окружающая среда его поощряет за эти действия, а агент продолжает их предпринимать, пытаясь максимизировать свою \"награду\".\n",
        "\n",
        "<img src=\"https://yanpuli.github.io/images/rl1.png\" alt=\"SeqGAN\" width=\"75%\" />\n",
        "\n",
        "В нашей постановке задачи:\n",
        "\n",
        "* состояние - уже сгенерированная часть последовательности\n",
        "* действие - выбор следующего токена\n",
        "\n",
        "Вопрос - как определить вознаграждение? Для этого используется дискриминатор, а точнее его оценка вероятности принадлежности сгенерированной последовательности к реальной.\n",
        "\n",
        "У нас есть генератор $G_\\theta$ и дискриминатор $D_ϕ$. $D_ϕ(Y_{1:T})$ - вероятность того, что последовательность $Y_{1:T}$ - реальная. $G$ обучается с помощью алгоритма policy gradient, где финальное значение вознаграждения за всю сгенерированную последовательность целиком выдаётся $D$ и передаётся обратно к промежуточным состояниям (предыдущим токенам) с помощью поиска по методу Монте Карло MC.\n",
        "\n",
        "<img src=\"https://raw.githubusercontent.com/sswt/dive2gai/main/.github/images/w4/seqgan_arch.png\" alt=\"SeqGAN\" width=\"75%\" />\n"
      ],
      "metadata": {
        "id": "mz48kdTc15E7"
      }
    },
    {
      "cell_type": "markdown",
      "source": [
        "<a name=\"algorithm\"></a>\n",
        "## Алгоритм обучения\n",
        "\n",
        "### Градиент по стратегиям (policy gradient)\n",
        "\n",
        "Генератор $G_\\theta$ - параметрически заданная политика или стратегия в терминах RL (policy).\n",
        "\n",
        "У нас нет немедленной награды на каждом шаге, в этом случае целевая функция генератора $G_θ(y_t|Y_{1:t−1})$ - сгенерировать последовательность от начального состояния $s_0$ для того, чтобы максимизировать мат. ожидание конечного вознаграждения:\n",
        "\n",
        "$$J(θ)=\\mathbb{E}[R_T|s_0,θ] = \\sum_{y_1∈Y}G_θ(y_1|s_0)·Q^{G_θ}_{D_φ} (s_0,y_1),$$ где ${R_T}$ - вознаграждение для последовательности целиком, $Q^{G_θ}_{D_φ}(s, a)$ - action-value функция для последовательности, то есть ожидаемое накопленное вознаграждение, начиная с состояния $s$, предпринимаемая действие $a$, и затем следуя стратегии $G_θ$.\n",
        "\n",
        "Как оценить action-value функцию? В данной работе авторы использовали алгоритм REINFORCE и в качестве вознаграждения используется оценка вероятности, что последовательность настоящая $D_φ(Y_{1:T})$:\n",
        "\n",
        "$$Q^{G_θ}_{D_φ}(a=y_T ,s=Y_{1:T-1}) = D_φ(Y_{1:T})$$\n",
        "\n",
        "Алгоритм REINFORCE основывается на принципе усиления политики: агент увеличивает вероятность действий, которые приводят к высоким наградам, и уменьшает вероятность действий, которые приводят к низким наградам. Этот процесс повторяется на протяжении обучения, и агент старается научиться выбирать оптимальные действия, максимизирующие суммарную награду.\n",
        "\n",
        "Но вознаграждение доступно только для законченной последовательности. И здесь мы не просто на каждом шаге оцениваем удачность текущего действия, но ещё и беспокоимся о конечном результате. Это похоже на игры в шахматы или Го, когда мы можем поступиться текущими интересами для победы во всей партии.\n",
        "\n",
        "Для оценки вознаграждения на промежуточных шагах, применяется метод Монте-Карло. Находясь в состоянии $t$, мы в с помощью генератора $G_β$ сэмплируем последние $T-t$ токенов последовательности $Y_{1:T}$ и через дискриминатор оцениваем вероятность того, что она реальная. Повторяем процедуру $N$ раз и усредняем оценку полученной вероятности:\n",
        "\n",
        "$$Q^{G_θ}_{D_φ}(s = Y_{1:t−1}, a = y_t) = \\begin{cases}\n",
        "\\frac{1}{N} \\sum^N_{n=1} D_φ(Y^n_{1:T}), Y^n_{1:T} ∈ MC^{G_β}(Y_{1:t};N) \\text{ for }t < T,\\\\\n",
        "Dφ(Y_{1:t})\\text{ for }t=T\\end{cases}\\tag{4}$$\n",
        "\n",
        "где $MC^{G_β}(Y_{1:t};N)$ - результат Монте-Карло симуляции для промежуточных шагов, где мы генерируем N последовательностей начиная с текущего состояния $s'=Y_{1:t}$.\n",
        "\n",
        "Благодаря тому, что у нас в качестве вознаграждения используется $D_φ$, мы можем его динамически обновлять для последующего улучшения генератора. То есть только у нас начинают генерироваться похожие на настоящие последовательности, мы должны переобучить дискриминатор (с помощью обычной кросс-энтропии):\n",
        "\n",
        "$$\\min_φ (−\\mathbb{E}_{Y ∼p_{data}} [log D_φ(Y)] − \\mathbb{E}_{Y∼G_θ}[log(1 − D_φ(Y ))]) \\tag{5}$$\n",
        "\n",
        "После получения новой модели дискриминатора, мы можем обновить генератор.В методе градиента по стратегиям (policy gradient) оптимизируется параметризованная политика для непосредственного увеличения награды на длительном промежутке времени.  Градиент целевой функции $J(θ)$ по параметрам генератора $θ$ может быть выражен как:\n",
        "\n",
        "$$∇_θ J(θ) = \\sum_{t+1}^T \\mathbb{E}_{y_t∼G_θ (y_t|Y_{1:t−1})}[∇_θ log G_θ (y_t|Y_{1:t−1}) · Q_{G_θ}^{D_φ}(Y_{1:t−1}, y_t)]$$,\n",
        "где $Y_{1:t−1}$ - промежуточная последовательность из $G_θ$.\n",
        "\n",
        "Поскольку мат. ожидание $\\mathbb{E}[·]$ может быть приблизительно вычислено с помощью сэмплирования, то параметры генератора могут быть обновлены например с помощью SGD:\n",
        "$$θ ← θ + α_h∇_θ J(θ), \\tag{8}$$\n",
        "\n",
        "где $α_h ∈ R^+$ - learning rate на h-м шаге.\n",
        "\n",
        "Итого весь алгоритм выглядит следующим образом:\n",
        "\n",
        "<img src=\"https://raw.githubusercontent.com/sswt/dive2gai/main/.github/images/w4/seqgan_algorithm.png\" alt=\"SeqGAN algorithm\" width=\"50%\" />\n",
        "\n",
        "В начале генератор $G_θ$ предобучается с помощью MLE. Затем дискриминатор $D_ϕ$ предобучается отличать сгенерированные $G_θ$ последовательности от реальных. По опыту авторов обучающий сигнал от предобученного $D_ϕ$ позволяет обучать генератор более эффективно.\n",
        "\n",
        "Затем $G_θ$ и $D_ϕ$ обучаются последовательно. Как только генератор прогрессирует за счёт обучения на g-шагах, дискриминатор тоже надо дообучить на улучшенных сгенерированных последовательностях. Для баланса классов число генерируемых последовательностей совпадает с числом реальных.\n"
      ],
      "metadata": {
        "id": "8cdOOfdbCZo7"
      }
    },
    {
      "cell_type": "markdown",
      "source": [
        "<a name=\"generator\"></a>\n",
        "### Генератор\n",
        "\n",
        "Генератор - обычная RNN, здесь используется LSTM, но это может быть GRU или трансформер."
      ],
      "metadata": {
        "id": "b51LeR2aHYig"
      }
    },
    {
      "cell_type": "code",
      "source": [
        "class DataIterator:\n",
        "    def __init__(self, texts, vocab, batch_size=32, max_len=256):\n",
        "        self.texts = texts\n",
        "        self.vocab = vocab\n",
        "        self.max_len = max_len\n",
        "        self.batch_size = batch_size\n",
        "        self.ixs = np.arange(len(texts))\n",
        "        self.pos = 0\n",
        "        self.reset()\n",
        "\n",
        "    def __len__(self):\n",
        "        return len(self.texts) // self.batch_size\n",
        "\n",
        "    def __iter__(self):\n",
        "        return self\n",
        "\n",
        "    def __next__(self):\n",
        "        if len(self)*self.batch_size - self.pos < self.batch_size:\n",
        "           raise StopIteration\n",
        "        indices = self.ixs[self.pos:self.pos + self.batch_size]\n",
        "        sequences = torch.stack([self.to_tensor(self.texts[i]) for i in indices])\n",
        "        self.pos += self.batch_size\n",
        "        return sequences[:, :-1], sequences[:, 1:]\n",
        "\n",
        "    def reset(self):\n",
        "        self.pos = 0\n",
        "        np.random.shuffle(self.ixs)\n",
        "\n",
        "    def to_tensor(self, line):\n",
        "        t = torch.LongTensor([self.vocab[line[li]] for li in range(len(line[:self.max_len]))])\n",
        "        if len(line) < self.max_len:\n",
        "            t = nn.ConstantPad1d((0, self.max_len - len(line)), 0)(t)\n",
        "        return t"
      ],
      "metadata": {
        "id": "TCMPtLyGCxkV"
      },
      "execution_count": 8,
      "outputs": []
    },
    {
      "cell_type": "code",
      "source": [
        "class Generator(nn.Module):\n",
        "    \"\"\" Generator \"\"\"\n",
        "\n",
        "    def __init__(self, vocab_size, embedding_dim, hidden_dim, use_cuda):\n",
        "        super(Generator, self).__init__()\n",
        "        self.hidden_dim = hidden_dim\n",
        "        self.use_cuda = use_cuda\n",
        "        self.embed = nn.Embedding(vocab_size, embedding_dim)\n",
        "        self.lstm = nn.LSTM(embedding_dim, hidden_dim, batch_first=True)\n",
        "        self.fc = nn.Linear(hidden_dim, vocab_size)\n",
        "        self.log_softmax = nn.LogSoftmax(dim=1)\n",
        "        self.init_params()\n",
        "\n",
        "    def forward(self, x):\n",
        "        \"\"\"\n",
        "        Embeds input and applies LSTM on the input sequence.\n",
        "\n",
        "        Inputs: x\n",
        "            - x: (batch_size, seq_len), sequence of tokens generated by generator\n",
        "        Outputs: out\n",
        "            - out: (batch_size * seq_len, vocab_size), lstm output prediction\n",
        "        \"\"\"\n",
        "        self.lstm.flatten_parameters()\n",
        "        h0, c0 = self.init_hidden(x.size(0))\n",
        "        emb = self.embed(x) # batch_size * seq_len * emb_dim\n",
        "        out, _ = self.lstm(emb, (h0, c0)) # out: batch_size * seq_len * hidden_dim\n",
        "        out = self.log_softmax(self.fc(out.contiguous().view(-1, self.hidden_dim))) # (batch_size*seq_len) * vocab_size\n",
        "        return out\n",
        "\n",
        "    def step(self, x, h, c):\n",
        "        \"\"\"\n",
        "        Embeds input and applies LSTM one token at a time (seq_len = 1).\n",
        "\n",
        "        Inputs: x, h, c\n",
        "            - x: (batch_size, 1), sequence of tokens generated by generator\n",
        "            - h: (1, batch_size, hidden_dim), lstm hidden state\n",
        "            - c: (1, batch_size, hidden_dim), lstm cell state\n",
        "        Outputs: out, h, c\n",
        "            - out: (batch_size, vocab_size), lstm output prediction\n",
        "            - h: (1, batch_size, hidden_dim), lstm hidden state\n",
        "            - c: (1, batch_size, hidden_dim), lstm cell state\n",
        "        \"\"\"\n",
        "        self.lstm.flatten_parameters()\n",
        "        emb = self.embed(x) # batch_size * 1 * emb_dim\n",
        "        out, (h, c) = self.lstm(emb, (h, c)) # out: batch_size * 1 * hidden_dim\n",
        "        out = self.log_softmax(self.fc(out.contiguous().view(-1, self.hidden_dim))) # batch_size * vocab_size\n",
        "        return out, h, c\n",
        "\n",
        "    def init_hidden(self, batch_size):\n",
        "        h = torch.zeros(1, batch_size, self.hidden_dim)\n",
        "        c = torch.zeros(1, batch_size, self.hidden_dim)\n",
        "        if self.use_cuda:\n",
        "            h, c = h.cuda(), c.cuda()\n",
        "        return h, c\n",
        "\n",
        "    def init_params(self):\n",
        "        for param in self.parameters():\n",
        "            param.data.uniform_(-0.05, 0.05)\n",
        "\n",
        "    def sample(self, batch_size, seq_len, x=None):\n",
        "        \"\"\"\n",
        "        Samples the network and returns a batch of samples of length seq_len.\n",
        "\n",
        "        Outputs: out\n",
        "            - out: (batch_size * seq_len)\n",
        "        \"\"\"\n",
        "        # TODO: Fix generation to be one pass instead of step-by-step loop\n",
        "        # TODO: Add stop iteration on EOS token\n",
        "        samples = []\n",
        "        if x is None:\n",
        "            h, c = self.init_hidden(batch_size)\n",
        "            x = torch.zeros(batch_size, 1, dtype=torch.int64)\n",
        "            if self.use_cuda:\n",
        "                x = x.cuda()\n",
        "            for _ in range(seq_len):\n",
        "                out, h, c = self.step(x, h, c)\n",
        "                prob = torch.exp(out)\n",
        "                x = torch.multinomial(prob, 1)\n",
        "                samples.append(x)\n",
        "        else:\n",
        "            h, c = self.init_hidden(x.size(0))\n",
        "            given_len = x.size(1)\n",
        "            lis = x.chunk(x.size(1), dim=1)\n",
        "            for i in range(given_len):\n",
        "                out, h, c = self.step(lis[i], h, c)\n",
        "                samples.append(lis[i])\n",
        "            prob = torch.exp(out)\n",
        "            x = torch.multinomial(prob, 1)\n",
        "            for _ in range(given_len, seq_len):\n",
        "                samples.append(x)\n",
        "                out, h, c = self.step(x, h, c)\n",
        "                prob = torch.exp(out)\n",
        "                x = torch.multinomial(prob, 1)\n",
        "        out = torch.cat(samples, dim=1) # along the batch_size dimension\n",
        "        return out"
      ],
      "metadata": {
        "id": "TP6iKKWuPAep"
      },
      "execution_count": 9,
      "outputs": []
    },
    {
      "cell_type": "markdown",
      "source": [
        "<a name=\"discriminator\"></a>\n",
        "### Дискриминатор\n",
        "\n",
        "В качестве дискриминатора используется свёрточная сеть, которая предсказывает для последовательности целиком - реальная она или сгенерированная.\n",
        "\n",
        "* для токенов строятся k-мерные эмбеддинги\n",
        "* применяется набор свёрточных фильтров с различной шириной окна\n",
        "* max pooling поверх которого применяется highway-архитектура\n",
        "* dropout\n",
        "* полносвязный слой с выходом на два класса\n",
        "\n",
        "Highway-архитектура - когда в глубоких полносвязных сетях добавляются skip connections через несколько слоёв, которые называются information highways. При этом информация пропускается через фильтры с сигмоидой (привет LSTM). Выход слоя считается по формуле:\n",
        "\n",
        "$y = H(x, W_H) · T(x, W_T) + x · C(x, W_C)$,\n",
        "\n",
        "где $ H(x, W_H)$ - привычный линейный слой с какой-то нелинейной функцией активации $H$, $T(x, W_T)$ - transform gate с сигмоидой, $C(x,W_C)$ - carry gate, $С = 1 - T$.\n",
        "\n",
        "Это позволяет облегчить протекание градиентов."
      ],
      "metadata": {
        "id": "s_NRHPYwDRyB"
      }
    },
    {
      "cell_type": "code",
      "source": [
        "import math\n",
        "import random\n",
        "\n",
        "class DisDataIter:\n",
        "    def __init__(self, real_data, fake_data, batch_size, vocab, max_len):\n",
        "        super(DisDataIter, self).__init__()\n",
        "        assert len(real_data) == len(fake_data)\n",
        "        self.batch_size = batch_size\n",
        "        self.data = real_data + fake_data\n",
        "        self.labels = [1 for _ in range(len(real_data))] + [0 for _ in range(len(fake_data))]\n",
        "        self.pairs = list(zip(self.data, self.labels))\n",
        "        self.data_num = len(self.pairs)\n",
        "        self.indices = range(self.data_num)\n",
        "        self.num_batches = math.ceil(self.data_num / self.batch_size)\n",
        "        self.vocab = vocab\n",
        "        self.max_len = max_len\n",
        "        self.idx = 0\n",
        "        self.reset()\n",
        "\n",
        "    def __len__(self):\n",
        "        return self.num_batches\n",
        "\n",
        "    def __iter__(self):\n",
        "        return self\n",
        "\n",
        "    def __next__(self):\n",
        "        return self.next()\n",
        "\n",
        "    def reset(self):\n",
        "        self.idx = 0\n",
        "        random.shuffle(self.pairs)\n",
        "\n",
        "    def next(self):\n",
        "        if self.idx >= self.data_num:\n",
        "            raise StopIteration\n",
        "        index = self.indices[self.idx : self.idx + self.batch_size]\n",
        "        pairs = [self.pairs[i] for i in index]\n",
        "        data = [self.to_tensor(p[0]) for p in pairs]\n",
        "        label = [torch.tensor(p[1]) for p in pairs]\n",
        "        data = torch.stack(data)\n",
        "        label = torch.stack(label)\n",
        "        self.idx += self.batch_size\n",
        "        return data, label\n",
        "\n",
        "    def to_tensor(self, line):\n",
        "        t = torch.LongTensor([self.vocab[line[li]] for li in range(len(line[:self.max_len]))])\n",
        "        if len(line) < self.max_len:\n",
        "            t = nn.ConstantPad1d((0, self.max_len - len(line)), 0)(t)\n",
        "        return t"
      ],
      "metadata": {
        "id": "sAuQq-GDHQGx"
      },
      "execution_count": 10,
      "outputs": []
    },
    {
      "cell_type": "code",
      "source": [
        "class Discriminator(nn.Module):\n",
        "    \"\"\"\n",
        "    A CNN for text classification.\n",
        "    Uses an embedding layer, followed by a convolutional, max-pooling and softmax layer.\n",
        "    Highway architecture based on the pooled feature maps is added. Dropout is adopted.\n",
        "    \"\"\"\n",
        "\n",
        "    def __init__(self, vocab_size, embedding_dim, filter_sizes, num_filters, dropout_prob, num_classes=2):\n",
        "        super(Discriminator, self).__init__()\n",
        "        self.embed = nn.Embedding(vocab_size, embedding_dim)\n",
        "        self.convs = nn.ModuleList([\n",
        "            nn.Conv2d(1, num_f, (f_size, embedding_dim)) for f_size, num_f in zip(filter_sizes, num_filters)\n",
        "        ])\n",
        "        self.highway = nn.Linear(sum(num_filters), sum(num_filters))\n",
        "        self.dropout = nn.Dropout(p = dropout_prob)\n",
        "        self.fc = nn.Linear(sum(num_filters), num_classes)\n",
        "\n",
        "    def forward(self, x):\n",
        "        \"\"\"\n",
        "        Inputs: x\n",
        "            - x: (batch_size, seq_len)\n",
        "        Outputs: out\n",
        "            - out: (batch_size, num_classes)\n",
        "        \"\"\"\n",
        "        emb = self.embed(x).unsqueeze(1) # batch_size, 1 * seq_len * emb_dim\n",
        "        convs = [F.relu(conv(emb)).squeeze(3) for conv in self.convs] # [batch_size * num_filter * seq_len]\n",
        "        pools = [F.max_pool1d(conv, conv.size(2)).squeeze(2) for conv in convs] # [batch_size * num_filter]\n",
        "        out = torch.cat(pools, 1)  # batch_size * sum(num_filters)\n",
        "        highway = self.highway(out)\n",
        "        transform = F.sigmoid(highway)\n",
        "        out = transform * F.relu(highway) + (1. - transform) * out # sets C = 1 - T\n",
        "        out = F.log_softmax(self.fc(self.dropout(out)), dim=1) # batch * num_classes\n",
        "        return out"
      ],
      "metadata": {
        "id": "gQcFJowcPzws"
      },
      "execution_count": 11,
      "outputs": []
    },
    {
      "cell_type": "markdown",
      "source": [
        "<a name=\"gen_pretrain\"></a>\n",
        "### Предобучение генератора с помощью MLE\n",
        "\n",
        "Уже знакомое \"привычное\" обучение RNN с предыдущего занятия"
      ],
      "metadata": {
        "id": "0_f69B7AFOf_"
      }
    },
    {
      "cell_type": "code",
      "source": [
        "def train_generator_MLE(gen, data_iter, criterion, optimizer, epochs, losses, cuda):\n",
        "    \"\"\"\n",
        "    Train generator with MLE\n",
        "    \"\"\"\n",
        "    for epoch in range(epochs):\n",
        "        total_loss = 0.\n",
        "        for data, target in data_iter:\n",
        "            if cuda:\n",
        "                data, target = data.cuda(), target.cuda()\n",
        "            target = target.contiguous().view(-1)\n",
        "            output = gen(data)\n",
        "            loss = criterion(output, target)\n",
        "            total_loss += loss.item()\n",
        "            optimizer.zero_grad()\n",
        "            loss.backward()\n",
        "            optimizer.step()\n",
        "        data_iter.reset()\n",
        "        avg_loss = total_loss / len(data_iter)\n",
        "        print(f\"Epoch {epoch}, train loss: {avg_loss:.5f}\", end=', ')\n",
        "        losses.append(avg_loss)\n",
        "\n",
        "def generate_samples(model, batch_size, generated_num, inv_vocab, g_seq_len=20):\n",
        "    samples = []\n",
        "    for _ in range(int(generated_num / batch_size)):\n",
        "        sample = model.sample(batch_size, g_seq_len).cpu().data.numpy().tolist()\n",
        "        samples.extend(sample)\n",
        "    return [''.join([inv_vocab[s] for s in sample]) for sample in samples]\n",
        "\n",
        "def eval_generator(model, data_iter, criterion, cuda):\n",
        "    \"\"\"\n",
        "    Evaluate generator with NLL\n",
        "    \"\"\"\n",
        "    total_loss = 0.\n",
        "    with torch.no_grad():\n",
        "        for data, target in data_iter:\n",
        "            if cuda:\n",
        "                data, target = data.cuda(), target.cuda()\n",
        "            target = target.contiguous().view(-1)\n",
        "            pred = model(data)\n",
        "            loss = criterion(pred, target)\n",
        "            total_loss += loss.item()\n",
        "    avg_loss = total_loss / len(data_iter)\n",
        "    return avg_loss"
      ],
      "metadata": {
        "id": "piDErOQi87Pw"
      },
      "execution_count": 12,
      "outputs": []
    },
    {
      "cell_type": "code",
      "source": [
        "args = {\n",
        "    'hpc': False,  # 'set to hpc mode'\n",
        "    'data_path': './seq_gan/', # data path to save files (default: ./seq_gan/)\n",
        "    'rounds': 15,  # rounds of adversarial training (default: 150)\n",
        "    'g_pretrain_steps': 120,  #! steps of pre-training of generators (default: 120)\n",
        "    'd_pretrain_steps': 10,  #! steps of pre-training of discriminators (default: 50)\n",
        "    'g_steps': 1,  # steps of generator updates in one round of adverarial training (default: 1)\n",
        "    'd_steps': 3,  #! steps of discriminator updates in one round of adverarial training (default: 3)\n",
        "    'gk_epochs': 1,  # epochs of generator updates in one step of generate update (default: 1)\n",
        "    'dk_epochs': 2,  #! epochs of discriminator updates in one step of discriminator update (default: 3)\n",
        "    'update_rate': 0.8,  # update rate of roll-out model (default: 0.8)\n",
        "    'n_rollout': 16,  #! number of roll-out (default: 16)\n",
        "    # 'vocab_size': 10,  # vocabulary size (default: 10)\n",
        "    'batch_size': 64,  # batch size (default: 64)\n",
        "    'n_samples': 4096,  # number of samples generated per time (default: 6400, speedup: 320)\n",
        "    'gen_lr': 1e-3,  # learning rate of generator optimizer (default: 1e-3)\n",
        "    'dis_lr': 1e-3,  # learning rate of discriminator optimizer (default: 1e-3)\n",
        "    'no_cuda': False,  # disables CUDA training\n",
        "    'seed': 1,  # random seed (default: 1)\n",
        "}\n",
        "args = namedtuple('Struct', args)(**args)"
      ],
      "metadata": {
        "id": "CmKdqR3iNPnk"
      },
      "execution_count": 13,
      "outputs": []
    },
    {
      "cell_type": "code",
      "source": [
        "cuda = torch.cuda.is_available()\n",
        "device = torch.device('cuda') if torch.cuda.is_available() else torch.device('cpu')\n",
        "cuda"
      ],
      "metadata": {
        "colab": {
          "base_uri": "https://localhost:8080/"
        },
        "id": "bCHonchL-fqJ",
        "outputId": "e0be31c5-fbe7-4ae7-fc99-adcaaa91542b"
      },
      "execution_count": 14,
      "outputs": [
        {
          "output_type": "execute_result",
          "data": {
            "text/plain": [
              "True"
            ]
          },
          "metadata": {},
          "execution_count": 14
        }
      ]
    },
    {
      "cell_type": "code",
      "source": [
        "real_lines = lines[:args.n_samples]"
      ],
      "metadata": {
        "id": "tKgmU1tlPA2B"
      },
      "execution_count": 15,
      "outputs": []
    },
    {
      "cell_type": "code",
      "source": [
        "data_iter = DataIterator(real_lines, vocab, max_len=max_len)"
      ],
      "metadata": {
        "id": "ZmSLap-nGjwm"
      },
      "execution_count": 16,
      "outputs": []
    },
    {
      "cell_type": "code",
      "source": [
        "# Generator Parameters\n",
        "g_embed_dim = 64\n",
        "g_hidden_dim = 64\n",
        "generator = Generator(vocab_size, g_embed_dim, g_hidden_dim, cuda).to(device)\n",
        "nll_loss = nn.NLLLoss()\n",
        "gen_optimizer = torch.optim.Adam(params=generator.parameters(), lr=args.gen_lr)"
      ],
      "metadata": {
        "id": "Feqx1AUD-U39"
      },
      "execution_count": 17,
      "outputs": []
    },
    {
      "cell_type": "code",
      "source": [
        "gen_pretrain_train_loss = []\n",
        "gen_pretrain_eval_loss = []\n",
        "for i in range(args.g_pretrain_steps):\n",
        "    print(\"G-Step {}\".format(i), end=' - ')\n",
        "    train_generator_MLE(generator, data_iter, nll_loss, gen_optimizer, args.gk_epochs, gen_pretrain_train_loss, cuda)\n",
        "    eval_iter = DataIterator(val_lines, vocab, max_len=max_len)\n",
        "    gen_loss = eval_generator(generator, eval_iter, nll_loss, cuda)\n",
        "    gen_pretrain_eval_loss.append(gen_loss)\n",
        "    print(\"eval loss: {:.5f}\".format(gen_loss))\n",
        "    # print(generate_samples(generator, args.batch_size, args.batch_size, inv_vocab, g_seq_len=max_len)[0])\n",
        "gen_lines = generate_samples(generator, args.batch_size, args.n_samples, inv_vocab, g_seq_len=max_len)"
      ],
      "metadata": {
        "id": "muqqEQqYKZ8f",
        "colab": {
          "base_uri": "https://localhost:8080/"
        },
        "outputId": "bd62abc5-7451-4504-b218-29bdc2b0a4c8"
      },
      "execution_count": 18,
      "outputs": [
        {
          "output_type": "stream",
          "name": "stdout",
          "text": [
            "G-Step 0 - Epoch 0, train loss: 3.41654, eval loss: 3.21610\n",
            "G-Step 1 - Epoch 0, train loss: 3.18600, eval loss: 3.12905\n",
            "G-Step 2 - Epoch 0, train loss: 2.97498, eval loss: 2.84546\n",
            "G-Step 3 - Epoch 0, train loss: 2.75556, eval loss: 2.71764\n",
            "G-Step 4 - Epoch 0, train loss: 2.65268, eval loss: 2.62901\n",
            "G-Step 5 - Epoch 0, train loss: 2.56319, eval loss: 2.54278\n",
            "G-Step 6 - Epoch 0, train loss: 2.48222, eval loss: 2.46831\n",
            "G-Step 7 - Epoch 0, train loss: 2.41215, eval loss: 2.40430\n",
            "G-Step 8 - Epoch 0, train loss: 2.34939, eval loss: 2.34375\n",
            "G-Step 9 - Epoch 0, train loss: 2.28994, eval loss: 2.28748\n",
            "G-Step 10 - Epoch 0, train loss: 2.23468, eval loss: 2.23446\n",
            "G-Step 11 - Epoch 0, train loss: 2.18342, eval loss: 2.18765\n",
            "G-Step 12 - Epoch 0, train loss: 2.13586, eval loss: 2.14261\n",
            "G-Step 13 - Epoch 0, train loss: 2.09305, eval loss: 2.10134\n",
            "G-Step 14 - Epoch 0, train loss: 2.05492, eval loss: 2.06718\n",
            "G-Step 15 - Epoch 0, train loss: 2.02056, eval loss: 2.03612\n",
            "G-Step 16 - Epoch 0, train loss: 1.98959, eval loss: 2.00559\n",
            "G-Step 17 - Epoch 0, train loss: 1.96091, eval loss: 1.98085\n",
            "G-Step 18 - Epoch 0, train loss: 1.93547, eval loss: 1.95703\n",
            "G-Step 19 - Epoch 0, train loss: 1.91220, eval loss: 1.93376\n",
            "G-Step 20 - Epoch 0, train loss: 1.88986, eval loss: 1.91409\n",
            "G-Step 21 - Epoch 0, train loss: 1.86913, eval loss: 1.89470\n",
            "G-Step 22 - Epoch 0, train loss: 1.84991, eval loss: 1.87854\n",
            "G-Step 23 - Epoch 0, train loss: 1.83202, eval loss: 1.86098\n",
            "G-Step 24 - Epoch 0, train loss: 1.81535, eval loss: 1.84568\n",
            "G-Step 25 - Epoch 0, train loss: 1.79959, eval loss: 1.83432\n",
            "G-Step 26 - Epoch 0, train loss: 1.78499, eval loss: 1.82032\n",
            "G-Step 27 - Epoch 0, train loss: 1.77138, eval loss: 1.80861\n",
            "G-Step 28 - Epoch 0, train loss: 1.75806, eval loss: 1.79531\n",
            "G-Step 29 - Epoch 0, train loss: 1.74540, eval loss: 1.78664\n",
            "G-Step 30 - Epoch 0, train loss: 1.73326, eval loss: 1.77566\n",
            "G-Step 31 - Epoch 0, train loss: 1.72200, eval loss: 1.76627\n",
            "G-Step 32 - Epoch 0, train loss: 1.71028, eval loss: 1.75601\n",
            "G-Step 33 - Epoch 0, train loss: 1.69957, eval loss: 1.74822\n",
            "G-Step 34 - Epoch 0, train loss: 1.68928, eval loss: 1.73791\n",
            "G-Step 35 - Epoch 0, train loss: 1.67893, eval loss: 1.73004\n",
            "G-Step 36 - Epoch 0, train loss: 1.66988, eval loss: 1.72360\n",
            "G-Step 37 - Epoch 0, train loss: 1.66062, eval loss: 1.71588\n",
            "G-Step 38 - Epoch 0, train loss: 1.65172, eval loss: 1.70912\n",
            "G-Step 39 - Epoch 0, train loss: 1.64335, eval loss: 1.70318\n",
            "G-Step 40 - Epoch 0, train loss: 1.63565, eval loss: 1.69680\n",
            "G-Step 41 - Epoch 0, train loss: 1.62777, eval loss: 1.69068\n",
            "G-Step 42 - Epoch 0, train loss: 1.61986, eval loss: 1.68692\n",
            "G-Step 43 - Epoch 0, train loss: 1.61260, eval loss: 1.68188\n",
            "G-Step 44 - Epoch 0, train loss: 1.60628, eval loss: 1.67472\n",
            "G-Step 45 - Epoch 0, train loss: 1.59902, eval loss: 1.66996\n",
            "G-Step 46 - Epoch 0, train loss: 1.59267, eval loss: 1.66613\n",
            "G-Step 47 - Epoch 0, train loss: 1.58656, eval loss: 1.66058\n",
            "G-Step 48 - Epoch 0, train loss: 1.57997, eval loss: 1.65566\n",
            "G-Step 49 - Epoch 0, train loss: 1.57424, eval loss: 1.65388\n",
            "G-Step 50 - Epoch 0, train loss: 1.56839, eval loss: 1.64809\n",
            "G-Step 51 - Epoch 0, train loss: 1.56297, eval loss: 1.64433\n",
            "G-Step 52 - Epoch 0, train loss: 1.55789, eval loss: 1.63966\n",
            "G-Step 53 - Epoch 0, train loss: 1.55237, eval loss: 1.63745\n",
            "G-Step 54 - Epoch 0, train loss: 1.54746, eval loss: 1.63411\n",
            "G-Step 55 - Epoch 0, train loss: 1.54228, eval loss: 1.63116\n",
            "G-Step 56 - Epoch 0, train loss: 1.53740, eval loss: 1.62856\n",
            "G-Step 57 - Epoch 0, train loss: 1.53281, eval loss: 1.62514\n",
            "G-Step 58 - Epoch 0, train loss: 1.52807, eval loss: 1.62171\n",
            "G-Step 59 - Epoch 0, train loss: 1.52393, eval loss: 1.61983\n",
            "G-Step 60 - Epoch 0, train loss: 1.51949, eval loss: 1.61675\n",
            "G-Step 61 - Epoch 0, train loss: 1.51570, eval loss: 1.61540\n",
            "G-Step 62 - Epoch 0, train loss: 1.51143, eval loss: 1.61306\n",
            "G-Step 63 - Epoch 0, train loss: 1.50700, eval loss: 1.60977\n",
            "G-Step 64 - Epoch 0, train loss: 1.50334, eval loss: 1.60864\n",
            "G-Step 65 - Epoch 0, train loss: 1.49916, eval loss: 1.60384\n",
            "G-Step 66 - Epoch 0, train loss: 1.49557, eval loss: 1.60293\n",
            "G-Step 67 - Epoch 0, train loss: 1.49211, eval loss: 1.60048\n",
            "G-Step 68 - Epoch 0, train loss: 1.48815, eval loss: 1.59858\n",
            "G-Step 69 - Epoch 0, train loss: 1.48483, eval loss: 1.59607\n",
            "G-Step 70 - Epoch 0, train loss: 1.48144, eval loss: 1.59489\n",
            "G-Step 71 - Epoch 0, train loss: 1.47780, eval loss: 1.59303\n",
            "G-Step 72 - Epoch 0, train loss: 1.47442, eval loss: 1.59323\n",
            "G-Step 73 - Epoch 0, train loss: 1.47189, eval loss: 1.58816\n",
            "G-Step 74 - Epoch 0, train loss: 1.46824, eval loss: 1.58866\n",
            "G-Step 75 - Epoch 0, train loss: 1.46480, eval loss: 1.58805\n",
            "G-Step 76 - Epoch 0, train loss: 1.46185, eval loss: 1.58584\n",
            "G-Step 77 - Epoch 0, train loss: 1.45869, eval loss: 1.58604\n",
            "G-Step 78 - Epoch 0, train loss: 1.45577, eval loss: 1.58173\n",
            "G-Step 79 - Epoch 0, train loss: 1.45322, eval loss: 1.57995\n",
            "G-Step 80 - Epoch 0, train loss: 1.45001, eval loss: 1.57813\n",
            "G-Step 81 - Epoch 0, train loss: 1.44720, eval loss: 1.57784\n",
            "G-Step 82 - Epoch 0, train loss: 1.44446, eval loss: 1.57677\n",
            "G-Step 83 - Epoch 0, train loss: 1.44189, eval loss: 1.57692\n",
            "G-Step 84 - Epoch 0, train loss: 1.43922, eval loss: 1.57463\n",
            "G-Step 85 - Epoch 0, train loss: 1.43683, eval loss: 1.57290\n",
            "G-Step 86 - Epoch 0, train loss: 1.43440, eval loss: 1.57190\n",
            "G-Step 87 - Epoch 0, train loss: 1.43200, eval loss: 1.57239\n",
            "G-Step 88 - Epoch 0, train loss: 1.42911, eval loss: 1.57101\n",
            "G-Step 89 - Epoch 0, train loss: 1.42715, eval loss: 1.56816\n",
            "G-Step 90 - Epoch 0, train loss: 1.42469, eval loss: 1.56987\n",
            "G-Step 91 - Epoch 0, train loss: 1.42225, eval loss: 1.56588\n",
            "G-Step 92 - Epoch 0, train loss: 1.41960, eval loss: 1.56710\n",
            "G-Step 93 - Epoch 0, train loss: 1.41766, eval loss: 1.56440\n",
            "G-Step 94 - Epoch 0, train loss: 1.41469, eval loss: 1.56590\n",
            "G-Step 95 - Epoch 0, train loss: 1.41266, eval loss: 1.56367\n",
            "G-Step 96 - Epoch 0, train loss: 1.41083, eval loss: 1.56096\n",
            "G-Step 97 - Epoch 0, train loss: 1.40825, eval loss: 1.56247\n",
            "G-Step 98 - Epoch 0, train loss: 1.40645, eval loss: 1.56183\n",
            "G-Step 99 - Epoch 0, train loss: 1.40421, eval loss: 1.56010\n",
            "G-Step 100 - Epoch 0, train loss: 1.40264, eval loss: 1.55880\n",
            "G-Step 101 - Epoch 0, train loss: 1.40015, eval loss: 1.55819\n",
            "G-Step 102 - Epoch 0, train loss: 1.39870, eval loss: 1.55814\n",
            "G-Step 103 - Epoch 0, train loss: 1.39674, eval loss: 1.55806\n",
            "G-Step 104 - Epoch 0, train loss: 1.39451, eval loss: 1.55821\n",
            "G-Step 105 - Epoch 0, train loss: 1.39300, eval loss: 1.55689\n",
            "G-Step 106 - Epoch 0, train loss: 1.39086, eval loss: 1.55319\n",
            "G-Step 107 - Epoch 0, train loss: 1.38892, eval loss: 1.55477\n",
            "G-Step 108 - Epoch 0, train loss: 1.38727, eval loss: 1.55583\n",
            "G-Step 109 - Epoch 0, train loss: 1.38564, eval loss: 1.55399\n",
            "G-Step 110 - Epoch 0, train loss: 1.38378, eval loss: 1.55457\n",
            "G-Step 111 - Epoch 0, train loss: 1.38208, eval loss: 1.55166\n",
            "G-Step 112 - Epoch 0, train loss: 1.38063, eval loss: 1.55302\n",
            "G-Step 113 - Epoch 0, train loss: 1.37864, eval loss: 1.55289\n",
            "G-Step 114 - Epoch 0, train loss: 1.37678, eval loss: 1.55074\n",
            "G-Step 115 - Epoch 0, train loss: 1.37560, eval loss: 1.55410\n",
            "G-Step 116 - Epoch 0, train loss: 1.37436, eval loss: 1.55144\n",
            "G-Step 117 - Epoch 0, train loss: 1.37246, eval loss: 1.55139\n",
            "G-Step 118 - Epoch 0, train loss: 1.37061, eval loss: 1.55020\n",
            "G-Step 119 - Epoch 0, train loss: 1.36890, eval loss: 1.55048\n"
          ]
        }
      ]
    },
    {
      "cell_type": "code",
      "source": [
        "plt.rcParams['figure.figsize'] = (8, 4)\n",
        "plt.plot(gen_pretrain_train_loss, marker='.', alpha=.5)\n",
        "plt.plot(gen_pretrain_eval_loss)\n",
        "plt.legend(['train', 'eval']);"
      ],
      "metadata": {
        "colab": {
          "base_uri": "https://localhost:8080/",
          "height": 371
        },
        "id": "SjK6ww9aUIBP",
        "outputId": "c491403c-dd28-4017-abcc-07c5ab724497"
      },
      "execution_count": 19,
      "outputs": [
        {
          "output_type": "display_data",
          "data": {
            "text/plain": [
              "<Figure size 800x400 with 1 Axes>"
            ],
            "image/png": "[encoded data removed]"
          },
          "metadata": {}
        }
      ]
    },
    {
      "cell_type": "code",
      "source": [
        "len(gen_lines)"
      ],
      "metadata": {
        "colab": {
          "base_uri": "https://localhost:8080/"
        },
        "id": "0e9v1l3_KgHu",
        "outputId": "8b8d32ec-6339-4a08-bbc7-ca6e058db388"
      },
      "execution_count": 20,
      "outputs": [
        {
          "output_type": "execute_result",
          "data": {
            "text/plain": [
              "4096"
            ]
          },
          "metadata": {},
          "execution_count": 20
        }
      ]
    },
    {
      "cell_type": "code",
      "source": [
        "gen_lines[:3]"
      ],
      "metadata": {
        "colab": {
          "base_uri": "https://localhost:8080/"
        },
        "id": "K8ShaIDhF6Gw",
        "outputId": "ecb98a95-fc2e-40da-fef5-ab75fd4b75d8"
      },
      "execution_count": 21,
      "outputs": [
        {
          "output_type": "execute_result",
          "data": {
            "text/plain": [
              "['Code KRM An Effectivelice anterr',\n",
              " 'Foulding a Model Trassical Price',\n",
              " 'Dy Closolene Generalized Linear ']"
            ]
          },
          "metadata": {},
          "execution_count": 21
        }
      ]
    },
    {
      "cell_type": "markdown",
      "source": [
        "<a name=\"disc_pretrain\"></a>\n",
        "### Предобучение дискриминатора\n",
        "\n",
        "Бинарный классификатор - сгенерированная последовательность или реальная"
      ],
      "metadata": {
        "id": "NFfSp9du2WJu"
      }
    },
    {
      "cell_type": "code",
      "source": [
        "def train_discriminator(dis, data_iter, criterion, optimizer, epochs,\n",
        "        dis_adversarial_train_loss, dis_adversarial_train_acc, cuda):\n",
        "    \"\"\"\n",
        "    Train discriminator\n",
        "    \"\"\"\n",
        "    for epoch in range(epochs):\n",
        "        correct = 0\n",
        "        total_loss = 0.\n",
        "        for data, target in data_iter:\n",
        "            if cuda:\n",
        "                data, target = data.cuda(), target.cuda()\n",
        "            target = target.contiguous().view(-1)\n",
        "            output = dis(data)\n",
        "            pred = output.data.max(1)[1]\n",
        "            correct += pred.eq(target.data).cpu().sum()\n",
        "            loss = criterion(output, target)\n",
        "            total_loss += loss.item()\n",
        "            optimizer.zero_grad()\n",
        "            loss.backward()\n",
        "            optimizer.step()\n",
        "        data_iter.reset()\n",
        "        avg_loss = total_loss / len(data_iter)\n",
        "        acc = correct.item() / data_iter.data_num\n",
        "        print(\"Epoch {}, train loss: {:.5f}, train acc: {:.3f}\".format(epoch, avg_loss, acc))\n",
        "        dis_adversarial_train_loss.append(avg_loss)\n",
        "        dis_adversarial_train_acc.append(acc)\n",
        "\n",
        "def eval_discriminator(model, data_iter, criterion, cuda):\n",
        "    \"\"\"\n",
        "    Evaluate discriminator, dropout is enabled\n",
        "    \"\"\"\n",
        "    correct = 0\n",
        "    total_loss = 0.\n",
        "    with torch.no_grad():\n",
        "        for data, target in data_iter:\n",
        "            if cuda:\n",
        "                data, target = data.cuda(), target.cuda()\n",
        "            target = target.contiguous().view(-1)\n",
        "            output = model(data)\n",
        "            pred = output.data.max(1)[1]\n",
        "            correct += pred.eq(target.data).cpu().sum()\n",
        "            loss = criterion(output, target)\n",
        "            total_loss += loss.item()\n",
        "        data_iter.reset()\n",
        "    avg_loss = total_loss / len(data_iter)\n",
        "    acc = correct.item() / data_iter.data_num\n",
        "    return avg_loss, acc"
      ],
      "metadata": {
        "id": "KsgVychcFuU0"
      },
      "execution_count": 22,
      "outputs": []
    },
    {
      "cell_type": "code",
      "source": [
        "disc_data_iter = DisDataIter(real_lines, gen_lines, args.batch_size, vocab, max_len)"
      ],
      "metadata": {
        "id": "VM16ZTAtOAhW"
      },
      "execution_count": 23,
      "outputs": []
    },
    {
      "cell_type": "code",
      "source": [
        "d_embed_dim = 64\n",
        "d_filter_sizes = [1, 2, 3, 4, 5, 6, 7, 8, 9, 10, 15, 20]\n",
        "d_num_filters = [100, 200, 200, 200, 200, 100, 100, 100, 100, 100, 160, 160]\n",
        "d_dropout_prob = 0.2\n",
        "discriminator = Discriminator(vocab_size, d_embed_dim, d_filter_sizes, d_num_filters, d_dropout_prob).to(device)\n",
        "dis_optimizer = torch.optim.SGD(params=discriminator.parameters(), lr=args.dis_lr)"
      ],
      "metadata": {
        "id": "cj5Y4itWPxOT"
      },
      "execution_count": 24,
      "outputs": []
    },
    {
      "cell_type": "code",
      "source": [
        "gen_lines = generate_samples(generator, args.batch_size, args.n_samples, inv_vocab, g_seq_len=max_len)"
      ],
      "metadata": {
        "id": "FwmvdgQlVhUC"
      },
      "execution_count": 25,
      "outputs": []
    },
    {
      "cell_type": "code",
      "source": [
        "dis_adversarial_train_loss = []\n",
        "dis_adversarial_train_acc = []\n",
        "dis_pretrain_eval_loss = []\n",
        "dis_pretrain_eval_acc = []"
      ],
      "metadata": {
        "id": "ZK1U_RReQdGm"
      },
      "execution_count": 26,
      "outputs": []
    },
    {
      "cell_type": "code",
      "source": [
        "gen_val_lines = generate_samples(generator, args.batch_size, len(val_lines), inv_vocab, g_seq_len=max_len)\n",
        "eval_iter = DisDataIter(val_lines, gen_val_lines, args.batch_size, vocab, max_len)\n",
        "for i in range(args.d_pretrain_steps):\n",
        "    t0 = time()\n",
        "    print(\"D-Step {}\".format(i))\n",
        "    train_discriminator(discriminator, disc_data_iter, nll_loss,\n",
        "        dis_optimizer, args.dk_epochs, dis_adversarial_train_loss, dis_adversarial_train_acc, cuda)\n",
        "    dis_loss, dis_acc = eval_discriminator(discriminator, eval_iter, nll_loss, cuda)\n",
        "    dis_pretrain_eval_loss.append(dis_loss)\n",
        "    dis_pretrain_eval_acc.append(dis_acc)\n",
        "    print(\"eval loss: {:.5f}, eval acc: {:.3f}, elapsed: {:.1f}s\".format(dis_loss, dis_acc, time() - t0))"
      ],
      "metadata": {
        "id": "WeA04bLVLy6f",
        "colab": {
          "base_uri": "https://localhost:8080/"
        },
        "outputId": "8d7c98ca-8cb3-4b26-fdcd-07303afd7556"
      },
      "execution_count": 27,
      "outputs": [
        {
          "output_type": "stream",
          "name": "stdout",
          "text": [
            "D-Step 0\n",
            "Epoch 0, train loss: 0.70156, train acc: 0.517\n",
            "Epoch 1, train loss: 0.70404, train acc: 0.513\n",
            "eval loss: 0.70281, eval acc: 0.521, elapsed: 7.3s\n",
            "D-Step 1\n",
            "Epoch 0, train loss: 0.70307, train acc: 0.513\n",
            "Epoch 1, train loss: 0.69686, train acc: 0.530\n",
            "eval loss: 0.69294, eval acc: 0.552, elapsed: 3.7s\n",
            "D-Step 2\n",
            "Epoch 0, train loss: 0.69483, train acc: 0.536\n",
            "Epoch 1, train loss: 0.69318, train acc: 0.536\n",
            "eval loss: 0.68682, eval acc: 0.556, elapsed: 3.6s\n",
            "D-Step 3\n",
            "Epoch 0, train loss: 0.68932, train acc: 0.548\n",
            "Epoch 1, train loss: 0.68713, train acc: 0.558\n",
            "eval loss: 0.70153, eval acc: 0.526, elapsed: 3.7s\n",
            "D-Step 4\n",
            "Epoch 0, train loss: 0.68307, train acc: 0.554\n",
            "Epoch 1, train loss: 0.67861, train acc: 0.567\n",
            "eval loss: 0.68645, eval acc: 0.561, elapsed: 3.7s\n",
            "D-Step 5\n",
            "Epoch 0, train loss: 0.67778, train acc: 0.570\n",
            "Epoch 1, train loss: 0.67706, train acc: 0.574\n",
            "eval loss: 0.67800, eval acc: 0.563, elapsed: 3.7s\n",
            "D-Step 6\n",
            "Epoch 0, train loss: 0.67179, train acc: 0.585\n",
            "Epoch 1, train loss: 0.67058, train acc: 0.584\n",
            "eval loss: 0.67287, eval acc: 0.578, elapsed: 3.9s\n",
            "D-Step 7\n",
            "Epoch 0, train loss: 0.66999, train acc: 0.591\n",
            "Epoch 1, train loss: 0.66521, train acc: 0.591\n",
            "eval loss: 0.66786, eval acc: 0.575, elapsed: 4.8s\n",
            "D-Step 8\n",
            "Epoch 0, train loss: 0.66282, train acc: 0.602\n",
            "Epoch 1, train loss: 0.66234, train acc: 0.604\n",
            "eval loss: 0.66415, eval acc: 0.598, elapsed: 3.7s\n",
            "D-Step 9\n",
            "Epoch 0, train loss: 0.65847, train acc: 0.608\n",
            "Epoch 1, train loss: 0.65351, train acc: 0.624\n",
            "eval loss: 0.66116, eval acc: 0.612, elapsed: 3.7s\n"
          ]
        }
      ]
    },
    {
      "cell_type": "markdown",
      "source": [
        "<a name=\"adversarial_train\"></a>\n",
        "### Обучение в состязательном режиме\n",
        "\n",
        "Rollout - содержит метод, как мы будем определять вознаграждение на каждом шаге (токене) при генерации с помощью Monte Carlo поиска. Затем в PGLoss лосс считается как -1 * логарифм предсказанной вероятности для истинных токенов * вознаграждение."
      ],
      "metadata": {
        "id": "jnphkfmye__1"
      }
    },
    {
      "cell_type": "code",
      "source": [
        "import copy\n",
        "class Rollout(object):\n",
        "    \"\"\" Rollout Policy \"\"\"\n",
        "\n",
        "    def __init__(self, model, update_rate):\n",
        "        self.ori_model = model\n",
        "        self.own_model = copy.deepcopy(model)\n",
        "        self.update_rate = update_rate\n",
        "\n",
        "    def get_reward(self, x, num, discriminator):\n",
        "        \"\"\"\n",
        "        Inputs: x, num, discriminator\n",
        "            - x: (batch_size, seq_len) input data\n",
        "            - num: rollout number\n",
        "            - discriminator: discriminator model\n",
        "        \"\"\"\n",
        "        rewards = []\n",
        "        batch_size = x.size(0)\n",
        "        seq_len = x.size(1)\n",
        "        for i in range(num):\n",
        "            # print(i, end=', ')\n",
        "            for l in range(1, seq_len):\n",
        "                data = x[:, 0:l]\n",
        "                samples = self.own_model.sample(batch_size, seq_len, data)\n",
        "                pred = discriminator(samples)\n",
        "                pred = pred.cpu().data[:,1].numpy()\n",
        "                if i == 0:\n",
        "                    rewards.append(pred)\n",
        "                else:\n",
        "                    rewards[l-1] += pred\n",
        "\n",
        "            # for the last token\n",
        "            pred = discriminator(x)\n",
        "            pred = pred.cpu().data[:, 1].numpy()\n",
        "            if i == 0:\n",
        "                rewards.append(pred)\n",
        "            else:\n",
        "                rewards[seq_len-1] += pred\n",
        "        rewards = np.transpose(np.array(rewards)) / (1.0 * num) # batch_size * seq_len\n",
        "        return rewards\n",
        "\n",
        "    def update_params(self):\n",
        "        dic = {}\n",
        "        for name, param in self.ori_model.named_parameters():\n",
        "            dic[name] = param.data\n",
        "        for name, param in self.own_model.named_parameters():\n",
        "            if name.startswith('emb'):\n",
        "                param.data = dic[name]\n",
        "            else:\n",
        "                param.data = self.update_rate * param.data + (1 - self.update_rate) * dic[name]"
      ],
      "metadata": {
        "id": "XNoJsREJffT9"
      },
      "execution_count": 28,
      "outputs": []
    },
    {
      "cell_type": "code",
      "source": [
        "class PGLoss(nn.Module):\n",
        "    \"\"\"\n",
        "    Pseudo-loss that gives corresponding policy gradients (on calling .backward())\n",
        "    for adversial training of Generator\n",
        "    \"\"\"\n",
        "\n",
        "    def __init__(self):\n",
        "        super(PGLoss, self).__init__()\n",
        "\n",
        "    def forward(self, pred, target, reward):\n",
        "        \"\"\"\n",
        "        Inputs: pred, target, reward\n",
        "            - pred: (batch_size, seq_len),\n",
        "            - target : (batch_size, seq_len),\n",
        "            - reward : (batch_size, ), reward of each whole sentence\n",
        "        \"\"\"\n",
        "        one_hot = torch.zeros(pred.size(), dtype=torch.bool)  # one hot for targets\n",
        "        if pred.is_cuda:\n",
        "            one_hot = one_hot.cuda()\n",
        "        one_hot.scatter_(1, target.data.view(-1, 1), 1)  # set positions to 1\n",
        "        loss = torch.masked_select(pred, one_hot)\n",
        "        loss = loss * reward.contiguous().view(-1)\n",
        "        loss = -torch.sum(loss)\n",
        "        return loss"
      ],
      "metadata": {
        "id": "gs6B73CfgTOE"
      },
      "execution_count": 29,
      "outputs": []
    },
    {
      "cell_type": "code",
      "source": [
        "def adversarial_train(gen, dis, rollout, pg_loss, nll_loss, gen_optimizer, dis_optimizer,\n",
        "        dis_adversarial_train_loss, dis_adversarial_train_acc, args, cuda, disc_data_iter):\n",
        "    \"\"\"\n",
        "    Adversarially train generator and discriminator\n",
        "    \"\"\"\n",
        "    # train generator for g_steps\n",
        "    print(\"#Train generator\")\n",
        "    for i in range(args.g_steps):\n",
        "        print(\"##G-Step {}\".format(i))\n",
        "        train_generator_PG(gen, dis, rollout, pg_loss, gen_optimizer, args.gk_epochs, args, cuda)\n",
        "\n",
        "    # train discriminator for d_steps\n",
        "    print(\"#Train discriminator\")\n",
        "    for i in range(args.d_steps):\n",
        "        print(\"##D-Step {}\".format(i))\n",
        "        train_discriminator(dis, disc_data_iter, nll_loss, dis_optimizer, args.dk_epochs,\n",
        "            dis_adversarial_train_loss, dis_adversarial_train_acc, cuda)\n",
        "\n",
        "    # update roll-out model\n",
        "    rollout.update_params()\n",
        "\n",
        "def train_generator_PG(gen, dis, rollout, pg_loss, optimizer, epochs, args, cuda):\n",
        "    \"\"\"\n",
        "    Train generator with the guidance of policy gradient\n",
        "    \"\"\"\n",
        "    for epoch in range(epochs):\n",
        "        # construct the input to the genrator, add zeros before samples and delete the last column\n",
        "        samples = generator.sample(args.batch_size, g_seq_len)\n",
        "        zeros = torch.zeros(args.batch_size, 1, dtype=torch.int64)\n",
        "        if samples.is_cuda:\n",
        "            zeros = zeros.cuda()\n",
        "        inputs = torch.cat([zeros, samples.data], dim = 1)[:, :-1].contiguous()\n",
        "        targets = samples.data.contiguous().view((-1,))\n",
        "\n",
        "        # calculate the reward\n",
        "        rewards = torch.tensor(rollout.get_reward(samples, args.n_rollout, dis))\n",
        "        if cuda:\n",
        "            rewards = rewards.cuda()\n",
        "\n",
        "        # update generator\n",
        "        output = gen(inputs)\n",
        "        loss = pg_loss(output, targets, rewards)\n",
        "        optimizer.zero_grad()\n",
        "        loss.backward()\n",
        "        optimizer.step()\n",
        "        print(f'Epoch {epoch}, PG loss: {loss.item():.4f}')"
      ],
      "metadata": {
        "id": "MwXkPp1ufnhm"
      },
      "execution_count": 30,
      "outputs": []
    },
    {
      "cell_type": "code",
      "source": [
        "pg_loss = PGLoss()\n",
        "\n",
        "gen_adversarial_eval_loss = []\n",
        "dis_adversarial_eval_loss = []\n",
        "dis_adversarial_eval_acc = []"
      ],
      "metadata": {
        "id": "W1Of4WUNgO3h"
      },
      "execution_count": 32,
      "outputs": []
    },
    {
      "cell_type": "code",
      "source": [
        "g_seq_len = max_len"
      ],
      "metadata": {
        "id": "ssdd869s-bhh"
      },
      "execution_count": 33,
      "outputs": []
    },
    {
      "cell_type": "code",
      "source": [
        "rollout = Rollout(generator, args.update_rate)\n",
        "for i in range(args.rounds):\n",
        "    print(\"Round {}\".format(i))\n",
        "    adversarial_train(generator, discriminator, rollout,\n",
        "        pg_loss, nll_loss, gen_optimizer, dis_optimizer,\n",
        "        dis_adversarial_train_loss, dis_adversarial_train_acc, args, cuda, disc_data_iter)\n",
        "    gen_lines = generate_samples(generator, args.batch_size, args.n_samples, inv_vocab, g_seq_len=max_len)\n",
        "    disc_data_iter = DisDataIter(real_lines, gen_lines, args.batch_size, vocab, max_len)  # gen_lines are new to discriminator\n",
        "    gen_eval_iter = DataIterator(val_lines, vocab, max_len=max_len)\n",
        "    gen_loss = eval_generator(generator, gen_eval_iter, nll_loss, cuda)\n",
        "    gen_adversarial_eval_loss.append(gen_loss)\n",
        "    dis_loss, dis_acc = eval_discriminator(discriminator, disc_data_iter, nll_loss, cuda)\n",
        "    dis_adversarial_eval_loss.append(dis_loss)\n",
        "    dis_adversarial_eval_acc.append(dis_acc)\n",
        "    print(f\"gen eval loss: {gen_loss:.5f}, dis eval loss: {dis_loss:.5f}, dis eval acc: {dis_acc:.3f}, elapsed: {time() - t0:.1f}s\")"
      ],
      "metadata": {
        "colab": {
          "base_uri": "https://localhost:8080/"
        },
        "id": "zeXxI9LjPsox",
        "outputId": "f8d2f5b6-c42f-49bb-da92-72a2ddb3970d"
      },
      "execution_count": 34,
      "outputs": [
        {
          "output_type": "stream",
          "name": "stdout",
          "text": [
            "Round 0\n",
            "#Train generator\n",
            "##G-Step 0\n",
            "Epoch 0, PG loss: -2256.6013\n",
            "#Train discriminator\n",
            "##D-Step 0\n",
            "Epoch 0, train loss: 0.64876, train acc: 0.629\n",
            "Epoch 1, train loss: 0.64626, train acc: 0.631\n",
            "##D-Step 1\n",
            "Epoch 0, train loss: 0.64516, train acc: 0.635\n",
            "Epoch 1, train loss: 0.64113, train acc: 0.647\n",
            "##D-Step 2\n",
            "Epoch 0, train loss: 0.63524, train acc: 0.647\n",
            "Epoch 1, train loss: 0.63386, train acc: 0.651\n",
            "gen eval loss: 1.56917, dis eval loss: 0.63579, dis eval acc: 0.651, elapsed: 49.5s\n",
            "Round 1\n",
            "#Train generator\n",
            "##G-Step 0\n",
            "Epoch 0, PG loss: -2259.6516\n",
            "#Train discriminator\n",
            "##D-Step 0\n",
            "Epoch 0, train loss: 0.63291, train acc: 0.653\n",
            "Epoch 1, train loss: 0.61876, train acc: 0.675\n",
            "##D-Step 1\n",
            "Epoch 0, train loss: 0.62000, train acc: 0.666\n",
            "Epoch 1, train loss: 0.60628, train acc: 0.700\n",
            "##D-Step 2\n",
            "Epoch 0, train loss: 0.60093, train acc: 0.703\n",
            "Epoch 1, train loss: 0.59618, train acc: 0.699\n",
            "gen eval loss: 1.58488, dis eval loss: 0.62110, dis eval acc: 0.643, elapsed: 74.3s\n",
            "Round 2\n",
            "#Train generator\n",
            "##G-Step 0\n",
            "Epoch 0, PG loss: -1815.4055\n",
            "#Train discriminator\n",
            "##D-Step 0\n",
            "Epoch 0, train loss: 0.59161, train acc: 0.705\n",
            "Epoch 1, train loss: 0.58245, train acc: 0.712\n",
            "##D-Step 1\n",
            "Epoch 0, train loss: 0.57795, train acc: 0.717\n",
            "Epoch 1, train loss: 0.56258, train acc: 0.738\n",
            "##D-Step 2\n",
            "Epoch 0, train loss: 0.55326, train acc: 0.743\n",
            "Epoch 1, train loss: 0.54754, train acc: 0.748\n",
            "gen eval loss: 1.61473, dis eval loss: 0.55806, dis eval acc: 0.732, elapsed: 99.2s\n",
            "Round 3\n",
            "#Train generator\n",
            "##G-Step 0\n",
            "Epoch 0, PG loss: -2733.6597\n",
            "#Train discriminator\n",
            "##D-Step 0\n",
            "Epoch 0, train loss: 0.55627, train acc: 0.735\n",
            "Epoch 1, train loss: 0.54524, train acc: 0.743\n",
            "##D-Step 1\n",
            "Epoch 0, train loss: 0.53750, train acc: 0.743\n",
            "Epoch 1, train loss: 0.52713, train acc: 0.754\n",
            "##D-Step 2\n",
            "Epoch 0, train loss: 0.51852, train acc: 0.762\n",
            "Epoch 1, train loss: 0.51000, train acc: 0.762\n",
            "gen eval loss: 1.65586, dis eval loss: 0.52840, dis eval acc: 0.750, elapsed: 124.3s\n",
            "Round 4\n",
            "#Train generator\n",
            "##G-Step 0\n",
            "Epoch 0, PG loss: -2986.5701\n",
            "#Train discriminator\n",
            "##D-Step 0\n",
            "Epoch 0, train loss: 0.52102, train acc: 0.751\n",
            "Epoch 1, train loss: 0.51097, train acc: 0.761\n",
            "##D-Step 1\n",
            "Epoch 0, train loss: 0.49693, train acc: 0.776\n",
            "Epoch 1, train loss: 0.48576, train acc: 0.781\n",
            "##D-Step 2\n",
            "Epoch 0, train loss: 0.47319, train acc: 0.789\n",
            "Epoch 1, train loss: 0.46781, train acc: 0.794\n",
            "gen eval loss: 1.71366, dis eval loss: 0.48086, dis eval acc: 0.784, elapsed: 149.6s\n",
            "Round 5\n",
            "#Train generator\n",
            "##G-Step 0\n",
            "Epoch 0, PG loss: -3845.3372\n",
            "#Train discriminator\n",
            "##D-Step 0\n",
            "Epoch 0, train loss: 0.47444, train acc: 0.792\n",
            "Epoch 1, train loss: 0.46260, train acc: 0.794\n",
            "##D-Step 1\n",
            "Epoch 0, train loss: 0.44809, train acc: 0.806\n",
            "Epoch 1, train loss: 0.43481, train acc: 0.816\n",
            "##D-Step 2\n",
            "Epoch 0, train loss: 0.42501, train acc: 0.821\n",
            "Epoch 1, train loss: 0.41664, train acc: 0.825\n",
            "gen eval loss: 1.76889, dis eval loss: 0.43078, dis eval acc: 0.812, elapsed: 174.7s\n",
            "Round 6\n",
            "#Train generator\n",
            "##G-Step 0\n",
            "Epoch 0, PG loss: -3877.8525\n",
            "#Train discriminator\n",
            "##D-Step 0\n",
            "Epoch 0, train loss: 0.41964, train acc: 0.823\n",
            "Epoch 1, train loss: 0.40018, train acc: 0.837\n",
            "##D-Step 1\n",
            "Epoch 0, train loss: 0.38744, train acc: 0.841\n",
            "Epoch 1, train loss: 0.37371, train acc: 0.848\n",
            "##D-Step 2\n",
            "Epoch 0, train loss: 0.36378, train acc: 0.857\n",
            "Epoch 1, train loss: 0.35555, train acc: 0.861\n",
            "gen eval loss: 1.84458, dis eval loss: 0.35492, dis eval acc: 0.858, elapsed: 200.2s\n",
            "Round 7\n",
            "#Train generator\n",
            "##G-Step 0\n",
            "Epoch 0, PG loss: -5875.2495\n",
            "#Train discriminator\n",
            "##D-Step 0\n",
            "Epoch 0, train loss: 0.35172, train acc: 0.862\n",
            "Epoch 1, train loss: 0.34130, train acc: 0.866\n",
            "##D-Step 1\n",
            "Epoch 0, train loss: 0.32794, train acc: 0.871\n",
            "Epoch 1, train loss: 0.31234, train acc: 0.883\n",
            "##D-Step 2\n",
            "Epoch 0, train loss: 0.30645, train acc: 0.881\n",
            "Epoch 1, train loss: 0.29578, train acc: 0.889\n",
            "gen eval loss: 1.89966, dis eval loss: 0.29372, dis eval acc: 0.890, elapsed: 225.4s\n",
            "Round 8\n",
            "#Train generator\n",
            "##G-Step 0\n",
            "Epoch 0, PG loss: -7800.2295\n",
            "#Train discriminator\n",
            "##D-Step 0\n",
            "Epoch 0, train loss: 0.27956, train acc: 0.899\n",
            "Epoch 1, train loss: 0.26431, train acc: 0.905\n",
            "##D-Step 1\n",
            "Epoch 0, train loss: 0.26676, train acc: 0.898\n",
            "Epoch 1, train loss: 0.25488, train acc: 0.907\n",
            "##D-Step 2\n",
            "Epoch 0, train loss: 0.24171, train acc: 0.914\n",
            "Epoch 1, train loss: 0.23940, train acc: 0.918\n",
            "gen eval loss: 1.93556, dis eval loss: 0.24744, dis eval acc: 0.906, elapsed: 250.2s\n",
            "Round 9\n",
            "#Train generator\n",
            "##G-Step 0\n",
            "Epoch 0, PG loss: -7936.1152\n",
            "#Train discriminator\n",
            "##D-Step 0\n",
            "Epoch 0, train loss: 0.23973, train acc: 0.911\n",
            "Epoch 1, train loss: 0.23690, train acc: 0.909\n",
            "##D-Step 1\n",
            "Epoch 0, train loss: 0.22603, train acc: 0.917\n",
            "Epoch 1, train loss: 0.22241, train acc: 0.916\n",
            "##D-Step 2\n",
            "Epoch 0, train loss: 0.21544, train acc: 0.924\n",
            "Epoch 1, train loss: 0.21154, train acc: 0.924\n",
            "gen eval loss: 1.96989, dis eval loss: 0.21651, dis eval acc: 0.917, elapsed: 275.1s\n",
            "Round 10\n",
            "#Train generator\n",
            "##G-Step 0\n",
            "Epoch 0, PG loss: -8048.1626\n",
            "#Train discriminator\n",
            "##D-Step 0\n",
            "Epoch 0, train loss: 0.20929, train acc: 0.924\n",
            "Epoch 1, train loss: 0.20236, train acc: 0.927\n",
            "##D-Step 1\n",
            "Epoch 0, train loss: 0.19577, train acc: 0.927\n",
            "Epoch 1, train loss: 0.19093, train acc: 0.930\n",
            "##D-Step 2\n",
            "Epoch 0, train loss: 0.18583, train acc: 0.935\n",
            "Epoch 1, train loss: 0.18603, train acc: 0.932\n",
            "gen eval loss: 1.99457, dis eval loss: 0.20112, dis eval acc: 0.923, elapsed: 300.1s\n",
            "Round 11\n",
            "#Train generator\n",
            "##G-Step 0\n",
            "Epoch 0, PG loss: -9460.9258\n",
            "#Train discriminator\n",
            "##D-Step 0\n",
            "Epoch 0, train loss: 0.19336, train acc: 0.929\n",
            "Epoch 1, train loss: 0.19074, train acc: 0.933\n",
            "##D-Step 1\n",
            "Epoch 0, train loss: 0.18190, train acc: 0.935\n",
            "Epoch 1, train loss: 0.17470, train acc: 0.939\n",
            "##D-Step 2\n",
            "Epoch 0, train loss: 0.17147, train acc: 0.940\n",
            "Epoch 1, train loss: 0.16868, train acc: 0.941\n",
            "gen eval loss: 2.01093, dis eval loss: 0.17805, dis eval acc: 0.938, elapsed: 325.2s\n",
            "Round 12\n",
            "#Train generator\n",
            "##G-Step 0\n",
            "Epoch 0, PG loss: -9619.2402\n",
            "#Train discriminator\n",
            "##D-Step 0\n",
            "Epoch 0, train loss: 0.17570, train acc: 0.935\n",
            "Epoch 1, train loss: 0.16951, train acc: 0.941\n",
            "##D-Step 1\n",
            "Epoch 0, train loss: 0.16148, train acc: 0.945\n",
            "Epoch 1, train loss: 0.15704, train acc: 0.946\n",
            "##D-Step 2\n",
            "Epoch 0, train loss: 0.15010, train acc: 0.948\n",
            "Epoch 1, train loss: 0.14777, train acc: 0.951\n",
            "gen eval loss: 2.03601, dis eval loss: 0.16644, dis eval acc: 0.939, elapsed: 350.0s\n",
            "Round 13\n",
            "#Train generator\n",
            "##G-Step 0\n",
            "Epoch 0, PG loss: -9338.8086\n",
            "#Train discriminator\n",
            "##D-Step 0\n",
            "Epoch 0, train loss: 0.16014, train acc: 0.942\n",
            "Epoch 1, train loss: 0.15135, train acc: 0.948\n",
            "##D-Step 1\n",
            "Epoch 0, train loss: 0.14695, train acc: 0.948\n",
            "Epoch 1, train loss: 0.13760, train acc: 0.954\n",
            "##D-Step 2\n",
            "Epoch 0, train loss: 0.13399, train acc: 0.958\n",
            "Epoch 1, train loss: 0.12794, train acc: 0.958\n",
            "gen eval loss: 2.06935, dis eval loss: 0.13902, dis eval acc: 0.952, elapsed: 374.8s\n",
            "Round 14\n",
            "#Train generator\n",
            "##G-Step 0\n",
            "Epoch 0, PG loss: -9452.3457\n",
            "#Train discriminator\n",
            "##D-Step 0\n",
            "Epoch 0, train loss: 0.13480, train acc: 0.954\n",
            "Epoch 1, train loss: 0.13068, train acc: 0.955\n",
            "##D-Step 1\n",
            "Epoch 0, train loss: 0.12847, train acc: 0.958\n",
            "Epoch 1, train loss: 0.12273, train acc: 0.957\n",
            "##D-Step 2\n",
            "Epoch 0, train loss: 0.11446, train acc: 0.964\n",
            "Epoch 1, train loss: 0.11343, train acc: 0.963\n",
            "gen eval loss: 2.11201, dis eval loss: 0.11869, dis eval acc: 0.960, elapsed: 399.7s\n"
          ]
        }
      ]
    },
    {
      "cell_type": "code",
      "source": [
        "gen_lines[:3]"
      ],
      "metadata": {
        "colab": {
          "base_uri": "https://localhost:8080/"
        },
        "id": "rA28S0ZVGmj_",
        "outputId": "dd8ca169-ccff-4eb5-df7d-08eb8f4bda2b"
      },
      "execution_count": 35,
      "outputs": [
        {
          "output_type": "execute_result",
          "data": {
            "text/plain": [
              "['MartideLewathrond Proveter porat',\n",
              " 'Biand Extrondion and Acing Model',\n",
              " 'A Rargeetion for thee Eystribum ']"
            ]
          },
          "metadata": {},
          "execution_count": 35
        }
      ]
    },
    {
      "cell_type": "code",
      "source": [
        "plt.plot(gen_pretrain_eval_loss + gen_adversarial_eval_loss)\n",
        "plt.axvline(x=len(gen_pretrain_eval_loss)-1, color='r', alpha=.5)\n",
        "plt.title('Generator eval loss');"
      ],
      "metadata": {
        "colab": {
          "base_uri": "https://localhost:8080/",
          "height": 391
        },
        "id": "4FrK1pow7EE1",
        "outputId": "f4117a4a-2fb0-4303-b906-e41fcc88530d"
      },
      "execution_count": 36,
      "outputs": [
        {
          "output_type": "display_data",
          "data": {
            "text/plain": [
              "<Figure size 800x400 with 1 Axes>"
            ],
            "image/png": "[encoded data removed]"
          },
          "metadata": {}
        }
      ]
    },
    {
      "cell_type": "code",
      "source": [
        "plt.plot(dis_pretrain_eval_loss + dis_adversarial_eval_loss)\n",
        "plt.axvline(x=len(dis_pretrain_eval_loss)-1, color='r', alpha=.5)\n",
        "plt.title('Discriminator eval loss');"
      ],
      "metadata": {
        "colab": {
          "base_uri": "https://localhost:8080/",
          "height": 391
        },
        "id": "JjK0GFi0onc4",
        "outputId": "3cb82e01-a173-4200-a095-c66aec8f41db"
      },
      "execution_count": 37,
      "outputs": [
        {
          "output_type": "display_data",
          "data": {
            "text/plain": [
              "<Figure size 800x400 with 1 Axes>"
            ],
            "image/png": "[encoded data removed]"
          },
          "metadata": {}
        }
      ]
    },
    {
      "cell_type": "markdown",
      "source": [
        "Кривая функции потерь генератора здорового человека\n",
        "\n",
        "<img src=\"https://raw.githubusercontent.com/sswt/dive2gai/main/.github/images/w4/seqgan_loss.png\" alt=\"SeqGAN\" width=\"60%\" />\n",
        "\n",
        "Это картинка из статьи, возможно дело в том, что там была другая постановка задачи - в качестве истинных последовательностей использовались сгенерированные \"оракулом\" (oracle) - случайным образом инициализированной LSTM-сетью.\n",
        "\n",
        "Был ещё эксперимент по генерации подписей к изображениям из датасета [COCO Image Captions Dataset]() на основе готовой реализации из репозитория [TextGAN-PyTorch](https://github.com/williamSYSU/TextGAN-PyTorch). Он показал, что лосс на реальных последовательностях тоже не падает для генератора, он падает только для сгенерированных. На настоящих данных он немного растёт, но не так сильно, как в ноутбуке и визуально на качестве генерации текстов это не сказывается.\n",
        "\n",
        "```\n",
        "Pretrained by MLE:\n",
        "\n",
        "BLEU-[2, 3, 4, 5] = [0.736, 0.505, 0.315, 0.195], NLL_gen = 0.7995, NLL_div = 0.8425, Self-BLEU-[2, 3, 4] = [0.902, 0.748, 0.554]\n",
        "\n",
        "Generated: an airplane is flying low in the sky .\n",
        "\n",
        "Adversarial training (epoch 0):\n",
        "\n",
        "BLEU-[2, 3, 4, 5] = [0.725, 0.49, 0.305, 0.182], NLL_gen = 0.7989, NLL_div = 0.8195, Self-BLEU-[2, 3, 4] = [0.919, 0.771, 0.578]\n",
        "\n",
        "Generated:  a white with an airport plane on the dashboard of a runway .\n",
        "\n",
        "Adversarial training (epoch 99):\n",
        "\n",
        "BLEU-[2, 3, 4, 5] = [0.771, 0.532, 0.313, 0.197], NLL_gen = 0.9851, NLL_div = 0.5379, Self-BLEU-[2, 3, 4] = [0.951, 0.871, 0.753]\n",
        "\n",
        "Generated: a white toilet with a trash can .\n",
        "```\n",
        "\n",
        "\n",
        "Скрипт TextGAN адаптированный под текущий датасет находится [здесь](https://github.com/sswt/dive2gai/blob/main/unit4/seqgan_textgan.py), там проблему с немного растущим лоссом тоже решить не удалось."
      ],
      "metadata": {
        "id": "L3GFXeLSr2Cx"
      }
    },
    {
      "cell_type": "markdown",
      "source": [
        "## Упражнения\n",
        "\n",
        "* попробуйте поменять параметры обучения\n",
        "  * batch_size\n",
        "  * число шагов и эпох обучения дискриминатора, генератора\n",
        "  * другие параметры\n",
        "* заставьте состязательное обучение работать 😸"
      ],
      "metadata": {
        "id": "K4dr_rRrqsLH"
      }
    }
  ]
}